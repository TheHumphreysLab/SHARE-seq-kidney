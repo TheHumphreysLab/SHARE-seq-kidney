{
 "cells": [
  {
   "cell_type": "markdown",
   "id": "5477d8ab",
   "metadata": {},
   "source": [
    "### this code prepare RENIN objects using 20221221_324701_cells_wnn_for_RENIN_rerun_pca_lsi_harmony.RData"
   ]
  },
  {
   "cell_type": "code",
   "execution_count": 1,
   "id": "94d527c1",
   "metadata": {},
   "outputs": [
    {
     "name": "stderr",
     "output_type": "stream",
     "text": [
      "Attaching SeuratObject\n",
      "\n",
      "Attaching sp\n",
      "\n",
      "\n",
      "Attaching package: ‘Signac’\n",
      "\n",
      "\n",
      "The following object is masked from ‘package:Seurat’:\n",
      "\n",
      "    FoldChange\n",
      "\n",
      "\n",
      "Loading required package: Rcpp\n",
      "\n"
     ]
    }
   ],
   "source": [
    "library(Seurat)\n",
    "library(Signac)\n",
    "library(SeuratWrappers)\n",
    "library(RENIN)\n",
    "library(harmony)"
   ]
  },
  {
   "cell_type": "code",
   "execution_count": null,
   "id": "ee62e37a",
   "metadata": {},
   "outputs": [],
   "source": []
  },
  {
   "cell_type": "code",
   "execution_count": 4,
   "id": "6f7bdde3",
   "metadata": {},
   "outputs": [
    {
     "data": {
      "text/plain": [
       "[1] \"2023-06-28 14:45:09 CDT\""
      ]
     },
     "metadata": {},
     "output_type": "display_data"
    },
    {
     "name": "stdout",
     "output_type": "stream",
     "text": [
      "[1] \"step 1. load novaseq wnn object\"\n"
     ]
    },
    {
     "data": {
      "text/plain": [
       "[1] \"2023-06-28 14:49:23 CDT\""
      ]
     },
     "metadata": {},
     "output_type": "display_data"
    }
   ],
   "source": [
    "# step 1. load novaseq.wnn object\n",
    "Sys.time()\n",
    "print(\"step 1. load novaseq wnn object\")\n",
    "load(\"../../processed_data/wnn/20221221_324701_cells_wnn.RData\")\n",
    "Sys.time()"
   ]
  },
  {
   "cell_type": "code",
   "execution_count": 5,
   "id": "eed58cd5",
   "metadata": {},
   "outputs": [
    {
     "data": {
      "text/plain": [
       "An object of class Seurat \n",
       "237522 features across 324701 samples within 2 assays \n",
       "Active assay: peaks (189184 features, 189184 variable features)\n",
       " 1 other assay present: RNA\n",
       " 6 dimensional reductions calculated: pca, harmony_RNA, lsi, harmony_peaks, umap.peaks, WNN.UMAP"
      ]
     },
     "metadata": {},
     "output_type": "display_data"
    }
   ],
   "source": [
    "novaseq.wnn"
   ]
  },
  {
   "cell_type": "markdown",
   "id": "fab97452",
   "metadata": {},
   "source": [
    "### duplicate novaseq.wnn to novaseq.sub"
   ]
  },
  {
   "cell_type": "code",
   "execution_count": 6,
   "id": "b2274728",
   "metadata": {},
   "outputs": [],
   "source": [
    "novaseq.sub = novaseq.wnn"
   ]
  },
  {
   "cell_type": "code",
   "execution_count": 7,
   "id": "fe958ffb",
   "metadata": {},
   "outputs": [
    {
     "data": {
      "text/plain": [
       "An object of class Seurat \n",
       "237522 features across 324701 samples within 2 assays \n",
       "Active assay: peaks (189184 features, 189184 variable features)\n",
       " 1 other assay present: RNA\n",
       " 6 dimensional reductions calculated: pca, harmony_RNA, lsi, harmony_peaks, umap.peaks, WNN.UMAP"
      ]
     },
     "metadata": {},
     "output_type": "display_data"
    }
   ],
   "source": [
    "novaseq.sub"
   ]
  },
  {
   "cell_type": "code",
   "execution_count": 8,
   "id": "cda36818",
   "metadata": {},
   "outputs": [
    {
     "data": {
      "text/plain": [
       "\n",
       "      Cortex      Medulla      Papilla Renal Artery       Ureter \n",
       "      178521        76815        58891         3524         6950 "
      ]
     },
     "metadata": {},
     "output_type": "display_data"
    }
   ],
   "source": [
    "table(novaseq.sub$renal_region_new)"
   ]
  },
  {
   "cell_type": "markdown",
   "id": "b8a59a69",
   "metadata": {},
   "source": [
    "### make processed_dir"
   ]
  },
  {
   "cell_type": "code",
   "execution_count": 9,
   "id": "1e740243",
   "metadata": {},
   "outputs": [
    {
     "data": {
      "text/html": [
       "'../../processed_data/RENIN'"
      ],
      "text/latex": [
       "'../../processed\\_data/RENIN'"
      ],
      "text/markdown": [
       "'../../processed_data/RENIN'"
      ],
      "text/plain": [
       "[1] \"../../processed_data/RENIN\""
      ]
     },
     "metadata": {},
     "output_type": "display_data"
    }
   ],
   "source": [
    "processed_dir = file.path(\"..\", \"..\", \"processed_data\", \"RENIN\")\n",
    "processed_dir\n",
    "dir.create(processed_dir, recursive = T, showWarnings = F)"
   ]
  },
  {
   "cell_type": "markdown",
   "id": "e78f8ff0",
   "metadata": {},
   "source": [
    "### rename RNA assay to SCT assay"
   ]
  },
  {
   "cell_type": "code",
   "execution_count": 10,
   "id": "d67e0b62",
   "metadata": {},
   "outputs": [
    {
     "name": "stderr",
     "output_type": "stream",
     "text": [
      "Warning message:\n",
      "“Cannot add objects with duplicate keys (offending key: rna_) setting key to original value 'sct_'”\n"
     ]
    },
    {
     "data": {
      "text/plain": [
       "An object of class Seurat \n",
       "237522 features across 324701 samples within 2 assays \n",
       "Active assay: peaks (189184 features, 189184 variable features)\n",
       " 1 other assay present: SCT\n",
       " 6 dimensional reductions calculated: pca, harmony_RNA, lsi, harmony_peaks, umap.peaks, WNN.UMAP"
      ]
     },
     "metadata": {},
     "output_type": "display_data"
    }
   ],
   "source": [
    "novaseq.sub = RenameAssays(object = novaseq.sub, RNA = 'SCT')\n",
    "novaseq.sub"
   ]
  },
  {
   "cell_type": "markdown",
   "id": "90d3a00f",
   "metadata": {},
   "source": [
    "### change default assay to peaks"
   ]
  },
  {
   "cell_type": "code",
   "execution_count": 11,
   "id": "0b205160",
   "metadata": {},
   "outputs": [
    {
     "data": {
      "text/plain": [
       "An object of class Seurat \n",
       "237522 features across 324701 samples within 2 assays \n",
       "Active assay: peaks (189184 features, 189184 variable features)\n",
       " 1 other assay present: SCT\n",
       " 6 dimensional reductions calculated: pca, harmony_RNA, lsi, harmony_peaks, umap.peaks, WNN.UMAP"
      ]
     },
     "metadata": {},
     "output_type": "display_data"
    }
   ],
   "source": [
    "DefaultAssay(novaseq.sub)  <- \"peaks\"\n",
    "novaseq.sub"
   ]
  },
  {
   "cell_type": "markdown",
   "id": "e10e4fc6",
   "metadata": {},
   "source": [
    "### change Idents to celltype5_rna"
   ]
  },
  {
   "cell_type": "code",
   "execution_count": 12,
   "id": "44b2dea5",
   "metadata": {},
   "outputs": [
    {
     "data": {
      "text/html": [
       "<style>\n",
       ".dl-inline {width: auto; margin:0; padding: 0}\n",
       ".dl-inline>dt, .dl-inline>dd {float: none; width: auto; display: inline-block}\n",
       ".dl-inline>dt::after {content: \":\\0020\"; padding-right: .5ex}\n",
       ".dl-inline>dt:not(:first-of-type) {padding-left: .5ex}\n",
       "</style><dl class=dl-inline><dt>R1.034,R2.082,R3.082,P1.76,B3</dt><dd>tL1</dd><dt>R1.047,R2.073,R3.003,P1.65,B2</dt><dd>PEC</dd><dt>R1.025,R2.080,R3.017,P1.66,B2</dt><dd>PT_dediff</dd><dt>R1.056,R2.038,R3.008,P1.48,B2</dt><dd>TAL1</dd><dt>R1.089,R2.082,R3.024,P1.14,B1</dt><dd>CNT</dd><dt>R1.031,R2.072,R3.075,P1.78,B3</dt><dd>TAL2</dd></dl>\n",
       "\n",
       "<details>\n",
       "\t<summary style=display:list-item;cursor:pointer>\n",
       "\t\t<strong>Levels</strong>:\n",
       "\t</summary>\n",
       "\t<style>\n",
       "\t.list-inline {list-style: none; margin:0; padding: 0}\n",
       "\t.list-inline>li {display: inline-block}\n",
       "\t.list-inline>li:not(:last-child)::after {content: \"\\00b7\"; padding: 0 .5ex}\n",
       "\t</style>\n",
       "\t<ol class=list-inline><li>'JGA'</li><li>'POD'</li><li>'PEC'</li><li>'PT'</li><li>'PT_dediff'</li><li>'PT_VCAM1'</li><li>'tL1'</li><li>'tL2'</li><li>'tL-TAL'</li><li>'TAL1'</li><li>'TAL2'</li><li>'TAL3'</li><li>'DCT'</li><li>'CNT'</li><li>'PC1'</li><li>'PC2'</li><li>'ICA'</li><li>'ICB'</li><li>'Uro1'</li><li>'Uro2'</li><li>'ENDO'</li><li>'SMC1'</li><li>'SMC2'</li><li>'SMC3'</li><li>'Fib1'</li><li>'Fib2'</li><li>'Fib3'</li><li>'Ma'</li><li>'BT'</li></ol>\n",
       "</details>"
      ],
      "text/latex": [
       "\\begin{description*}\n",
       "\\item[R1.034,R2.082,R3.082,P1.76,B3] tL1\n",
       "\\item[R1.047,R2.073,R3.003,P1.65,B2] PEC\n",
       "\\item[R1.025,R2.080,R3.017,P1.66,B2] PT\\_dediff\n",
       "\\item[R1.056,R2.038,R3.008,P1.48,B2] TAL1\n",
       "\\item[R1.089,R2.082,R3.024,P1.14,B1] CNT\n",
       "\\item[R1.031,R2.072,R3.075,P1.78,B3] TAL2\n",
       "\\end{description*}\n",
       "\n",
       "\\emph{Levels}: \\begin{enumerate*}\n",
       "\\item 'JGA'\n",
       "\\item 'POD'\n",
       "\\item 'PEC'\n",
       "\\item 'PT'\n",
       "\\item 'PT\\_dediff'\n",
       "\\item 'PT\\_VCAM1'\n",
       "\\item 'tL1'\n",
       "\\item 'tL2'\n",
       "\\item 'tL-TAL'\n",
       "\\item 'TAL1'\n",
       "\\item 'TAL2'\n",
       "\\item 'TAL3'\n",
       "\\item 'DCT'\n",
       "\\item 'CNT'\n",
       "\\item 'PC1'\n",
       "\\item 'PC2'\n",
       "\\item 'ICA'\n",
       "\\item 'ICB'\n",
       "\\item 'Uro1'\n",
       "\\item 'Uro2'\n",
       "\\item 'ENDO'\n",
       "\\item 'SMC1'\n",
       "\\item 'SMC2'\n",
       "\\item 'SMC3'\n",
       "\\item 'Fib1'\n",
       "\\item 'Fib2'\n",
       "\\item 'Fib3'\n",
       "\\item 'Ma'\n",
       "\\item 'BT'\n",
       "\\end{enumerate*}\n"
      ],
      "text/markdown": [
       "R1.034,R2.082,R3.082,P1.76,B3\n",
       ":   tL1R1.047,R2.073,R3.003,P1.65,B2\n",
       ":   PECR1.025,R2.080,R3.017,P1.66,B2\n",
       ":   PT_dediffR1.056,R2.038,R3.008,P1.48,B2\n",
       ":   TAL1R1.089,R2.082,R3.024,P1.14,B1\n",
       ":   CNTR1.031,R2.072,R3.075,P1.78,B3\n",
       ":   TAL2\n",
       "\n",
       "\n",
       "**Levels**: 1. 'JGA'\n",
       "2. 'POD'\n",
       "3. 'PEC'\n",
       "4. 'PT'\n",
       "5. 'PT_dediff'\n",
       "6. 'PT_VCAM1'\n",
       "7. 'tL1'\n",
       "8. 'tL2'\n",
       "9. 'tL-TAL'\n",
       "10. 'TAL1'\n",
       "11. 'TAL2'\n",
       "12. 'TAL3'\n",
       "13. 'DCT'\n",
       "14. 'CNT'\n",
       "15. 'PC1'\n",
       "16. 'PC2'\n",
       "17. 'ICA'\n",
       "18. 'ICB'\n",
       "19. 'Uro1'\n",
       "20. 'Uro2'\n",
       "21. 'ENDO'\n",
       "22. 'SMC1'\n",
       "23. 'SMC2'\n",
       "24. 'SMC3'\n",
       "25. 'Fib1'\n",
       "26. 'Fib2'\n",
       "27. 'Fib3'\n",
       "28. 'Ma'\n",
       "29. 'BT'\n",
       "\n",
       "\n"
      ],
      "text/plain": [
       "R1.034,R2.082,R3.082,P1.76,B3 R1.047,R2.073,R3.003,P1.65,B2 \n",
       "                          tL1                           PEC \n",
       "R1.025,R2.080,R3.017,P1.66,B2 R1.056,R2.038,R3.008,P1.48,B2 \n",
       "                    PT_dediff                          TAL1 \n",
       "R1.089,R2.082,R3.024,P1.14,B1 R1.031,R2.072,R3.075,P1.78,B3 \n",
       "                          CNT                          TAL2 \n",
       "29 Levels: JGA POD PEC PT PT_dediff PT_VCAM1 tL1 tL2 tL-TAL TAL1 TAL2 ... BT"
      ]
     },
     "metadata": {},
     "output_type": "display_data"
    }
   ],
   "source": [
    "Idents(novaseq.sub) = novaseq.sub$celltype5_rna\n",
    "head(Idents(novaseq.sub))"
   ]
  },
  {
   "cell_type": "markdown",
   "id": "5ed269d5",
   "metadata": {},
   "source": [
    "### create pseudo cells for background CRE aen analysis"
   ]
  },
  {
   "cell_type": "code",
   "execution_count": 13,
   "id": "f09011dd",
   "metadata": {},
   "outputs": [
    {
     "data": {
      "text/plain": [
       "[1] \"2023-06-28 14:55:46 CDT\""
      ]
     },
     "metadata": {},
     "output_type": "display_data"
    },
    {
     "name": "stderr",
     "output_type": "stream",
     "text": [
      "Loading required package: tidyverse\n",
      "\n",
      "── \u001b[1mAttaching packages\u001b[22m ─────────────────────────────────────────────────────────────────────────────── tidyverse 1.3.2 ──\n",
      "\u001b[32m✔\u001b[39m \u001b[34mggplot2\u001b[39m 3.4.1     \u001b[32m✔\u001b[39m \u001b[34mpurrr  \u001b[39m 0.3.4\n",
      "\u001b[32m✔\u001b[39m \u001b[34mtibble \u001b[39m 3.1.8     \u001b[32m✔\u001b[39m \u001b[34mdplyr  \u001b[39m 1.0.9\n",
      "\u001b[32m✔\u001b[39m \u001b[34mtidyr  \u001b[39m 1.2.0     \u001b[32m✔\u001b[39m \u001b[34mstringr\u001b[39m 1.4.0\n",
      "\u001b[32m✔\u001b[39m \u001b[34mreadr  \u001b[39m 2.1.2     \u001b[32m✔\u001b[39m \u001b[34mforcats\u001b[39m 0.5.1\n",
      "── \u001b[1mConflicts\u001b[22m ────────────────────────────────────────────────────────────────────────────────── tidyverse_conflicts() ──\n",
      "\u001b[31m✖\u001b[39m \u001b[34mdplyr\u001b[39m::\u001b[32mfilter()\u001b[39m masks \u001b[34mstats\u001b[39m::filter()\n",
      "\u001b[31m✖\u001b[39m \u001b[34mdplyr\u001b[39m::\u001b[32mlag()\u001b[39m    masks \u001b[34mstats\u001b[39m::lag()\n",
      "\u001b[31m✖\u001b[39m \u001b[34mpurrr\u001b[39m::\u001b[32mreduce()\u001b[39m masks \u001b[34mSignac\u001b[39m::reduce()\n",
      "Loading required package: Matrix\n",
      "\n",
      "\n",
      "Attaching package: ‘Matrix’\n",
      "\n",
      "\n",
      "The following objects are masked from ‘package:tidyr’:\n",
      "\n",
      "    expand, pack, unpack\n",
      "\n",
      "\n",
      "Loading required package: VISION\n",
      "\n",
      "Loading required package: SingleCellExperiment\n",
      "\n",
      "Loading required package: SummarizedExperiment\n",
      "\n",
      "Loading required package: MatrixGenerics\n",
      "\n",
      "Loading required package: matrixStats\n",
      "\n",
      "\n",
      "Attaching package: ‘matrixStats’\n",
      "\n",
      "\n",
      "The following object is masked from ‘package:dplyr’:\n",
      "\n",
      "    count\n",
      "\n",
      "\n",
      "\n",
      "Attaching package: ‘MatrixGenerics’\n",
      "\n",
      "\n",
      "The following objects are masked from ‘package:matrixStats’:\n",
      "\n",
      "    colAlls, colAnyNAs, colAnys, colAvgsPerRowSet, colCollapse,\n",
      "    colCounts, colCummaxs, colCummins, colCumprods, colCumsums,\n",
      "    colDiffs, colIQRDiffs, colIQRs, colLogSumExps, colMadDiffs,\n",
      "    colMads, colMaxs, colMeans2, colMedians, colMins, colOrderStats,\n",
      "    colProds, colQuantiles, colRanges, colRanks, colSdDiffs, colSds,\n",
      "    colSums2, colTabulates, colVarDiffs, colVars, colWeightedMads,\n",
      "    colWeightedMeans, colWeightedMedians, colWeightedSds,\n",
      "    colWeightedVars, rowAlls, rowAnyNAs, rowAnys, rowAvgsPerColSet,\n",
      "    rowCollapse, rowCounts, rowCummaxs, rowCummins, rowCumprods,\n",
      "    rowCumsums, rowDiffs, rowIQRDiffs, rowIQRs, rowLogSumExps,\n",
      "    rowMadDiffs, rowMads, rowMaxs, rowMeans2, rowMedians, rowMins,\n",
      "    rowOrderStats, rowProds, rowQuantiles, rowRanges, rowRanks,\n",
      "    rowSdDiffs, rowSds, rowSums2, rowTabulates, rowVarDiffs, rowVars,\n",
      "    rowWeightedMads, rowWeightedMeans, rowWeightedMedians,\n",
      "    rowWeightedSds, rowWeightedVars\n",
      "\n",
      "\n",
      "Loading required package: GenomicRanges\n",
      "\n",
      "Loading required package: stats4\n",
      "\n",
      "Loading required package: BiocGenerics\n",
      "\n",
      "Loading required package: parallel\n",
      "\n",
      "\n",
      "Attaching package: ‘BiocGenerics’\n",
      "\n",
      "\n",
      "The following objects are masked from ‘package:parallel’:\n",
      "\n",
      "    clusterApply, clusterApplyLB, clusterCall, clusterEvalQ,\n",
      "    clusterExport, clusterMap, parApply, parCapply, parLapply,\n",
      "    parLapplyLB, parRapply, parSapply, parSapplyLB\n",
      "\n",
      "\n",
      "The following objects are masked from ‘package:dplyr’:\n",
      "\n",
      "    combine, intersect, setdiff, union\n",
      "\n",
      "\n",
      "The following objects are masked from ‘package:stats’:\n",
      "\n",
      "    IQR, mad, sd, var, xtabs\n",
      "\n",
      "\n",
      "The following objects are masked from ‘package:base’:\n",
      "\n",
      "    anyDuplicated, append, as.data.frame, basename, cbind, colnames,\n",
      "    dirname, do.call, duplicated, eval, evalq, Filter, Find, get, grep,\n",
      "    grepl, intersect, is.unsorted, lapply, Map, mapply, match, mget,\n",
      "    order, paste, pmax, pmax.int, pmin, pmin.int, Position, rank,\n",
      "    rbind, Reduce, rownames, sapply, setdiff, sort, table, tapply,\n",
      "    union, unique, unsplit, which.max, which.min\n",
      "\n",
      "\n",
      "Loading required package: S4Vectors\n",
      "\n",
      "\n",
      "Attaching package: ‘S4Vectors’\n",
      "\n",
      "\n",
      "The following objects are masked from ‘package:Matrix’:\n",
      "\n",
      "    expand, unname\n",
      "\n",
      "\n",
      "The following objects are masked from ‘package:dplyr’:\n",
      "\n",
      "    first, rename\n",
      "\n",
      "\n",
      "The following object is masked from ‘package:tidyr’:\n",
      "\n",
      "    expand\n",
      "\n",
      "\n",
      "The following objects are masked from ‘package:base’:\n",
      "\n",
      "    expand.grid, I, unname\n",
      "\n",
      "\n",
      "Loading required package: IRanges\n",
      "\n",
      "\n",
      "Attaching package: ‘IRanges’\n",
      "\n",
      "\n",
      "The following objects are masked from ‘package:dplyr’:\n",
      "\n",
      "    collapse, desc, slice\n",
      "\n",
      "\n",
      "The following object is masked from ‘package:purrr’:\n",
      "\n",
      "    reduce\n",
      "\n",
      "\n",
      "The following object is masked from ‘package:sp’:\n",
      "\n",
      "    %over%\n",
      "\n",
      "\n",
      "Loading required package: GenomeInfoDb\n",
      "\n",
      "Loading required package: Biobase\n",
      "\n",
      "Welcome to Bioconductor\n",
      "\n",
      "    Vignettes contain introductory material; view with\n",
      "    'browseVignettes()'. To cite Bioconductor, see\n",
      "    'citation(\"Biobase\")', and for packages 'citation(\"pkgname\")'.\n",
      "\n",
      "\n",
      "\n",
      "Attaching package: ‘Biobase’\n",
      "\n",
      "\n",
      "The following object is masked from ‘package:MatrixGenerics’:\n",
      "\n",
      "    rowMedians\n",
      "\n",
      "\n",
      "The following objects are masked from ‘package:matrixStats’:\n",
      "\n",
      "    anyMissing, rowMedians\n",
      "\n",
      "\n",
      "\n",
      "Attaching package: ‘SummarizedExperiment’\n",
      "\n",
      "\n",
      "The following object is masked from ‘package:SeuratObject’:\n",
      "\n",
      "    Assays\n",
      "\n",
      "\n",
      "The following object is masked from ‘package:Seurat’:\n",
      "\n",
      "    Assays\n",
      "\n",
      "\n",
      "Performing initial coarse-clustering...\n",
      "\n",
      "Further partitioning coarse clusters...\n",
      "\n",
      "Micro-pooling completed reducing 324701 cells into 3246 pools\n",
      "\n"
     ]
    },
    {
     "data": {
      "text/plain": [
       "[1] \"2023-06-28 15:58:18 CDT\""
      ]
     },
     "metadata": {},
     "output_type": "display_data"
    }
   ],
   "source": [
    "Sys.time()\n",
    "mats <- prepare_pseudocell_matrix(novaseq.sub, \n",
    "                                  assay = c(\"peaks\", \"SCT\"), \n",
    "                                  cells_per_partition = 100,\n",
    "                                  reduction1 = \"pca\",\n",
    "                                  reduction2 = \"lsi\")\n",
    "Sys.time()"
   ]
  },
  {
   "cell_type": "code",
   "execution_count": 14,
   "id": "e3329606",
   "metadata": {},
   "outputs": [],
   "source": [
    "expr_mat <- mats[[\"SCT\"]]\n",
    "peak_mat <- mats[[\"peaks\"]]"
   ]
  },
  {
   "cell_type": "code",
   "execution_count": 15,
   "id": "7b3e9036",
   "metadata": {},
   "outputs": [
    {
     "data": {
      "text/html": [
       "<style>\n",
       ".list-inline {list-style: none; margin:0; padding: 0}\n",
       ".list-inline>li {display: inline-block}\n",
       ".list-inline>li:not(:last-child)::after {content: \"\\00b7\"; padding: 0 .5ex}\n",
       "</style>\n",
       "<ol class=list-inline><li>tL1</li><li>PT_VCAM1</li><li>PC1</li><li>TAL1</li><li>CNT</li><li>tL-TAL</li><li>IC</li><li>ENDO</li><li>PT</li><li>Fib1</li><li>Fib2</li><li>DCT</li><li>TAL2/3</li><li>Uro</li><li>BT</li><li>tL2</li><li>PC2</li><li>SMC</li><li>Ma</li><li>Fib3</li><li>POD/PEC</li></ol>\n",
       "\n",
       "<details>\n",
       "\t<summary style=display:list-item;cursor:pointer>\n",
       "\t\t<strong>Levels</strong>:\n",
       "\t</summary>\n",
       "\t<style>\n",
       "\t.list-inline {list-style: none; margin:0; padding: 0}\n",
       "\t.list-inline>li {display: inline-block}\n",
       "\t.list-inline>li:not(:last-child)::after {content: \"\\00b7\"; padding: 0 .5ex}\n",
       "\t</style>\n",
       "\t<ol class=list-inline><li>'POD/PEC'</li><li>'PT'</li><li>'PT_VCAM1'</li><li>'tL1'</li><li>'tL2'</li><li>'tL-TAL'</li><li>'TAL1'</li><li>'TAL2/3'</li><li>'DCT'</li><li>'CNT'</li><li>'PC1'</li><li>'PC2'</li><li>'IC'</li><li>'Uro'</li><li>'ENDO'</li><li>'SMC'</li><li>'Fib1'</li><li>'Fib2'</li><li>'Fib3'</li><li>'Ma'</li><li>'BT'</li></ol>\n",
       "</details>"
      ],
      "text/latex": [
       "\\begin{enumerate*}\n",
       "\\item tL1\n",
       "\\item PT\\_VCAM1\n",
       "\\item PC1\n",
       "\\item TAL1\n",
       "\\item CNT\n",
       "\\item tL-TAL\n",
       "\\item IC\n",
       "\\item ENDO\n",
       "\\item PT\n",
       "\\item Fib1\n",
       "\\item Fib2\n",
       "\\item DCT\n",
       "\\item TAL2/3\n",
       "\\item Uro\n",
       "\\item BT\n",
       "\\item tL2\n",
       "\\item PC2\n",
       "\\item SMC\n",
       "\\item Ma\n",
       "\\item Fib3\n",
       "\\item POD/PEC\n",
       "\\end{enumerate*}\n",
       "\n",
       "\\emph{Levels}: \\begin{enumerate*}\n",
       "\\item 'POD/PEC'\n",
       "\\item 'PT'\n",
       "\\item 'PT\\_VCAM1'\n",
       "\\item 'tL1'\n",
       "\\item 'tL2'\n",
       "\\item 'tL-TAL'\n",
       "\\item 'TAL1'\n",
       "\\item 'TAL2/3'\n",
       "\\item 'DCT'\n",
       "\\item 'CNT'\n",
       "\\item 'PC1'\n",
       "\\item 'PC2'\n",
       "\\item 'IC'\n",
       "\\item 'Uro'\n",
       "\\item 'ENDO'\n",
       "\\item 'SMC'\n",
       "\\item 'Fib1'\n",
       "\\item 'Fib2'\n",
       "\\item 'Fib3'\n",
       "\\item 'Ma'\n",
       "\\item 'BT'\n",
       "\\end{enumerate*}\n"
      ],
      "text/markdown": [
       "1. tL1\n",
       "2. PT_VCAM1\n",
       "3. PC1\n",
       "4. TAL1\n",
       "5. CNT\n",
       "6. tL-TAL\n",
       "7. IC\n",
       "8. ENDO\n",
       "9. PT\n",
       "10. Fib1\n",
       "11. Fib2\n",
       "12. DCT\n",
       "13. TAL2/3\n",
       "14. Uro\n",
       "15. BT\n",
       "16. tL2\n",
       "17. PC2\n",
       "18. SMC\n",
       "19. Ma\n",
       "20. Fib3\n",
       "21. POD/PEC\n",
       "\n",
       "\n",
       "\n",
       "**Levels**: 1. 'POD/PEC'\n",
       "2. 'PT'\n",
       "3. 'PT_VCAM1'\n",
       "4. 'tL1'\n",
       "5. 'tL2'\n",
       "6. 'tL-TAL'\n",
       "7. 'TAL1'\n",
       "8. 'TAL2/3'\n",
       "9. 'DCT'\n",
       "10. 'CNT'\n",
       "11. 'PC1'\n",
       "12. 'PC2'\n",
       "13. 'IC'\n",
       "14. 'Uro'\n",
       "15. 'ENDO'\n",
       "16. 'SMC'\n",
       "17. 'Fib1'\n",
       "18. 'Fib2'\n",
       "19. 'Fib3'\n",
       "20. 'Ma'\n",
       "21. 'BT'\n",
       "\n",
       "\n"
      ],
      "text/plain": [
       " [1] tL1      PT_VCAM1 PC1      TAL1     CNT      tL-TAL   IC       ENDO    \n",
       " [9] PT       Fib1     Fib2     DCT      TAL2/3   Uro      BT       tL2     \n",
       "[17] PC2      SMC      Ma       Fib3     POD/PEC \n",
       "21 Levels: POD/PEC PT PT_VCAM1 tL1 tL2 tL-TAL TAL1 TAL2/3 DCT CNT PC1 ... BT"
      ]
     },
     "metadata": {},
     "output_type": "display_data"
    },
    {
     "data": {
      "text/html": [
       "<style>\n",
       ".list-inline {list-style: none; margin:0; padding: 0}\n",
       ".list-inline>li {display: inline-block}\n",
       ".list-inline>li:not(:last-child)::after {content: \"\\00b7\"; padding: 0 .5ex}\n",
       "</style>\n",
       "<ol class=list-inline><li>tL1</li><li>PEC</li><li>PT_dediff</li><li>TAL1</li><li>CNT</li><li>TAL2</li><li>TAL3</li><li>PC1</li><li>PT</li><li>tL-TAL</li><li>Fib1</li><li>Fib2</li><li>PT_VCAM1</li><li>ENDO</li><li>JGA</li><li>DCT</li><li>Uro1</li><li>tL2</li><li>BT</li><li>PC2</li><li>SMC1</li><li>Fib3</li><li>Ma</li><li>ICA</li><li>POD</li><li>ICB</li><li>Uro2</li><li>SMC2</li><li>SMC3</li></ol>\n",
       "\n",
       "<details>\n",
       "\t<summary style=display:list-item;cursor:pointer>\n",
       "\t\t<strong>Levels</strong>:\n",
       "\t</summary>\n",
       "\t<style>\n",
       "\t.list-inline {list-style: none; margin:0; padding: 0}\n",
       "\t.list-inline>li {display: inline-block}\n",
       "\t.list-inline>li:not(:last-child)::after {content: \"\\00b7\"; padding: 0 .5ex}\n",
       "\t</style>\n",
       "\t<ol class=list-inline><li>'JGA'</li><li>'POD'</li><li>'PEC'</li><li>'PT'</li><li>'PT_dediff'</li><li>'PT_VCAM1'</li><li>'tL1'</li><li>'tL2'</li><li>'tL-TAL'</li><li>'TAL1'</li><li>'TAL2'</li><li>'TAL3'</li><li>'DCT'</li><li>'CNT'</li><li>'PC1'</li><li>'PC2'</li><li>'ICA'</li><li>'ICB'</li><li>'Uro1'</li><li>'Uro2'</li><li>'ENDO'</li><li>'SMC1'</li><li>'SMC2'</li><li>'SMC3'</li><li>'Fib1'</li><li>'Fib2'</li><li>'Fib3'</li><li>'Ma'</li><li>'BT'</li></ol>\n",
       "</details>"
      ],
      "text/latex": [
       "\\begin{enumerate*}\n",
       "\\item tL1\n",
       "\\item PEC\n",
       "\\item PT\\_dediff\n",
       "\\item TAL1\n",
       "\\item CNT\n",
       "\\item TAL2\n",
       "\\item TAL3\n",
       "\\item PC1\n",
       "\\item PT\n",
       "\\item tL-TAL\n",
       "\\item Fib1\n",
       "\\item Fib2\n",
       "\\item PT\\_VCAM1\n",
       "\\item ENDO\n",
       "\\item JGA\n",
       "\\item DCT\n",
       "\\item Uro1\n",
       "\\item tL2\n",
       "\\item BT\n",
       "\\item PC2\n",
       "\\item SMC1\n",
       "\\item Fib3\n",
       "\\item Ma\n",
       "\\item ICA\n",
       "\\item POD\n",
       "\\item ICB\n",
       "\\item Uro2\n",
       "\\item SMC2\n",
       "\\item SMC3\n",
       "\\end{enumerate*}\n",
       "\n",
       "\\emph{Levels}: \\begin{enumerate*}\n",
       "\\item 'JGA'\n",
       "\\item 'POD'\n",
       "\\item 'PEC'\n",
       "\\item 'PT'\n",
       "\\item 'PT\\_dediff'\n",
       "\\item 'PT\\_VCAM1'\n",
       "\\item 'tL1'\n",
       "\\item 'tL2'\n",
       "\\item 'tL-TAL'\n",
       "\\item 'TAL1'\n",
       "\\item 'TAL2'\n",
       "\\item 'TAL3'\n",
       "\\item 'DCT'\n",
       "\\item 'CNT'\n",
       "\\item 'PC1'\n",
       "\\item 'PC2'\n",
       "\\item 'ICA'\n",
       "\\item 'ICB'\n",
       "\\item 'Uro1'\n",
       "\\item 'Uro2'\n",
       "\\item 'ENDO'\n",
       "\\item 'SMC1'\n",
       "\\item 'SMC2'\n",
       "\\item 'SMC3'\n",
       "\\item 'Fib1'\n",
       "\\item 'Fib2'\n",
       "\\item 'Fib3'\n",
       "\\item 'Ma'\n",
       "\\item 'BT'\n",
       "\\end{enumerate*}\n"
      ],
      "text/markdown": [
       "1. tL1\n",
       "2. PEC\n",
       "3. PT_dediff\n",
       "4. TAL1\n",
       "5. CNT\n",
       "6. TAL2\n",
       "7. TAL3\n",
       "8. PC1\n",
       "9. PT\n",
       "10. tL-TAL\n",
       "11. Fib1\n",
       "12. Fib2\n",
       "13. PT_VCAM1\n",
       "14. ENDO\n",
       "15. JGA\n",
       "16. DCT\n",
       "17. Uro1\n",
       "18. tL2\n",
       "19. BT\n",
       "20. PC2\n",
       "21. SMC1\n",
       "22. Fib3\n",
       "23. Ma\n",
       "24. ICA\n",
       "25. POD\n",
       "26. ICB\n",
       "27. Uro2\n",
       "28. SMC2\n",
       "29. SMC3\n",
       "\n",
       "\n",
       "\n",
       "**Levels**: 1. 'JGA'\n",
       "2. 'POD'\n",
       "3. 'PEC'\n",
       "4. 'PT'\n",
       "5. 'PT_dediff'\n",
       "6. 'PT_VCAM1'\n",
       "7. 'tL1'\n",
       "8. 'tL2'\n",
       "9. 'tL-TAL'\n",
       "10. 'TAL1'\n",
       "11. 'TAL2'\n",
       "12. 'TAL3'\n",
       "13. 'DCT'\n",
       "14. 'CNT'\n",
       "15. 'PC1'\n",
       "16. 'PC2'\n",
       "17. 'ICA'\n",
       "18. 'ICB'\n",
       "19. 'Uro1'\n",
       "20. 'Uro2'\n",
       "21. 'ENDO'\n",
       "22. 'SMC1'\n",
       "23. 'SMC2'\n",
       "24. 'SMC3'\n",
       "25. 'Fib1'\n",
       "26. 'Fib2'\n",
       "27. 'Fib3'\n",
       "28. 'Ma'\n",
       "29. 'BT'\n",
       "\n",
       "\n"
      ],
      "text/plain": [
       " [1] tL1       PEC       PT_dediff TAL1      CNT       TAL2      TAL3     \n",
       " [8] PC1       PT        tL-TAL    Fib1      Fib2      PT_VCAM1  ENDO     \n",
       "[15] JGA       DCT       Uro1      tL2       BT        PC2       SMC1     \n",
       "[22] Fib3      Ma        ICA       POD       ICB       Uro2      SMC2     \n",
       "[29] SMC3     \n",
       "29 Levels: JGA POD PEC PT PT_dediff PT_VCAM1 tL1 tL2 tL-TAL TAL1 TAL2 ... BT"
      ]
     },
     "metadata": {},
     "output_type": "display_data"
    },
    {
     "data": {
      "text/html": [
       "<style>\n",
       ".list-inline {list-style: none; margin:0; padding: 0}\n",
       ".list-inline>li {display: inline-block}\n",
       ".list-inline>li:not(:last-child)::after {content: \"\\00b7\"; padding: 0 .5ex}\n",
       "</style>\n",
       "<ol class=list-inline><li>tL1</li><li>PEC</li><li>PT_dediff</li><li>TAL1</li><li>CNT</li><li>TAL2</li><li>TAL3</li><li>PC1</li><li>PT</li><li>tL-TAL</li><li>Fib1</li><li>Fib2</li><li>PT_VCAM1</li><li>ENDO</li><li>JGA</li><li>DCT</li><li>Uro1</li><li>tL2</li><li>BT</li><li>PC2</li><li>SMC1</li><li>Fib3</li><li>Ma</li><li>ICA</li><li>POD</li><li>ICB</li><li>Uro2</li><li>SMC2</li><li>SMC3</li></ol>\n",
       "\n",
       "<details>\n",
       "\t<summary style=display:list-item;cursor:pointer>\n",
       "\t\t<strong>Levels</strong>:\n",
       "\t</summary>\n",
       "\t<style>\n",
       "\t.list-inline {list-style: none; margin:0; padding: 0}\n",
       "\t.list-inline>li {display: inline-block}\n",
       "\t.list-inline>li:not(:last-child)::after {content: \"\\00b7\"; padding: 0 .5ex}\n",
       "\t</style>\n",
       "\t<ol class=list-inline><li>'JGA'</li><li>'POD'</li><li>'PEC'</li><li>'PT'</li><li>'PT_dediff'</li><li>'PT_VCAM1'</li><li>'tL1'</li><li>'tL2'</li><li>'tL-TAL'</li><li>'TAL1'</li><li>'TAL2'</li><li>'TAL3'</li><li>'DCT'</li><li>'CNT'</li><li>'PC1'</li><li>'PC2'</li><li>'ICA'</li><li>'ICB'</li><li>'Uro1'</li><li>'Uro2'</li><li>'ENDO'</li><li>'SMC1'</li><li>'SMC2'</li><li>'SMC3'</li><li>'Fib1'</li><li>'Fib2'</li><li>'Fib3'</li><li>'Ma'</li><li>'BT'</li></ol>\n",
       "</details>"
      ],
      "text/latex": [
       "\\begin{enumerate*}\n",
       "\\item tL1\n",
       "\\item PEC\n",
       "\\item PT\\_dediff\n",
       "\\item TAL1\n",
       "\\item CNT\n",
       "\\item TAL2\n",
       "\\item TAL3\n",
       "\\item PC1\n",
       "\\item PT\n",
       "\\item tL-TAL\n",
       "\\item Fib1\n",
       "\\item Fib2\n",
       "\\item PT\\_VCAM1\n",
       "\\item ENDO\n",
       "\\item JGA\n",
       "\\item DCT\n",
       "\\item Uro1\n",
       "\\item tL2\n",
       "\\item BT\n",
       "\\item PC2\n",
       "\\item SMC1\n",
       "\\item Fib3\n",
       "\\item Ma\n",
       "\\item ICA\n",
       "\\item POD\n",
       "\\item ICB\n",
       "\\item Uro2\n",
       "\\item SMC2\n",
       "\\item SMC3\n",
       "\\end{enumerate*}\n",
       "\n",
       "\\emph{Levels}: \\begin{enumerate*}\n",
       "\\item 'JGA'\n",
       "\\item 'POD'\n",
       "\\item 'PEC'\n",
       "\\item 'PT'\n",
       "\\item 'PT\\_dediff'\n",
       "\\item 'PT\\_VCAM1'\n",
       "\\item 'tL1'\n",
       "\\item 'tL2'\n",
       "\\item 'tL-TAL'\n",
       "\\item 'TAL1'\n",
       "\\item 'TAL2'\n",
       "\\item 'TAL3'\n",
       "\\item 'DCT'\n",
       "\\item 'CNT'\n",
       "\\item 'PC1'\n",
       "\\item 'PC2'\n",
       "\\item 'ICA'\n",
       "\\item 'ICB'\n",
       "\\item 'Uro1'\n",
       "\\item 'Uro2'\n",
       "\\item 'ENDO'\n",
       "\\item 'SMC1'\n",
       "\\item 'SMC2'\n",
       "\\item 'SMC3'\n",
       "\\item 'Fib1'\n",
       "\\item 'Fib2'\n",
       "\\item 'Fib3'\n",
       "\\item 'Ma'\n",
       "\\item 'BT'\n",
       "\\end{enumerate*}\n"
      ],
      "text/markdown": [
       "1. tL1\n",
       "2. PEC\n",
       "3. PT_dediff\n",
       "4. TAL1\n",
       "5. CNT\n",
       "6. TAL2\n",
       "7. TAL3\n",
       "8. PC1\n",
       "9. PT\n",
       "10. tL-TAL\n",
       "11. Fib1\n",
       "12. Fib2\n",
       "13. PT_VCAM1\n",
       "14. ENDO\n",
       "15. JGA\n",
       "16. DCT\n",
       "17. Uro1\n",
       "18. tL2\n",
       "19. BT\n",
       "20. PC2\n",
       "21. SMC1\n",
       "22. Fib3\n",
       "23. Ma\n",
       "24. ICA\n",
       "25. POD\n",
       "26. ICB\n",
       "27. Uro2\n",
       "28. SMC2\n",
       "29. SMC3\n",
       "\n",
       "\n",
       "\n",
       "**Levels**: 1. 'JGA'\n",
       "2. 'POD'\n",
       "3. 'PEC'\n",
       "4. 'PT'\n",
       "5. 'PT_dediff'\n",
       "6. 'PT_VCAM1'\n",
       "7. 'tL1'\n",
       "8. 'tL2'\n",
       "9. 'tL-TAL'\n",
       "10. 'TAL1'\n",
       "11. 'TAL2'\n",
       "12. 'TAL3'\n",
       "13. 'DCT'\n",
       "14. 'CNT'\n",
       "15. 'PC1'\n",
       "16. 'PC2'\n",
       "17. 'ICA'\n",
       "18. 'ICB'\n",
       "19. 'Uro1'\n",
       "20. 'Uro2'\n",
       "21. 'ENDO'\n",
       "22. 'SMC1'\n",
       "23. 'SMC2'\n",
       "24. 'SMC3'\n",
       "25. 'Fib1'\n",
       "26. 'Fib2'\n",
       "27. 'Fib3'\n",
       "28. 'Ma'\n",
       "29. 'BT'\n",
       "\n",
       "\n"
      ],
      "text/plain": [
       " [1] tL1       PEC       PT_dediff TAL1      CNT       TAL2      TAL3     \n",
       " [8] PC1       PT        tL-TAL    Fib1      Fib2      PT_VCAM1  ENDO     \n",
       "[15] JGA       DCT       Uro1      tL2       BT        PC2       SMC1     \n",
       "[22] Fib3      Ma        ICA       POD       ICB       Uro2      SMC2     \n",
       "[29] SMC3     \n",
       "29 Levels: JGA POD PEC PT PT_dediff PT_VCAM1 tL1 tL2 tL-TAL TAL1 TAL2 ... BT"
      ]
     },
     "metadata": {},
     "output_type": "display_data"
    }
   ],
   "source": [
    "unique(novaseq.sub$celltype_atac5)\n",
    "unique(novaseq.sub$celltype5_rna)\n",
    "unique(Idents(novaseq.sub))"
   ]
  },
  {
   "cell_type": "markdown",
   "id": "e60bcdad",
   "metadata": {},
   "source": [
    "### add motif"
   ]
  },
  {
   "cell_type": "code",
   "execution_count": 16,
   "id": "c8489b4e",
   "metadata": {},
   "outputs": [
    {
     "data": {
      "text/plain": [
       "[1] \"2023-06-28 15:58:18 CDT\""
      ]
     },
     "metadata": {},
     "output_type": "display_data"
    },
    {
     "name": "stderr",
     "output_type": "stream",
     "text": [
      "\n",
      "\n",
      "Warning message:\n",
      "“no function found corresponding to methods exports from ‘BSgenome’ for: ‘releaseName’”\n",
      "Loading required package: BSgenome\n",
      "\n",
      "Loading required package: Biostrings\n",
      "\n",
      "Loading required package: XVector\n",
      "\n",
      "\n",
      "Attaching package: ‘XVector’\n",
      "\n",
      "\n",
      "The following object is masked from ‘package:purrr’:\n",
      "\n",
      "    compact\n",
      "\n",
      "\n",
      "\n",
      "Attaching package: ‘Biostrings’\n",
      "\n",
      "\n",
      "The following object is masked from ‘package:base’:\n",
      "\n",
      "    strsplit\n",
      "\n",
      "\n",
      "Loading required package: rtracklayer\n",
      "\n"
     ]
    }
   ],
   "source": [
    "Sys.time()\n",
    "library(chromVARmotifs)\n",
    "library(BSgenome.Hsapiens.UCSC.hg19)\n",
    "\n",
    "sout <- sapply(strsplit(names(human_pwms_v1), split = \"_\"), function(s) c(s[3]))\n",
    "human_pwms_v2 <- human_pwms_v1[match(unique(sout), sout)]"
   ]
  },
  {
   "cell_type": "code",
   "execution_count": 17,
   "id": "5919eaa3",
   "metadata": {},
   "outputs": [],
   "source": [
    "motifs = human_pwms_v2"
   ]
  },
  {
   "cell_type": "code",
   "execution_count": 18,
   "id": "2acef0ec",
   "metadata": {},
   "outputs": [
    {
     "data": {
      "text/plain": [
       "[1] \"2023-06-28 15:58:26 CDT\""
      ]
     },
     "metadata": {},
     "output_type": "display_data"
    },
    {
     "name": "stderr",
     "output_type": "stream",
     "text": [
      "Building motif matrix\n",
      "\n",
      "Finding motif positions\n",
      "\n",
      "Creating Motif object\n",
      "\n"
     ]
    },
    {
     "data": {
      "text/plain": [
       "[1] \"2023-06-28 16:05:03 CDT\""
      ]
     },
     "metadata": {},
     "output_type": "display_data"
    }
   ],
   "source": [
    "Sys.time()\n",
    "novaseq.sub <- AddMotifs(novaseq.sub, genome = BSgenome.Hsapiens.UCSC.hg19, pfm = motifs, assay = \"peaks\")\n",
    "Sys.time()"
   ]
  },
  {
   "cell_type": "code",
   "execution_count": 19,
   "id": "c365cb61",
   "metadata": {},
   "outputs": [
    {
     "data": {
      "text/plain": [
       "An object of class Seurat \n",
       "237522 features across 324701 samples within 2 assays \n",
       "Active assay: peaks (189184 features, 189184 variable features)\n",
       " 1 other assay present: SCT\n",
       " 6 dimensional reductions calculated: pca, harmony_RNA, lsi, harmony_peaks, umap.peaks, WNN.UMAP"
      ]
     },
     "metadata": {},
     "output_type": "display_data"
    }
   ],
   "source": [
    "novaseq.sub"
   ]
  },
  {
   "cell_type": "code",
   "execution_count": 20,
   "id": "a470fcf6",
   "metadata": {},
   "outputs": [
    {
     "data": {
      "text/html": [
       "<style>\n",
       ".list-inline {list-style: none; margin:0; padding: 0}\n",
       ".list-inline>li {display: inline-block}\n",
       ".list-inline>li:not(:last-child)::after {content: \"\\00b7\"; padding: 0 .5ex}\n",
       "</style>\n",
       "<ol class=list-inline><li>'expr_mat'</li><li>'human_pwms_v2'</li><li>'level.novaseq'</li><li>'level.novaseq.renal_region_new'</li><li>'level.novaseq.rna'</li><li>'mats'</li><li>'motifs'</li><li>'novaseq.sub'</li><li>'novaseq.wnn'</li><li>'palette.novaseq'</li><li>'palette.novaseq.renal_region_new'</li><li>'palette.novaseq.rna'</li><li>'peak_mat'</li><li>'processed_data_dir'</li><li>'processed_dir'</li><li>'sout'</li></ol>\n"
      ],
      "text/latex": [
       "\\begin{enumerate*}\n",
       "\\item 'expr\\_mat'\n",
       "\\item 'human\\_pwms\\_v2'\n",
       "\\item 'level.novaseq'\n",
       "\\item 'level.novaseq.renal\\_region\\_new'\n",
       "\\item 'level.novaseq.rna'\n",
       "\\item 'mats'\n",
       "\\item 'motifs'\n",
       "\\item 'novaseq.sub'\n",
       "\\item 'novaseq.wnn'\n",
       "\\item 'palette.novaseq'\n",
       "\\item 'palette.novaseq.renal\\_region\\_new'\n",
       "\\item 'palette.novaseq.rna'\n",
       "\\item 'peak\\_mat'\n",
       "\\item 'processed\\_data\\_dir'\n",
       "\\item 'processed\\_dir'\n",
       "\\item 'sout'\n",
       "\\end{enumerate*}\n"
      ],
      "text/markdown": [
       "1. 'expr_mat'\n",
       "2. 'human_pwms_v2'\n",
       "3. 'level.novaseq'\n",
       "4. 'level.novaseq.renal_region_new'\n",
       "5. 'level.novaseq.rna'\n",
       "6. 'mats'\n",
       "7. 'motifs'\n",
       "8. 'novaseq.sub'\n",
       "9. 'novaseq.wnn'\n",
       "10. 'palette.novaseq'\n",
       "11. 'palette.novaseq.renal_region_new'\n",
       "12. 'palette.novaseq.rna'\n",
       "13. 'peak_mat'\n",
       "14. 'processed_data_dir'\n",
       "15. 'processed_dir'\n",
       "16. 'sout'\n",
       "\n",
       "\n"
      ],
      "text/plain": [
       " [1] \"expr_mat\"                         \"human_pwms_v2\"                   \n",
       " [3] \"level.novaseq\"                    \"level.novaseq.renal_region_new\"  \n",
       " [5] \"level.novaseq.rna\"                \"mats\"                            \n",
       " [7] \"motifs\"                           \"novaseq.sub\"                     \n",
       " [9] \"novaseq.wnn\"                      \"palette.novaseq\"                 \n",
       "[11] \"palette.novaseq.renal_region_new\" \"palette.novaseq.rna\"             \n",
       "[13] \"peak_mat\"                         \"processed_data_dir\"              \n",
       "[15] \"processed_dir\"                    \"sout\"                            "
      ]
     },
     "metadata": {},
     "output_type": "display_data"
    }
   ],
   "source": [
    "ls()"
   ]
  },
  {
   "cell_type": "code",
   "execution_count": 21,
   "id": "0ecb5419",
   "metadata": {},
   "outputs": [
    {
     "data": {
      "text/html": [
       "'../../processed_data/RENIN'"
      ],
      "text/latex": [
       "'../../processed\\_data/RENIN'"
      ],
      "text/markdown": [
       "'../../processed_data/RENIN'"
      ],
      "text/plain": [
       "[1] \"../../processed_data/RENIN\""
      ]
     },
     "metadata": {},
     "output_type": "display_data"
    }
   ],
   "source": [
    "processed_dir"
   ]
  },
  {
   "cell_type": "markdown",
   "id": "f97bb350",
   "metadata": {},
   "source": [
    "### save variables needed for the following steps"
   ]
  },
  {
   "cell_type": "code",
   "execution_count": 22,
   "id": "49771e4d",
   "metadata": {},
   "outputs": [
    {
     "data": {
      "text/plain": [
       "[1] \"2023-06-28 16:11:20 CDT\""
      ]
     },
     "metadata": {},
     "output_type": "display_data"
    },
    {
     "data": {
      "text/plain": [
       "[1] \"2023-06-28 16:49:17 CDT\""
      ]
     },
     "metadata": {},
     "output_type": "display_data"
    }
   ],
   "source": [
    "Sys.time()\n",
    "save(list = c(\"novaseq.sub\", \"expr_mat\", \"peak_mat\",\n",
    "             'level.novaseq.rna', 'palette.novaseq.rna',\n",
    "             'level.novaseq', 'palette.novaseq',\n",
    "             'level.novaseq.renal_region_new', 'palette.novaseq.renal_region_new'), \n",
    "     file = file.path(processed_dir, \"RENIN_324701_cells_preprocess.RData\"), compress = T)\n",
    "Sys.time()"
   ]
  },
  {
   "cell_type": "code",
   "execution_count": null,
   "id": "1616fedc",
   "metadata": {},
   "outputs": [],
   "source": []
  },
  {
   "cell_type": "code",
   "execution_count": 23,
   "id": "61b18f71",
   "metadata": {},
   "outputs": [
    {
     "data": {
      "text/plain": [
       "R version 4.2.2 (2022-10-31)\n",
       "Platform: x86_64-pc-linux-gnu (64-bit)\n",
       "Running under: Ubuntu 20.04.2 LTS\n",
       "\n",
       "Matrix products: default\n",
       "BLAS:   /usr/lib/x86_64-linux-gnu/blas/libblas.so.3.9.0\n",
       "LAPACK: /usr/lib/x86_64-linux-gnu/lapack/liblapack.so.3.9.0\n",
       "\n",
       "locale:\n",
       " [1] LC_CTYPE=en_US.UTF-8       LC_NUMERIC=C              \n",
       " [3] LC_TIME=en_US.UTF-8        LC_COLLATE=en_US.UTF-8    \n",
       " [5] LC_MONETARY=en_US.UTF-8    LC_MESSAGES=en_US.UTF-8   \n",
       " [7] LC_PAPER=en_US.UTF-8       LC_NAME=C                 \n",
       " [9] LC_ADDRESS=C               LC_TELEPHONE=C            \n",
       "[11] LC_MEASUREMENT=en_US.UTF-8 LC_IDENTIFICATION=C       \n",
       "\n",
       "attached base packages:\n",
       "[1] parallel  stats4    stats     graphics  grDevices utils     datasets \n",
       "[8] methods   base     \n",
       "\n",
       "other attached packages:\n",
       " [1] BSgenome.Hsapiens.UCSC.hg19_1.4.3 BSgenome_1.60.0                  \n",
       " [3] rtracklayer_1.52.0                Biostrings_2.60.0                \n",
       " [5] XVector_0.32.0                    chromVARmotifs_0.2.0             \n",
       " [7] SingleCellExperiment_1.14.1       SummarizedExperiment_1.28.0      \n",
       " [9] Biobase_2.52.0                    GenomicRanges_1.44.0             \n",
       "[11] GenomeInfoDb_1.34.9               IRanges_2.26.0                   \n",
       "[13] S4Vectors_0.36.2                  BiocGenerics_0.38.0              \n",
       "[15] MatrixGenerics_1.4.0              matrixStats_0.59.0               \n",
       "[17] VISION_2.1.0                      Matrix_1.3-4                     \n",
       "[19] forcats_0.5.1                     stringr_1.4.0                    \n",
       "[21] dplyr_1.0.9                       purrr_0.3.4                      \n",
       "[23] readr_2.1.2                       tidyr_1.2.0                      \n",
       "[25] tibble_3.1.8                      ggplot2_3.4.1                    \n",
       "[27] tidyverse_1.3.2                   harmony_0.1.0                    \n",
       "[29] Rcpp_1.0.10                       RENIN_1.0                        \n",
       "[31] SeuratWrappers_0.3.0              Signac_1.2.1                     \n",
       "[33] sp_1.5-0                          SeuratObject_4.1.0               \n",
       "[35] Seurat_4.1.1                     \n",
       "\n",
       "loaded via a namespace (and not attached):\n",
       "  [1] SnowballC_0.7.0             pbdZMQ_0.3-9               \n",
       "  [3] scattermore_0.7             R.methodsS3_1.8.2          \n",
       "  [5] bit64_4.0.5                 irlba_2.3.5                \n",
       "  [7] DelayedArray_0.18.0         R.utils_2.12.0             \n",
       "  [9] data.table_1.14.0           rpart_4.1-15               \n",
       " [11] KEGGREST_1.32.0             TFBSTools_1.30.0           \n",
       " [13] RCurl_1.98-1.8              generics_0.1.3             \n",
       " [15] cowplot_1.1.1               RSQLite_2.2.7              \n",
       " [17] RANN_2.6.1                  future_1.27.0              \n",
       " [19] wordspace_0.2-7             bit_4.0.4                  \n",
       " [21] tzdb_0.3.0                  spatstat.data_3.0-0        \n",
       " [23] xml2_1.3.3                  lubridate_1.8.0            \n",
       " [25] httpuv_1.6.1                assertthat_0.2.1           \n",
       " [27] DirichletMultinomial_1.34.0 viridis_0.6.2              \n",
       " [29] gargle_1.2.0                hms_1.1.1                  \n",
       " [31] evaluate_0.15               promises_1.2.0.1           \n",
       " [33] restfulr_0.0.13             fansi_1.0.3                \n",
       " [35] caTools_1.18.2              dbplyr_2.1.1               \n",
       " [37] readxl_1.4.0                igraph_1.3.4               \n",
       " [39] DBI_1.1.1                   htmlwidgets_1.5.3          \n",
       " [41] sparsesvd_0.2               spatstat.geom_3.0-3        \n",
       " [43] googledrive_2.0.0           ellipsis_0.3.2             \n",
       " [45] backports_1.2.1             permute_0.9-7              \n",
       " [47] annotate_1.70.0             deldir_1.0-6               \n",
       " [49] vctrs_0.6.0                 remotes_2.4.2              \n",
       " [51] ROCR_1.0-11                 abind_1.4-5                \n",
       " [53] cachem_1.0.6                withr_2.5.0                \n",
       " [55] ggforce_0.3.3               progressr_0.10.1           \n",
       " [57] sctransform_0.3.3           vegan_2.6-2                \n",
       " [59] GenomicAlignments_1.28.0    mclust_5.4.10              \n",
       " [61] goftest_1.2-2               cluster_2.1.1              \n",
       " [63] IRdisplay_1.1               lazyeval_0.2.2             \n",
       " [65] seqLogo_1.58.0              crayon_1.5.1               \n",
       " [67] webutils_1.1                pkgconfig_2.0.3            \n",
       " [69] slam_0.1-48                 tweenr_1.0.2               \n",
       " [71] nlme_3.1-152                rlang_1.1.0                \n",
       " [73] globals_0.15.1              lifecycle_1.0.3            \n",
       " [75] miniUI_0.1.1.1              loe_1.1                    \n",
       " [77] modelr_0.1.8                rsvd_1.0.5                 \n",
       " [79] cellranger_1.1.0            polyclip_1.10-0            \n",
       " [81] lmtest_0.9-38               ggseqlogo_0.1              \n",
       " [83] IRkernel_1.3.2.9000         zoo_1.8-9                  \n",
       " [85] reprex_2.0.1                base64enc_0.1-3            \n",
       " [87] ggridges_0.5.3              googlesheets4_1.0.0        \n",
       " [89] rjson_0.2.20                png_0.1-7                  \n",
       " [91] viridisLite_0.4.0           bitops_1.0-7               \n",
       " [93] R.oo_1.25.0                 KernSmooth_2.23-18         \n",
       " [95] blob_1.2.1                  parallelly_1.32.1          \n",
       " [97] iotools_0.3-2               CNEr_1.28.0                \n",
       " [99] scales_1.2.0                memoise_2.0.1              \n",
       "[101] magrittr_2.0.3              plyr_1.8.7                 \n",
       "[103] ica_1.0-2                   zlibbioc_1.38.0            \n",
       "[105] compiler_4.2.2              BiocIO_1.2.0               \n",
       "[107] RColorBrewer_1.1-3          fitdistrplus_1.1-5         \n",
       "[109] Rsamtools_2.8.0             cli_3.6.0                  \n",
       "[111] listenv_0.8.0               patchwork_1.1.1            \n",
       "[113] pbapply_1.5-0               MASS_7.3-53.1              \n",
       "[115] mgcv_1.8-35                 tidyselect_1.1.1           \n",
       "[117] stringi_1.7.8               swagger_3.33.1             \n",
       "[119] yaml_2.3.5                  ggrepel_0.9.1              \n",
       "[121] pbmcapply_1.5.1             grid_4.2.2                 \n",
       "[123] fastmatch_1.1-0             tools_4.2.2                \n",
       "[125] future.apply_1.7.0          uuid_1.1-0                 \n",
       "[127] TFMPvalue_0.0.8             logging_0.10-108           \n",
       "[129] lsa_0.73.2                  gridExtra_2.3              \n",
       "[131] farver_2.1.1                Rtsne_0.16                 \n",
       "[133] digest_0.6.29               BiocManager_1.30.15        \n",
       "[135] rgeos_0.5-9                 pracma_2.3.8               \n",
       "[137] shiny_1.6.0                 monocle3_1.0.0             \n",
       "[139] qlcMatrix_0.9.7             motifmatchr_1.14.0         \n",
       "[141] broom_1.0.0                 later_1.2.0                \n",
       "[143] RcppAnnoy_0.0.18            AnnotationDbi_1.54.0       \n",
       "[145] httr_1.4.3                  colorspace_2.0-3           \n",
       "[147] rvest_1.0.2                 XML_3.99-0.6               \n",
       "[149] fs_1.5.2                    tensor_1.5                 \n",
       "[151] reticulate_1.20             splines_4.2.2              \n",
       "[153] uwot_0.1.10                 RcppRoll_0.3.0             \n",
       "[155] spatstat.utils_3.0-1        plotly_4.9.3               \n",
       "[157] xtable_1.8-4                poweRlaw_0.70.6            \n",
       "[159] jsonlite_1.8.0              plumber_1.2.0              \n",
       "[161] R6_2.5.1                    pillar_1.8.0               \n",
       "[163] htmltools_0.5.3             mime_0.12                  \n",
       "[165] glue_1.6.2                  fastmap_1.1.0              \n",
       "[167] BiocParallel_1.26.0         codetools_0.2-18           \n",
       "[169] utf8_1.2.2                  lattice_0.20-41            \n",
       "[171] spatstat.sparse_3.0-0       leiden_0.3.8               \n",
       "[173] gtools_3.9.2                GO.db_3.13.0               \n",
       "[175] survival_3.2-10             repr_1.1.6                 \n",
       "[177] docopt_0.7.1                fastICA_1.2-3              \n",
       "[179] munsell_0.5.0               GenomeInfoDbData_1.2.6     \n",
       "[181] haven_2.5.0                 reshape2_1.4.4             \n",
       "[183] gtable_0.3.0                spatstat.core_2.1-2        "
      ]
     },
     "metadata": {},
     "output_type": "display_data"
    }
   ],
   "source": [
    "sessionInfo()"
   ]
  },
  {
   "cell_type": "code",
   "execution_count": 24,
   "id": "9f0390b1",
   "metadata": {},
   "outputs": [
    {
     "data": {
      "text/plain": [
       "[1] \"2023-06-28 16:49:17 CDT\""
      ]
     },
     "metadata": {},
     "output_type": "display_data"
    }
   ],
   "source": [
    "Sys.time()"
   ]
  },
  {
   "cell_type": "code",
   "execution_count": null,
   "id": "c10d63c0",
   "metadata": {},
   "outputs": [],
   "source": []
  }
 ],
 "metadata": {
  "kernelspec": {
   "display_name": "R",
   "language": "R",
   "name": "ir"
  },
  "language_info": {
   "codemirror_mode": "r",
   "file_extension": ".r",
   "mimetype": "text/x-r-source",
   "name": "R",
   "pygments_lexer": "r",
   "version": "4.2.2"
  }
 },
 "nbformat": 4,
 "nbformat_minor": 5
}
