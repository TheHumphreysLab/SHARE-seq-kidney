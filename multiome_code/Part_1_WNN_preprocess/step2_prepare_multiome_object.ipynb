{
 "cells": [
  {
   "cell_type": "markdown",
   "id": "3481e4c3",
   "metadata": {},
   "source": [
    "### logs"
   ]
  },
  {
   "cell_type": "markdown",
   "id": "87c3eb74",
   "metadata": {},
   "source": [
    "**20230612**:\\\n",
    "\\\n",
    "**DTL/ATL** to **tL-TAL**，\n",
    "**CoD1/2/3** to **tL1**，\n",
    "**CoD4** to **tL2**，\n",
    "**Mes** to **JGA**\\\n",
    "\\\n",
    "for **celltype5_rna (RNA)**, **celltype_atac5 (ATAC)**, and **celltype (merged)** columns.\\\n",
    "\\\n",
    "Updated color Palette\\\n",
    "\\\n",
    "for **RNA**\\\n",
    "RNA: c('JGA', 'POD', 'PEC', 'PT', 'PT_dediff', 'PT_VCAM1', 'tL1','tL2','tL-TAL',\n",
    "                                                   'TAL1','TAL2', 'TAL3', 'DCT', 'CNT', 'PC1', 'PC2', 'ICA', 'ICB',\n",
    "       'Uro1', 'Uro2', 'ENDO', 'SMC1', 'SMC2', 'SMC3',\n",
    "       'Fib1', 'Fib2', 'Fib3', 'Ma', 'BT')\\\n",
    "c('#FF8933', '#00B5EB', '#0077BE', '#8DC71E', '#69B41E', '#013220',\n",
    "        '#936210', '#5E2A0F', '#C9F5E6','#128394', '#62CCCC', '#046494',\n",
    "       '#be658d', '#8a3e6a', '#6a3070', '#4c2564', '#617A2E', '#A57C00',\n",
    "       '#092092', '#1C3BAC', '#F9CC72', '#E97E88', '#F8D1CD', '#E15566',\n",
    "       '#E2062B', '#860111', '#B4041E', '#86DEBB', '#7D4729')\\\n",
    "\\\n",
    "for **ATAC**\\\n",
    "ATAC:\n",
    "c('POD/PEC', 'PT', 'PT_VCAM1', 'tL1','tL2','tL-TAL', 'TAL1', 'TAL2/3',\n",
    "                                                   'DCT', 'CNT', 'PC1', 'PC2', 'IC', 'Uro', 'ENDO', 'SMC',\n",
    "       'Fib1', 'Fib2', 'Fib3', 'Ma', 'BT')\\\n",
    "c('#00B5EB','#8DC71E', '#013220',\n",
    "'#936210', '#5E2A0F', '#C9F5E6',\n",
    "    '#128394','#046494',\n",
    " '#be658d','#8a3e6a', '#6a3070', '#4c2564',\n",
    " '#617A2E','#092092','#F9CC72', '#F8D1CD',\n",
    " '#E2062B', '#860111', '#B4041E',\n",
    " '#86DEBB', '#7D4729')"
   ]
  },
  {
   "cell_type": "code",
   "execution_count": null,
   "id": "03ac5d50",
   "metadata": {},
   "outputs": [],
   "source": []
  },
  {
   "cell_type": "markdown",
   "id": "71983686",
   "metadata": {},
   "source": [
    "### define RNA color palette"
   ]
  },
  {
   "cell_type": "code",
   "execution_count": 1,
   "id": "280810ea",
   "metadata": {},
   "outputs": [],
   "source": [
    "level.novaseq.rna <- c('JGA', 'POD', 'PEC', \n",
    "                       'PT', 'PT_dediff', 'PT_VCAM1', \n",
    "                       'tL1','tL2','tL-TAL', 'TAL1','TAL2', 'TAL3', \n",
    "                       'DCT', 'CNT', \n",
    "                       'PC1', 'PC2', \n",
    "                       'ICA', 'ICB', \n",
    "                       'Uro1', 'Uro2', \n",
    "                       'ENDO', \n",
    "                       'SMC1', 'SMC2', 'SMC3', \n",
    "                       'Fib1', 'Fib2', 'Fib3', \n",
    "                       'Ma', 'BT')\n",
    "\n",
    "palette.novaseq.rna <- c('#FF8933', '#00B5EB', '#0077BE', \n",
    "                         '#8DC71E', '#69B41E', '#013220',\n",
    "                         '#936210', '#5E2A0F', '#C9F5E6','#128394', '#62CCCC', '#046494',\n",
    "                         '#be658d', '#8a3e6a', \n",
    "                         '#6a3070', '#4c2564', \n",
    "                         '#617A2E', '#A57C00',\n",
    "                         '#092092', '#1C3BAC', \n",
    "                         '#F9CC72', \n",
    "                         '#E97E88', '#F8D1CD', '#E15566',\n",
    "                         '#E2062B', '#860111', '#B4041E', \n",
    "                         '#86DEBB', '#7D4729')"
   ]
  },
  {
   "cell_type": "markdown",
   "id": "0d6bd63c",
   "metadata": {},
   "source": [
    "### define ATAC color palette"
   ]
  },
  {
   "cell_type": "code",
   "execution_count": 2,
   "id": "9e26f7f1",
   "metadata": {},
   "outputs": [],
   "source": [
    "level.novaseq <- c('POD/PEC', 'PT', 'PT_VCAM1', \n",
    "                   'tL1','tL2','tL-TAL', 'TAL1', 'TAL2/3',           \n",
    "                   'DCT', 'CNT', \n",
    "                   'PC1', 'PC2', \n",
    "                   'IC', 'Uro', 'ENDO', 'SMC',\n",
    "                   'Fib1', 'Fib2', 'Fib3', \n",
    "                   'Ma', 'BT')\n",
    "\n",
    "palette.novaseq <- c('#00B5EB','#8DC71E', '#013220',\n",
    "                     '#936210', '#5E2A0F', '#C9F5E6', '#128394','#046494',\n",
    "                     '#be658d','#8a3e6a', \n",
    "                     '#6a3070', '#4c2564',\n",
    "                     '#617A2E','#092092','#F9CC72', '#F8D1CD',\n",
    "                     '#E2062B', '#860111', '#B4041E',\n",
    "                     '#86DEBB', '#7D4729')"
   ]
  },
  {
   "cell_type": "markdown",
   "id": "5b38e698",
   "metadata": {},
   "source": [
    "### define renal_region_new color palette"
   ]
  },
  {
   "cell_type": "code",
   "execution_count": 3,
   "id": "03849d77",
   "metadata": {},
   "outputs": [],
   "source": [
    "level.novaseq.renal_region_new  <- c(\"Cortex\", \"Medulla\", \"Papilla\", \"Renal Artery\", \"Ureter\")     # C/M/P/RA/U\n",
    "palette.novaseq.renal_region_new <- c('#4C9150','#7A339E','#E0AB3D','#CC2114','black')"
   ]
  },
  {
   "cell_type": "code",
   "execution_count": 4,
   "id": "0635bfa8",
   "metadata": {
    "vscode": {
     "languageId": "r"
    }
   },
   "outputs": [
    {
     "name": "stderr",
     "output_type": "stream",
     "text": [
      "Attaching SeuratObject\n",
      "\n",
      "Attaching sp\n",
      "\n",
      "\n",
      "Attaching package: ‘Signac’\n",
      "\n",
      "\n",
      "The following object is masked from ‘package:Seurat’:\n",
      "\n",
      "    FoldChange\n",
      "\n",
      "\n",
      "Loading required package: Rcpp\n",
      "\n"
     ]
    }
   ],
   "source": [
    "library(Seurat)\n",
    "library(Signac)\n",
    "library(SeuratWrappers)\n",
    "library(SeuratObject)\n",
    "# library(RENIN)\n",
    "library(harmony)"
   ]
  },
  {
   "cell_type": "code",
   "execution_count": 5,
   "id": "a7b2269f",
   "metadata": {
    "vscode": {
     "languageId": "r"
    }
   },
   "outputs": [
    {
     "data": {
      "text/plain": [
       "[1] \"2023-06-27 22:57:06 CDT\""
      ]
     },
     "metadata": {},
     "output_type": "display_data"
    }
   ],
   "source": [
    "Sys.time()"
   ]
  },
  {
   "cell_type": "code",
   "execution_count": 6,
   "id": "a96a2aca",
   "metadata": {
    "vscode": {
     "languageId": "r"
    }
   },
   "outputs": [],
   "source": [
    "# setwd(\"/home/data/dianli/projects/hli_SHAREseq-region-NovaseqS4/ATAC_merged_output/SHAREseq_3_batches/20230510/code\")"
   ]
  },
  {
   "cell_type": "markdown",
   "id": "2e86a309",
   "metadata": {},
   "source": [
    "### load ATAC object"
   ]
  },
  {
   "cell_type": "code",
   "execution_count": 17,
   "id": "df4000c7",
   "metadata": {
    "vscode": {
     "languageId": "r"
    }
   },
   "outputs": [
    {
     "data": {
      "text/plain": [
       "[1] \"2023-06-27 22:57:43 CDT\""
      ]
     },
     "metadata": {},
     "output_type": "display_data"
    },
    {
     "data": {
      "text/plain": [
       "An object of class Seurat \n",
       "209141 features across 401875 samples within 2 assays \n",
       "Active assay: peaks (189184 features, 189184 variable features)\n",
       " 1 other assay present: RNA\n",
       " 3 dimensional reductions calculated: lsi, harmony, umap"
      ]
     },
     "metadata": {},
     "output_type": "display_data"
    },
    {
     "data": {
      "text/plain": [
       "[1] \"2023-06-27 23:01:40 CDT\""
      ]
     },
     "metadata": {},
     "output_type": "display_data"
    }
   ],
   "source": [
    "Sys.time()\n",
    "load(\"../../data/20221221_findcluster_update_celltype_atac5.Rdata\")\n",
    "novaseq\n",
    "Sys.time()"
   ]
  },
  {
   "cell_type": "code",
   "execution_count": 18,
   "id": "a6e22773",
   "metadata": {
    "vscode": {
     "languageId": "r"
    }
   },
   "outputs": [
    {
     "data": {
      "text/html": [
       "<style>\n",
       ".list-inline {list-style: none; margin:0; padding: 0}\n",
       ".list-inline>li {display: inline-block}\n",
       ".list-inline>li:not(:last-child)::after {content: \"\\00b7\"; padding: 0 .5ex}\n",
       "</style>\n",
       "<ol class=list-inline><li>'orig.ident'</li><li>'nCount_peaks'</li><li>'nFeature_peaks'</li><li>'nucleosome_signal'</li><li>'nucleosome_percentile'</li><li>'TSS.enrichment'</li><li>'TSS.percentile'</li><li>'high.tss'</li><li>'nucleosome_group'</li><li>'fragments'</li><li>'reads_count'</li><li>'mononucleosomal'</li><li>'nucleosome_free'</li><li>'FRiP'</li><li>'blacklist_fraction'</li><li>'sample_id'</li><li>'sample_id_new'</li><li>'patient_id'</li><li>'batch'</li><li>'atac_prep_date'</li><li>'renal_region'</li><li>'renal_region_new'</li><li>'n_genes_by_counts'</li><li>'total_counts'</li><li>'total_counts_mt'</li><li>'pct_counts_mt'</li><li>'R1_id'</li><li>'rna_barcode'</li><li>'doublet_score'</li><li>'nCount_RNA'</li><li>'nFeature_RNA'</li><li>'seurat_clusters'</li><li>'peaks_snn_res3'</li><li>'peaks_snn_res4'</li><li>'celltype_atac5'</li><li>'celltype'</li></ol>\n"
      ],
      "text/latex": [
       "\\begin{enumerate*}\n",
       "\\item 'orig.ident'\n",
       "\\item 'nCount\\_peaks'\n",
       "\\item 'nFeature\\_peaks'\n",
       "\\item 'nucleosome\\_signal'\n",
       "\\item 'nucleosome\\_percentile'\n",
       "\\item 'TSS.enrichment'\n",
       "\\item 'TSS.percentile'\n",
       "\\item 'high.tss'\n",
       "\\item 'nucleosome\\_group'\n",
       "\\item 'fragments'\n",
       "\\item 'reads\\_count'\n",
       "\\item 'mononucleosomal'\n",
       "\\item 'nucleosome\\_free'\n",
       "\\item 'FRiP'\n",
       "\\item 'blacklist\\_fraction'\n",
       "\\item 'sample\\_id'\n",
       "\\item 'sample\\_id\\_new'\n",
       "\\item 'patient\\_id'\n",
       "\\item 'batch'\n",
       "\\item 'atac\\_prep\\_date'\n",
       "\\item 'renal\\_region'\n",
       "\\item 'renal\\_region\\_new'\n",
       "\\item 'n\\_genes\\_by\\_counts'\n",
       "\\item 'total\\_counts'\n",
       "\\item 'total\\_counts\\_mt'\n",
       "\\item 'pct\\_counts\\_mt'\n",
       "\\item 'R1\\_id'\n",
       "\\item 'rna\\_barcode'\n",
       "\\item 'doublet\\_score'\n",
       "\\item 'nCount\\_RNA'\n",
       "\\item 'nFeature\\_RNA'\n",
       "\\item 'seurat\\_clusters'\n",
       "\\item 'peaks\\_snn\\_res3'\n",
       "\\item 'peaks\\_snn\\_res4'\n",
       "\\item 'celltype\\_atac5'\n",
       "\\item 'celltype'\n",
       "\\end{enumerate*}\n"
      ],
      "text/markdown": [
       "1. 'orig.ident'\n",
       "2. 'nCount_peaks'\n",
       "3. 'nFeature_peaks'\n",
       "4. 'nucleosome_signal'\n",
       "5. 'nucleosome_percentile'\n",
       "6. 'TSS.enrichment'\n",
       "7. 'TSS.percentile'\n",
       "8. 'high.tss'\n",
       "9. 'nucleosome_group'\n",
       "10. 'fragments'\n",
       "11. 'reads_count'\n",
       "12. 'mononucleosomal'\n",
       "13. 'nucleosome_free'\n",
       "14. 'FRiP'\n",
       "15. 'blacklist_fraction'\n",
       "16. 'sample_id'\n",
       "17. 'sample_id_new'\n",
       "18. 'patient_id'\n",
       "19. 'batch'\n",
       "20. 'atac_prep_date'\n",
       "21. 'renal_region'\n",
       "22. 'renal_region_new'\n",
       "23. 'n_genes_by_counts'\n",
       "24. 'total_counts'\n",
       "25. 'total_counts_mt'\n",
       "26. 'pct_counts_mt'\n",
       "27. 'R1_id'\n",
       "28. 'rna_barcode'\n",
       "29. 'doublet_score'\n",
       "30. 'nCount_RNA'\n",
       "31. 'nFeature_RNA'\n",
       "32. 'seurat_clusters'\n",
       "33. 'peaks_snn_res3'\n",
       "34. 'peaks_snn_res4'\n",
       "35. 'celltype_atac5'\n",
       "36. 'celltype'\n",
       "\n",
       "\n"
      ],
      "text/plain": [
       " [1] \"orig.ident\"            \"nCount_peaks\"          \"nFeature_peaks\"       \n",
       " [4] \"nucleosome_signal\"     \"nucleosome_percentile\" \"TSS.enrichment\"       \n",
       " [7] \"TSS.percentile\"        \"high.tss\"              \"nucleosome_group\"     \n",
       "[10] \"fragments\"             \"reads_count\"           \"mononucleosomal\"      \n",
       "[13] \"nucleosome_free\"       \"FRiP\"                  \"blacklist_fraction\"   \n",
       "[16] \"sample_id\"             \"sample_id_new\"         \"patient_id\"           \n",
       "[19] \"batch\"                 \"atac_prep_date\"        \"renal_region\"         \n",
       "[22] \"renal_region_new\"      \"n_genes_by_counts\"     \"total_counts\"         \n",
       "[25] \"total_counts_mt\"       \"pct_counts_mt\"         \"R1_id\"                \n",
       "[28] \"rna_barcode\"           \"doublet_score\"         \"nCount_RNA\"           \n",
       "[31] \"nFeature_RNA\"          \"seurat_clusters\"       \"peaks_snn_res3\"       \n",
       "[34] \"peaks_snn_res4\"        \"celltype_atac5\"        \"celltype\"             "
      ]
     },
     "metadata": {},
     "output_type": "display_data"
    }
   ],
   "source": [
    "colnames(novaseq@meta.data)"
   ]
  },
  {
   "cell_type": "markdown",
   "id": "b417720f",
   "metadata": {},
   "source": [
    "### remove RNA slot because it's calculated by gene_activity function "
   ]
  },
  {
   "cell_type": "code",
   "execution_count": 19,
   "id": "b4d37bd7",
   "metadata": {
    "vscode": {
     "languageId": "r"
    }
   },
   "outputs": [
    {
     "data": {
      "text/plain": [
       "An object of class Seurat \n",
       "189184 features across 401875 samples within 1 assay \n",
       "Active assay: peaks (189184 features, 189184 variable features)\n",
       " 3 dimensional reductions calculated: lsi, harmony, umap"
      ]
     },
     "metadata": {},
     "output_type": "display_data"
    }
   ],
   "source": [
    "novaseq[[\"RNA\"]]  <- NULL\n",
    "novaseq"
   ]
  },
  {
   "cell_type": "markdown",
   "id": "359a8398",
   "metadata": {
    "vscode": {
     "languageId": "r"
    }
   },
   "source": [
    "### remove lsi, harmony, umap reductions because they will be regenerated"
   ]
  },
  {
   "cell_type": "code",
   "execution_count": 20,
   "id": "ea1f3c33",
   "metadata": {},
   "outputs": [],
   "source": [
    "novaseq[[\"lsi\"]]  <-  NULL\n",
    "novaseq[[\"harmony\"]]  <- NULL\n",
    "novaseq[[\"umap\"]]  <-  NULL"
   ]
  },
  {
   "cell_type": "code",
   "execution_count": 21,
   "id": "c1b682c5",
   "metadata": {},
   "outputs": [
    {
     "data": {
      "text/plain": [
       "An object of class Seurat \n",
       "189184 features across 401875 samples within 1 assay \n",
       "Active assay: peaks (189184 features, 189184 variable features)"
      ]
     },
     "metadata": {},
     "output_type": "display_data"
    }
   ],
   "source": [
    "novaseq"
   ]
  },
  {
   "cell_type": "markdown",
   "id": "a972ec25",
   "metadata": {},
   "source": [
    "### load RNA object"
   ]
  },
  {
   "cell_type": "code",
   "execution_count": 22,
   "id": "826ace62",
   "metadata": {
    "vscode": {
     "languageId": "r"
    }
   },
   "outputs": [
    {
     "data": {
      "text/plain": [
       "[1] \"2023-06-27 23:01:41 CDT\""
      ]
     },
     "metadata": {},
     "output_type": "display_data"
    },
    {
     "data": {
      "text/plain": [
       "An object of class Seurat \n",
       "48338 features across 446267 samples within 1 assay \n",
       "Active assay: RNA (48338 features, 0 variable features)\n",
       " 3 dimensional reductions calculated: pca, pca_first, umap"
      ]
     },
     "metadata": {},
     "output_type": "display_data"
    },
    {
     "data": {
      "text/plain": [
       "[1] \"2023-06-27 23:02:38 CDT\""
      ]
     },
     "metadata": {},
     "output_type": "display_data"
    }
   ],
   "source": [
    "Sys.time()\n",
    "load(\"../../data/scanpy17_cleaned_20221123_RNA_446267cells_raw.Rdata\")\n",
    "novaseq.rna\n",
    "Sys.time()"
   ]
  },
  {
   "cell_type": "markdown",
   "id": "e37c7413",
   "metadata": {},
   "source": [
    "### remove pca, pca_first, and umap because they will be regenerated"
   ]
  },
  {
   "cell_type": "code",
   "execution_count": 23,
   "id": "3c4f8099",
   "metadata": {},
   "outputs": [],
   "source": [
    "novaseq.rna[[\"pca\"]] <- NULL\n",
    "novaseq.rna[[\"pca_first\"]] <- NULL\n",
    "novaseq.rna[[\"umap\"]] <- NULL"
   ]
  },
  {
   "cell_type": "code",
   "execution_count": 24,
   "id": "c0b9e5e8",
   "metadata": {},
   "outputs": [
    {
     "data": {
      "text/plain": [
       "An object of class Seurat \n",
       "48338 features across 446267 samples within 1 assay \n",
       "Active assay: RNA (48338 features, 0 variable features)"
      ]
     },
     "metadata": {},
     "output_type": "display_data"
    }
   ],
   "source": [
    "novaseq.rna"
   ]
  },
  {
   "cell_type": "markdown",
   "id": "2d6afd51",
   "metadata": {},
   "source": [
    "### check celltype5_rna, celltype_atac5 column distributions"
   ]
  },
  {
   "cell_type": "code",
   "execution_count": 25,
   "id": "5d78c7ab",
   "metadata": {},
   "outputs": [
    {
     "data": {
      "text/html": [
       "'character'"
      ],
      "text/latex": [
       "'character'"
      ],
      "text/markdown": [
       "'character'"
      ],
      "text/plain": [
       "[1] \"character\""
      ]
     },
     "metadata": {},
     "output_type": "display_data"
    },
    {
     "data": {
      "text/plain": [
       "\n",
       "      BT      CNT     CoD1   CoD2/3     CoD4      DCT  DTL/ATL    Endo1 \n",
       "    7781    12831    13613    14449    10205    22644    23850    15987 \n",
       "   Endo2     Fib1     Fib2     Fib3       IC       Ma      PC1      PC2 \n",
       "    3569     5828    11733      559    17383     5325    19049     4936 \n",
       " POD/PEC       PT PT_VCAM1      SMC     TAL1   TAL2/3      Uro \n",
       "    2184   121675    15998     5623    39742    22900     4011 "
      ]
     },
     "metadata": {},
     "output_type": "display_data"
    },
    {
     "data": {
      "text/html": [
       "<style>\n",
       ".list-inline {list-style: none; margin:0; padding: 0}\n",
       ".list-inline>li {display: inline-block}\n",
       ".list-inline>li:not(:last-child)::after {content: \"\\00b7\"; padding: 0 .5ex}\n",
       "</style>\n",
       "<ol class=list-inline><li>'CoD1'</li><li>'PT_VCAM1'</li><li>'Endo2'</li><li>'PT'</li><li>'PC1'</li><li>'TAL1'</li><li>'CNT'</li><li>'DTL/ATL'</li><li>'IC'</li><li>'CoD4'</li><li>'Fib1'</li><li>'Fib2'</li><li>'DCT'</li><li>'Endo1'</li><li>'TAL2/3'</li><li>'CoD2/3'</li><li>'Uro'</li><li>'SMC'</li><li>'BT'</li><li>'PC2'</li><li>'Ma'</li><li>'Fib3'</li><li>'POD/PEC'</li></ol>\n"
      ],
      "text/latex": [
       "\\begin{enumerate*}\n",
       "\\item 'CoD1'\n",
       "\\item 'PT\\_VCAM1'\n",
       "\\item 'Endo2'\n",
       "\\item 'PT'\n",
       "\\item 'PC1'\n",
       "\\item 'TAL1'\n",
       "\\item 'CNT'\n",
       "\\item 'DTL/ATL'\n",
       "\\item 'IC'\n",
       "\\item 'CoD4'\n",
       "\\item 'Fib1'\n",
       "\\item 'Fib2'\n",
       "\\item 'DCT'\n",
       "\\item 'Endo1'\n",
       "\\item 'TAL2/3'\n",
       "\\item 'CoD2/3'\n",
       "\\item 'Uro'\n",
       "\\item 'SMC'\n",
       "\\item 'BT'\n",
       "\\item 'PC2'\n",
       "\\item 'Ma'\n",
       "\\item 'Fib3'\n",
       "\\item 'POD/PEC'\n",
       "\\end{enumerate*}\n"
      ],
      "text/markdown": [
       "1. 'CoD1'\n",
       "2. 'PT_VCAM1'\n",
       "3. 'Endo2'\n",
       "4. 'PT'\n",
       "5. 'PC1'\n",
       "6. 'TAL1'\n",
       "7. 'CNT'\n",
       "8. 'DTL/ATL'\n",
       "9. 'IC'\n",
       "10. 'CoD4'\n",
       "11. 'Fib1'\n",
       "12. 'Fib2'\n",
       "13. 'DCT'\n",
       "14. 'Endo1'\n",
       "15. 'TAL2/3'\n",
       "16. 'CoD2/3'\n",
       "17. 'Uro'\n",
       "18. 'SMC'\n",
       "19. 'BT'\n",
       "20. 'PC2'\n",
       "21. 'Ma'\n",
       "22. 'Fib3'\n",
       "23. 'POD/PEC'\n",
       "\n",
       "\n"
      ],
      "text/plain": [
       " [1] \"CoD1\"     \"PT_VCAM1\" \"Endo2\"    \"PT\"       \"PC1\"      \"TAL1\"    \n",
       " [7] \"CNT\"      \"DTL/ATL\"  \"IC\"       \"CoD4\"     \"Fib1\"     \"Fib2\"    \n",
       "[13] \"DCT\"      \"Endo1\"    \"TAL2/3\"   \"CoD2/3\"   \"Uro\"      \"SMC\"     \n",
       "[19] \"BT\"       \"PC2\"      \"Ma\"       \"Fib3\"     \"POD/PEC\" "
      ]
     },
     "metadata": {},
     "output_type": "display_data"
    }
   ],
   "source": [
    "class(novaseq$celltype_atac5)\n",
    "table(novaseq$celltype_atac5)\n",
    "unique(novaseq$celltype_atac5)"
   ]
  },
  {
   "cell_type": "code",
   "execution_count": 26,
   "id": "4a233314",
   "metadata": {},
   "outputs": [
    {
     "data": {
      "text/html": [
       "'factor'"
      ],
      "text/latex": [
       "'factor'"
      ],
      "text/markdown": [
       "'factor'"
      ],
      "text/plain": [
       "[1] \"factor\""
      ]
     },
     "metadata": {},
     "output_type": "display_data"
    },
    {
     "data": {
      "text/plain": [
       "\n",
       "      Mes       POD       PEC        PT PT_dediff  PT_VCAM1   DTL/ATL      TAL1 \n",
       "     3939      4321      1438     82341     36802      9766     24464     42803 \n",
       "     TAL2      TAL3       DCT       CNT       PC1       PC2       ICA       ICB \n",
       "    30662      9887     19226     17255     21757      5346     14483      5654 \n",
       "     CoD1      CoD2      CoD3      CoD4      Uro1      Uro2      ENDO      SMC1 \n",
       "    11652     11204     10662     14203      5329      2063     18592      6464 \n",
       "     SMC2      SMC3      Fib1      Fib2      Fib3        Ma        BT \n",
       "      936       174      5556     10749      4428      5836      8275 "
      ]
     },
     "metadata": {},
     "output_type": "display_data"
    },
    {
     "data": {
      "text/html": [
       "<style>\n",
       ".list-inline {list-style: none; margin:0; padding: 0}\n",
       ".list-inline>li {display: inline-block}\n",
       ".list-inline>li:not(:last-child)::after {content: \"\\00b7\"; padding: 0 .5ex}\n",
       "</style>\n",
       "<ol class=list-inline><li>CNT</li><li>CoD2</li><li>DCT</li><li>TAL2</li><li>PT</li><li>PT_dediff</li><li>PT_VCAM1</li><li>PC2</li><li>BT</li><li>CoD4</li><li>ENDO</li><li>Ma</li><li>PC1</li><li>TAL3</li><li>SMC1</li><li>ICA</li><li>Fib1</li><li>ICB</li><li>CoD1</li><li>POD</li><li>Mes</li><li>DTL/ATL</li><li>TAL1</li><li>Uro1</li><li>Fib3</li><li>Fib2</li><li>CoD3</li><li>PEC</li><li>Uro2</li><li>SMC3</li><li>SMC2</li></ol>\n",
       "\n",
       "<details>\n",
       "\t<summary style=display:list-item;cursor:pointer>\n",
       "\t\t<strong>Levels</strong>:\n",
       "\t</summary>\n",
       "\t<style>\n",
       "\t.list-inline {list-style: none; margin:0; padding: 0}\n",
       "\t.list-inline>li {display: inline-block}\n",
       "\t.list-inline>li:not(:last-child)::after {content: \"\\00b7\"; padding: 0 .5ex}\n",
       "\t</style>\n",
       "\t<ol class=list-inline><li>'Mes'</li><li>'POD'</li><li>'PEC'</li><li>'PT'</li><li>'PT_dediff'</li><li>'PT_VCAM1'</li><li>'DTL/ATL'</li><li>'TAL1'</li><li>'TAL2'</li><li>'TAL3'</li><li>'DCT'</li><li>'CNT'</li><li>'PC1'</li><li>'PC2'</li><li>'ICA'</li><li>'ICB'</li><li>'CoD1'</li><li>'CoD2'</li><li>'CoD3'</li><li>'CoD4'</li><li>'Uro1'</li><li>'Uro2'</li><li>'ENDO'</li><li>'SMC1'</li><li>'SMC2'</li><li>'SMC3'</li><li>'Fib1'</li><li>'Fib2'</li><li>'Fib3'</li><li>'Ma'</li><li>'BT'</li></ol>\n",
       "</details>"
      ],
      "text/latex": [
       "\\begin{enumerate*}\n",
       "\\item CNT\n",
       "\\item CoD2\n",
       "\\item DCT\n",
       "\\item TAL2\n",
       "\\item PT\n",
       "\\item PT\\_dediff\n",
       "\\item PT\\_VCAM1\n",
       "\\item PC2\n",
       "\\item BT\n",
       "\\item CoD4\n",
       "\\item ENDO\n",
       "\\item Ma\n",
       "\\item PC1\n",
       "\\item TAL3\n",
       "\\item SMC1\n",
       "\\item ICA\n",
       "\\item Fib1\n",
       "\\item ICB\n",
       "\\item CoD1\n",
       "\\item POD\n",
       "\\item Mes\n",
       "\\item DTL/ATL\n",
       "\\item TAL1\n",
       "\\item Uro1\n",
       "\\item Fib3\n",
       "\\item Fib2\n",
       "\\item CoD3\n",
       "\\item PEC\n",
       "\\item Uro2\n",
       "\\item SMC3\n",
       "\\item SMC2\n",
       "\\end{enumerate*}\n",
       "\n",
       "\\emph{Levels}: \\begin{enumerate*}\n",
       "\\item 'Mes'\n",
       "\\item 'POD'\n",
       "\\item 'PEC'\n",
       "\\item 'PT'\n",
       "\\item 'PT\\_dediff'\n",
       "\\item 'PT\\_VCAM1'\n",
       "\\item 'DTL/ATL'\n",
       "\\item 'TAL1'\n",
       "\\item 'TAL2'\n",
       "\\item 'TAL3'\n",
       "\\item 'DCT'\n",
       "\\item 'CNT'\n",
       "\\item 'PC1'\n",
       "\\item 'PC2'\n",
       "\\item 'ICA'\n",
       "\\item 'ICB'\n",
       "\\item 'CoD1'\n",
       "\\item 'CoD2'\n",
       "\\item 'CoD3'\n",
       "\\item 'CoD4'\n",
       "\\item 'Uro1'\n",
       "\\item 'Uro2'\n",
       "\\item 'ENDO'\n",
       "\\item 'SMC1'\n",
       "\\item 'SMC2'\n",
       "\\item 'SMC3'\n",
       "\\item 'Fib1'\n",
       "\\item 'Fib2'\n",
       "\\item 'Fib3'\n",
       "\\item 'Ma'\n",
       "\\item 'BT'\n",
       "\\end{enumerate*}\n"
      ],
      "text/markdown": [
       "1. CNT\n",
       "2. CoD2\n",
       "3. DCT\n",
       "4. TAL2\n",
       "5. PT\n",
       "6. PT_dediff\n",
       "7. PT_VCAM1\n",
       "8. PC2\n",
       "9. BT\n",
       "10. CoD4\n",
       "11. ENDO\n",
       "12. Ma\n",
       "13. PC1\n",
       "14. TAL3\n",
       "15. SMC1\n",
       "16. ICA\n",
       "17. Fib1\n",
       "18. ICB\n",
       "19. CoD1\n",
       "20. POD\n",
       "21. Mes\n",
       "22. DTL/ATL\n",
       "23. TAL1\n",
       "24. Uro1\n",
       "25. Fib3\n",
       "26. Fib2\n",
       "27. CoD3\n",
       "28. PEC\n",
       "29. Uro2\n",
       "30. SMC3\n",
       "31. SMC2\n",
       "\n",
       "\n",
       "\n",
       "**Levels**: 1. 'Mes'\n",
       "2. 'POD'\n",
       "3. 'PEC'\n",
       "4. 'PT'\n",
       "5. 'PT_dediff'\n",
       "6. 'PT_VCAM1'\n",
       "7. 'DTL/ATL'\n",
       "8. 'TAL1'\n",
       "9. 'TAL2'\n",
       "10. 'TAL3'\n",
       "11. 'DCT'\n",
       "12. 'CNT'\n",
       "13. 'PC1'\n",
       "14. 'PC2'\n",
       "15. 'ICA'\n",
       "16. 'ICB'\n",
       "17. 'CoD1'\n",
       "18. 'CoD2'\n",
       "19. 'CoD3'\n",
       "20. 'CoD4'\n",
       "21. 'Uro1'\n",
       "22. 'Uro2'\n",
       "23. 'ENDO'\n",
       "24. 'SMC1'\n",
       "25. 'SMC2'\n",
       "26. 'SMC3'\n",
       "27. 'Fib1'\n",
       "28. 'Fib2'\n",
       "29. 'Fib3'\n",
       "30. 'Ma'\n",
       "31. 'BT'\n",
       "\n",
       "\n"
      ],
      "text/plain": [
       " [1] CNT       CoD2      DCT       TAL2      PT        PT_dediff PT_VCAM1 \n",
       " [8] PC2       BT        CoD4      ENDO      Ma        PC1       TAL3     \n",
       "[15] SMC1      ICA       Fib1      ICB       CoD1      POD       Mes      \n",
       "[22] DTL/ATL   TAL1      Uro1      Fib3      Fib2      CoD3      PEC      \n",
       "[29] Uro2      SMC3      SMC2     \n",
       "31 Levels: Mes POD PEC PT PT_dediff PT_VCAM1 DTL/ATL TAL1 TAL2 TAL3 DCT ... BT"
      ]
     },
     "metadata": {},
     "output_type": "display_data"
    }
   ],
   "source": [
    "class(novaseq.rna$celltype5)\n",
    "table(novaseq.rna$celltype5)\n",
    "unique(novaseq.rna$celltype5)"
   ]
  },
  {
   "cell_type": "code",
   "execution_count": 27,
   "id": "1e3e5ac1",
   "metadata": {},
   "outputs": [
    {
     "data": {
      "text/html": [
       "<style>\n",
       ".list-inline {list-style: none; margin:0; padding: 0}\n",
       ".list-inline>li {display: inline-block}\n",
       ".list-inline>li:not(:last-child)::after {content: \"\\00b7\"; padding: 0 .5ex}\n",
       "</style>\n",
       "<ol class=list-inline><li>'Endo2'</li><li>'IC'</li><li>'Endo1'</li><li>'TAL2/3'</li><li>'CoD2/3'</li><li>'Uro'</li><li>'SMC'</li><li>'POD/PEC'</li></ol>\n"
      ],
      "text/latex": [
       "\\begin{enumerate*}\n",
       "\\item 'Endo2'\n",
       "\\item 'IC'\n",
       "\\item 'Endo1'\n",
       "\\item 'TAL2/3'\n",
       "\\item 'CoD2/3'\n",
       "\\item 'Uro'\n",
       "\\item 'SMC'\n",
       "\\item 'POD/PEC'\n",
       "\\end{enumerate*}\n"
      ],
      "text/markdown": [
       "1. 'Endo2'\n",
       "2. 'IC'\n",
       "3. 'Endo1'\n",
       "4. 'TAL2/3'\n",
       "5. 'CoD2/3'\n",
       "6. 'Uro'\n",
       "7. 'SMC'\n",
       "8. 'POD/PEC'\n",
       "\n",
       "\n"
      ],
      "text/plain": [
       "[1] \"Endo2\"   \"IC\"      \"Endo1\"   \"TAL2/3\"  \"CoD2/3\"  \"Uro\"     \"SMC\"    \n",
       "[8] \"POD/PEC\""
      ]
     },
     "metadata": {},
     "output_type": "display_data"
    }
   ],
   "source": [
    "setdiff(unique(novaseq$celltype_atac5), unique(novaseq.rna$celltype5))"
   ]
  },
  {
   "cell_type": "code",
   "execution_count": 28,
   "id": "a932000e",
   "metadata": {},
   "outputs": [
    {
     "data": {
      "text/html": [
       "<style>\n",
       ".list-inline {list-style: none; margin:0; padding: 0}\n",
       ".list-inline>li {display: inline-block}\n",
       ".list-inline>li:not(:last-child)::after {content: \"\\00b7\"; padding: 0 .5ex}\n",
       "</style>\n",
       "<ol class=list-inline><li>'CoD2'</li><li>'TAL2'</li><li>'PT_dediff'</li><li>'ENDO'</li><li>'TAL3'</li><li>'SMC1'</li><li>'ICA'</li><li>'ICB'</li><li>'POD'</li><li>'Mes'</li><li>'Uro1'</li><li>'CoD3'</li><li>'PEC'</li><li>'Uro2'</li><li>'SMC3'</li><li>'SMC2'</li></ol>\n"
      ],
      "text/latex": [
       "\\begin{enumerate*}\n",
       "\\item 'CoD2'\n",
       "\\item 'TAL2'\n",
       "\\item 'PT\\_dediff'\n",
       "\\item 'ENDO'\n",
       "\\item 'TAL3'\n",
       "\\item 'SMC1'\n",
       "\\item 'ICA'\n",
       "\\item 'ICB'\n",
       "\\item 'POD'\n",
       "\\item 'Mes'\n",
       "\\item 'Uro1'\n",
       "\\item 'CoD3'\n",
       "\\item 'PEC'\n",
       "\\item 'Uro2'\n",
       "\\item 'SMC3'\n",
       "\\item 'SMC2'\n",
       "\\end{enumerate*}\n"
      ],
      "text/markdown": [
       "1. 'CoD2'\n",
       "2. 'TAL2'\n",
       "3. 'PT_dediff'\n",
       "4. 'ENDO'\n",
       "5. 'TAL3'\n",
       "6. 'SMC1'\n",
       "7. 'ICA'\n",
       "8. 'ICB'\n",
       "9. 'POD'\n",
       "10. 'Mes'\n",
       "11. 'Uro1'\n",
       "12. 'CoD3'\n",
       "13. 'PEC'\n",
       "14. 'Uro2'\n",
       "15. 'SMC3'\n",
       "16. 'SMC2'\n",
       "\n",
       "\n"
      ],
      "text/plain": [
       " [1] \"CoD2\"      \"TAL2\"      \"PT_dediff\" \"ENDO\"      \"TAL3\"      \"SMC1\"     \n",
       " [7] \"ICA\"       \"ICB\"       \"POD\"       \"Mes\"       \"Uro1\"      \"CoD3\"     \n",
       "[13] \"PEC\"       \"Uro2\"      \"SMC3\"      \"SMC2\"     "
      ]
     },
     "metadata": {},
     "output_type": "display_data"
    }
   ],
   "source": [
    "setdiff(unique(novaseq.rna$celltype5), unique(novaseq$celltype_atac5))"
   ]
  },
  {
   "cell_type": "code",
   "execution_count": null,
   "id": "510d7a5e",
   "metadata": {},
   "outputs": [],
   "source": []
  },
  {
   "cell_type": "code",
   "execution_count": null,
   "id": "7666822c",
   "metadata": {},
   "outputs": [],
   "source": []
  },
  {
   "cell_type": "markdown",
   "id": "803ae4dd",
   "metadata": {},
   "source": [
    "## update celltype5 in novaseq.rna"
   ]
  },
  {
   "cell_type": "markdown",
   "id": "a47acdb4",
   "metadata": {},
   "source": [
    "### replace Mes in celltype5 with JGA\n",
    "### replace DTL/ATL in celltype5 with tL-TAL\n",
    "### replace CoD1/2/3 in celltype5 with tL1, and CoD4 to tL2"
   ]
  },
  {
   "cell_type": "code",
   "execution_count": 29,
   "id": "0b83744d",
   "metadata": {},
   "outputs": [
    {
     "data": {
      "text/plain": [
       "\n",
       "      Mes       POD       PEC        PT PT_dediff  PT_VCAM1   DTL/ATL      TAL1 \n",
       "     3939      4321      1438     82341     36802      9766     24464     42803 \n",
       "     TAL2      TAL3       DCT       CNT       PC1       PC2       ICA       ICB \n",
       "    30662      9887     19226     17255     21757      5346     14483      5654 \n",
       "     CoD1      CoD2      CoD3      CoD4      Uro1      Uro2      ENDO      SMC1 \n",
       "    11652     11204     10662     14203      5329      2063     18592      6464 \n",
       "     SMC2      SMC3      Fib1      Fib2      Fib3        Ma        BT \n",
       "      936       174      5556     10749      4428      5836      8275 "
      ]
     },
     "metadata": {},
     "output_type": "display_data"
    },
    {
     "data": {
      "text/plain": [
       "\n",
       "      JGA       POD       PEC        PT PT_dediff  PT_VCAM1    tL-TAL      TAL1 \n",
       "     3939      4321      1438     82341     36802      9766     24464     42803 \n",
       "     TAL2      TAL3       DCT       CNT       PC1       PC2       ICA       ICB \n",
       "    30662      9887     19226     17255     21757      5346     14483      5654 \n",
       "      tL1       tL2      Uro1      Uro2      ENDO      SMC1      SMC2      SMC3 \n",
       "    33518     14203      5329      2063     18592      6464       936       174 \n",
       "     Fib1      Fib2      Fib3        Ma        BT \n",
       "     5556     10749      4428      5836      8275 "
      ]
     },
     "metadata": {},
     "output_type": "display_data"
    }
   ],
   "source": [
    "table(novaseq.rna$celltype5)\n",
    "levels(novaseq.rna$celltype5)[levels(novaseq.rna$celltype5) == \"Mes\"] <- \"JGA\"\n",
    "levels(novaseq.rna$celltype5)[levels(novaseq.rna$celltype5) == \"DTL/ATL\"] <- \"tL-TAL\"\n",
    "levels(novaseq.rna$celltype5)[levels(novaseq.rna$celltype5) == \"CoD1\"] <- \"tL1\"\n",
    "levels(novaseq.rna$celltype5)[levels(novaseq.rna$celltype5) == \"CoD2\"] <- \"tL1\"\n",
    "levels(novaseq.rna$celltype5)[levels(novaseq.rna$celltype5) == \"CoD3\"] <- \"tL1\"\n",
    "levels(novaseq.rna$celltype5)[levels(novaseq.rna$celltype5) == \"CoD4\"] <- \"tL2\"\n",
    "table(novaseq.rna$celltype5)"
   ]
  },
  {
   "cell_type": "code",
   "execution_count": 30,
   "id": "022ee448",
   "metadata": {},
   "outputs": [
    {
     "data": {
      "text/html": [
       "29"
      ],
      "text/latex": [
       "29"
      ],
      "text/markdown": [
       "29"
      ],
      "text/plain": [
       "[1] 29"
      ]
     },
     "metadata": {},
     "output_type": "display_data"
    },
    {
     "data": {
      "text/html": [
       "<style>\n",
       ".list-inline {list-style: none; margin:0; padding: 0}\n",
       ".list-inline>li {display: inline-block}\n",
       ".list-inline>li:not(:last-child)::after {content: \"\\00b7\"; padding: 0 .5ex}\n",
       "</style>\n",
       "<ol class=list-inline><li>'JGA'</li><li>'POD'</li><li>'PEC'</li><li>'PT'</li><li>'PT_dediff'</li><li>'PT_VCAM1'</li><li>'tL-TAL'</li><li>'TAL1'</li><li>'TAL2'</li><li>'TAL3'</li><li>'DCT'</li><li>'CNT'</li><li>'PC1'</li><li>'PC2'</li><li>'ICA'</li><li>'ICB'</li><li>'tL1'</li><li>'tL2'</li><li>'Uro1'</li><li>'Uro2'</li><li>'ENDO'</li><li>'SMC1'</li><li>'SMC2'</li><li>'SMC3'</li><li>'Fib1'</li><li>'Fib2'</li><li>'Fib3'</li><li>'Ma'</li><li>'BT'</li></ol>\n"
      ],
      "text/latex": [
       "\\begin{enumerate*}\n",
       "\\item 'JGA'\n",
       "\\item 'POD'\n",
       "\\item 'PEC'\n",
       "\\item 'PT'\n",
       "\\item 'PT\\_dediff'\n",
       "\\item 'PT\\_VCAM1'\n",
       "\\item 'tL-TAL'\n",
       "\\item 'TAL1'\n",
       "\\item 'TAL2'\n",
       "\\item 'TAL3'\n",
       "\\item 'DCT'\n",
       "\\item 'CNT'\n",
       "\\item 'PC1'\n",
       "\\item 'PC2'\n",
       "\\item 'ICA'\n",
       "\\item 'ICB'\n",
       "\\item 'tL1'\n",
       "\\item 'tL2'\n",
       "\\item 'Uro1'\n",
       "\\item 'Uro2'\n",
       "\\item 'ENDO'\n",
       "\\item 'SMC1'\n",
       "\\item 'SMC2'\n",
       "\\item 'SMC3'\n",
       "\\item 'Fib1'\n",
       "\\item 'Fib2'\n",
       "\\item 'Fib3'\n",
       "\\item 'Ma'\n",
       "\\item 'BT'\n",
       "\\end{enumerate*}\n"
      ],
      "text/markdown": [
       "1. 'JGA'\n",
       "2. 'POD'\n",
       "3. 'PEC'\n",
       "4. 'PT'\n",
       "5. 'PT_dediff'\n",
       "6. 'PT_VCAM1'\n",
       "7. 'tL-TAL'\n",
       "8. 'TAL1'\n",
       "9. 'TAL2'\n",
       "10. 'TAL3'\n",
       "11. 'DCT'\n",
       "12. 'CNT'\n",
       "13. 'PC1'\n",
       "14. 'PC2'\n",
       "15. 'ICA'\n",
       "16. 'ICB'\n",
       "17. 'tL1'\n",
       "18. 'tL2'\n",
       "19. 'Uro1'\n",
       "20. 'Uro2'\n",
       "21. 'ENDO'\n",
       "22. 'SMC1'\n",
       "23. 'SMC2'\n",
       "24. 'SMC3'\n",
       "25. 'Fib1'\n",
       "26. 'Fib2'\n",
       "27. 'Fib3'\n",
       "28. 'Ma'\n",
       "29. 'BT'\n",
       "\n",
       "\n"
      ],
      "text/plain": [
       " [1] \"JGA\"       \"POD\"       \"PEC\"       \"PT\"        \"PT_dediff\" \"PT_VCAM1\" \n",
       " [7] \"tL-TAL\"    \"TAL1\"      \"TAL2\"      \"TAL3\"      \"DCT\"       \"CNT\"      \n",
       "[13] \"PC1\"       \"PC2\"       \"ICA\"       \"ICB\"       \"tL1\"       \"tL2\"      \n",
       "[19] \"Uro1\"      \"Uro2\"      \"ENDO\"      \"SMC1\"      \"SMC2\"      \"SMC3\"     \n",
       "[25] \"Fib1\"      \"Fib2\"      \"Fib3\"      \"Ma\"        \"BT\"       "
      ]
     },
     "metadata": {},
     "output_type": "display_data"
    }
   ],
   "source": [
    "length(levels(novaseq.rna$celltype5))\n",
    "levels(novaseq.rna$celltype5)\n"
   ]
  },
  {
   "cell_type": "markdown",
   "id": "5571485c",
   "metadata": {},
   "source": []
  },
  {
   "cell_type": "markdown",
   "id": "0912dd39",
   "metadata": {},
   "source": [
    "## update celltype_atac5 in novaseq"
   ]
  },
  {
   "cell_type": "code",
   "execution_count": 31,
   "id": "8301dbf1",
   "metadata": {},
   "outputs": [
    {
     "data": {
      "text/html": [
       "<style>\n",
       ".dl-inline {width: auto; margin:0; padding: 0}\n",
       ".dl-inline>dt, .dl-inline>dd {float: none; width: auto; display: inline-block}\n",
       ".dl-inline>dt::after {content: \":\\0020\"; padding-right: .5ex}\n",
       ".dl-inline>dt:not(:first-of-type) {padding-left: .5ex}\n",
       "</style><dl class=dl-inline><dt>1</dt><dd>NA</dd><dt>2</dt><dd>NA</dd><dt>3</dt><dd>NA</dd><dt>4</dt><dd>NA</dd><dt>5</dt><dd>NA</dd></dl>\n"
      ],
      "text/latex": [
       "\\begin{description*}\n",
       "\\item[1] NA\n",
       "\\item[2] NA\n",
       "\\item[3] NA\n",
       "\\item[4] NA\n",
       "\\item[5] NA\n",
       "\\end{description*}\n"
      ],
      "text/markdown": [
       "1\n",
       ":   NA2\n",
       ":   NA3\n",
       ":   NA4\n",
       ":   NA5\n",
       ":   NA\n",
       "\n"
      ],
      "text/plain": [
       "<NA> <NA> <NA> <NA> <NA> \n",
       "  NA   NA   NA   NA   NA "
      ]
     },
     "metadata": {},
     "output_type": "display_data"
    }
   ],
   "source": [
    "novaseq$celltype_atac5[(novaseq$celltype_atac5) == \"Mes\"][1:5]\n",
    "novaseq$celltype_atac5[(novaseq$celltype_atac5) == \"DTL/ATL\"] <- \"tL-TAL\"\n",
    "novaseq$celltype_atac5[(novaseq$celltype_atac5) == \"CoD1\"] <- \"tL1\"\n",
    "novaseq$celltype_atac5[(novaseq$celltype_atac5) == \"CoD2/3\"] <- \"tL1\"\n",
    "novaseq$celltype_atac5[(novaseq$celltype_atac5) == \"CoD4\"] <- \"tL2\"\n",
    "novaseq$celltype_atac5[(novaseq$celltype_atac5) == \"Endo1\"] <- \"ENDO\"\n",
    "novaseq$celltype_atac5[(novaseq$celltype_atac5) == \"Endo2\"] <- \"ENDO\""
   ]
  },
  {
   "cell_type": "code",
   "execution_count": 32,
   "id": "b7e0ea44",
   "metadata": {},
   "outputs": [
    {
     "data": {
      "text/html": [
       "<style>\n",
       ".list-inline {list-style: none; margin:0; padding: 0}\n",
       ".list-inline>li {display: inline-block}\n",
       ".list-inline>li:not(:last-child)::after {content: \"\\00b7\"; padding: 0 .5ex}\n",
       "</style>\n",
       "<ol class=list-inline><li>'IC'</li><li>'TAL2/3'</li><li>'Uro'</li><li>'SMC'</li><li>'POD/PEC'</li></ol>\n"
      ],
      "text/latex": [
       "\\begin{enumerate*}\n",
       "\\item 'IC'\n",
       "\\item 'TAL2/3'\n",
       "\\item 'Uro'\n",
       "\\item 'SMC'\n",
       "\\item 'POD/PEC'\n",
       "\\end{enumerate*}\n"
      ],
      "text/markdown": [
       "1. 'IC'\n",
       "2. 'TAL2/3'\n",
       "3. 'Uro'\n",
       "4. 'SMC'\n",
       "5. 'POD/PEC'\n",
       "\n",
       "\n"
      ],
      "text/plain": [
       "[1] \"IC\"      \"TAL2/3\"  \"Uro\"     \"SMC\"     \"POD/PEC\""
      ]
     },
     "metadata": {},
     "output_type": "display_data"
    },
    {
     "data": {
      "text/html": [
       "<style>\n",
       ".list-inline {list-style: none; margin:0; padding: 0}\n",
       ".list-inline>li {display: inline-block}\n",
       ".list-inline>li:not(:last-child)::after {content: \"\\00b7\"; padding: 0 .5ex}\n",
       "</style>\n",
       "<ol class=list-inline><li>'TAL2'</li><li>'PT_dediff'</li><li>'TAL3'</li><li>'SMC1'</li><li>'ICA'</li><li>'ICB'</li><li>'POD'</li><li>'JGA'</li><li>'Uro1'</li><li>'PEC'</li><li>'Uro2'</li><li>'SMC3'</li><li>'SMC2'</li></ol>\n"
      ],
      "text/latex": [
       "\\begin{enumerate*}\n",
       "\\item 'TAL2'\n",
       "\\item 'PT\\_dediff'\n",
       "\\item 'TAL3'\n",
       "\\item 'SMC1'\n",
       "\\item 'ICA'\n",
       "\\item 'ICB'\n",
       "\\item 'POD'\n",
       "\\item 'JGA'\n",
       "\\item 'Uro1'\n",
       "\\item 'PEC'\n",
       "\\item 'Uro2'\n",
       "\\item 'SMC3'\n",
       "\\item 'SMC2'\n",
       "\\end{enumerate*}\n"
      ],
      "text/markdown": [
       "1. 'TAL2'\n",
       "2. 'PT_dediff'\n",
       "3. 'TAL3'\n",
       "4. 'SMC1'\n",
       "5. 'ICA'\n",
       "6. 'ICB'\n",
       "7. 'POD'\n",
       "8. 'JGA'\n",
       "9. 'Uro1'\n",
       "10. 'PEC'\n",
       "11. 'Uro2'\n",
       "12. 'SMC3'\n",
       "13. 'SMC2'\n",
       "\n",
       "\n"
      ],
      "text/plain": [
       " [1] \"TAL2\"      \"PT_dediff\" \"TAL3\"      \"SMC1\"      \"ICA\"       \"ICB\"      \n",
       " [7] \"POD\"       \"JGA\"       \"Uro1\"      \"PEC\"       \"Uro2\"      \"SMC3\"     \n",
       "[13] \"SMC2\"     "
      ]
     },
     "metadata": {},
     "output_type": "display_data"
    }
   ],
   "source": [
    "setdiff(unique(novaseq$celltype_atac5), unique(novaseq.rna$celltype5))\n",
    "setdiff(unique(novaseq.rna$celltype5), unique(novaseq$celltype_atac5))"
   ]
  },
  {
   "cell_type": "code",
   "execution_count": null,
   "id": "350ae025",
   "metadata": {},
   "outputs": [],
   "source": []
  },
  {
   "cell_type": "code",
   "execution_count": null,
   "id": "ee03ef78",
   "metadata": {},
   "outputs": [],
   "source": []
  },
  {
   "cell_type": "code",
   "execution_count": null,
   "id": "898f1351",
   "metadata": {},
   "outputs": [],
   "source": []
  },
  {
   "cell_type": "code",
   "execution_count": null,
   "id": "352e7b34",
   "metadata": {},
   "outputs": [],
   "source": []
  },
  {
   "cell_type": "markdown",
   "id": "bdb74c86",
   "metadata": {},
   "source": [
    "### match meta.data for rna and atac"
   ]
  },
  {
   "cell_type": "code",
   "execution_count": 33,
   "id": "6cf7e498",
   "metadata": {
    "vscode": {
     "languageId": "r"
    }
   },
   "outputs": [
    {
     "data": {
      "text/html": [
       "<style>\n",
       ".list-inline {list-style: none; margin:0; padding: 0}\n",
       ".list-inline>li {display: inline-block}\n",
       ".list-inline>li:not(:last-child)::after {content: \"\\00b7\"; padding: 0 .5ex}\n",
       "</style>\n",
       "<ol class=list-inline><li>446267</li><li>12</li></ol>\n"
      ],
      "text/latex": [
       "\\begin{enumerate*}\n",
       "\\item 446267\n",
       "\\item 12\n",
       "\\end{enumerate*}\n"
      ],
      "text/markdown": [
       "1. 446267\n",
       "2. 12\n",
       "\n",
       "\n"
      ],
      "text/plain": [
       "[1] 446267     12"
      ]
     },
     "metadata": {},
     "output_type": "display_data"
    },
    {
     "data": {
      "text/html": [
       "<table class=\"dataframe\">\n",
       "<caption>A data.frame: 6 × 12</caption>\n",
       "<thead>\n",
       "\t<tr><th></th><th scope=col>n_genes</th><th scope=col>n_genes_by_counts</th><th scope=col>total_counts</th><th scope=col>total_counts_mt</th><th scope=col>pct_counts_mt</th><th scope=col>patient_id</th><th scope=col>renal_region</th><th scope=col>n_counts</th><th scope=col>doublet_score</th><th scope=col>celltype4</th><th scope=col>celltype5</th><th scope=col>celltype6</th></tr>\n",
       "\t<tr><th></th><th scope=col>&lt;int&gt;</th><th scope=col>&lt;int&gt;</th><th scope=col>&lt;dbl&gt;</th><th scope=col>&lt;dbl&gt;</th><th scope=col>&lt;dbl&gt;</th><th scope=col>&lt;fct&gt;</th><th scope=col>&lt;fct&gt;</th><th scope=col>&lt;dbl&gt;</th><th scope=col>&lt;dbl&gt;</th><th scope=col>&lt;fct&gt;</th><th scope=col>&lt;fct&gt;</th><th scope=col>&lt;fct&gt;</th></tr>\n",
       "</thead>\n",
       "<tbody>\n",
       "\t<tr><th scope=row>R1.01,R2.01,R3.04,P1.03,B1</th><td>445</td><td>445</td><td>512</td><td>2</td><td>0.3906250</td><td>AHLD054</td><td>C</td><td>512</td><td>0.009351343</td><td>CNT       </td><td>CNT      </td><td>Distal  </td></tr>\n",
       "\t<tr><th scope=row>R1.01,R2.01,R3.31,P1.03,B1</th><td>284</td><td>284</td><td>312</td><td>1</td><td>0.3205128</td><td>AHLD054</td><td>C</td><td>312</td><td>0.043385110</td><td>CoD2      </td><td>tL1      </td><td>CoD     </td></tr>\n",
       "\t<tr><th scope=row>R1.01,R2.04,R3.77,P1.02,B1</th><td>307</td><td>307</td><td>339</td><td>3</td><td>0.8849558</td><td>AHLD054</td><td>C</td><td>339</td><td>0.014478283</td><td>DCT       </td><td>DCT      </td><td>Distal  </td></tr>\n",
       "\t<tr><th scope=row>R1.01,R2.10,R3.71,P1.06,B1</th><td>370</td><td>370</td><td>426</td><td>5</td><td>1.1737089</td><td>AHLD054</td><td>C</td><td>426</td><td>0.013083508</td><td>TAL2      </td><td>TAL2     </td><td>LoH     </td></tr>\n",
       "\t<tr><th scope=row>R1.01,R2.17,R3.18,P1.07,B1</th><td>394</td><td>394</td><td>463</td><td>1</td><td>0.2159827</td><td>AHLD054</td><td>C</td><td>463</td><td>0.025015253</td><td>PT        </td><td>PT       </td><td>Proximal</td></tr>\n",
       "\t<tr><th scope=row>R1.01,R2.17,R3.40,P1.02,B1</th><td>660</td><td>660</td><td>742</td><td>6</td><td>0.8086253</td><td>AHLD054</td><td>C</td><td>742</td><td>0.017537644</td><td>PT_dediff1</td><td>PT_dediff</td><td>Proximal</td></tr>\n",
       "</tbody>\n",
       "</table>\n"
      ],
      "text/latex": [
       "A data.frame: 6 × 12\n",
       "\\begin{tabular}{r|llllllllllll}\n",
       "  & n\\_genes & n\\_genes\\_by\\_counts & total\\_counts & total\\_counts\\_mt & pct\\_counts\\_mt & patient\\_id & renal\\_region & n\\_counts & doublet\\_score & celltype4 & celltype5 & celltype6\\\\\n",
       "  & <int> & <int> & <dbl> & <dbl> & <dbl> & <fct> & <fct> & <dbl> & <dbl> & <fct> & <fct> & <fct>\\\\\n",
       "\\hline\n",
       "\tR1.01,R2.01,R3.04,P1.03,B1 & 445 & 445 & 512 & 2 & 0.3906250 & AHLD054 & C & 512 & 0.009351343 & CNT        & CNT       & Distal  \\\\\n",
       "\tR1.01,R2.01,R3.31,P1.03,B1 & 284 & 284 & 312 & 1 & 0.3205128 & AHLD054 & C & 312 & 0.043385110 & CoD2       & tL1       & CoD     \\\\\n",
       "\tR1.01,R2.04,R3.77,P1.02,B1 & 307 & 307 & 339 & 3 & 0.8849558 & AHLD054 & C & 339 & 0.014478283 & DCT        & DCT       & Distal  \\\\\n",
       "\tR1.01,R2.10,R3.71,P1.06,B1 & 370 & 370 & 426 & 5 & 1.1737089 & AHLD054 & C & 426 & 0.013083508 & TAL2       & TAL2      & LoH     \\\\\n",
       "\tR1.01,R2.17,R3.18,P1.07,B1 & 394 & 394 & 463 & 1 & 0.2159827 & AHLD054 & C & 463 & 0.025015253 & PT         & PT        & Proximal\\\\\n",
       "\tR1.01,R2.17,R3.40,P1.02,B1 & 660 & 660 & 742 & 6 & 0.8086253 & AHLD054 & C & 742 & 0.017537644 & PT\\_dediff1 & PT\\_dediff & Proximal\\\\\n",
       "\\end{tabular}\n"
      ],
      "text/markdown": [
       "\n",
       "A data.frame: 6 × 12\n",
       "\n",
       "| <!--/--> | n_genes &lt;int&gt; | n_genes_by_counts &lt;int&gt; | total_counts &lt;dbl&gt; | total_counts_mt &lt;dbl&gt; | pct_counts_mt &lt;dbl&gt; | patient_id &lt;fct&gt; | renal_region &lt;fct&gt; | n_counts &lt;dbl&gt; | doublet_score &lt;dbl&gt; | celltype4 &lt;fct&gt; | celltype5 &lt;fct&gt; | celltype6 &lt;fct&gt; |\n",
       "|---|---|---|---|---|---|---|---|---|---|---|---|---|\n",
       "| R1.01,R2.01,R3.04,P1.03,B1 | 445 | 445 | 512 | 2 | 0.3906250 | AHLD054 | C | 512 | 0.009351343 | CNT        | CNT       | Distal   |\n",
       "| R1.01,R2.01,R3.31,P1.03,B1 | 284 | 284 | 312 | 1 | 0.3205128 | AHLD054 | C | 312 | 0.043385110 | CoD2       | tL1       | CoD      |\n",
       "| R1.01,R2.04,R3.77,P1.02,B1 | 307 | 307 | 339 | 3 | 0.8849558 | AHLD054 | C | 339 | 0.014478283 | DCT        | DCT       | Distal   |\n",
       "| R1.01,R2.10,R3.71,P1.06,B1 | 370 | 370 | 426 | 5 | 1.1737089 | AHLD054 | C | 426 | 0.013083508 | TAL2       | TAL2      | LoH      |\n",
       "| R1.01,R2.17,R3.18,P1.07,B1 | 394 | 394 | 463 | 1 | 0.2159827 | AHLD054 | C | 463 | 0.025015253 | PT         | PT        | Proximal |\n",
       "| R1.01,R2.17,R3.40,P1.02,B1 | 660 | 660 | 742 | 6 | 0.8086253 | AHLD054 | C | 742 | 0.017537644 | PT_dediff1 | PT_dediff | Proximal |\n",
       "\n"
      ],
      "text/plain": [
       "                           n_genes n_genes_by_counts total_counts\n",
       "R1.01,R2.01,R3.04,P1.03,B1 445     445               512         \n",
       "R1.01,R2.01,R3.31,P1.03,B1 284     284               312         \n",
       "R1.01,R2.04,R3.77,P1.02,B1 307     307               339         \n",
       "R1.01,R2.10,R3.71,P1.06,B1 370     370               426         \n",
       "R1.01,R2.17,R3.18,P1.07,B1 394     394               463         \n",
       "R1.01,R2.17,R3.40,P1.02,B1 660     660               742         \n",
       "                           total_counts_mt pct_counts_mt patient_id\n",
       "R1.01,R2.01,R3.04,P1.03,B1 2               0.3906250     AHLD054   \n",
       "R1.01,R2.01,R3.31,P1.03,B1 1               0.3205128     AHLD054   \n",
       "R1.01,R2.04,R3.77,P1.02,B1 3               0.8849558     AHLD054   \n",
       "R1.01,R2.10,R3.71,P1.06,B1 5               1.1737089     AHLD054   \n",
       "R1.01,R2.17,R3.18,P1.07,B1 1               0.2159827     AHLD054   \n",
       "R1.01,R2.17,R3.40,P1.02,B1 6               0.8086253     AHLD054   \n",
       "                           renal_region n_counts doublet_score celltype4 \n",
       "R1.01,R2.01,R3.04,P1.03,B1 C            512      0.009351343   CNT       \n",
       "R1.01,R2.01,R3.31,P1.03,B1 C            312      0.043385110   CoD2      \n",
       "R1.01,R2.04,R3.77,P1.02,B1 C            339      0.014478283   DCT       \n",
       "R1.01,R2.10,R3.71,P1.06,B1 C            426      0.013083508   TAL2      \n",
       "R1.01,R2.17,R3.18,P1.07,B1 C            463      0.025015253   PT        \n",
       "R1.01,R2.17,R3.40,P1.02,B1 C            742      0.017537644   PT_dediff1\n",
       "                           celltype5 celltype6\n",
       "R1.01,R2.01,R3.04,P1.03,B1 CNT       Distal   \n",
       "R1.01,R2.01,R3.31,P1.03,B1 tL1       CoD      \n",
       "R1.01,R2.04,R3.77,P1.02,B1 DCT       Distal   \n",
       "R1.01,R2.10,R3.71,P1.06,B1 TAL2      LoH      \n",
       "R1.01,R2.17,R3.18,P1.07,B1 PT        Proximal \n",
       "R1.01,R2.17,R3.40,P1.02,B1 PT_dediff Proximal "
      ]
     },
     "metadata": {},
     "output_type": "display_data"
    }
   ],
   "source": [
    "meta_table_rna = novaseq.rna@meta.data\n",
    "dim(meta_table_rna)\n",
    "head(meta_table_rna)"
   ]
  },
  {
   "cell_type": "code",
   "execution_count": 34,
   "id": "b6a862ef",
   "metadata": {
    "vscode": {
     "languageId": "r"
    }
   },
   "outputs": [
    {
     "data": {
      "text/html": [
       "<style>\n",
       ".list-inline {list-style: none; margin:0; padding: 0}\n",
       ".list-inline>li {display: inline-block}\n",
       ".list-inline>li:not(:last-child)::after {content: \"\\00b7\"; padding: 0 .5ex}\n",
       "</style>\n",
       "<ol class=list-inline><li>401875</li><li>36</li></ol>\n"
      ],
      "text/latex": [
       "\\begin{enumerate*}\n",
       "\\item 401875\n",
       "\\item 36\n",
       "\\end{enumerate*}\n"
      ],
      "text/markdown": [
       "1. 401875\n",
       "2. 36\n",
       "\n",
       "\n"
      ],
      "text/plain": [
       "[1] 401875     36"
      ]
     },
     "metadata": {},
     "output_type": "display_data"
    },
    {
     "data": {
      "text/html": [
       "<table class=\"dataframe\">\n",
       "<caption>A data.frame: 6 × 36</caption>\n",
       "<thead>\n",
       "\t<tr><th></th><th scope=col>orig.ident</th><th scope=col>nCount_peaks</th><th scope=col>nFeature_peaks</th><th scope=col>nucleosome_signal</th><th scope=col>nucleosome_percentile</th><th scope=col>TSS.enrichment</th><th scope=col>TSS.percentile</th><th scope=col>high.tss</th><th scope=col>nucleosome_group</th><th scope=col>fragments</th><th scope=col>⋯</th><th scope=col>R1_id</th><th scope=col>rna_barcode</th><th scope=col>doublet_score</th><th scope=col>nCount_RNA</th><th scope=col>nFeature_RNA</th><th scope=col>seurat_clusters</th><th scope=col>peaks_snn_res3</th><th scope=col>peaks_snn_res4</th><th scope=col>celltype_atac5</th><th scope=col>celltype</th></tr>\n",
       "\t<tr><th></th><th scope=col>&lt;fct&gt;</th><th scope=col>&lt;dbl&gt;</th><th scope=col>&lt;int&gt;</th><th scope=col>&lt;dbl&gt;</th><th scope=col>&lt;dbl&gt;</th><th scope=col>&lt;dbl&gt;</th><th scope=col>&lt;dbl&gt;</th><th scope=col>&lt;chr&gt;</th><th scope=col>&lt;chr&gt;</th><th scope=col>&lt;dbl&gt;</th><th scope=col>⋯</th><th scope=col>&lt;dbl&gt;</th><th scope=col>&lt;chr&gt;</th><th scope=col>&lt;dbl&gt;</th><th scope=col>&lt;dbl&gt;</th><th scope=col>&lt;int&gt;</th><th scope=col>&lt;fct&gt;</th><th scope=col>&lt;chr&gt;</th><th scope=col>&lt;chr&gt;</th><th scope=col>&lt;chr&gt;</th><th scope=col>&lt;chr&gt;</th></tr>\n",
       "</thead>\n",
       "<tbody>\n",
       "\t<tr><th scope=row>R1.034,R2.082,R3.082,P1.76,B3</th><td>SeuratProject</td><td>1353</td><td>1318</td><td>0.7032326</td><td>0.71</td><td>3.717851</td><td>0.61</td><td>High</td><td>NS &lt; 2.5</td><td> 3956</td><td>⋯</td><td>34</td><td>R1.034,R2.082,R3.082,P1.82,B4</td><td> 0.01052632</td><td> 2632</td><td>2192</td><td>36</td><td>10</td><td>8 </td><td><span style=white-space:pre-wrap>tL1     </span></td><td><span style=white-space:pre-wrap>CoD1    </span></td></tr>\n",
       "\t<tr><th scope=row>R1.047,R2.073,R3.003,P1.65,B2</th><td>SeuratProject</td><td> 673</td><td> 662</td><td>0.5416667</td><td>0.29</td><td>3.364635</td><td>0.48</td><td>High</td><td>NS &lt; 2.5</td><td> 1587</td><td>⋯</td><td>47</td><td>R1.047,R2.073,R3.003,P1.78,B2</td><td> 0.05908944</td><td> 1031</td><td> 964</td><td>6 </td><td>8 </td><td>6 </td><td>PT_VCAM1</td><td>PT_VCAM1</td></tr>\n",
       "\t<tr><th scope=row>R1.009,R2.060,R3.048,P1.60,B3</th><td>SeuratProject</td><td>8063</td><td>7398</td><td>0.9347209</td><td>0.90</td><td>3.599848</td><td>0.57</td><td>High</td><td>NS &lt; 2.5</td><td>23567</td><td>⋯</td><td> 9</td><td>R1.009,R2.060,R3.048,P1.67,B4</td><td>-0.10000000</td><td>14550</td><td>8130</td><td>52</td><td>30</td><td>35</td><td><span style=white-space:pre-wrap>ENDO    </span></td><td><span style=white-space:pre-wrap>Endo2   </span></td></tr>\n",
       "\t<tr><th scope=row>R1.016,R2.089,R3.022,P1.06,B2</th><td>SeuratProject</td><td> 961</td><td> 949</td><td>0.7307263</td><td>0.75</td><td>4.551005</td><td>0.81</td><td>High</td><td>NS &lt; 2.5</td><td> 1839</td><td>⋯</td><td>16</td><td>R1.016,R2.089,R3.022,P1.11,B2</td><td>-0.10000000</td><td> 1355</td><td>1241</td><td>41</td><td>1 </td><td>3 </td><td><span style=white-space:pre-wrap>PT      </span></td><td><span style=white-space:pre-wrap>PT      </span></td></tr>\n",
       "\t<tr><th scope=row>R1.025,R2.080,R3.017,P1.66,B2</th><td>SeuratProject</td><td>5250</td><td>4858</td><td>0.6357013</td><td>0.57</td><td>3.281107</td><td>0.45</td><td>High</td><td>NS &lt; 2.5</td><td>11047</td><td>⋯</td><td>25</td><td>R1.025,R2.080,R3.017,P1.79,B2</td><td> 0.17543860</td><td> 8219</td><td>5668</td><td>1 </td><td>13</td><td>10</td><td><span style=white-space:pre-wrap>PC1     </span></td><td><span style=white-space:pre-wrap>PC1     </span></td></tr>\n",
       "\t<tr><th scope=row>R1.056,R2.038,R3.008,P1.48,B2</th><td>SeuratProject</td><td> 884</td><td> 876</td><td>0.6028302</td><td>0.47</td><td>4.531183</td><td>0.80</td><td>High</td><td>NS &lt; 2.5</td><td> 2084</td><td>⋯</td><td>56</td><td>R1.056,R2.038,R3.008,P1.56,B2</td><td> 0.01113861</td><td> 1491</td><td>1353</td><td>11</td><td>0 </td><td>0 </td><td><span style=white-space:pre-wrap>TAL1    </span></td><td><span style=white-space:pre-wrap>TAL1    </span></td></tr>\n",
       "</tbody>\n",
       "</table>\n"
      ],
      "text/latex": [
       "A data.frame: 6 × 36\n",
       "\\begin{tabular}{r|lllllllllllllllllllll}\n",
       "  & orig.ident & nCount\\_peaks & nFeature\\_peaks & nucleosome\\_signal & nucleosome\\_percentile & TSS.enrichment & TSS.percentile & high.tss & nucleosome\\_group & fragments & ⋯ & R1\\_id & rna\\_barcode & doublet\\_score & nCount\\_RNA & nFeature\\_RNA & seurat\\_clusters & peaks\\_snn\\_res3 & peaks\\_snn\\_res4 & celltype\\_atac5 & celltype\\\\\n",
       "  & <fct> & <dbl> & <int> & <dbl> & <dbl> & <dbl> & <dbl> & <chr> & <chr> & <dbl> & ⋯ & <dbl> & <chr> & <dbl> & <dbl> & <int> & <fct> & <chr> & <chr> & <chr> & <chr>\\\\\n",
       "\\hline\n",
       "\tR1.034,R2.082,R3.082,P1.76,B3 & SeuratProject & 1353 & 1318 & 0.7032326 & 0.71 & 3.717851 & 0.61 & High & NS < 2.5 &  3956 & ⋯ & 34 & R1.034,R2.082,R3.082,P1.82,B4 &  0.01052632 &  2632 & 2192 & 36 & 10 & 8  & tL1      & CoD1    \\\\\n",
       "\tR1.047,R2.073,R3.003,P1.65,B2 & SeuratProject &  673 &  662 & 0.5416667 & 0.29 & 3.364635 & 0.48 & High & NS < 2.5 &  1587 & ⋯ & 47 & R1.047,R2.073,R3.003,P1.78,B2 &  0.05908944 &  1031 &  964 & 6  & 8  & 6  & PT\\_VCAM1 & PT\\_VCAM1\\\\\n",
       "\tR1.009,R2.060,R3.048,P1.60,B3 & SeuratProject & 8063 & 7398 & 0.9347209 & 0.90 & 3.599848 & 0.57 & High & NS < 2.5 & 23567 & ⋯ &  9 & R1.009,R2.060,R3.048,P1.67,B4 & -0.10000000 & 14550 & 8130 & 52 & 30 & 35 & ENDO     & Endo2   \\\\\n",
       "\tR1.016,R2.089,R3.022,P1.06,B2 & SeuratProject &  961 &  949 & 0.7307263 & 0.75 & 4.551005 & 0.81 & High & NS < 2.5 &  1839 & ⋯ & 16 & R1.016,R2.089,R3.022,P1.11,B2 & -0.10000000 &  1355 & 1241 & 41 & 1  & 3  & PT       & PT      \\\\\n",
       "\tR1.025,R2.080,R3.017,P1.66,B2 & SeuratProject & 5250 & 4858 & 0.6357013 & 0.57 & 3.281107 & 0.45 & High & NS < 2.5 & 11047 & ⋯ & 25 & R1.025,R2.080,R3.017,P1.79,B2 &  0.17543860 &  8219 & 5668 & 1  & 13 & 10 & PC1      & PC1     \\\\\n",
       "\tR1.056,R2.038,R3.008,P1.48,B2 & SeuratProject &  884 &  876 & 0.6028302 & 0.47 & 4.531183 & 0.80 & High & NS < 2.5 &  2084 & ⋯ & 56 & R1.056,R2.038,R3.008,P1.56,B2 &  0.01113861 &  1491 & 1353 & 11 & 0  & 0  & TAL1     & TAL1    \\\\\n",
       "\\end{tabular}\n"
      ],
      "text/markdown": [
       "\n",
       "A data.frame: 6 × 36\n",
       "\n",
       "| <!--/--> | orig.ident &lt;fct&gt; | nCount_peaks &lt;dbl&gt; | nFeature_peaks &lt;int&gt; | nucleosome_signal &lt;dbl&gt; | nucleosome_percentile &lt;dbl&gt; | TSS.enrichment &lt;dbl&gt; | TSS.percentile &lt;dbl&gt; | high.tss &lt;chr&gt; | nucleosome_group &lt;chr&gt; | fragments &lt;dbl&gt; | ⋯ ⋯ | R1_id &lt;dbl&gt; | rna_barcode &lt;chr&gt; | doublet_score &lt;dbl&gt; | nCount_RNA &lt;dbl&gt; | nFeature_RNA &lt;int&gt; | seurat_clusters &lt;fct&gt; | peaks_snn_res3 &lt;chr&gt; | peaks_snn_res4 &lt;chr&gt; | celltype_atac5 &lt;chr&gt; | celltype &lt;chr&gt; |\n",
       "|---|---|---|---|---|---|---|---|---|---|---|---|---|---|---|---|---|---|---|---|---|---|\n",
       "| R1.034,R2.082,R3.082,P1.76,B3 | SeuratProject | 1353 | 1318 | 0.7032326 | 0.71 | 3.717851 | 0.61 | High | NS &lt; 2.5 |  3956 | ⋯ | 34 | R1.034,R2.082,R3.082,P1.82,B4 |  0.01052632 |  2632 | 2192 | 36 | 10 | 8  | tL1      | CoD1     |\n",
       "| R1.047,R2.073,R3.003,P1.65,B2 | SeuratProject |  673 |  662 | 0.5416667 | 0.29 | 3.364635 | 0.48 | High | NS &lt; 2.5 |  1587 | ⋯ | 47 | R1.047,R2.073,R3.003,P1.78,B2 |  0.05908944 |  1031 |  964 | 6  | 8  | 6  | PT_VCAM1 | PT_VCAM1 |\n",
       "| R1.009,R2.060,R3.048,P1.60,B3 | SeuratProject | 8063 | 7398 | 0.9347209 | 0.90 | 3.599848 | 0.57 | High | NS &lt; 2.5 | 23567 | ⋯ |  9 | R1.009,R2.060,R3.048,P1.67,B4 | -0.10000000 | 14550 | 8130 | 52 | 30 | 35 | ENDO     | Endo2    |\n",
       "| R1.016,R2.089,R3.022,P1.06,B2 | SeuratProject |  961 |  949 | 0.7307263 | 0.75 | 4.551005 | 0.81 | High | NS &lt; 2.5 |  1839 | ⋯ | 16 | R1.016,R2.089,R3.022,P1.11,B2 | -0.10000000 |  1355 | 1241 | 41 | 1  | 3  | PT       | PT       |\n",
       "| R1.025,R2.080,R3.017,P1.66,B2 | SeuratProject | 5250 | 4858 | 0.6357013 | 0.57 | 3.281107 | 0.45 | High | NS &lt; 2.5 | 11047 | ⋯ | 25 | R1.025,R2.080,R3.017,P1.79,B2 |  0.17543860 |  8219 | 5668 | 1  | 13 | 10 | PC1      | PC1      |\n",
       "| R1.056,R2.038,R3.008,P1.48,B2 | SeuratProject |  884 |  876 | 0.6028302 | 0.47 | 4.531183 | 0.80 | High | NS &lt; 2.5 |  2084 | ⋯ | 56 | R1.056,R2.038,R3.008,P1.56,B2 |  0.01113861 |  1491 | 1353 | 11 | 0  | 0  | TAL1     | TAL1     |\n",
       "\n"
      ],
      "text/plain": [
       "                              orig.ident    nCount_peaks nFeature_peaks\n",
       "R1.034,R2.082,R3.082,P1.76,B3 SeuratProject 1353         1318          \n",
       "R1.047,R2.073,R3.003,P1.65,B2 SeuratProject  673          662          \n",
       "R1.009,R2.060,R3.048,P1.60,B3 SeuratProject 8063         7398          \n",
       "R1.016,R2.089,R3.022,P1.06,B2 SeuratProject  961          949          \n",
       "R1.025,R2.080,R3.017,P1.66,B2 SeuratProject 5250         4858          \n",
       "R1.056,R2.038,R3.008,P1.48,B2 SeuratProject  884          876          \n",
       "                              nucleosome_signal nucleosome_percentile\n",
       "R1.034,R2.082,R3.082,P1.76,B3 0.7032326         0.71                 \n",
       "R1.047,R2.073,R3.003,P1.65,B2 0.5416667         0.29                 \n",
       "R1.009,R2.060,R3.048,P1.60,B3 0.9347209         0.90                 \n",
       "R1.016,R2.089,R3.022,P1.06,B2 0.7307263         0.75                 \n",
       "R1.025,R2.080,R3.017,P1.66,B2 0.6357013         0.57                 \n",
       "R1.056,R2.038,R3.008,P1.48,B2 0.6028302         0.47                 \n",
       "                              TSS.enrichment TSS.percentile high.tss\n",
       "R1.034,R2.082,R3.082,P1.76,B3 3.717851       0.61           High    \n",
       "R1.047,R2.073,R3.003,P1.65,B2 3.364635       0.48           High    \n",
       "R1.009,R2.060,R3.048,P1.60,B3 3.599848       0.57           High    \n",
       "R1.016,R2.089,R3.022,P1.06,B2 4.551005       0.81           High    \n",
       "R1.025,R2.080,R3.017,P1.66,B2 3.281107       0.45           High    \n",
       "R1.056,R2.038,R3.008,P1.48,B2 4.531183       0.80           High    \n",
       "                              nucleosome_group fragments ⋯ R1_id\n",
       "R1.034,R2.082,R3.082,P1.76,B3 NS < 2.5          3956     ⋯ 34   \n",
       "R1.047,R2.073,R3.003,P1.65,B2 NS < 2.5          1587     ⋯ 47   \n",
       "R1.009,R2.060,R3.048,P1.60,B3 NS < 2.5         23567     ⋯  9   \n",
       "R1.016,R2.089,R3.022,P1.06,B2 NS < 2.5          1839     ⋯ 16   \n",
       "R1.025,R2.080,R3.017,P1.66,B2 NS < 2.5         11047     ⋯ 25   \n",
       "R1.056,R2.038,R3.008,P1.48,B2 NS < 2.5          2084     ⋯ 56   \n",
       "                              rna_barcode                   doublet_score\n",
       "R1.034,R2.082,R3.082,P1.76,B3 R1.034,R2.082,R3.082,P1.82,B4  0.01052632  \n",
       "R1.047,R2.073,R3.003,P1.65,B2 R1.047,R2.073,R3.003,P1.78,B2  0.05908944  \n",
       "R1.009,R2.060,R3.048,P1.60,B3 R1.009,R2.060,R3.048,P1.67,B4 -0.10000000  \n",
       "R1.016,R2.089,R3.022,P1.06,B2 R1.016,R2.089,R3.022,P1.11,B2 -0.10000000  \n",
       "R1.025,R2.080,R3.017,P1.66,B2 R1.025,R2.080,R3.017,P1.79,B2  0.17543860  \n",
       "R1.056,R2.038,R3.008,P1.48,B2 R1.056,R2.038,R3.008,P1.56,B2  0.01113861  \n",
       "                              nCount_RNA nFeature_RNA seurat_clusters\n",
       "R1.034,R2.082,R3.082,P1.76,B3  2632      2192         36             \n",
       "R1.047,R2.073,R3.003,P1.65,B2  1031       964         6              \n",
       "R1.009,R2.060,R3.048,P1.60,B3 14550      8130         52             \n",
       "R1.016,R2.089,R3.022,P1.06,B2  1355      1241         41             \n",
       "R1.025,R2.080,R3.017,P1.66,B2  8219      5668         1              \n",
       "R1.056,R2.038,R3.008,P1.48,B2  1491      1353         11             \n",
       "                              peaks_snn_res3 peaks_snn_res4 celltype_atac5\n",
       "R1.034,R2.082,R3.082,P1.76,B3 10             8              tL1           \n",
       "R1.047,R2.073,R3.003,P1.65,B2 8              6              PT_VCAM1      \n",
       "R1.009,R2.060,R3.048,P1.60,B3 30             35             ENDO          \n",
       "R1.016,R2.089,R3.022,P1.06,B2 1              3              PT            \n",
       "R1.025,R2.080,R3.017,P1.66,B2 13             10             PC1           \n",
       "R1.056,R2.038,R3.008,P1.48,B2 0              0              TAL1          \n",
       "                              celltype\n",
       "R1.034,R2.082,R3.082,P1.76,B3 CoD1    \n",
       "R1.047,R2.073,R3.003,P1.65,B2 PT_VCAM1\n",
       "R1.009,R2.060,R3.048,P1.60,B3 Endo2   \n",
       "R1.016,R2.089,R3.022,P1.06,B2 PT      \n",
       "R1.025,R2.080,R3.017,P1.66,B2 PC1     \n",
       "R1.056,R2.038,R3.008,P1.48,B2 TAL1    "
      ]
     },
     "metadata": {},
     "output_type": "display_data"
    }
   ],
   "source": [
    "meta_table_atac = novaseq@meta.data\n",
    "dim(meta_table_atac)\n",
    "head(meta_table_atac)"
   ]
  },
  {
   "cell_type": "markdown",
   "id": "f64d5bf7",
   "metadata": {},
   "source": [
    "### find duplicated atac and rna barcode"
   ]
  },
  {
   "cell_type": "code",
   "execution_count": 35,
   "id": "e9e2f51f",
   "metadata": {
    "vscode": {
     "languageId": "r"
    }
   },
   "outputs": [
    {
     "data": {
      "text/html": [
       "0"
      ],
      "text/latex": [
       "0"
      ],
      "text/markdown": [
       "0"
      ],
      "text/plain": [
       "[1] 0"
      ]
     },
     "metadata": {},
     "output_type": "display_data"
    },
    {
     "data": {
      "text/html": [
       "31"
      ],
      "text/latex": [
       "31"
      ],
      "text/markdown": [
       "31"
      ],
      "text/plain": [
       "[1] 31"
      ]
     },
     "metadata": {},
     "output_type": "display_data"
    },
    {
     "data": {
      "text/html": [
       "0"
      ],
      "text/latex": [
       "0"
      ],
      "text/markdown": [
       "0"
      ],
      "text/plain": [
       "[1] 0"
      ]
     },
     "metadata": {},
     "output_type": "display_data"
    },
    {
     "data": {
      "text/html": [
       "0"
      ],
      "text/latex": [
       "0"
      ],
      "text/markdown": [
       "0"
      ],
      "text/plain": [
       "[1] 0"
      ]
     },
     "metadata": {},
     "output_type": "display_data"
    }
   ],
   "source": [
    "df_barcode_atac = data.frame(\"atac_barcode\" = rownames(meta_table_atac), \"rna_barcode\" = meta_table_atac$rna_barcode)\n",
    "df_barcode_rna = data.frame(\"rna_barcode\" = rownames(meta_table_rna), 'celltype5_rna' = meta_table_rna$celltype5)\n",
    "\n",
    "sum(duplicated(df_barcode_atac$atac_barcode))\n",
    "sum(duplicated(df_barcode_atac$rna_barcode))\n",
    "\n",
    "sum(duplicated(df_barcode_rna$atac_barcode))\n",
    "sum(duplicated(df_barcode_rna$rna_barcode))"
   ]
  },
  {
   "cell_type": "code",
   "execution_count": 36,
   "id": "5616c332",
   "metadata": {},
   "outputs": [
    {
     "data": {
      "text/html": [
       "31"
      ],
      "text/latex": [
       "31"
      ],
      "text/markdown": [
       "31"
      ],
      "text/plain": [
       "[1] 31"
      ]
     },
     "metadata": {},
     "output_type": "display_data"
    }
   ],
   "source": [
    "duplicated_rna_barcode_in_atac_meta = df_barcode_atac$rna_barcode[duplicated(df_barcode_atac$rna_barcode)]\n",
    "length(duplicated_rna_barcode_in_atac_meta)"
   ]
  },
  {
   "cell_type": "code",
   "execution_count": 37,
   "id": "fe297e74",
   "metadata": {},
   "outputs": [
    {
     "data": {
      "text/html": [
       "<style>\n",
       ".list-inline {list-style: none; margin:0; padding: 0}\n",
       ".list-inline>li {display: inline-block}\n",
       ".list-inline>li:not(:last-child)::after {content: \"\\00b7\"; padding: 0 .5ex}\n",
       "</style>\n",
       "<ol class=list-inline><li>31</li><li>2</li></ol>\n"
      ],
      "text/latex": [
       "\\begin{enumerate*}\n",
       "\\item 31\n",
       "\\item 2\n",
       "\\end{enumerate*}\n"
      ],
      "text/markdown": [
       "1. 31\n",
       "2. 2\n",
       "\n",
       "\n"
      ],
      "text/plain": [
       "[1] 31  2"
      ]
     },
     "metadata": {},
     "output_type": "display_data"
    }
   ],
   "source": [
    "duplicated_index = as.data.frame(t(sapply(duplicated_rna_barcode_in_atac_meta, FUN = function(x){\n",
    "    which(df_barcode_atac$rna_barcode == x)\n",
    "})))\n",
    "\n",
    "dim(duplicated_index)"
   ]
  },
  {
   "cell_type": "code",
   "execution_count": 38,
   "id": "569e0c02",
   "metadata": {},
   "outputs": [
    {
     "data": {
      "text/html": [
       "<table class=\"dataframe\">\n",
       "<caption>A data.frame: 31 × 4</caption>\n",
       "<thead>\n",
       "\t<tr><th></th><th scope=col>atac_barcode</th><th scope=col>rna_barcode</th><th scope=col>atac_barcode</th><th scope=col>rna_barcode</th></tr>\n",
       "\t<tr><th></th><th scope=col>&lt;chr&gt;</th><th scope=col>&lt;chr&gt;</th><th scope=col>&lt;chr&gt;</th><th scope=col>&lt;chr&gt;</th></tr>\n",
       "</thead>\n",
       "<tbody>\n",
       "\t<tr><th scope=row>95218</th><td>R1.061,R2.031,R3.062,P1.01,B3</td><td>R1.061,R2.031,R3.062,P1.08,B3</td><td>R1.061,R2.031,R3.062,P1.02,B3</td><td>R1.061,R2.031,R3.062,P1.08,B3</td></tr>\n",
       "\t<tr><th scope=row>108273</th><td>R1.063,R2.083,R3.002,P1.02,B3</td><td>R1.063,R2.083,R3.002,P1.08,B3</td><td>R1.063,R2.083,R3.002,P1.01,B3</td><td>R1.063,R2.083,R3.002,P1.08,B3</td></tr>\n",
       "\t<tr><th scope=row>78895</th><td>R1.075,R2.089,R3.001,P1.01,B3</td><td>R1.075,R2.089,R3.001,P1.08,B3</td><td>R1.075,R2.089,R3.001,P1.02,B3</td><td>R1.075,R2.089,R3.001,P1.08,B3</td></tr>\n",
       "\t<tr><th scope=row>59602</th><td>R1.070,R2.024,R3.078,P1.02,B3</td><td>R1.070,R2.024,R3.078,P1.08,B3</td><td>R1.070,R2.024,R3.078,P1.01,B3</td><td>R1.070,R2.024,R3.078,P1.08,B3</td></tr>\n",
       "\t<tr><th scope=row>98922</th><td>R1.065,R2.016,R3.093,P1.02,B3</td><td>R1.065,R2.016,R3.093,P1.08,B3</td><td>R1.065,R2.016,R3.093,P1.01,B3</td><td>R1.065,R2.016,R3.093,P1.08,B3</td></tr>\n",
       "\t<tr><th scope=row>105524</th><td>R1.037,R2.033,R3.093,P1.02,B3</td><td>R1.037,R2.033,R3.093,P1.08,B3</td><td>R1.037,R2.033,R3.093,P1.01,B3</td><td>R1.037,R2.033,R3.093,P1.08,B3</td></tr>\n",
       "\t<tr><th scope=row>234556</th><td>R1.088,R2.041,R3.017,P1.01,B3</td><td>R1.088,R2.041,R3.017,P1.08,B3</td><td>R1.088,R2.041,R3.017,P1.02,B3</td><td>R1.088,R2.041,R3.017,P1.08,B3</td></tr>\n",
       "\t<tr><th scope=row>10356</th><td>R1.070,R2.066,R3.010,P1.01,B3</td><td>R1.070,R2.066,R3.010,P1.08,B3</td><td>R1.070,R2.066,R3.010,P1.02,B3</td><td>R1.070,R2.066,R3.010,P1.08,B3</td></tr>\n",
       "\t<tr><th scope=row>240349</th><td>R1.068,R2.003,R3.011,P1.01,B3</td><td>R1.068,R2.003,R3.011,P1.08,B3</td><td>R1.068,R2.003,R3.011,P1.02,B3</td><td>R1.068,R2.003,R3.011,P1.08,B3</td></tr>\n",
       "\t<tr><th scope=row>240216</th><td>R1.025,R2.065,R3.065,P1.02,B3</td><td>R1.025,R2.065,R3.065,P1.08,B3</td><td>R1.025,R2.065,R3.065,P1.01,B3</td><td>R1.025,R2.065,R3.065,P1.08,B3</td></tr>\n",
       "\t<tr><th scope=row>22237</th><td>R1.076,R2.001,R3.094,P1.02,B3</td><td>R1.076,R2.001,R3.094,P1.08,B3</td><td>R1.076,R2.001,R3.094,P1.01,B3</td><td>R1.076,R2.001,R3.094,P1.08,B3</td></tr>\n",
       "\t<tr><th scope=row>42623</th><td>R1.085,R2.089,R3.089,P1.01,B3</td><td>R1.085,R2.089,R3.089,P1.08,B3</td><td>R1.085,R2.089,R3.089,P1.02,B3</td><td>R1.085,R2.089,R3.089,P1.08,B3</td></tr>\n",
       "\t<tr><th scope=row>83484</th><td>R1.087,R2.036,R3.002,P1.02,B3</td><td>R1.087,R2.036,R3.002,P1.08,B3</td><td>R1.087,R2.036,R3.002,P1.01,B3</td><td>R1.087,R2.036,R3.002,P1.08,B3</td></tr>\n",
       "\t<tr><th scope=row>211047</th><td>R1.090,R2.027,R3.034,P1.02,B3</td><td>R1.090,R2.027,R3.034,P1.08,B3</td><td>R1.090,R2.027,R3.034,P1.01,B3</td><td>R1.090,R2.027,R3.034,P1.08,B3</td></tr>\n",
       "\t<tr><th scope=row>171956</th><td>R1.093,R2.015,R3.064,P1.01,B3</td><td>R1.093,R2.015,R3.064,P1.08,B3</td><td>R1.093,R2.015,R3.064,P1.02,B3</td><td>R1.093,R2.015,R3.064,P1.08,B3</td></tr>\n",
       "\t<tr><th scope=row>88361</th><td>R1.076,R2.091,R3.027,P1.02,B3</td><td>R1.076,R2.091,R3.027,P1.08,B3</td><td>R1.076,R2.091,R3.027,P1.01,B3</td><td>R1.076,R2.091,R3.027,P1.08,B3</td></tr>\n",
       "\t<tr><th scope=row>179647</th><td>R1.068,R2.046,R3.044,P1.01,B3</td><td>R1.068,R2.046,R3.044,P1.08,B3</td><td>R1.068,R2.046,R3.044,P1.02,B3</td><td>R1.068,R2.046,R3.044,P1.08,B3</td></tr>\n",
       "\t<tr><th scope=row>282737</th><td>R1.074,R2.015,R3.091,P1.01,B3</td><td>R1.074,R2.015,R3.091,P1.08,B3</td><td>R1.074,R2.015,R3.091,P1.02,B3</td><td>R1.074,R2.015,R3.091,P1.08,B3</td></tr>\n",
       "\t<tr><th scope=row>284908</th><td>R1.016,R2.062,R3.072,P1.02,B3</td><td>R1.016,R2.062,R3.072,P1.08,B3</td><td>R1.016,R2.062,R3.072,P1.01,B3</td><td>R1.016,R2.062,R3.072,P1.08,B3</td></tr>\n",
       "\t<tr><th scope=row>289082</th><td>R1.056,R2.080,R3.012,P1.01,B3</td><td>R1.056,R2.080,R3.012,P1.08,B3</td><td>R1.056,R2.080,R3.012,P1.02,B3</td><td>R1.056,R2.080,R3.012,P1.08,B3</td></tr>\n",
       "\t<tr><th scope=row>200081</th><td>R1.060,R2.001,R3.092,P1.01,B3</td><td>R1.060,R2.001,R3.092,P1.08,B3</td><td>R1.060,R2.001,R3.092,P1.02,B3</td><td>R1.060,R2.001,R3.092,P1.08,B3</td></tr>\n",
       "\t<tr><th scope=row>317787</th><td>R1.033,R2.039,R3.007,P1.02,B3</td><td>R1.033,R2.039,R3.007,P1.08,B3</td><td>R1.033,R2.039,R3.007,P1.01,B3</td><td>R1.033,R2.039,R3.007,P1.08,B3</td></tr>\n",
       "\t<tr><th scope=row>84116</th><td>R1.081,R2.059,R3.001,P1.02,B3</td><td>R1.081,R2.059,R3.001,P1.08,B3</td><td>R1.081,R2.059,R3.001,P1.01,B3</td><td>R1.081,R2.059,R3.001,P1.08,B3</td></tr>\n",
       "\t<tr><th scope=row>109831</th><td>R1.064,R2.058,R3.026,P1.02,B3</td><td>R1.064,R2.058,R3.026,P1.08,B3</td><td>R1.064,R2.058,R3.026,P1.01,B3</td><td>R1.064,R2.058,R3.026,P1.08,B3</td></tr>\n",
       "\t<tr><th scope=row>137088</th><td>R1.042,R2.001,R3.089,P1.02,B3</td><td>R1.042,R2.001,R3.089,P1.08,B3</td><td>R1.042,R2.001,R3.089,P1.01,B3</td><td>R1.042,R2.001,R3.089,P1.08,B3</td></tr>\n",
       "\t<tr><th scope=row>298913</th><td>R1.027,R2.072,R3.079,P1.01,B3</td><td>R1.027,R2.072,R3.079,P1.08,B3</td><td>R1.027,R2.072,R3.079,P1.02,B3</td><td>R1.027,R2.072,R3.079,P1.08,B3</td></tr>\n",
       "\t<tr><th scope=row>1304</th><td>R1.041,R2.034,R3.082,P1.01,B3</td><td>R1.041,R2.034,R3.082,P1.08,B3</td><td>R1.041,R2.034,R3.082,P1.02,B3</td><td>R1.041,R2.034,R3.082,P1.08,B3</td></tr>\n",
       "\t<tr><th scope=row>181869</th><td>R1.050,R2.006,R3.079,P1.02,B3</td><td>R1.050,R2.006,R3.079,P1.08,B3</td><td>R1.050,R2.006,R3.079,P1.01,B3</td><td>R1.050,R2.006,R3.079,P1.08,B3</td></tr>\n",
       "\t<tr><th scope=row>200917</th><td>R1.015,R2.077,R3.077,P1.02,B3</td><td>R1.015,R2.077,R3.077,P1.08,B3</td><td>R1.015,R2.077,R3.077,P1.01,B3</td><td>R1.015,R2.077,R3.077,P1.08,B3</td></tr>\n",
       "\t<tr><th scope=row>372302</th><td>R1.007,R2.056,R3.015,P1.02,B3</td><td>R1.007,R2.056,R3.015,P1.08,B3</td><td>R1.007,R2.056,R3.015,P1.01,B3</td><td>R1.007,R2.056,R3.015,P1.08,B3</td></tr>\n",
       "\t<tr><th scope=row>241006</th><td>R1.087,R2.008,R3.089,P1.02,B3</td><td>R1.087,R2.008,R3.089,P1.08,B3</td><td>R1.087,R2.008,R3.089,P1.01,B3</td><td>R1.087,R2.008,R3.089,P1.08,B3</td></tr>\n",
       "</tbody>\n",
       "</table>\n"
      ],
      "text/latex": [
       "A data.frame: 31 × 4\n",
       "\\begin{tabular}{r|llll}\n",
       "  & atac\\_barcode & rna\\_barcode & atac\\_barcode & rna\\_barcode\\\\\n",
       "  & <chr> & <chr> & <chr> & <chr>\\\\\n",
       "\\hline\n",
       "\t95218 & R1.061,R2.031,R3.062,P1.01,B3 & R1.061,R2.031,R3.062,P1.08,B3 & R1.061,R2.031,R3.062,P1.02,B3 & R1.061,R2.031,R3.062,P1.08,B3\\\\\n",
       "\t108273 & R1.063,R2.083,R3.002,P1.02,B3 & R1.063,R2.083,R3.002,P1.08,B3 & R1.063,R2.083,R3.002,P1.01,B3 & R1.063,R2.083,R3.002,P1.08,B3\\\\\n",
       "\t78895 & R1.075,R2.089,R3.001,P1.01,B3 & R1.075,R2.089,R3.001,P1.08,B3 & R1.075,R2.089,R3.001,P1.02,B3 & R1.075,R2.089,R3.001,P1.08,B3\\\\\n",
       "\t59602 & R1.070,R2.024,R3.078,P1.02,B3 & R1.070,R2.024,R3.078,P1.08,B3 & R1.070,R2.024,R3.078,P1.01,B3 & R1.070,R2.024,R3.078,P1.08,B3\\\\\n",
       "\t98922 & R1.065,R2.016,R3.093,P1.02,B3 & R1.065,R2.016,R3.093,P1.08,B3 & R1.065,R2.016,R3.093,P1.01,B3 & R1.065,R2.016,R3.093,P1.08,B3\\\\\n",
       "\t105524 & R1.037,R2.033,R3.093,P1.02,B3 & R1.037,R2.033,R3.093,P1.08,B3 & R1.037,R2.033,R3.093,P1.01,B3 & R1.037,R2.033,R3.093,P1.08,B3\\\\\n",
       "\t234556 & R1.088,R2.041,R3.017,P1.01,B3 & R1.088,R2.041,R3.017,P1.08,B3 & R1.088,R2.041,R3.017,P1.02,B3 & R1.088,R2.041,R3.017,P1.08,B3\\\\\n",
       "\t10356 & R1.070,R2.066,R3.010,P1.01,B3 & R1.070,R2.066,R3.010,P1.08,B3 & R1.070,R2.066,R3.010,P1.02,B3 & R1.070,R2.066,R3.010,P1.08,B3\\\\\n",
       "\t240349 & R1.068,R2.003,R3.011,P1.01,B3 & R1.068,R2.003,R3.011,P1.08,B3 & R1.068,R2.003,R3.011,P1.02,B3 & R1.068,R2.003,R3.011,P1.08,B3\\\\\n",
       "\t240216 & R1.025,R2.065,R3.065,P1.02,B3 & R1.025,R2.065,R3.065,P1.08,B3 & R1.025,R2.065,R3.065,P1.01,B3 & R1.025,R2.065,R3.065,P1.08,B3\\\\\n",
       "\t22237 & R1.076,R2.001,R3.094,P1.02,B3 & R1.076,R2.001,R3.094,P1.08,B3 & R1.076,R2.001,R3.094,P1.01,B3 & R1.076,R2.001,R3.094,P1.08,B3\\\\\n",
       "\t42623 & R1.085,R2.089,R3.089,P1.01,B3 & R1.085,R2.089,R3.089,P1.08,B3 & R1.085,R2.089,R3.089,P1.02,B3 & R1.085,R2.089,R3.089,P1.08,B3\\\\\n",
       "\t83484 & R1.087,R2.036,R3.002,P1.02,B3 & R1.087,R2.036,R3.002,P1.08,B3 & R1.087,R2.036,R3.002,P1.01,B3 & R1.087,R2.036,R3.002,P1.08,B3\\\\\n",
       "\t211047 & R1.090,R2.027,R3.034,P1.02,B3 & R1.090,R2.027,R3.034,P1.08,B3 & R1.090,R2.027,R3.034,P1.01,B3 & R1.090,R2.027,R3.034,P1.08,B3\\\\\n",
       "\t171956 & R1.093,R2.015,R3.064,P1.01,B3 & R1.093,R2.015,R3.064,P1.08,B3 & R1.093,R2.015,R3.064,P1.02,B3 & R1.093,R2.015,R3.064,P1.08,B3\\\\\n",
       "\t88361 & R1.076,R2.091,R3.027,P1.02,B3 & R1.076,R2.091,R3.027,P1.08,B3 & R1.076,R2.091,R3.027,P1.01,B3 & R1.076,R2.091,R3.027,P1.08,B3\\\\\n",
       "\t179647 & R1.068,R2.046,R3.044,P1.01,B3 & R1.068,R2.046,R3.044,P1.08,B3 & R1.068,R2.046,R3.044,P1.02,B3 & R1.068,R2.046,R3.044,P1.08,B3\\\\\n",
       "\t282737 & R1.074,R2.015,R3.091,P1.01,B3 & R1.074,R2.015,R3.091,P1.08,B3 & R1.074,R2.015,R3.091,P1.02,B3 & R1.074,R2.015,R3.091,P1.08,B3\\\\\n",
       "\t284908 & R1.016,R2.062,R3.072,P1.02,B3 & R1.016,R2.062,R3.072,P1.08,B3 & R1.016,R2.062,R3.072,P1.01,B3 & R1.016,R2.062,R3.072,P1.08,B3\\\\\n",
       "\t289082 & R1.056,R2.080,R3.012,P1.01,B3 & R1.056,R2.080,R3.012,P1.08,B3 & R1.056,R2.080,R3.012,P1.02,B3 & R1.056,R2.080,R3.012,P1.08,B3\\\\\n",
       "\t200081 & R1.060,R2.001,R3.092,P1.01,B3 & R1.060,R2.001,R3.092,P1.08,B3 & R1.060,R2.001,R3.092,P1.02,B3 & R1.060,R2.001,R3.092,P1.08,B3\\\\\n",
       "\t317787 & R1.033,R2.039,R3.007,P1.02,B3 & R1.033,R2.039,R3.007,P1.08,B3 & R1.033,R2.039,R3.007,P1.01,B3 & R1.033,R2.039,R3.007,P1.08,B3\\\\\n",
       "\t84116 & R1.081,R2.059,R3.001,P1.02,B3 & R1.081,R2.059,R3.001,P1.08,B3 & R1.081,R2.059,R3.001,P1.01,B3 & R1.081,R2.059,R3.001,P1.08,B3\\\\\n",
       "\t109831 & R1.064,R2.058,R3.026,P1.02,B3 & R1.064,R2.058,R3.026,P1.08,B3 & R1.064,R2.058,R3.026,P1.01,B3 & R1.064,R2.058,R3.026,P1.08,B3\\\\\n",
       "\t137088 & R1.042,R2.001,R3.089,P1.02,B3 & R1.042,R2.001,R3.089,P1.08,B3 & R1.042,R2.001,R3.089,P1.01,B3 & R1.042,R2.001,R3.089,P1.08,B3\\\\\n",
       "\t298913 & R1.027,R2.072,R3.079,P1.01,B3 & R1.027,R2.072,R3.079,P1.08,B3 & R1.027,R2.072,R3.079,P1.02,B3 & R1.027,R2.072,R3.079,P1.08,B3\\\\\n",
       "\t1304 & R1.041,R2.034,R3.082,P1.01,B3 & R1.041,R2.034,R3.082,P1.08,B3 & R1.041,R2.034,R3.082,P1.02,B3 & R1.041,R2.034,R3.082,P1.08,B3\\\\\n",
       "\t181869 & R1.050,R2.006,R3.079,P1.02,B3 & R1.050,R2.006,R3.079,P1.08,B3 & R1.050,R2.006,R3.079,P1.01,B3 & R1.050,R2.006,R3.079,P1.08,B3\\\\\n",
       "\t200917 & R1.015,R2.077,R3.077,P1.02,B3 & R1.015,R2.077,R3.077,P1.08,B3 & R1.015,R2.077,R3.077,P1.01,B3 & R1.015,R2.077,R3.077,P1.08,B3\\\\\n",
       "\t372302 & R1.007,R2.056,R3.015,P1.02,B3 & R1.007,R2.056,R3.015,P1.08,B3 & R1.007,R2.056,R3.015,P1.01,B3 & R1.007,R2.056,R3.015,P1.08,B3\\\\\n",
       "\t241006 & R1.087,R2.008,R3.089,P1.02,B3 & R1.087,R2.008,R3.089,P1.08,B3 & R1.087,R2.008,R3.089,P1.01,B3 & R1.087,R2.008,R3.089,P1.08,B3\\\\\n",
       "\\end{tabular}\n"
      ],
      "text/markdown": [
       "\n",
       "A data.frame: 31 × 4\n",
       "\n",
       "| <!--/--> | atac_barcode &lt;chr&gt; | rna_barcode &lt;chr&gt; | atac_barcode &lt;chr&gt; | rna_barcode &lt;chr&gt; |\n",
       "|---|---|---|---|---|\n",
       "| 95218 | R1.061,R2.031,R3.062,P1.01,B3 | R1.061,R2.031,R3.062,P1.08,B3 | R1.061,R2.031,R3.062,P1.02,B3 | R1.061,R2.031,R3.062,P1.08,B3 |\n",
       "| 108273 | R1.063,R2.083,R3.002,P1.02,B3 | R1.063,R2.083,R3.002,P1.08,B3 | R1.063,R2.083,R3.002,P1.01,B3 | R1.063,R2.083,R3.002,P1.08,B3 |\n",
       "| 78895 | R1.075,R2.089,R3.001,P1.01,B3 | R1.075,R2.089,R3.001,P1.08,B3 | R1.075,R2.089,R3.001,P1.02,B3 | R1.075,R2.089,R3.001,P1.08,B3 |\n",
       "| 59602 | R1.070,R2.024,R3.078,P1.02,B3 | R1.070,R2.024,R3.078,P1.08,B3 | R1.070,R2.024,R3.078,P1.01,B3 | R1.070,R2.024,R3.078,P1.08,B3 |\n",
       "| 98922 | R1.065,R2.016,R3.093,P1.02,B3 | R1.065,R2.016,R3.093,P1.08,B3 | R1.065,R2.016,R3.093,P1.01,B3 | R1.065,R2.016,R3.093,P1.08,B3 |\n",
       "| 105524 | R1.037,R2.033,R3.093,P1.02,B3 | R1.037,R2.033,R3.093,P1.08,B3 | R1.037,R2.033,R3.093,P1.01,B3 | R1.037,R2.033,R3.093,P1.08,B3 |\n",
       "| 234556 | R1.088,R2.041,R3.017,P1.01,B3 | R1.088,R2.041,R3.017,P1.08,B3 | R1.088,R2.041,R3.017,P1.02,B3 | R1.088,R2.041,R3.017,P1.08,B3 |\n",
       "| 10356 | R1.070,R2.066,R3.010,P1.01,B3 | R1.070,R2.066,R3.010,P1.08,B3 | R1.070,R2.066,R3.010,P1.02,B3 | R1.070,R2.066,R3.010,P1.08,B3 |\n",
       "| 240349 | R1.068,R2.003,R3.011,P1.01,B3 | R1.068,R2.003,R3.011,P1.08,B3 | R1.068,R2.003,R3.011,P1.02,B3 | R1.068,R2.003,R3.011,P1.08,B3 |\n",
       "| 240216 | R1.025,R2.065,R3.065,P1.02,B3 | R1.025,R2.065,R3.065,P1.08,B3 | R1.025,R2.065,R3.065,P1.01,B3 | R1.025,R2.065,R3.065,P1.08,B3 |\n",
       "| 22237 | R1.076,R2.001,R3.094,P1.02,B3 | R1.076,R2.001,R3.094,P1.08,B3 | R1.076,R2.001,R3.094,P1.01,B3 | R1.076,R2.001,R3.094,P1.08,B3 |\n",
       "| 42623 | R1.085,R2.089,R3.089,P1.01,B3 | R1.085,R2.089,R3.089,P1.08,B3 | R1.085,R2.089,R3.089,P1.02,B3 | R1.085,R2.089,R3.089,P1.08,B3 |\n",
       "| 83484 | R1.087,R2.036,R3.002,P1.02,B3 | R1.087,R2.036,R3.002,P1.08,B3 | R1.087,R2.036,R3.002,P1.01,B3 | R1.087,R2.036,R3.002,P1.08,B3 |\n",
       "| 211047 | R1.090,R2.027,R3.034,P1.02,B3 | R1.090,R2.027,R3.034,P1.08,B3 | R1.090,R2.027,R3.034,P1.01,B3 | R1.090,R2.027,R3.034,P1.08,B3 |\n",
       "| 171956 | R1.093,R2.015,R3.064,P1.01,B3 | R1.093,R2.015,R3.064,P1.08,B3 | R1.093,R2.015,R3.064,P1.02,B3 | R1.093,R2.015,R3.064,P1.08,B3 |\n",
       "| 88361 | R1.076,R2.091,R3.027,P1.02,B3 | R1.076,R2.091,R3.027,P1.08,B3 | R1.076,R2.091,R3.027,P1.01,B3 | R1.076,R2.091,R3.027,P1.08,B3 |\n",
       "| 179647 | R1.068,R2.046,R3.044,P1.01,B3 | R1.068,R2.046,R3.044,P1.08,B3 | R1.068,R2.046,R3.044,P1.02,B3 | R1.068,R2.046,R3.044,P1.08,B3 |\n",
       "| 282737 | R1.074,R2.015,R3.091,P1.01,B3 | R1.074,R2.015,R3.091,P1.08,B3 | R1.074,R2.015,R3.091,P1.02,B3 | R1.074,R2.015,R3.091,P1.08,B3 |\n",
       "| 284908 | R1.016,R2.062,R3.072,P1.02,B3 | R1.016,R2.062,R3.072,P1.08,B3 | R1.016,R2.062,R3.072,P1.01,B3 | R1.016,R2.062,R3.072,P1.08,B3 |\n",
       "| 289082 | R1.056,R2.080,R3.012,P1.01,B3 | R1.056,R2.080,R3.012,P1.08,B3 | R1.056,R2.080,R3.012,P1.02,B3 | R1.056,R2.080,R3.012,P1.08,B3 |\n",
       "| 200081 | R1.060,R2.001,R3.092,P1.01,B3 | R1.060,R2.001,R3.092,P1.08,B3 | R1.060,R2.001,R3.092,P1.02,B3 | R1.060,R2.001,R3.092,P1.08,B3 |\n",
       "| 317787 | R1.033,R2.039,R3.007,P1.02,B3 | R1.033,R2.039,R3.007,P1.08,B3 | R1.033,R2.039,R3.007,P1.01,B3 | R1.033,R2.039,R3.007,P1.08,B3 |\n",
       "| 84116 | R1.081,R2.059,R3.001,P1.02,B3 | R1.081,R2.059,R3.001,P1.08,B3 | R1.081,R2.059,R3.001,P1.01,B3 | R1.081,R2.059,R3.001,P1.08,B3 |\n",
       "| 109831 | R1.064,R2.058,R3.026,P1.02,B3 | R1.064,R2.058,R3.026,P1.08,B3 | R1.064,R2.058,R3.026,P1.01,B3 | R1.064,R2.058,R3.026,P1.08,B3 |\n",
       "| 137088 | R1.042,R2.001,R3.089,P1.02,B3 | R1.042,R2.001,R3.089,P1.08,B3 | R1.042,R2.001,R3.089,P1.01,B3 | R1.042,R2.001,R3.089,P1.08,B3 |\n",
       "| 298913 | R1.027,R2.072,R3.079,P1.01,B3 | R1.027,R2.072,R3.079,P1.08,B3 | R1.027,R2.072,R3.079,P1.02,B3 | R1.027,R2.072,R3.079,P1.08,B3 |\n",
       "| 1304 | R1.041,R2.034,R3.082,P1.01,B3 | R1.041,R2.034,R3.082,P1.08,B3 | R1.041,R2.034,R3.082,P1.02,B3 | R1.041,R2.034,R3.082,P1.08,B3 |\n",
       "| 181869 | R1.050,R2.006,R3.079,P1.02,B3 | R1.050,R2.006,R3.079,P1.08,B3 | R1.050,R2.006,R3.079,P1.01,B3 | R1.050,R2.006,R3.079,P1.08,B3 |\n",
       "| 200917 | R1.015,R2.077,R3.077,P1.02,B3 | R1.015,R2.077,R3.077,P1.08,B3 | R1.015,R2.077,R3.077,P1.01,B3 | R1.015,R2.077,R3.077,P1.08,B3 |\n",
       "| 372302 | R1.007,R2.056,R3.015,P1.02,B3 | R1.007,R2.056,R3.015,P1.08,B3 | R1.007,R2.056,R3.015,P1.01,B3 | R1.007,R2.056,R3.015,P1.08,B3 |\n",
       "| 241006 | R1.087,R2.008,R3.089,P1.02,B3 | R1.087,R2.008,R3.089,P1.08,B3 | R1.087,R2.008,R3.089,P1.01,B3 | R1.087,R2.008,R3.089,P1.08,B3 |\n",
       "\n"
      ],
      "text/plain": [
       "       atac_barcode                  rna_barcode                  \n",
       "95218  R1.061,R2.031,R3.062,P1.01,B3 R1.061,R2.031,R3.062,P1.08,B3\n",
       "108273 R1.063,R2.083,R3.002,P1.02,B3 R1.063,R2.083,R3.002,P1.08,B3\n",
       "78895  R1.075,R2.089,R3.001,P1.01,B3 R1.075,R2.089,R3.001,P1.08,B3\n",
       "59602  R1.070,R2.024,R3.078,P1.02,B3 R1.070,R2.024,R3.078,P1.08,B3\n",
       "98922  R1.065,R2.016,R3.093,P1.02,B3 R1.065,R2.016,R3.093,P1.08,B3\n",
       "105524 R1.037,R2.033,R3.093,P1.02,B3 R1.037,R2.033,R3.093,P1.08,B3\n",
       "234556 R1.088,R2.041,R3.017,P1.01,B3 R1.088,R2.041,R3.017,P1.08,B3\n",
       "10356  R1.070,R2.066,R3.010,P1.01,B3 R1.070,R2.066,R3.010,P1.08,B3\n",
       "240349 R1.068,R2.003,R3.011,P1.01,B3 R1.068,R2.003,R3.011,P1.08,B3\n",
       "240216 R1.025,R2.065,R3.065,P1.02,B3 R1.025,R2.065,R3.065,P1.08,B3\n",
       "22237  R1.076,R2.001,R3.094,P1.02,B3 R1.076,R2.001,R3.094,P1.08,B3\n",
       "42623  R1.085,R2.089,R3.089,P1.01,B3 R1.085,R2.089,R3.089,P1.08,B3\n",
       "83484  R1.087,R2.036,R3.002,P1.02,B3 R1.087,R2.036,R3.002,P1.08,B3\n",
       "211047 R1.090,R2.027,R3.034,P1.02,B3 R1.090,R2.027,R3.034,P1.08,B3\n",
       "171956 R1.093,R2.015,R3.064,P1.01,B3 R1.093,R2.015,R3.064,P1.08,B3\n",
       "88361  R1.076,R2.091,R3.027,P1.02,B3 R1.076,R2.091,R3.027,P1.08,B3\n",
       "179647 R1.068,R2.046,R3.044,P1.01,B3 R1.068,R2.046,R3.044,P1.08,B3\n",
       "282737 R1.074,R2.015,R3.091,P1.01,B3 R1.074,R2.015,R3.091,P1.08,B3\n",
       "284908 R1.016,R2.062,R3.072,P1.02,B3 R1.016,R2.062,R3.072,P1.08,B3\n",
       "289082 R1.056,R2.080,R3.012,P1.01,B3 R1.056,R2.080,R3.012,P1.08,B3\n",
       "200081 R1.060,R2.001,R3.092,P1.01,B3 R1.060,R2.001,R3.092,P1.08,B3\n",
       "317787 R1.033,R2.039,R3.007,P1.02,B3 R1.033,R2.039,R3.007,P1.08,B3\n",
       "84116  R1.081,R2.059,R3.001,P1.02,B3 R1.081,R2.059,R3.001,P1.08,B3\n",
       "109831 R1.064,R2.058,R3.026,P1.02,B3 R1.064,R2.058,R3.026,P1.08,B3\n",
       "137088 R1.042,R2.001,R3.089,P1.02,B3 R1.042,R2.001,R3.089,P1.08,B3\n",
       "298913 R1.027,R2.072,R3.079,P1.01,B3 R1.027,R2.072,R3.079,P1.08,B3\n",
       "1304   R1.041,R2.034,R3.082,P1.01,B3 R1.041,R2.034,R3.082,P1.08,B3\n",
       "181869 R1.050,R2.006,R3.079,P1.02,B3 R1.050,R2.006,R3.079,P1.08,B3\n",
       "200917 R1.015,R2.077,R3.077,P1.02,B3 R1.015,R2.077,R3.077,P1.08,B3\n",
       "372302 R1.007,R2.056,R3.015,P1.02,B3 R1.007,R2.056,R3.015,P1.08,B3\n",
       "241006 R1.087,R2.008,R3.089,P1.02,B3 R1.087,R2.008,R3.089,P1.08,B3\n",
       "       atac_barcode                  rna_barcode                  \n",
       "95218  R1.061,R2.031,R3.062,P1.02,B3 R1.061,R2.031,R3.062,P1.08,B3\n",
       "108273 R1.063,R2.083,R3.002,P1.01,B3 R1.063,R2.083,R3.002,P1.08,B3\n",
       "78895  R1.075,R2.089,R3.001,P1.02,B3 R1.075,R2.089,R3.001,P1.08,B3\n",
       "59602  R1.070,R2.024,R3.078,P1.01,B3 R1.070,R2.024,R3.078,P1.08,B3\n",
       "98922  R1.065,R2.016,R3.093,P1.01,B3 R1.065,R2.016,R3.093,P1.08,B3\n",
       "105524 R1.037,R2.033,R3.093,P1.01,B3 R1.037,R2.033,R3.093,P1.08,B3\n",
       "234556 R1.088,R2.041,R3.017,P1.02,B3 R1.088,R2.041,R3.017,P1.08,B3\n",
       "10356  R1.070,R2.066,R3.010,P1.02,B3 R1.070,R2.066,R3.010,P1.08,B3\n",
       "240349 R1.068,R2.003,R3.011,P1.02,B3 R1.068,R2.003,R3.011,P1.08,B3\n",
       "240216 R1.025,R2.065,R3.065,P1.01,B3 R1.025,R2.065,R3.065,P1.08,B3\n",
       "22237  R1.076,R2.001,R3.094,P1.01,B3 R1.076,R2.001,R3.094,P1.08,B3\n",
       "42623  R1.085,R2.089,R3.089,P1.02,B3 R1.085,R2.089,R3.089,P1.08,B3\n",
       "83484  R1.087,R2.036,R3.002,P1.01,B3 R1.087,R2.036,R3.002,P1.08,B3\n",
       "211047 R1.090,R2.027,R3.034,P1.01,B3 R1.090,R2.027,R3.034,P1.08,B3\n",
       "171956 R1.093,R2.015,R3.064,P1.02,B3 R1.093,R2.015,R3.064,P1.08,B3\n",
       "88361  R1.076,R2.091,R3.027,P1.01,B3 R1.076,R2.091,R3.027,P1.08,B3\n",
       "179647 R1.068,R2.046,R3.044,P1.02,B3 R1.068,R2.046,R3.044,P1.08,B3\n",
       "282737 R1.074,R2.015,R3.091,P1.02,B3 R1.074,R2.015,R3.091,P1.08,B3\n",
       "284908 R1.016,R2.062,R3.072,P1.01,B3 R1.016,R2.062,R3.072,P1.08,B3\n",
       "289082 R1.056,R2.080,R3.012,P1.02,B3 R1.056,R2.080,R3.012,P1.08,B3\n",
       "200081 R1.060,R2.001,R3.092,P1.02,B3 R1.060,R2.001,R3.092,P1.08,B3\n",
       "317787 R1.033,R2.039,R3.007,P1.01,B3 R1.033,R2.039,R3.007,P1.08,B3\n",
       "84116  R1.081,R2.059,R3.001,P1.01,B3 R1.081,R2.059,R3.001,P1.08,B3\n",
       "109831 R1.064,R2.058,R3.026,P1.01,B3 R1.064,R2.058,R3.026,P1.08,B3\n",
       "137088 R1.042,R2.001,R3.089,P1.01,B3 R1.042,R2.001,R3.089,P1.08,B3\n",
       "298913 R1.027,R2.072,R3.079,P1.02,B3 R1.027,R2.072,R3.079,P1.08,B3\n",
       "1304   R1.041,R2.034,R3.082,P1.02,B3 R1.041,R2.034,R3.082,P1.08,B3\n",
       "181869 R1.050,R2.006,R3.079,P1.01,B3 R1.050,R2.006,R3.079,P1.08,B3\n",
       "200917 R1.015,R2.077,R3.077,P1.01,B3 R1.015,R2.077,R3.077,P1.08,B3\n",
       "372302 R1.007,R2.056,R3.015,P1.01,B3 R1.007,R2.056,R3.015,P1.08,B3\n",
       "241006 R1.087,R2.008,R3.089,P1.01,B3 R1.087,R2.008,R3.089,P1.08,B3"
      ]
     },
     "metadata": {},
     "output_type": "display_data"
    }
   ],
   "source": [
    "cbind(df_barcode_atac[duplicated_index$V1, ], df_barcode_atac[duplicated_index$V2, ])"
   ]
  },
  {
   "cell_type": "markdown",
   "id": "e6b962d7",
   "metadata": {},
   "source": [
    "### removing Rule"
   ]
  },
  {
   "cell_type": "markdown",
   "id": "86989841",
   "metadata": {},
   "source": [
    "### remove ATAC cells with atac_barcode ending with \"P1.02,B3\" in the df_barcode_atac "
   ]
  },
  {
   "cell_type": "code",
   "execution_count": 39,
   "id": "927234f6",
   "metadata": {},
   "outputs": [
    {
     "data": {
      "text/html": [
       "4798"
      ],
      "text/latex": [
       "4798"
      ],
      "text/markdown": [
       "4798"
      ],
      "text/plain": [
       "[1] 4798"
      ]
     },
     "metadata": {},
     "output_type": "display_data"
    }
   ],
   "source": [
    "length(grep(\"P1.02,B3$\", df_barcode_atac$atac_barcode))"
   ]
  },
  {
   "cell_type": "code",
   "execution_count": 40,
   "id": "4017a9fc",
   "metadata": {},
   "outputs": [
    {
     "data": {
      "text/html": [
       "<style>\n",
       ".list-inline {list-style: none; margin:0; padding: 0}\n",
       ".list-inline>li {display: inline-block}\n",
       ".list-inline>li:not(:last-child)::after {content: \"\\00b7\"; padding: 0 .5ex}\n",
       "</style>\n",
       "<ol class=list-inline><li>401875</li><li>2</li></ol>\n"
      ],
      "text/latex": [
       "\\begin{enumerate*}\n",
       "\\item 401875\n",
       "\\item 2\n",
       "\\end{enumerate*}\n"
      ],
      "text/markdown": [
       "1. 401875\n",
       "2. 2\n",
       "\n",
       "\n"
      ],
      "text/plain": [
       "[1] 401875      2"
      ]
     },
     "metadata": {},
     "output_type": "display_data"
    },
    {
     "data": {
      "text/html": [
       "<style>\n",
       ".list-inline {list-style: none; margin:0; padding: 0}\n",
       ".list-inline>li {display: inline-block}\n",
       ".list-inline>li:not(:last-child)::after {content: \"\\00b7\"; padding: 0 .5ex}\n",
       "</style>\n",
       "<ol class=list-inline><li>397077</li><li>2</li></ol>\n"
      ],
      "text/latex": [
       "\\begin{enumerate*}\n",
       "\\item 397077\n",
       "\\item 2\n",
       "\\end{enumerate*}\n"
      ],
      "text/markdown": [
       "1. 397077\n",
       "2. 2\n",
       "\n",
       "\n"
      ],
      "text/plain": [
       "[1] 397077      2"
      ]
     },
     "metadata": {},
     "output_type": "display_data"
    }
   ],
   "source": [
    "dim(df_barcode_atac)\n",
    "df_barcode_atac = df_barcode_atac[-which(grepl(\"P1.02,B3$\", df_barcode_atac$atac_barcode)),]\n",
    "dim(df_barcode_atac)"
   ]
  },
  {
   "cell_type": "code",
   "execution_count": 41,
   "id": "85084362",
   "metadata": {},
   "outputs": [
    {
     "data": {
      "text/html": [
       "0"
      ],
      "text/latex": [
       "0"
      ],
      "text/markdown": [
       "0"
      ],
      "text/plain": [
       "[1] 0"
      ]
     },
     "metadata": {},
     "output_type": "display_data"
    },
    {
     "data": {
      "text/html": [
       "0"
      ],
      "text/latex": [
       "0"
      ],
      "text/markdown": [
       "0"
      ],
      "text/plain": [
       "[1] 0"
      ]
     },
     "metadata": {},
     "output_type": "display_data"
    },
    {
     "data": {
      "text/html": [
       "0"
      ],
      "text/latex": [
       "0"
      ],
      "text/markdown": [
       "0"
      ],
      "text/plain": [
       "[1] 0"
      ]
     },
     "metadata": {},
     "output_type": "display_data"
    },
    {
     "data": {
      "text/html": [
       "0"
      ],
      "text/latex": [
       "0"
      ],
      "text/markdown": [
       "0"
      ],
      "text/plain": [
       "[1] 0"
      ]
     },
     "metadata": {},
     "output_type": "display_data"
    }
   ],
   "source": [
    "sum(duplicated(df_barcode_atac$atac_barcode))\n",
    "sum(duplicated(df_barcode_atac$rna_barcode))\n",
    "\n",
    "sum(duplicated(df_barcode_rna$atac_barcode))\n",
    "sum(duplicated(df_barcode_rna$rna_barcode))"
   ]
  },
  {
   "cell_type": "markdown",
   "id": "7b41a5a2",
   "metadata": {},
   "source": [
    "### create df_barcode data.frame to find shared rna_barcode in both atac meta.data and rna meta.data"
   ]
  },
  {
   "cell_type": "code",
   "execution_count": 42,
   "id": "2acb072e",
   "metadata": {},
   "outputs": [
    {
     "name": "stdout",
     "output_type": "stream",
     "text": [
      "[1] \"df_barcode_rna\"\n",
      "[1] 446267      2\n",
      "[1] \"df_barcode_atac\"\n",
      "[1] 397077      2\n",
      "[1] \"df_barcode\"\n",
      "[1] 324701      3\n",
      "                   atac_barcode                   rna_barcode celltype5_rna\n",
      "1 R1.034,R2.082,R3.082,P1.76,B3 R1.034,R2.082,R3.082,P1.82,B4           tL1\n",
      "2 R1.047,R2.073,R3.003,P1.65,B2 R1.047,R2.073,R3.003,P1.78,B2           PEC\n",
      "3 R1.025,R2.080,R3.017,P1.66,B2 R1.025,R2.080,R3.017,P1.79,B2     PT_dediff\n",
      "4 R1.056,R2.038,R3.008,P1.48,B2 R1.056,R2.038,R3.008,P1.56,B2          TAL1\n",
      "5 R1.089,R2.082,R3.024,P1.14,B1    R1.89,R2.82,R3.24,P1.07,B1           CNT\n",
      "6 R1.031,R2.072,R3.075,P1.78,B3 R1.031,R2.072,R3.075,P1.84,B4          TAL2\n"
     ]
    }
   ],
   "source": [
    "df_barcode = dplyr::inner_join(df_barcode_atac, df_barcode_rna, by = \"rna_barcode\")\n",
    "  \n",
    "print(\"df_barcode_rna\")\n",
    "print(dim(df_barcode_rna))\n",
    "# print(df_barcode_rna)\n",
    "print(\"df_barcode_atac\")\n",
    "print(dim(df_barcode_atac))\n",
    "# print(df_barcode_atac)\n",
    "print(\"df_barcode\")\n",
    "print(dim(df_barcode))\n",
    "print(head(df_barcode))"
   ]
  },
  {
   "cell_type": "code",
   "execution_count": null,
   "id": "7bd1b13a",
   "metadata": {},
   "outputs": [],
   "source": []
  },
  {
   "cell_type": "markdown",
   "id": "e205cdc9",
   "metadata": {},
   "source": [
    "### check with previously extracted barcode"
   ]
  },
  {
   "cell_type": "code",
   "execution_count": 43,
   "id": "4856dbd8",
   "metadata": {},
   "outputs": [],
   "source": [
    "# load(\"../processed_data/BK_20221221_324701_cells_multi_metadata.RData\")"
   ]
  },
  {
   "cell_type": "code",
   "execution_count": 44,
   "id": "3860eab0",
   "metadata": {},
   "outputs": [],
   "source": [
    "# sum(rownames(novaseq_meta_data) %in% df_barcode$atac_barcode)"
   ]
  },
  {
   "cell_type": "markdown",
   "id": "9f3912d0",
   "metadata": {},
   "source": [
    "324701"
   ]
  },
  {
   "cell_type": "code",
   "execution_count": null,
   "id": "9686830f",
   "metadata": {},
   "outputs": [],
   "source": []
  },
  {
   "cell_type": "markdown",
   "id": "3ac0100f",
   "metadata": {},
   "source": [
    "### delete several columns from atac meta.data"
   ]
  },
  {
   "cell_type": "code",
   "execution_count": 45,
   "id": "6bffbc61",
   "metadata": {
    "vscode": {
     "languageId": "r"
    }
   },
   "outputs": [
    {
     "data": {
      "text/plain": [
       "An object of class Seurat \n",
       "189184 features across 401875 samples within 1 assay \n",
       "Active assay: peaks (189184 features, 189184 variable features)"
      ]
     },
     "metadata": {},
     "output_type": "display_data"
    }
   ],
   "source": [
    "if (\"total_counts_mt\" %in% colnames(novaseq@meta.data)) novaseq$total_counts_mt <- NULL\n",
    "if (\"pct_counts_mt\" %in% colnames(novaseq@meta.data)) novaseq$pct_counts_mt <- NULL\n",
    "if (\"nCount_RNA\" %in% colnames(novaseq@meta.data)) novaseq$nCount_RNA <- NULL\n",
    "if (\"nFeature_RNA\" %in% colnames(novaseq@meta.data)) novaseq$nFeature_RNA <- NULL\n",
    "if (\"n_genes\" %in% colnames(novaseq@meta.data)) novaseq$n_genes <- NULL\n",
    "if (\"n_genes_by_counts\" %in% colnames(novaseq@meta.data)) novaseq$n_genes_by_counts <- NULL\n",
    "if (\"total_counts\" %in% colnames(novaseq@meta.data)) novaseq$total_counts <- NULL\n",
    "if (\"celltype\" %in% colnames(novaseq@meta.data)) novaseq$celltype <- NULL\n",
    "if (\"peaks_snn_res3\" %in% colnames(novaseq@meta.data)) novaseq$peaks_snn_res3 <- NULL\n",
    "\n",
    "novaseq"
   ]
  },
  {
   "cell_type": "code",
   "execution_count": 46,
   "id": "4fae2567",
   "metadata": {
    "vscode": {
     "languageId": "r"
    }
   },
   "outputs": [
    {
     "data": {
      "text/html": [
       "<style>\n",
       ".list-inline {list-style: none; margin:0; padding: 0}\n",
       ".list-inline>li {display: inline-block}\n",
       ".list-inline>li:not(:last-child)::after {content: \"\\00b7\"; padding: 0 .5ex}\n",
       "</style>\n",
       "<ol class=list-inline><li>'orig.ident'</li><li>'nCount_peaks'</li><li>'nFeature_peaks'</li><li>'nucleosome_signal'</li><li>'nucleosome_percentile'</li><li>'TSS.enrichment'</li><li>'TSS.percentile'</li><li>'high.tss'</li><li>'nucleosome_group'</li><li>'fragments'</li><li>'reads_count'</li><li>'mononucleosomal'</li><li>'nucleosome_free'</li><li>'FRiP'</li><li>'blacklist_fraction'</li><li>'sample_id'</li><li>'sample_id_new'</li><li>'patient_id'</li><li>'batch'</li><li>'atac_prep_date'</li><li>'renal_region'</li><li>'renal_region_new'</li><li>'R1_id'</li><li>'rna_barcode'</li><li>'doublet_score'</li><li>'seurat_clusters'</li><li>'peaks_snn_res4'</li><li>'celltype_atac5'</li></ol>\n"
      ],
      "text/latex": [
       "\\begin{enumerate*}\n",
       "\\item 'orig.ident'\n",
       "\\item 'nCount\\_peaks'\n",
       "\\item 'nFeature\\_peaks'\n",
       "\\item 'nucleosome\\_signal'\n",
       "\\item 'nucleosome\\_percentile'\n",
       "\\item 'TSS.enrichment'\n",
       "\\item 'TSS.percentile'\n",
       "\\item 'high.tss'\n",
       "\\item 'nucleosome\\_group'\n",
       "\\item 'fragments'\n",
       "\\item 'reads\\_count'\n",
       "\\item 'mononucleosomal'\n",
       "\\item 'nucleosome\\_free'\n",
       "\\item 'FRiP'\n",
       "\\item 'blacklist\\_fraction'\n",
       "\\item 'sample\\_id'\n",
       "\\item 'sample\\_id\\_new'\n",
       "\\item 'patient\\_id'\n",
       "\\item 'batch'\n",
       "\\item 'atac\\_prep\\_date'\n",
       "\\item 'renal\\_region'\n",
       "\\item 'renal\\_region\\_new'\n",
       "\\item 'R1\\_id'\n",
       "\\item 'rna\\_barcode'\n",
       "\\item 'doublet\\_score'\n",
       "\\item 'seurat\\_clusters'\n",
       "\\item 'peaks\\_snn\\_res4'\n",
       "\\item 'celltype\\_atac5'\n",
       "\\end{enumerate*}\n"
      ],
      "text/markdown": [
       "1. 'orig.ident'\n",
       "2. 'nCount_peaks'\n",
       "3. 'nFeature_peaks'\n",
       "4. 'nucleosome_signal'\n",
       "5. 'nucleosome_percentile'\n",
       "6. 'TSS.enrichment'\n",
       "7. 'TSS.percentile'\n",
       "8. 'high.tss'\n",
       "9. 'nucleosome_group'\n",
       "10. 'fragments'\n",
       "11. 'reads_count'\n",
       "12. 'mononucleosomal'\n",
       "13. 'nucleosome_free'\n",
       "14. 'FRiP'\n",
       "15. 'blacklist_fraction'\n",
       "16. 'sample_id'\n",
       "17. 'sample_id_new'\n",
       "18. 'patient_id'\n",
       "19. 'batch'\n",
       "20. 'atac_prep_date'\n",
       "21. 'renal_region'\n",
       "22. 'renal_region_new'\n",
       "23. 'R1_id'\n",
       "24. 'rna_barcode'\n",
       "25. 'doublet_score'\n",
       "26. 'seurat_clusters'\n",
       "27. 'peaks_snn_res4'\n",
       "28. 'celltype_atac5'\n",
       "\n",
       "\n"
      ],
      "text/plain": [
       " [1] \"orig.ident\"            \"nCount_peaks\"          \"nFeature_peaks\"       \n",
       " [4] \"nucleosome_signal\"     \"nucleosome_percentile\" \"TSS.enrichment\"       \n",
       " [7] \"TSS.percentile\"        \"high.tss\"              \"nucleosome_group\"     \n",
       "[10] \"fragments\"             \"reads_count\"           \"mononucleosomal\"      \n",
       "[13] \"nucleosome_free\"       \"FRiP\"                  \"blacklist_fraction\"   \n",
       "[16] \"sample_id\"             \"sample_id_new\"         \"patient_id\"           \n",
       "[19] \"batch\"                 \"atac_prep_date\"        \"renal_region\"         \n",
       "[22] \"renal_region_new\"      \"R1_id\"                 \"rna_barcode\"          \n",
       "[25] \"doublet_score\"         \"seurat_clusters\"       \"peaks_snn_res4\"       \n",
       "[28] \"celltype_atac5\"       "
      ]
     },
     "metadata": {},
     "output_type": "display_data"
    }
   ],
   "source": [
    "colnames(novaseq@meta.data)"
   ]
  },
  {
   "cell_type": "markdown",
   "id": "5e9b0368",
   "metadata": {},
   "source": [
    "### subset atac object based on overlap barcode"
   ]
  },
  {
   "cell_type": "code",
   "execution_count": 47,
   "id": "0c2610bc",
   "metadata": {
    "vscode": {
     "languageId": "r"
    }
   },
   "outputs": [
    {
     "data": {
      "text/plain": [
       "[1] \"2023-06-27 23:02:44 CDT\""
      ]
     },
     "metadata": {},
     "output_type": "display_data"
    },
    {
     "data": {
      "text/plain": [
       "An object of class Seurat \n",
       "189184 features across 324701 samples within 1 assay \n",
       "Active assay: peaks (189184 features, 189184 variable features)"
      ]
     },
     "metadata": {},
     "output_type": "display_data"
    },
    {
     "data": {
      "text/plain": [
       "[1] \"2023-06-27 23:04:30 CDT\""
      ]
     },
     "metadata": {},
     "output_type": "display_data"
    }
   ],
   "source": [
    "Sys.time()\n",
    "novaseq = subset(novaseq, \n",
    "                 cells = df_barcode$atac_barcode)\n",
    "novaseq\n",
    "Sys.time()"
   ]
  },
  {
   "cell_type": "markdown",
   "id": "d6035be9",
   "metadata": {},
   "source": [
    "### subset RNA object based on overlap barcode"
   ]
  },
  {
   "cell_type": "code",
   "execution_count": 48,
   "id": "89c85079",
   "metadata": {},
   "outputs": [
    {
     "data": {
      "text/plain": [
       "[1] \"2023-06-27 23:04:30 CDT\""
      ]
     },
     "metadata": {},
     "output_type": "display_data"
    },
    {
     "data": {
      "text/plain": [
       "An object of class Seurat \n",
       "48338 features across 324701 samples within 1 assay \n",
       "Active assay: RNA (48338 features, 0 variable features)"
      ]
     },
     "metadata": {},
     "output_type": "display_data"
    },
    {
     "data": {
      "text/plain": [
       "[1] \"2023-06-27 23:05:05 CDT\""
      ]
     },
     "metadata": {},
     "output_type": "display_data"
    }
   ],
   "source": [
    "Sys.time()\n",
    "novaseq.rna.sub = subset(novaseq.rna, \n",
    "                 cells = df_barcode$rna_barcode)\n",
    "novaseq.rna.sub\n",
    "Sys.time()"
   ]
  },
  {
   "cell_type": "markdown",
   "id": "d97cc73c",
   "metadata": {},
   "source": [
    "### create new rna count matrix and add to novaseq object"
   ]
  },
  {
   "cell_type": "code",
   "execution_count": 49,
   "id": "5d6092fe",
   "metadata": {
    "vscode": {
     "languageId": "r"
    }
   },
   "outputs": [
    {
     "data": {
      "text/plain": [
       "[1] \"2023-06-27 23:05:05 CDT\""
      ]
     },
     "metadata": {},
     "output_type": "display_data"
    },
    {
     "data": {
      "text/plain": [
       "[1] \"2023-06-27 23:05:05 CDT\""
      ]
     },
     "metadata": {},
     "output_type": "display_data"
    }
   ],
   "source": [
    "Sys.time()\n",
    "rna_counts = GetAssayData(object = novaseq.rna.sub[[\"RNA\"]], slot = 'counts')\n",
    "Sys.time()\n"
   ]
  },
  {
   "cell_type": "markdown",
   "id": "37932ab6",
   "metadata": {},
   "source": [
    "### subset and reorder rna_counts to the corresponding ATAC barcodes"
   ]
  },
  {
   "cell_type": "code",
   "execution_count": 50,
   "id": "e5eb7fff",
   "metadata": {
    "vscode": {
     "languageId": "r"
    }
   },
   "outputs": [],
   "source": [
    "df_rna_counts_barcode = data.frame(\"rna_barcode\" = colnames(rna_counts), \"col_index\" = 1:dim(rna_counts)[2])\n",
    "df_rna_counts_barcode_shared = dplyr::inner_join(df_rna_counts_barcode, df_barcode, by = \"rna_barcode\")"
   ]
  },
  {
   "cell_type": "code",
   "execution_count": 51,
   "id": "4779b202",
   "metadata": {
    "vscode": {
     "languageId": "r"
    }
   },
   "outputs": [],
   "source": [
    "rna_counts = rna_counts[, df_rna_counts_barcode_shared$col_index]"
   ]
  },
  {
   "cell_type": "markdown",
   "id": "54848c3b",
   "metadata": {},
   "source": [
    "### change rna_counts column names / cell barcodes to atac_barcode\n"
   ]
  },
  {
   "cell_type": "code",
   "execution_count": 52,
   "id": "02c3cfe9",
   "metadata": {
    "vscode": {
     "languageId": "r"
    }
   },
   "outputs": [],
   "source": [
    "colnames(rna_counts) = df_rna_counts_barcode_shared$atac_barcode"
   ]
  },
  {
   "cell_type": "markdown",
   "id": "ce1091ac",
   "metadata": {},
   "source": [
    "### rename novaseq.rna.sub cells to atac_barcode"
   ]
  },
  {
   "cell_type": "code",
   "execution_count": 53,
   "id": "7b14b3ae",
   "metadata": {
    "vscode": {
     "languageId": "r"
    }
   },
   "outputs": [],
   "source": [
    "novaseq.rna.sub = RenameCells(novaseq.rna.sub, new.names = df_rna_counts_barcode_shared$atac_barcode)"
   ]
  },
  {
   "cell_type": "markdown",
   "id": "130b3688",
   "metadata": {},
   "source": [
    "## create RNA object"
   ]
  },
  {
   "cell_type": "code",
   "execution_count": 54,
   "id": "ad429658",
   "metadata": {
    "vscode": {
     "languageId": "r"
    }
   },
   "outputs": [
    {
     "data": {
      "text/plain": [
       "[1] \"2023-06-27 23:05:12 CDT\""
      ]
     },
     "metadata": {},
     "output_type": "display_data"
    },
    {
     "data": {
      "text/plain": [
       "An object of class Seurat \n",
       "48338 features across 324701 samples within 1 assay \n",
       "Active assay: RNA (48338 features, 0 variable features)"
      ]
     },
     "metadata": {},
     "output_type": "display_data"
    },
    {
     "data": {
      "text/plain": [
       "[1] \"2023-06-27 23:06:02 CDT\""
      ]
     },
     "metadata": {},
     "output_type": "display_data"
    }
   ],
   "source": [
    "Sys.time()\n",
    "tmp_RNA_obj <- CreateSeuratObject(counts = rna_counts)\n",
    "tmp_RNA_obj\n",
    "tmp_RNA_obj[[\"percent.mt\"]] <- PercentageFeatureSet(tmp_RNA_obj, pattern = \"^MT-\")\n",
    "tmp_RNA_obj[['celltype5_rna']] <- df_rna_counts_barcode_shared$celltype5_rna\n",
    "tmp_RNA_obj <- NormalizeData(tmp_RNA_obj)\n",
    "Sys.time()"
   ]
  },
  {
   "cell_type": "markdown",
   "id": "9692d6b5",
   "metadata": {},
   "source": [
    "## add RNA assay and meta to ATAC object "
   ]
  },
  {
   "cell_type": "code",
   "execution_count": 55,
   "id": "48e4e88c",
   "metadata": {
    "vscode": {
     "languageId": "r"
    }
   },
   "outputs": [
    {
     "data": {
      "text/plain": [
       "[1] \"2023-06-27 23:06:02 CDT\""
      ]
     },
     "metadata": {},
     "output_type": "display_data"
    },
    {
     "data": {
      "text/plain": [
       "[1] \"2023-06-27 23:06:15 CDT\""
      ]
     },
     "metadata": {},
     "output_type": "display_data"
    }
   ],
   "source": [
    "Sys.time()\n",
    "novaseq[[\"RNA\"]] = tmp_RNA_obj[[\"RNA\"]]\n",
    "Sys.time()"
   ]
  },
  {
   "cell_type": "code",
   "execution_count": 56,
   "id": "feb3c329",
   "metadata": {
    "vscode": {
     "languageId": "r"
    }
   },
   "outputs": [
    {
     "data": {
      "text/plain": [
       "An object of class Seurat \n",
       "237522 features across 324701 samples within 2 assays \n",
       "Active assay: peaks (189184 features, 189184 variable features)\n",
       " 1 other assay present: RNA"
      ]
     },
     "metadata": {},
     "output_type": "display_data"
    }
   ],
   "source": [
    "novaseq"
   ]
  },
  {
   "cell_type": "code",
   "execution_count": 57,
   "id": "8a0799d3",
   "metadata": {},
   "outputs": [
    {
     "data": {
      "text/html": [
       "<style>\n",
       ".list-inline {list-style: none; margin:0; padding: 0}\n",
       ".list-inline>li {display: inline-block}\n",
       ".list-inline>li:not(:last-child)::after {content: \"\\00b7\"; padding: 0 .5ex}\n",
       "</style>\n",
       "<ol class=list-inline><li>'orig.ident'</li><li>'nCount_peaks'</li><li>'nFeature_peaks'</li><li>'nucleosome_signal'</li><li>'nucleosome_percentile'</li><li>'TSS.enrichment'</li><li>'TSS.percentile'</li><li>'high.tss'</li><li>'nucleosome_group'</li><li>'fragments'</li><li>'reads_count'</li><li>'mononucleosomal'</li><li>'nucleosome_free'</li><li>'FRiP'</li><li>'blacklist_fraction'</li><li>'sample_id'</li><li>'sample_id_new'</li><li>'patient_id'</li><li>'batch'</li><li>'atac_prep_date'</li><li>'renal_region'</li><li>'renal_region_new'</li><li>'R1_id'</li><li>'rna_barcode'</li><li>'doublet_score'</li><li>'seurat_clusters'</li><li>'peaks_snn_res4'</li><li>'celltype_atac5'</li><li>'nCount_RNA'</li><li>'nFeature_RNA'</li></ol>\n"
      ],
      "text/latex": [
       "\\begin{enumerate*}\n",
       "\\item 'orig.ident'\n",
       "\\item 'nCount\\_peaks'\n",
       "\\item 'nFeature\\_peaks'\n",
       "\\item 'nucleosome\\_signal'\n",
       "\\item 'nucleosome\\_percentile'\n",
       "\\item 'TSS.enrichment'\n",
       "\\item 'TSS.percentile'\n",
       "\\item 'high.tss'\n",
       "\\item 'nucleosome\\_group'\n",
       "\\item 'fragments'\n",
       "\\item 'reads\\_count'\n",
       "\\item 'mononucleosomal'\n",
       "\\item 'nucleosome\\_free'\n",
       "\\item 'FRiP'\n",
       "\\item 'blacklist\\_fraction'\n",
       "\\item 'sample\\_id'\n",
       "\\item 'sample\\_id\\_new'\n",
       "\\item 'patient\\_id'\n",
       "\\item 'batch'\n",
       "\\item 'atac\\_prep\\_date'\n",
       "\\item 'renal\\_region'\n",
       "\\item 'renal\\_region\\_new'\n",
       "\\item 'R1\\_id'\n",
       "\\item 'rna\\_barcode'\n",
       "\\item 'doublet\\_score'\n",
       "\\item 'seurat\\_clusters'\n",
       "\\item 'peaks\\_snn\\_res4'\n",
       "\\item 'celltype\\_atac5'\n",
       "\\item 'nCount\\_RNA'\n",
       "\\item 'nFeature\\_RNA'\n",
       "\\end{enumerate*}\n"
      ],
      "text/markdown": [
       "1. 'orig.ident'\n",
       "2. 'nCount_peaks'\n",
       "3. 'nFeature_peaks'\n",
       "4. 'nucleosome_signal'\n",
       "5. 'nucleosome_percentile'\n",
       "6. 'TSS.enrichment'\n",
       "7. 'TSS.percentile'\n",
       "8. 'high.tss'\n",
       "9. 'nucleosome_group'\n",
       "10. 'fragments'\n",
       "11. 'reads_count'\n",
       "12. 'mononucleosomal'\n",
       "13. 'nucleosome_free'\n",
       "14. 'FRiP'\n",
       "15. 'blacklist_fraction'\n",
       "16. 'sample_id'\n",
       "17. 'sample_id_new'\n",
       "18. 'patient_id'\n",
       "19. 'batch'\n",
       "20. 'atac_prep_date'\n",
       "21. 'renal_region'\n",
       "22. 'renal_region_new'\n",
       "23. 'R1_id'\n",
       "24. 'rna_barcode'\n",
       "25. 'doublet_score'\n",
       "26. 'seurat_clusters'\n",
       "27. 'peaks_snn_res4'\n",
       "28. 'celltype_atac5'\n",
       "29. 'nCount_RNA'\n",
       "30. 'nFeature_RNA'\n",
       "\n",
       "\n"
      ],
      "text/plain": [
       " [1] \"orig.ident\"            \"nCount_peaks\"          \"nFeature_peaks\"       \n",
       " [4] \"nucleosome_signal\"     \"nucleosome_percentile\" \"TSS.enrichment\"       \n",
       " [7] \"TSS.percentile\"        \"high.tss\"              \"nucleosome_group\"     \n",
       "[10] \"fragments\"             \"reads_count\"           \"mononucleosomal\"      \n",
       "[13] \"nucleosome_free\"       \"FRiP\"                  \"blacklist_fraction\"   \n",
       "[16] \"sample_id\"             \"sample_id_new\"         \"patient_id\"           \n",
       "[19] \"batch\"                 \"atac_prep_date\"        \"renal_region\"         \n",
       "[22] \"renal_region_new\"      \"R1_id\"                 \"rna_barcode\"          \n",
       "[25] \"doublet_score\"         \"seurat_clusters\"       \"peaks_snn_res4\"       \n",
       "[28] \"celltype_atac5\"        \"nCount_RNA\"            \"nFeature_RNA\"         "
      ]
     },
     "metadata": {},
     "output_type": "display_data"
    }
   ],
   "source": [
    "colnames(novaseq@meta.data)"
   ]
  },
  {
   "cell_type": "code",
   "execution_count": 58,
   "id": "66579141",
   "metadata": {},
   "outputs": [
    {
     "data": {
      "text/plain": [
       "[1] \"2023-06-27 23:06:15 CDT\""
      ]
     },
     "metadata": {},
     "output_type": "display_data"
    }
   ],
   "source": [
    "Sys.time()"
   ]
  },
  {
   "cell_type": "code",
   "execution_count": null,
   "id": "06414bdc",
   "metadata": {},
   "outputs": [],
   "source": []
  },
  {
   "cell_type": "code",
   "execution_count": null,
   "id": "1e7c4a51",
   "metadata": {},
   "outputs": [],
   "source": []
  },
  {
   "cell_type": "markdown",
   "id": "8f8434e9",
   "metadata": {},
   "source": [
    "### add percent.mt and celltype5_rna to meta.data"
   ]
  },
  {
   "cell_type": "code",
   "execution_count": 59,
   "id": "61c8ff34",
   "metadata": {
    "vscode": {
     "languageId": "r"
    }
   },
   "outputs": [],
   "source": [
    "novaseq[[\"percent.mt\"]]  <-  tmp_RNA_obj$percent.mt\n",
    "novaseq[[\"celltype5_rna\"]]  <-  tmp_RNA_obj$celltype5_rna"
   ]
  },
  {
   "cell_type": "markdown",
   "id": "67b1f908",
   "metadata": {},
   "source": [
    "### set peaks as the default assay "
   ]
  },
  {
   "cell_type": "code",
   "execution_count": 60,
   "id": "61aff511",
   "metadata": {},
   "outputs": [],
   "source": [
    "DefaultAssay(novaseq) = \"peaks\""
   ]
  },
  {
   "cell_type": "markdown",
   "id": "02d98ebd",
   "metadata": {},
   "source": [
    "### update renal_region_new as Renal Artery was missing"
   ]
  },
  {
   "cell_type": "code",
   "execution_count": 61,
   "id": "7ac4551b",
   "metadata": {},
   "outputs": [
    {
     "data": {
      "text/plain": [
       "\n",
       " Cortex Medulla Papilla  Ureter \n",
       " 178521   76815   58891    6950 "
      ]
     },
     "metadata": {},
     "output_type": "display_data"
    }
   ],
   "source": [
    "table(novaseq$renal_region_new)"
   ]
  },
  {
   "cell_type": "code",
   "execution_count": 62,
   "id": "4f5ef3e4",
   "metadata": {},
   "outputs": [
    {
     "data": {
      "text/plain": [
       "\n",
       "      Cortex      Medulla      Papilla Renal Artery       Ureter \n",
       "      178521        76815        58891         3524         6950 "
      ]
     },
     "metadata": {},
     "output_type": "display_data"
    }
   ],
   "source": [
    "novaseq$renal_region_new[is.na(novaseq$renal_region_new)] = \"Renal Artery\"\n",
    "table(novaseq$renal_region_new)"
   ]
  },
  {
   "cell_type": "code",
   "execution_count": null,
   "id": "9f50ecaf",
   "metadata": {},
   "outputs": [],
   "source": []
  },
  {
   "cell_type": "code",
   "execution_count": null,
   "id": "54b8b56d",
   "metadata": {},
   "outputs": [],
   "source": []
  },
  {
   "cell_type": "markdown",
   "id": "4573b23c",
   "metadata": {},
   "source": [
    "### add color palette info for rna"
   ]
  },
  {
   "cell_type": "code",
   "execution_count": 63,
   "id": "f381b5f8",
   "metadata": {},
   "outputs": [],
   "source": [
    "novaseq$celltype5_rna = as.character(novaseq$celltype5_rna)"
   ]
  },
  {
   "cell_type": "code",
   "execution_count": 64,
   "id": "77bd04f7",
   "metadata": {},
   "outputs": [
    {
     "data": {
      "text/plain": [
       "NULL"
      ]
     },
     "metadata": {},
     "output_type": "display_data"
    },
    {
     "data": {
      "text/html": [
       "'character'"
      ],
      "text/latex": [
       "'character'"
      ],
      "text/markdown": [
       "'character'"
      ],
      "text/plain": [
       "[1] \"character\""
      ]
     },
     "metadata": {},
     "output_type": "display_data"
    },
    {
     "data": {
      "text/plain": [
       "\n",
       "       BT       CNT       DCT      ENDO      Fib1      Fib2      Fib3       ICA \n",
       "     5280     13197     14150     12847      3786      7191      3095     10579 \n",
       "      ICB       JGA        Ma       PC1       PC2       PEC       POD        PT \n",
       "     4120      2465      3673     16140      4049      1239      3179     64880 \n",
       "PT_dediff  PT_VCAM1      SMC1      SMC2      SMC3      TAL1      TAL2      TAL3 \n",
       "    29494      8445      4272       156        86     29910     19724      8900 \n",
       "   tL-TAL       tL1       tL2      Uro1      Uro2 \n",
       "    15485     25438      9029      3210       682 "
      ]
     },
     "metadata": {},
     "output_type": "display_data"
    }
   ],
   "source": [
    "levels(novaseq$celltype5_rna)\n",
    "class(novaseq$celltype5_rna)\n",
    "table(novaseq$celltype5_rna)"
   ]
  },
  {
   "cell_type": "code",
   "execution_count": 65,
   "id": "e945c78f",
   "metadata": {},
   "outputs": [],
   "source": [
    "novaseq$celltype5_rna <- factor(novaseq$celltype5_rna, levels = level.novaseq.rna)"
   ]
  },
  {
   "cell_type": "code",
   "execution_count": 66,
   "id": "868d9137",
   "metadata": {},
   "outputs": [
    {
     "data": {
      "text/html": [
       "<style>\n",
       ".list-inline {list-style: none; margin:0; padding: 0}\n",
       ".list-inline>li {display: inline-block}\n",
       ".list-inline>li:not(:last-child)::after {content: \"\\00b7\"; padding: 0 .5ex}\n",
       "</style>\n",
       "<ol class=list-inline><li>'JGA'</li><li>'POD'</li><li>'PEC'</li><li>'PT'</li><li>'PT_dediff'</li><li>'PT_VCAM1'</li><li>'tL1'</li><li>'tL2'</li><li>'tL-TAL'</li><li>'TAL1'</li><li>'TAL2'</li><li>'TAL3'</li><li>'DCT'</li><li>'CNT'</li><li>'PC1'</li><li>'PC2'</li><li>'ICA'</li><li>'ICB'</li><li>'Uro1'</li><li>'Uro2'</li><li>'ENDO'</li><li>'SMC1'</li><li>'SMC2'</li><li>'SMC3'</li><li>'Fib1'</li><li>'Fib2'</li><li>'Fib3'</li><li>'Ma'</li><li>'BT'</li></ol>\n"
      ],
      "text/latex": [
       "\\begin{enumerate*}\n",
       "\\item 'JGA'\n",
       "\\item 'POD'\n",
       "\\item 'PEC'\n",
       "\\item 'PT'\n",
       "\\item 'PT\\_dediff'\n",
       "\\item 'PT\\_VCAM1'\n",
       "\\item 'tL1'\n",
       "\\item 'tL2'\n",
       "\\item 'tL-TAL'\n",
       "\\item 'TAL1'\n",
       "\\item 'TAL2'\n",
       "\\item 'TAL3'\n",
       "\\item 'DCT'\n",
       "\\item 'CNT'\n",
       "\\item 'PC1'\n",
       "\\item 'PC2'\n",
       "\\item 'ICA'\n",
       "\\item 'ICB'\n",
       "\\item 'Uro1'\n",
       "\\item 'Uro2'\n",
       "\\item 'ENDO'\n",
       "\\item 'SMC1'\n",
       "\\item 'SMC2'\n",
       "\\item 'SMC3'\n",
       "\\item 'Fib1'\n",
       "\\item 'Fib2'\n",
       "\\item 'Fib3'\n",
       "\\item 'Ma'\n",
       "\\item 'BT'\n",
       "\\end{enumerate*}\n"
      ],
      "text/markdown": [
       "1. 'JGA'\n",
       "2. 'POD'\n",
       "3. 'PEC'\n",
       "4. 'PT'\n",
       "5. 'PT_dediff'\n",
       "6. 'PT_VCAM1'\n",
       "7. 'tL1'\n",
       "8. 'tL2'\n",
       "9. 'tL-TAL'\n",
       "10. 'TAL1'\n",
       "11. 'TAL2'\n",
       "12. 'TAL3'\n",
       "13. 'DCT'\n",
       "14. 'CNT'\n",
       "15. 'PC1'\n",
       "16. 'PC2'\n",
       "17. 'ICA'\n",
       "18. 'ICB'\n",
       "19. 'Uro1'\n",
       "20. 'Uro2'\n",
       "21. 'ENDO'\n",
       "22. 'SMC1'\n",
       "23. 'SMC2'\n",
       "24. 'SMC3'\n",
       "25. 'Fib1'\n",
       "26. 'Fib2'\n",
       "27. 'Fib3'\n",
       "28. 'Ma'\n",
       "29. 'BT'\n",
       "\n",
       "\n"
      ],
      "text/plain": [
       " [1] \"JGA\"       \"POD\"       \"PEC\"       \"PT\"        \"PT_dediff\" \"PT_VCAM1\" \n",
       " [7] \"tL1\"       \"tL2\"       \"tL-TAL\"    \"TAL1\"      \"TAL2\"      \"TAL3\"     \n",
       "[13] \"DCT\"       \"CNT\"       \"PC1\"       \"PC2\"       \"ICA\"       \"ICB\"      \n",
       "[19] \"Uro1\"      \"Uro2\"      \"ENDO\"      \"SMC1\"      \"SMC2\"      \"SMC3\"     \n",
       "[25] \"Fib1\"      \"Fib2\"      \"Fib3\"      \"Ma\"        \"BT\"       "
      ]
     },
     "metadata": {},
     "output_type": "display_data"
    },
    {
     "data": {
      "text/html": [
       "'factor'"
      ],
      "text/latex": [
       "'factor'"
      ],
      "text/markdown": [
       "'factor'"
      ],
      "text/plain": [
       "[1] \"factor\""
      ]
     },
     "metadata": {},
     "output_type": "display_data"
    },
    {
     "data": {
      "text/plain": [
       "\n",
       "      JGA       POD       PEC        PT PT_dediff  PT_VCAM1       tL1       tL2 \n",
       "     2465      3179      1239     64880     29494      8445     25438      9029 \n",
       "   tL-TAL      TAL1      TAL2      TAL3       DCT       CNT       PC1       PC2 \n",
       "    15485     29910     19724      8900     14150     13197     16140      4049 \n",
       "      ICA       ICB      Uro1      Uro2      ENDO      SMC1      SMC2      SMC3 \n",
       "    10579      4120      3210       682     12847      4272       156        86 \n",
       "     Fib1      Fib2      Fib3        Ma        BT \n",
       "     3786      7191      3095      3673      5280 "
      ]
     },
     "metadata": {},
     "output_type": "display_data"
    }
   ],
   "source": [
    "levels(novaseq$celltype5_rna)\n",
    "class(novaseq$celltype5_rna)\n",
    "table(novaseq$celltype5_rna)"
   ]
  },
  {
   "cell_type": "code",
   "execution_count": null,
   "id": "4efb8beb",
   "metadata": {},
   "outputs": [],
   "source": []
  },
  {
   "cell_type": "markdown",
   "id": "73b035e5",
   "metadata": {},
   "source": [
    "### add color palette info for atac"
   ]
  },
  {
   "cell_type": "code",
   "execution_count": 67,
   "id": "b97e7221",
   "metadata": {},
   "outputs": [],
   "source": [
    "novaseq$celltype_atac5 = as.character(novaseq$celltype_atac5)"
   ]
  },
  {
   "cell_type": "code",
   "execution_count": 68,
   "id": "5f855ac0",
   "metadata": {},
   "outputs": [
    {
     "data": {
      "text/plain": [
       "NULL"
      ]
     },
     "metadata": {},
     "output_type": "display_data"
    },
    {
     "data": {
      "text/html": [
       "'character'"
      ],
      "text/latex": [
       "'character'"
      ],
      "text/markdown": [
       "'character'"
      ],
      "text/plain": [
       "[1] \"character\""
      ]
     },
     "metadata": {},
     "output_type": "display_data"
    },
    {
     "data": {
      "text/plain": [
       "\n",
       "      BT      CNT      DCT     ENDO     Fib1     Fib2     Fib3       IC \n",
       "    6166     9950    17704    14049     4668    10435      441    14133 \n",
       "      Ma      PC1      PC2  POD/PEC       PT PT_VCAM1      SMC     TAL1 \n",
       "    4136    15729     3497     1766    93543    12319     4513    35720 \n",
       "  TAL2/3   tL-TAL      tL1      tL2      Uro \n",
       "   18326    20544    25095     8878     3089 "
      ]
     },
     "metadata": {},
     "output_type": "display_data"
    }
   ],
   "source": [
    "levels(novaseq$celltype_atac5)\n",
    "class(novaseq$celltype_atac5)\n",
    "table(novaseq$celltype_atac5)"
   ]
  },
  {
   "cell_type": "code",
   "execution_count": 69,
   "id": "737c2a24",
   "metadata": {},
   "outputs": [],
   "source": [
    "novaseq$celltype_atac5 <- factor(novaseq$celltype_atac5, levels = level.novaseq)"
   ]
  },
  {
   "cell_type": "code",
   "execution_count": 70,
   "id": "01761e11",
   "metadata": {},
   "outputs": [
    {
     "data": {
      "text/html": [
       "<style>\n",
       ".list-inline {list-style: none; margin:0; padding: 0}\n",
       ".list-inline>li {display: inline-block}\n",
       ".list-inline>li:not(:last-child)::after {content: \"\\00b7\"; padding: 0 .5ex}\n",
       "</style>\n",
       "<ol class=list-inline><li>'POD/PEC'</li><li>'PT'</li><li>'PT_VCAM1'</li><li>'tL1'</li><li>'tL2'</li><li>'tL-TAL'</li><li>'TAL1'</li><li>'TAL2/3'</li><li>'DCT'</li><li>'CNT'</li><li>'PC1'</li><li>'PC2'</li><li>'IC'</li><li>'Uro'</li><li>'ENDO'</li><li>'SMC'</li><li>'Fib1'</li><li>'Fib2'</li><li>'Fib3'</li><li>'Ma'</li><li>'BT'</li></ol>\n"
      ],
      "text/latex": [
       "\\begin{enumerate*}\n",
       "\\item 'POD/PEC'\n",
       "\\item 'PT'\n",
       "\\item 'PT\\_VCAM1'\n",
       "\\item 'tL1'\n",
       "\\item 'tL2'\n",
       "\\item 'tL-TAL'\n",
       "\\item 'TAL1'\n",
       "\\item 'TAL2/3'\n",
       "\\item 'DCT'\n",
       "\\item 'CNT'\n",
       "\\item 'PC1'\n",
       "\\item 'PC2'\n",
       "\\item 'IC'\n",
       "\\item 'Uro'\n",
       "\\item 'ENDO'\n",
       "\\item 'SMC'\n",
       "\\item 'Fib1'\n",
       "\\item 'Fib2'\n",
       "\\item 'Fib3'\n",
       "\\item 'Ma'\n",
       "\\item 'BT'\n",
       "\\end{enumerate*}\n"
      ],
      "text/markdown": [
       "1. 'POD/PEC'\n",
       "2. 'PT'\n",
       "3. 'PT_VCAM1'\n",
       "4. 'tL1'\n",
       "5. 'tL2'\n",
       "6. 'tL-TAL'\n",
       "7. 'TAL1'\n",
       "8. 'TAL2/3'\n",
       "9. 'DCT'\n",
       "10. 'CNT'\n",
       "11. 'PC1'\n",
       "12. 'PC2'\n",
       "13. 'IC'\n",
       "14. 'Uro'\n",
       "15. 'ENDO'\n",
       "16. 'SMC'\n",
       "17. 'Fib1'\n",
       "18. 'Fib2'\n",
       "19. 'Fib3'\n",
       "20. 'Ma'\n",
       "21. 'BT'\n",
       "\n",
       "\n"
      ],
      "text/plain": [
       " [1] \"POD/PEC\"  \"PT\"       \"PT_VCAM1\" \"tL1\"      \"tL2\"      \"tL-TAL\"  \n",
       " [7] \"TAL1\"     \"TAL2/3\"   \"DCT\"      \"CNT\"      \"PC1\"      \"PC2\"     \n",
       "[13] \"IC\"       \"Uro\"      \"ENDO\"     \"SMC\"      \"Fib1\"     \"Fib2\"    \n",
       "[19] \"Fib3\"     \"Ma\"       \"BT\"      "
      ]
     },
     "metadata": {},
     "output_type": "display_data"
    },
    {
     "data": {
      "text/html": [
       "'factor'"
      ],
      "text/latex": [
       "'factor'"
      ],
      "text/markdown": [
       "'factor'"
      ],
      "text/plain": [
       "[1] \"factor\""
      ]
     },
     "metadata": {},
     "output_type": "display_data"
    },
    {
     "data": {
      "text/plain": [
       "\n",
       " POD/PEC       PT PT_VCAM1      tL1      tL2   tL-TAL     TAL1   TAL2/3 \n",
       "    1766    93543    12319    25095     8878    20544    35720    18326 \n",
       "     DCT      CNT      PC1      PC2       IC      Uro     ENDO      SMC \n",
       "   17704     9950    15729     3497    14133     3089    14049     4513 \n",
       "    Fib1     Fib2     Fib3       Ma       BT \n",
       "    4668    10435      441     4136     6166 "
      ]
     },
     "metadata": {},
     "output_type": "display_data"
    }
   ],
   "source": [
    "levels(novaseq$celltype_atac5)\n",
    "class(novaseq$celltype_atac5)\n",
    "table(novaseq$celltype_atac5)"
   ]
  },
  {
   "cell_type": "code",
   "execution_count": null,
   "id": "2b184b4c",
   "metadata": {},
   "outputs": [],
   "source": []
  },
  {
   "cell_type": "code",
   "execution_count": null,
   "id": "84e90b32",
   "metadata": {},
   "outputs": [],
   "source": []
  },
  {
   "cell_type": "markdown",
   "id": "f0aa48e6",
   "metadata": {},
   "source": [
    "### add color palette info for renal region new"
   ]
  },
  {
   "cell_type": "code",
   "execution_count": 71,
   "id": "9cf1ab07",
   "metadata": {},
   "outputs": [],
   "source": [
    "novaseq$renal_region_new = as.character(novaseq$renal_region_new)"
   ]
  },
  {
   "cell_type": "code",
   "execution_count": 72,
   "id": "989efa0a",
   "metadata": {},
   "outputs": [
    {
     "data": {
      "text/plain": [
       "NULL"
      ]
     },
     "metadata": {},
     "output_type": "display_data"
    },
    {
     "data": {
      "text/html": [
       "'character'"
      ],
      "text/latex": [
       "'character'"
      ],
      "text/markdown": [
       "'character'"
      ],
      "text/plain": [
       "[1] \"character\""
      ]
     },
     "metadata": {},
     "output_type": "display_data"
    },
    {
     "data": {
      "text/plain": [
       "\n",
       "      Cortex      Medulla      Papilla Renal Artery       Ureter \n",
       "      178521        76815        58891         3524         6950 "
      ]
     },
     "metadata": {},
     "output_type": "display_data"
    }
   ],
   "source": [
    "levels(novaseq$renal_region_new)\n",
    "class(novaseq$renal_region_new)\n",
    "table(novaseq$renal_region_new)"
   ]
  },
  {
   "cell_type": "code",
   "execution_count": 81,
   "id": "42de6a08",
   "metadata": {},
   "outputs": [],
   "source": [
    "novaseq$renal_region_new <- factor(novaseq$renal_region_new, levels = level.novaseq.renal_region_new)"
   ]
  },
  {
   "cell_type": "code",
   "execution_count": 82,
   "id": "288daf7b",
   "metadata": {},
   "outputs": [
    {
     "data": {
      "text/html": [
       "<style>\n",
       ".list-inline {list-style: none; margin:0; padding: 0}\n",
       ".list-inline>li {display: inline-block}\n",
       ".list-inline>li:not(:last-child)::after {content: \"\\00b7\"; padding: 0 .5ex}\n",
       "</style>\n",
       "<ol class=list-inline><li>'Cortex'</li><li>'Medulla'</li><li>'Papilla'</li><li>'Renal Artery'</li><li>'Ureter'</li></ol>\n"
      ],
      "text/latex": [
       "\\begin{enumerate*}\n",
       "\\item 'Cortex'\n",
       "\\item 'Medulla'\n",
       "\\item 'Papilla'\n",
       "\\item 'Renal Artery'\n",
       "\\item 'Ureter'\n",
       "\\end{enumerate*}\n"
      ],
      "text/markdown": [
       "1. 'Cortex'\n",
       "2. 'Medulla'\n",
       "3. 'Papilla'\n",
       "4. 'Renal Artery'\n",
       "5. 'Ureter'\n",
       "\n",
       "\n"
      ],
      "text/plain": [
       "[1] \"Cortex\"       \"Medulla\"      \"Papilla\"      \"Renal Artery\" \"Ureter\"      "
      ]
     },
     "metadata": {},
     "output_type": "display_data"
    },
    {
     "data": {
      "text/html": [
       "'factor'"
      ],
      "text/latex": [
       "'factor'"
      ],
      "text/markdown": [
       "'factor'"
      ],
      "text/plain": [
       "[1] \"factor\""
      ]
     },
     "metadata": {},
     "output_type": "display_data"
    },
    {
     "data": {
      "text/plain": [
       "\n",
       "      Cortex      Medulla      Papilla Renal Artery       Ureter \n",
       "      178521        76815        58891         3524         6950 "
      ]
     },
     "metadata": {},
     "output_type": "display_data"
    }
   ],
   "source": [
    "levels(novaseq$renal_region_new)\n",
    "class(novaseq$renal_region_new)\n",
    "table(novaseq$renal_region_new)"
   ]
  },
  {
   "cell_type": "code",
   "execution_count": null,
   "id": "37d95f6b",
   "metadata": {},
   "outputs": [],
   "source": []
  },
  {
   "cell_type": "markdown",
   "id": "5da27fba",
   "metadata": {},
   "source": [
    "### create output folder"
   ]
  },
  {
   "cell_type": "code",
   "execution_count": 83,
   "id": "1e1b91c7",
   "metadata": {
    "vscode": {
     "languageId": "r"
    }
   },
   "outputs": [],
   "source": [
    "dir.create(\"../../processed_data/\", recursive = TRUE, showWarnings = FALSE)"
   ]
  },
  {
   "cell_type": "markdown",
   "id": "5ded4234",
   "metadata": {},
   "source": [
    "### save multimodal meta.data"
   ]
  },
  {
   "cell_type": "code",
   "execution_count": 84,
   "id": "977dc9d1",
   "metadata": {},
   "outputs": [],
   "source": [
    "novaseq_meta_data = novaseq@meta.data"
   ]
  },
  {
   "cell_type": "code",
   "execution_count": 85,
   "id": "c594bcb4",
   "metadata": {},
   "outputs": [
    {
     "data": {
      "text/plain": [
       "[1] \"2023-06-27 23:09:06 CDT\""
      ]
     },
     "metadata": {},
     "output_type": "display_data"
    },
    {
     "data": {
      "text/plain": [
       "[1] \"2023-06-27 23:09:12 CDT\""
      ]
     },
     "metadata": {},
     "output_type": "display_data"
    }
   ],
   "source": [
    "Sys.time()\n",
    "save(list = c(\"novaseq_meta_data\", \n",
    "             \"level.novaseq.rna\", \"palette.novaseq.rna\",\n",
    "             \"level.novaseq\", \"palette.novaseq\",\n",
    "             \"level.novaseq.renal_region_new\", \"palette.novaseq.renal_region_new\"), \n",
    "     file = \"../../processed_data/20221221_324701_cells_multi_metadata.RData\", compress = T)\n",
    "Sys.time()"
   ]
  },
  {
   "cell_type": "code",
   "execution_count": null,
   "id": "71f51b8d",
   "metadata": {},
   "outputs": [],
   "source": []
  },
  {
   "cell_type": "code",
   "execution_count": null,
   "id": "3d9d7ab6",
   "metadata": {},
   "outputs": [],
   "source": []
  },
  {
   "cell_type": "code",
   "execution_count": null,
   "id": "a8611074",
   "metadata": {},
   "outputs": [],
   "source": []
  },
  {
   "cell_type": "markdown",
   "id": "4bfe2a90",
   "metadata": {},
   "source": [
    "# save multimodal object"
   ]
  },
  {
   "cell_type": "code",
   "execution_count": null,
   "id": "87762855",
   "metadata": {
    "vscode": {
     "languageId": "r"
    }
   },
   "outputs": [
    {
     "data": {
      "text/plain": [
       "[1] \"2023-06-27 23:09:12 CDT\""
      ]
     },
     "metadata": {},
     "output_type": "display_data"
    }
   ],
   "source": [
    "Sys.time()\n",
    "save(list = c(\"novaseq\",\n",
    "             \"level.novaseq.rna\", \"palette.novaseq.rna\",\n",
    "             \"level.novaseq\", \"palette.novaseq\",\n",
    "             \"level.novaseq.renal_region_new\", \"palette.novaseq.renal_region_new\"), \n",
    "     file = \"../../processed_data/20221221_324701_cells_multi.RData\", compress = T)\n",
    "Sys.time()"
   ]
  },
  {
   "cell_type": "code",
   "execution_count": null,
   "id": "cad6a72f",
   "metadata": {
    "vscode": {
     "languageId": "r"
    }
   },
   "outputs": [],
   "source": [
    "sessionInfo()"
   ]
  },
  {
   "cell_type": "code",
   "execution_count": null,
   "id": "5766f3c3",
   "metadata": {
    "vscode": {
     "languageId": "r"
    }
   },
   "outputs": [],
   "source": [
    "Sys.time()"
   ]
  },
  {
   "cell_type": "code",
   "execution_count": null,
   "id": "bece7400",
   "metadata": {},
   "outputs": [],
   "source": []
  }
 ],
 "metadata": {
  "kernelspec": {
   "display_name": "R",
   "language": "R",
   "name": "ir"
  },
  "language_info": {
   "codemirror_mode": "r",
   "file_extension": ".r",
   "mimetype": "text/x-r-source",
   "name": "R",
   "pygments_lexer": "r",
   "version": "4.2.2"
  }
 },
 "nbformat": 4,
 "nbformat_minor": 5
}
