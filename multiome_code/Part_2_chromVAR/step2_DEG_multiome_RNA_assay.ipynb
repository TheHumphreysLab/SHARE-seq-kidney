{
 "cells": [
  {
   "cell_type": "markdown",
   "id": "1f05f726",
   "metadata": {},
   "source": [
    "Referred from https://github.com/lmsgerhardt/Gerhardt_JASN_2022/blob/main/Analysis/DEG.R"
   ]
  },
  {
   "cell_type": "code",
   "execution_count": 1,
   "id": "0c21455a",
   "metadata": {},
   "outputs": [
    {
     "name": "stderr",
     "output_type": "stream",
     "text": [
      "Attaching SeuratObject\n",
      "\n",
      "Attaching sp\n",
      "\n",
      "\n",
      "Attaching package: ‘Signac’\n",
      "\n",
      "\n",
      "The following object is masked from ‘package:Seurat’:\n",
      "\n",
      "    FoldChange\n",
      "\n",
      "\n"
     ]
    }
   ],
   "source": [
    "#Title: Differential gene expression analysis\n",
    "\n",
    "library(Seurat)\n",
    "library(Signac)\n",
    "set.seed(1234)"
   ]
  },
  {
   "cell_type": "code",
   "execution_count": 2,
   "id": "3b762b34",
   "metadata": {},
   "outputs": [],
   "source": [
    "processed_dir = \"../../processed_data/chromVAR\"\n",
    "dir.create(processed_dir, recursive = T, showWarnings = F)"
   ]
  },
  {
   "cell_type": "markdown",
   "id": "7ed8633f",
   "metadata": {},
   "source": [
    "### load wnn object"
   ]
  },
  {
   "cell_type": "code",
   "execution_count": 3,
   "id": "cc1712f8",
   "metadata": {},
   "outputs": [
    {
     "data": {
      "text/plain": [
       "[1] \"2023-06-29 14:04:30 CDT\""
      ]
     },
     "metadata": {},
     "output_type": "display_data"
    },
    {
     "data": {
      "text/plain": [
       "[1] \"2023-06-29 14:08:41 CDT\""
      ]
     },
     "metadata": {},
     "output_type": "display_data"
    }
   ],
   "source": [
    "Sys.time()\n",
    "load(\"../../processed_data/wnn/20221221_324701_cells_wnn.RData\")\n",
    "Sys.time()"
   ]
  },
  {
   "cell_type": "code",
   "execution_count": 4,
   "id": "cad754c9",
   "metadata": {},
   "outputs": [
    {
     "data": {
      "text/plain": [
       "An object of class Seurat \n",
       "237522 features across 324701 samples within 2 assays \n",
       "Active assay: peaks (189184 features, 189184 variable features)\n",
       " 1 other assay present: RNA\n",
       " 6 dimensional reductions calculated: pca, harmony_RNA, lsi, harmony_peaks, umap.peaks, WNN.UMAP"
      ]
     },
     "metadata": {},
     "output_type": "display_data"
    }
   ],
   "source": [
    "novaseq = novaseq.wnn\n",
    "novaseq"
   ]
  },
  {
   "cell_type": "code",
   "execution_count": 5,
   "id": "b60f86d7",
   "metadata": {},
   "outputs": [
    {
     "data": {
      "text/html": [
       "<style>\n",
       ".list-inline {list-style: none; margin:0; padding: 0}\n",
       ".list-inline>li {display: inline-block}\n",
       ".list-inline>li:not(:last-child)::after {content: \"\\00b7\"; padding: 0 .5ex}\n",
       "</style>\n",
       "<ol class=list-inline><li>'level.novaseq'</li><li>'level.novaseq.renal_region_new'</li><li>'level.novaseq.rna'</li><li>'novaseq'</li><li>'novaseq.wnn'</li><li>'palette.novaseq'</li><li>'palette.novaseq.renal_region_new'</li><li>'palette.novaseq.rna'</li><li>'processed_dir'</li></ol>\n"
      ],
      "text/latex": [
       "\\begin{enumerate*}\n",
       "\\item 'level.novaseq'\n",
       "\\item 'level.novaseq.renal\\_region\\_new'\n",
       "\\item 'level.novaseq.rna'\n",
       "\\item 'novaseq'\n",
       "\\item 'novaseq.wnn'\n",
       "\\item 'palette.novaseq'\n",
       "\\item 'palette.novaseq.renal\\_region\\_new'\n",
       "\\item 'palette.novaseq.rna'\n",
       "\\item 'processed\\_dir'\n",
       "\\end{enumerate*}\n"
      ],
      "text/markdown": [
       "1. 'level.novaseq'\n",
       "2. 'level.novaseq.renal_region_new'\n",
       "3. 'level.novaseq.rna'\n",
       "4. 'novaseq'\n",
       "5. 'novaseq.wnn'\n",
       "6. 'palette.novaseq'\n",
       "7. 'palette.novaseq.renal_region_new'\n",
       "8. 'palette.novaseq.rna'\n",
       "9. 'processed_dir'\n",
       "\n",
       "\n"
      ],
      "text/plain": [
       "[1] \"level.novaseq\"                    \"level.novaseq.renal_region_new\"  \n",
       "[3] \"level.novaseq.rna\"                \"novaseq\"                         \n",
       "[5] \"novaseq.wnn\"                      \"palette.novaseq\"                 \n",
       "[7] \"palette.novaseq.renal_region_new\" \"palette.novaseq.rna\"             \n",
       "[9] \"processed_dir\"                   "
      ]
     },
     "metadata": {},
     "output_type": "display_data"
    }
   ],
   "source": [
    "ls()"
   ]
  },
  {
   "cell_type": "markdown",
   "id": "8fa954b2",
   "metadata": {},
   "source": [
    "### use celltype5_rna as Idents"
   ]
  },
  {
   "cell_type": "code",
   "execution_count": 6,
   "id": "10f06d19",
   "metadata": {},
   "outputs": [
    {
     "data": {
      "text/html": [
       "<style>\n",
       ".dl-inline {width: auto; margin:0; padding: 0}\n",
       ".dl-inline>dt, .dl-inline>dd {float: none; width: auto; display: inline-block}\n",
       ".dl-inline>dt::after {content: \":\\0020\"; padding-right: .5ex}\n",
       ".dl-inline>dt:not(:first-of-type) {padding-left: .5ex}\n",
       "</style><dl class=dl-inline><dt>R1.034,R2.082,R3.082,P1.76,B3</dt><dd>tL1</dd><dt>R1.047,R2.073,R3.003,P1.65,B2</dt><dd>PEC</dd><dt>R1.025,R2.080,R3.017,P1.66,B2</dt><dd>PT_dediff</dd><dt>R1.056,R2.038,R3.008,P1.48,B2</dt><dd>TAL1</dd><dt>R1.089,R2.082,R3.024,P1.14,B1</dt><dd>CNT</dd><dt>R1.031,R2.072,R3.075,P1.78,B3</dt><dd>TAL2</dd></dl>\n",
       "\n",
       "<details>\n",
       "\t<summary style=display:list-item;cursor:pointer>\n",
       "\t\t<strong>Levels</strong>:\n",
       "\t</summary>\n",
       "\t<style>\n",
       "\t.list-inline {list-style: none; margin:0; padding: 0}\n",
       "\t.list-inline>li {display: inline-block}\n",
       "\t.list-inline>li:not(:last-child)::after {content: \"\\00b7\"; padding: 0 .5ex}\n",
       "\t</style>\n",
       "\t<ol class=list-inline><li>'JGA'</li><li>'POD'</li><li>'PEC'</li><li>'PT'</li><li>'PT_dediff'</li><li>'PT_VCAM1'</li><li>'tL1'</li><li>'tL2'</li><li>'tL-TAL'</li><li>'TAL1'</li><li>'TAL2'</li><li>'TAL3'</li><li>'DCT'</li><li>'CNT'</li><li>'PC1'</li><li>'PC2'</li><li>'ICA'</li><li>'ICB'</li><li>'Uro1'</li><li>'Uro2'</li><li>'ENDO'</li><li>'SMC1'</li><li>'SMC2'</li><li>'SMC3'</li><li>'Fib1'</li><li>'Fib2'</li><li>'Fib3'</li><li>'Ma'</li><li>'BT'</li></ol>\n",
       "</details>"
      ],
      "text/latex": [
       "\\begin{description*}\n",
       "\\item[R1.034,R2.082,R3.082,P1.76,B3] tL1\n",
       "\\item[R1.047,R2.073,R3.003,P1.65,B2] PEC\n",
       "\\item[R1.025,R2.080,R3.017,P1.66,B2] PT\\_dediff\n",
       "\\item[R1.056,R2.038,R3.008,P1.48,B2] TAL1\n",
       "\\item[R1.089,R2.082,R3.024,P1.14,B1] CNT\n",
       "\\item[R1.031,R2.072,R3.075,P1.78,B3] TAL2\n",
       "\\end{description*}\n",
       "\n",
       "\\emph{Levels}: \\begin{enumerate*}\n",
       "\\item 'JGA'\n",
       "\\item 'POD'\n",
       "\\item 'PEC'\n",
       "\\item 'PT'\n",
       "\\item 'PT\\_dediff'\n",
       "\\item 'PT\\_VCAM1'\n",
       "\\item 'tL1'\n",
       "\\item 'tL2'\n",
       "\\item 'tL-TAL'\n",
       "\\item 'TAL1'\n",
       "\\item 'TAL2'\n",
       "\\item 'TAL3'\n",
       "\\item 'DCT'\n",
       "\\item 'CNT'\n",
       "\\item 'PC1'\n",
       "\\item 'PC2'\n",
       "\\item 'ICA'\n",
       "\\item 'ICB'\n",
       "\\item 'Uro1'\n",
       "\\item 'Uro2'\n",
       "\\item 'ENDO'\n",
       "\\item 'SMC1'\n",
       "\\item 'SMC2'\n",
       "\\item 'SMC3'\n",
       "\\item 'Fib1'\n",
       "\\item 'Fib2'\n",
       "\\item 'Fib3'\n",
       "\\item 'Ma'\n",
       "\\item 'BT'\n",
       "\\end{enumerate*}\n"
      ],
      "text/markdown": [
       "R1.034,R2.082,R3.082,P1.76,B3\n",
       ":   tL1R1.047,R2.073,R3.003,P1.65,B2\n",
       ":   PECR1.025,R2.080,R3.017,P1.66,B2\n",
       ":   PT_dediffR1.056,R2.038,R3.008,P1.48,B2\n",
       ":   TAL1R1.089,R2.082,R3.024,P1.14,B1\n",
       ":   CNTR1.031,R2.072,R3.075,P1.78,B3\n",
       ":   TAL2\n",
       "\n",
       "\n",
       "**Levels**: 1. 'JGA'\n",
       "2. 'POD'\n",
       "3. 'PEC'\n",
       "4. 'PT'\n",
       "5. 'PT_dediff'\n",
       "6. 'PT_VCAM1'\n",
       "7. 'tL1'\n",
       "8. 'tL2'\n",
       "9. 'tL-TAL'\n",
       "10. 'TAL1'\n",
       "11. 'TAL2'\n",
       "12. 'TAL3'\n",
       "13. 'DCT'\n",
       "14. 'CNT'\n",
       "15. 'PC1'\n",
       "16. 'PC2'\n",
       "17. 'ICA'\n",
       "18. 'ICB'\n",
       "19. 'Uro1'\n",
       "20. 'Uro2'\n",
       "21. 'ENDO'\n",
       "22. 'SMC1'\n",
       "23. 'SMC2'\n",
       "24. 'SMC3'\n",
       "25. 'Fib1'\n",
       "26. 'Fib2'\n",
       "27. 'Fib3'\n",
       "28. 'Ma'\n",
       "29. 'BT'\n",
       "\n",
       "\n"
      ],
      "text/plain": [
       "R1.034,R2.082,R3.082,P1.76,B3 R1.047,R2.073,R3.003,P1.65,B2 \n",
       "                          tL1                           PEC \n",
       "R1.025,R2.080,R3.017,P1.66,B2 R1.056,R2.038,R3.008,P1.48,B2 \n",
       "                    PT_dediff                          TAL1 \n",
       "R1.089,R2.082,R3.024,P1.14,B1 R1.031,R2.072,R3.075,P1.78,B3 \n",
       "                          CNT                          TAL2 \n",
       "29 Levels: JGA POD PEC PT PT_dediff PT_VCAM1 tL1 tL2 tL-TAL TAL1 TAL2 ... BT"
      ]
     },
     "metadata": {},
     "output_type": "display_data"
    }
   ],
   "source": [
    "Idents(novaseq) <- \"celltype5_rna\"\n",
    "head(Idents(novaseq))"
   ]
  },
  {
   "cell_type": "code",
   "execution_count": 7,
   "id": "526bede8",
   "metadata": {},
   "outputs": [],
   "source": [
    "DefaultAssay(novaseq) <- \"RNA\""
   ]
  },
  {
   "cell_type": "code",
   "execution_count": 8,
   "id": "61d7dcc1",
   "metadata": {},
   "outputs": [
    {
     "data": {
      "text/plain": [
       "[1] \"2023-06-29 14:08:41 CDT\""
      ]
     },
     "metadata": {},
     "output_type": "display_data"
    },
    {
     "name": "stderr",
     "output_type": "stream",
     "text": [
      "Calculating cluster JGA\n",
      "\n",
      "Calculating cluster POD\n",
      "\n",
      "Calculating cluster PEC\n",
      "\n",
      "Calculating cluster PT\n",
      "\n",
      "Calculating cluster PT_dediff\n",
      "\n",
      "Calculating cluster PT_VCAM1\n",
      "\n",
      "Calculating cluster tL1\n",
      "\n",
      "Calculating cluster tL2\n",
      "\n",
      "Calculating cluster tL-TAL\n",
      "\n",
      "Calculating cluster TAL1\n",
      "\n",
      "Calculating cluster TAL2\n",
      "\n",
      "Calculating cluster TAL3\n",
      "\n",
      "Calculating cluster DCT\n",
      "\n",
      "Calculating cluster CNT\n",
      "\n",
      "Calculating cluster PC1\n",
      "\n",
      "Calculating cluster PC2\n",
      "\n",
      "Calculating cluster ICA\n",
      "\n",
      "Calculating cluster ICB\n",
      "\n",
      "Calculating cluster Uro1\n",
      "\n",
      "Calculating cluster Uro2\n",
      "\n",
      "Calculating cluster ENDO\n",
      "\n",
      "Calculating cluster SMC1\n",
      "\n",
      "Calculating cluster SMC2\n",
      "\n",
      "Calculating cluster SMC3\n",
      "\n",
      "Calculating cluster Fib1\n",
      "\n",
      "Calculating cluster Fib2\n",
      "\n",
      "Calculating cluster Fib3\n",
      "\n",
      "Calculating cluster Ma\n",
      "\n",
      "Calculating cluster BT\n",
      "\n"
     ]
    },
    {
     "data": {
      "text/plain": [
       "[1] \"2023-06-30 00:11:32 CDT\""
      ]
     },
     "metadata": {},
     "output_type": "display_data"
    }
   ],
   "source": [
    "Sys.time()\n",
    "DEG <- FindAllMarkers(novaseq,min.pct = 0.1, logfc.threshold = 0.25,only.pos = FALSE)\n",
    "Sys.time()"
   ]
  },
  {
   "cell_type": "code",
   "execution_count": 9,
   "id": "e57eeccb",
   "metadata": {},
   "outputs": [],
   "source": [
    "DEG_raw = DEG"
   ]
  },
  {
   "cell_type": "code",
   "execution_count": 10,
   "id": "6a3c903c",
   "metadata": {},
   "outputs": [],
   "source": [
    "DEG <- DEG[DEG$p_val_adj < 0.01,]\n",
    "DEG <- DEG[,c(\"cluster\",\"gene\",\"pct.1\",\"pct.2\",\"avg_log2FC\",\"p_val\",\"p_val_adj\")] #reorder\n",
    "write.csv(DEG, file.path(processed_dir, \"multiome_RNA_DEG_minpct0.1_padj0.01.csv\"),row.names = F)"
   ]
  },
  {
   "cell_type": "code",
   "execution_count": 11,
   "id": "f7e5ff9e",
   "metadata": {},
   "outputs": [],
   "source": [
    "save(list = c(\"DEG_raw\", \"DEG\"),file = file.path(processed_dir, \"multiome_RNA_DEG_minpct0.1_padj0.01.RData\"), compress = T)"
   ]
  },
  {
   "cell_type": "code",
   "execution_count": 12,
   "id": "6c819d6c",
   "metadata": {},
   "outputs": [
    {
     "data": {
      "text/plain": [
       "[1] \"2023-06-30 00:11:33 CDT\""
      ]
     },
     "metadata": {},
     "output_type": "display_data"
    }
   ],
   "source": [
    "Sys.time()"
   ]
  },
  {
   "cell_type": "code",
   "execution_count": null,
   "id": "7b6657fa",
   "metadata": {},
   "outputs": [],
   "source": []
  },
  {
   "cell_type": "code",
   "execution_count": 14,
   "id": "2e3101e7",
   "metadata": {},
   "outputs": [
    {
     "data": {
      "text/html": [
       "<style>\n",
       ".list-inline {list-style: none; margin:0; padding: 0}\n",
       ".list-inline>li {display: inline-block}\n",
       ".list-inline>li:not(:last-child)::after {content: \"\\00b7\"; padding: 0 .5ex}\n",
       "</style>\n",
       "<ol class=list-inline><li>31088</li><li>7</li></ol>\n"
      ],
      "text/latex": [
       "\\begin{enumerate*}\n",
       "\\item 31088\n",
       "\\item 7\n",
       "\\end{enumerate*}\n"
      ],
      "text/markdown": [
       "1. 31088\n",
       "2. 7\n",
       "\n",
       "\n"
      ],
      "text/plain": [
       "[1] 31088     7"
      ]
     },
     "metadata": {},
     "output_type": "display_data"
    },
    {
     "data": {
      "text/html": [
       "<table class=\"dataframe\">\n",
       "<caption>A data.frame: 50 × 7</caption>\n",
       "<thead>\n",
       "\t<tr><th></th><th scope=col>cluster</th><th scope=col>gene</th><th scope=col>pct.1</th><th scope=col>pct.2</th><th scope=col>avg_log2FC</th><th scope=col>p_val</th><th scope=col>p_val_adj</th></tr>\n",
       "\t<tr><th></th><th scope=col>&lt;fct&gt;</th><th scope=col>&lt;chr&gt;</th><th scope=col>&lt;dbl&gt;</th><th scope=col>&lt;dbl&gt;</th><th scope=col>&lt;dbl&gt;</th><th scope=col>&lt;dbl&gt;</th><th scope=col>&lt;dbl&gt;</th></tr>\n",
       "</thead>\n",
       "<tbody>\n",
       "\t<tr><th scope=row>SLIT3</th><td>JGA</td><td>SLIT3          </td><td>0.631</td><td>0.199</td><td> 3.0909057</td><td> 0.000000e+00</td><td> 0.000000e+00</td></tr>\n",
       "\t<tr><th scope=row>EBF1</th><td>JGA</td><td>EBF1           </td><td>0.577</td><td>0.139</td><td> 3.0101334</td><td> 0.000000e+00</td><td> 0.000000e+00</td></tr>\n",
       "\t<tr><th scope=row>CARMN</th><td>JGA</td><td>CARMN          </td><td>0.417</td><td>0.050</td><td> 2.8494782</td><td> 0.000000e+00</td><td> 0.000000e+00</td></tr>\n",
       "\t<tr><th scope=row>CACNA1C</th><td>JGA</td><td>CACNA1C        </td><td>0.620</td><td>0.203</td><td> 2.8366488</td><td> 0.000000e+00</td><td> 0.000000e+00</td></tr>\n",
       "\t<tr><th scope=row>DLC1</th><td>JGA</td><td>DLC1           </td><td>0.538</td><td>0.195</td><td> 2.7287416</td><td> 0.000000e+00</td><td> 0.000000e+00</td></tr>\n",
       "\t<tr><th scope=row>PDGFRB</th><td>JGA</td><td>PDGFRB         </td><td>0.327</td><td>0.034</td><td> 2.6252168</td><td> 0.000000e+00</td><td> 0.000000e+00</td></tr>\n",
       "\t<tr><th scope=row>ADGRB3</th><td>JGA</td><td>ADGRB3         </td><td>0.433</td><td>0.154</td><td> 2.6088064</td><td> 0.000000e+00</td><td> 0.000000e+00</td></tr>\n",
       "\t<tr><th scope=row>NTRK3</th><td>JGA</td><td>NTRK3          </td><td>0.322</td><td>0.070</td><td> 2.5608537</td><td> 0.000000e+00</td><td> 0.000000e+00</td></tr>\n",
       "\t<tr><th scope=row>PRKG1</th><td>JGA</td><td>PRKG1          </td><td>0.733</td><td>0.417</td><td> 2.2561879</td><td> 0.000000e+00</td><td> 0.000000e+00</td></tr>\n",
       "\t<tr><th scope=row>LHFPL6</th><td>JGA</td><td>LHFPL6         </td><td>0.394</td><td>0.135</td><td> 2.1284097</td><td> 0.000000e+00</td><td> 0.000000e+00</td></tr>\n",
       "\t<tr><th scope=row>IRAG1</th><td>JGA</td><td>IRAG1          </td><td>0.255</td><td>0.040</td><td> 1.9937660</td><td> 0.000000e+00</td><td> 0.000000e+00</td></tr>\n",
       "\t<tr><th scope=row>HTR1F</th><td>JGA</td><td>HTR1F          </td><td>0.250</td><td>0.059</td><td> 1.9679371</td><td> 0.000000e+00</td><td> 0.000000e+00</td></tr>\n",
       "\t<tr><th scope=row>MAP1B</th><td>JGA</td><td>MAP1B          </td><td>0.248</td><td>0.034</td><td> 1.9674205</td><td> 0.000000e+00</td><td> 0.000000e+00</td></tr>\n",
       "\t<tr><th scope=row>ZEB2</th><td>JGA</td><td>ZEB2           </td><td>0.359</td><td>0.120</td><td> 1.8912965</td><td> 0.000000e+00</td><td> 0.000000e+00</td></tr>\n",
       "\t<tr><th scope=row>PRR16</th><td>JGA</td><td>PRR16          </td><td>0.230</td><td>0.052</td><td> 1.8504552</td><td> 0.000000e+00</td><td> 0.000000e+00</td></tr>\n",
       "\t<tr><th scope=row>NOTCH3</th><td>JGA</td><td>NOTCH3         </td><td>0.222</td><td>0.033</td><td> 1.8225920</td><td> 0.000000e+00</td><td> 0.000000e+00</td></tr>\n",
       "\t<tr><th scope=row>CALD1</th><td>JGA</td><td>CALD1          </td><td>0.381</td><td>0.118</td><td> 1.8206223</td><td> 0.000000e+00</td><td> 0.000000e+00</td></tr>\n",
       "\t<tr><th scope=row>FHL5</th><td>JGA</td><td>FHL5           </td><td>0.185</td><td>0.015</td><td> 1.7838839</td><td> 0.000000e+00</td><td> 0.000000e+00</td></tr>\n",
       "\t<tr><th scope=row>MEF2C</th><td>JGA</td><td>MEF2C          </td><td>0.282</td><td>0.079</td><td> 1.7804968</td><td> 0.000000e+00</td><td> 0.000000e+00</td></tr>\n",
       "\t<tr><th scope=row>ATP10A</th><td>JGA</td><td>ATP10A         </td><td>0.231</td><td>0.058</td><td> 1.6658649</td><td> 0.000000e+00</td><td> 0.000000e+00</td></tr>\n",
       "\t<tr><th scope=row>ADCY3</th><td>JGA</td><td>ADCY3          </td><td>0.206</td><td>0.038</td><td> 1.6632459</td><td> 0.000000e+00</td><td> 0.000000e+00</td></tr>\n",
       "\t<tr><th scope=row>EDNRA</th><td>JGA</td><td>EDNRA          </td><td>0.152</td><td>0.021</td><td> 1.3665535</td><td> 0.000000e+00</td><td> 0.000000e+00</td></tr>\n",
       "\t<tr><th scope=row>NEURL1B</th><td>JGA</td><td>NEURL1B        </td><td>0.142</td><td>0.024</td><td> 1.3309561</td><td> 0.000000e+00</td><td> 0.000000e+00</td></tr>\n",
       "\t<tr><th scope=row>PKHD1</th><td>JGA</td><td>PKHD1          </td><td>0.465</td><td>0.758</td><td>-1.4719059</td><td> 0.000000e+00</td><td> 0.000000e+00</td></tr>\n",
       "\t<tr><th scope=row>COL25A1</th><td>JGA</td><td>COL25A1        </td><td>0.319</td><td>0.104</td><td> 1.7900418</td><td>2.616040e-300</td><td>1.264542e-295</td></tr>\n",
       "\t<tr><th scope=row>MYH11</th><td>JGA</td><td>MYH11          </td><td>0.282</td><td>0.085</td><td> 1.6464582</td><td>5.490479e-293</td><td>2.653988e-288</td></tr>\n",
       "\t<tr><th scope=row>ENSG00000275016</th><td>JGA</td><td>ENSG00000275016</td><td>0.194</td><td>0.047</td><td> 1.7846418</td><td>9.969154e-274</td><td>4.818890e-269</td></tr>\n",
       "\t<tr><th scope=row>CCDC102B</th><td>JGA</td><td>CCDC102B       </td><td>0.297</td><td>0.098</td><td> 2.1442336</td><td>1.701621e-273</td><td>8.225297e-269</td></tr>\n",
       "\t<tr><th scope=row>JAG1</th><td>JGA</td><td>JAG1           </td><td>0.263</td><td>0.079</td><td> 1.6726442</td><td>2.821279e-267</td><td>1.363750e-262</td></tr>\n",
       "\t<tr><th scope=row>INPP4B</th><td>JGA</td><td>INPP4B         </td><td>0.477</td><td>0.235</td><td> 1.9460614</td><td>1.828791e-260</td><td>8.840012e-256</td></tr>\n",
       "\t<tr><th scope=row>NFASC</th><td>JGA</td><td>NFASC          </td><td>0.262</td><td>0.081</td><td> 1.6693229</td><td>7.736618e-256</td><td>3.739727e-251</td></tr>\n",
       "\t<tr><th scope=row>ESRRG</th><td>JGA</td><td>ESRRG          </td><td>0.454</td><td>0.724</td><td>-1.4737942</td><td>7.279377e-254</td><td>3.518705e-249</td></tr>\n",
       "\t<tr><th scope=row>COL1A2</th><td>JGA</td><td>COL1A2         </td><td>0.160</td><td>0.034</td><td> 1.0723227</td><td>5.415809e-252</td><td>2.617894e-247</td></tr>\n",
       "\t<tr><th scope=row>SLC35F1</th><td>JGA</td><td>SLC35F1        </td><td>0.230</td><td>0.066</td><td> 1.6406031</td><td>1.104889e-248</td><td>5.340812e-244</td></tr>\n",
       "\t<tr><th scope=row>PTP4A3</th><td>JGA</td><td>PTP4A3         </td><td>0.118</td><td>0.021</td><td> 1.2138455</td><td>9.378347e-244</td><td>4.533305e-239</td></tr>\n",
       "\t<tr><th scope=row>LTBP1</th><td>JGA</td><td>LTBP1          </td><td>0.423</td><td>0.195</td><td> 1.9442025</td><td>5.152496e-240</td><td>2.490613e-235</td></tr>\n",
       "\t<tr><th scope=row>PTH2R</th><td>JGA</td><td>PTH2R          </td><td>0.276</td><td>0.601</td><td>-1.4695170</td><td>5.451992e-239</td><td>2.635384e-234</td></tr>\n",
       "\t<tr><th scope=row>FN1</th><td>JGA</td><td>FN1            </td><td>0.224</td><td>0.065</td><td> 2.3765794</td><td>4.669006e-236</td><td>2.256904e-231</td></tr>\n",
       "\t<tr><th scope=row>DAAM2</th><td>JGA</td><td>DAAM2          </td><td>0.172</td><td>0.042</td><td> 1.4344304</td><td>2.132107e-232</td><td>1.030618e-227</td></tr>\n",
       "\t<tr><th scope=row>CCN4</th><td>JGA</td><td>CCN4           </td><td>0.125</td><td>0.024</td><td> 1.0950626</td><td>2.725526e-229</td><td>1.317465e-224</td></tr>\n",
       "\t<tr><th scope=row>RGS5</th><td>JGA</td><td>RGS5           </td><td>0.171</td><td>0.042</td><td> 1.3145521</td><td>5.369629e-225</td><td>2.595571e-220</td></tr>\n",
       "\t<tr><th scope=row>C2CD2</th><td>JGA</td><td>C2CD2          </td><td>0.181</td><td>0.048</td><td> 1.3976891</td><td>6.091549e-217</td><td>2.944533e-212</td></tr>\n",
       "\t<tr><th scope=row>TMTC1</th><td>JGA</td><td>TMTC1          </td><td>0.346</td><td>0.143</td><td> 1.6755264</td><td>5.328469e-216</td><td>2.575675e-211</td></tr>\n",
       "\t<tr><th scope=row>HGF</th><td>JGA</td><td>HGF            </td><td>0.102</td><td>0.018</td><td> 0.8881228</td><td>3.705581e-214</td><td>1.791204e-209</td></tr>\n",
       "\t<tr><th scope=row>RUNX1T1</th><td>JGA</td><td>RUNX1T1        </td><td>0.233</td><td>0.074</td><td> 1.3735738</td><td>4.408107e-213</td><td>2.130791e-208</td></tr>\n",
       "\t<tr><th scope=row>BICC1</th><td>JGA</td><td>BICC1          </td><td>0.403</td><td>0.670</td><td>-1.3532155</td><td>7.495811e-213</td><td>3.623325e-208</td></tr>\n",
       "\t<tr><th scope=row>RCAN2</th><td>JGA</td><td>RCAN2          </td><td>0.368</td><td>0.159</td><td> 1.6592062</td><td>1.338853e-211</td><td>6.471748e-207</td></tr>\n",
       "\t<tr><th scope=row>COL3A1</th><td>JGA</td><td>COL3A1         </td><td>0.172</td><td>0.045</td><td> 1.2186622</td><td>9.102256e-206</td><td>4.399849e-201</td></tr>\n",
       "\t<tr><th scope=row>RBMS3</th><td>JGA</td><td>RBMS3          </td><td>0.281</td><td>0.104</td><td> 1.5262223</td><td>1.431907e-203</td><td>6.921550e-199</td></tr>\n",
       "\t<tr><th scope=row>FLNA</th><td>JGA</td><td>FLNA           </td><td>0.199</td><td>0.059</td><td> 1.5124101</td><td>6.699960e-197</td><td>3.238626e-192</td></tr>\n",
       "</tbody>\n",
       "</table>\n"
      ],
      "text/latex": [
       "A data.frame: 50 × 7\n",
       "\\begin{tabular}{r|lllllll}\n",
       "  & cluster & gene & pct.1 & pct.2 & avg\\_log2FC & p\\_val & p\\_val\\_adj\\\\\n",
       "  & <fct> & <chr> & <dbl> & <dbl> & <dbl> & <dbl> & <dbl>\\\\\n",
       "\\hline\n",
       "\tSLIT3 & JGA & SLIT3           & 0.631 & 0.199 &  3.0909057 &  0.000000e+00 &  0.000000e+00\\\\\n",
       "\tEBF1 & JGA & EBF1            & 0.577 & 0.139 &  3.0101334 &  0.000000e+00 &  0.000000e+00\\\\\n",
       "\tCARMN & JGA & CARMN           & 0.417 & 0.050 &  2.8494782 &  0.000000e+00 &  0.000000e+00\\\\\n",
       "\tCACNA1C & JGA & CACNA1C         & 0.620 & 0.203 &  2.8366488 &  0.000000e+00 &  0.000000e+00\\\\\n",
       "\tDLC1 & JGA & DLC1            & 0.538 & 0.195 &  2.7287416 &  0.000000e+00 &  0.000000e+00\\\\\n",
       "\tPDGFRB & JGA & PDGFRB          & 0.327 & 0.034 &  2.6252168 &  0.000000e+00 &  0.000000e+00\\\\\n",
       "\tADGRB3 & JGA & ADGRB3          & 0.433 & 0.154 &  2.6088064 &  0.000000e+00 &  0.000000e+00\\\\\n",
       "\tNTRK3 & JGA & NTRK3           & 0.322 & 0.070 &  2.5608537 &  0.000000e+00 &  0.000000e+00\\\\\n",
       "\tPRKG1 & JGA & PRKG1           & 0.733 & 0.417 &  2.2561879 &  0.000000e+00 &  0.000000e+00\\\\\n",
       "\tLHFPL6 & JGA & LHFPL6          & 0.394 & 0.135 &  2.1284097 &  0.000000e+00 &  0.000000e+00\\\\\n",
       "\tIRAG1 & JGA & IRAG1           & 0.255 & 0.040 &  1.9937660 &  0.000000e+00 &  0.000000e+00\\\\\n",
       "\tHTR1F & JGA & HTR1F           & 0.250 & 0.059 &  1.9679371 &  0.000000e+00 &  0.000000e+00\\\\\n",
       "\tMAP1B & JGA & MAP1B           & 0.248 & 0.034 &  1.9674205 &  0.000000e+00 &  0.000000e+00\\\\\n",
       "\tZEB2 & JGA & ZEB2            & 0.359 & 0.120 &  1.8912965 &  0.000000e+00 &  0.000000e+00\\\\\n",
       "\tPRR16 & JGA & PRR16           & 0.230 & 0.052 &  1.8504552 &  0.000000e+00 &  0.000000e+00\\\\\n",
       "\tNOTCH3 & JGA & NOTCH3          & 0.222 & 0.033 &  1.8225920 &  0.000000e+00 &  0.000000e+00\\\\\n",
       "\tCALD1 & JGA & CALD1           & 0.381 & 0.118 &  1.8206223 &  0.000000e+00 &  0.000000e+00\\\\\n",
       "\tFHL5 & JGA & FHL5            & 0.185 & 0.015 &  1.7838839 &  0.000000e+00 &  0.000000e+00\\\\\n",
       "\tMEF2C & JGA & MEF2C           & 0.282 & 0.079 &  1.7804968 &  0.000000e+00 &  0.000000e+00\\\\\n",
       "\tATP10A & JGA & ATP10A          & 0.231 & 0.058 &  1.6658649 &  0.000000e+00 &  0.000000e+00\\\\\n",
       "\tADCY3 & JGA & ADCY3           & 0.206 & 0.038 &  1.6632459 &  0.000000e+00 &  0.000000e+00\\\\\n",
       "\tEDNRA & JGA & EDNRA           & 0.152 & 0.021 &  1.3665535 &  0.000000e+00 &  0.000000e+00\\\\\n",
       "\tNEURL1B & JGA & NEURL1B         & 0.142 & 0.024 &  1.3309561 &  0.000000e+00 &  0.000000e+00\\\\\n",
       "\tPKHD1 & JGA & PKHD1           & 0.465 & 0.758 & -1.4719059 &  0.000000e+00 &  0.000000e+00\\\\\n",
       "\tCOL25A1 & JGA & COL25A1         & 0.319 & 0.104 &  1.7900418 & 2.616040e-300 & 1.264542e-295\\\\\n",
       "\tMYH11 & JGA & MYH11           & 0.282 & 0.085 &  1.6464582 & 5.490479e-293 & 2.653988e-288\\\\\n",
       "\tENSG00000275016 & JGA & ENSG00000275016 & 0.194 & 0.047 &  1.7846418 & 9.969154e-274 & 4.818890e-269\\\\\n",
       "\tCCDC102B & JGA & CCDC102B        & 0.297 & 0.098 &  2.1442336 & 1.701621e-273 & 8.225297e-269\\\\\n",
       "\tJAG1 & JGA & JAG1            & 0.263 & 0.079 &  1.6726442 & 2.821279e-267 & 1.363750e-262\\\\\n",
       "\tINPP4B & JGA & INPP4B          & 0.477 & 0.235 &  1.9460614 & 1.828791e-260 & 8.840012e-256\\\\\n",
       "\tNFASC & JGA & NFASC           & 0.262 & 0.081 &  1.6693229 & 7.736618e-256 & 3.739727e-251\\\\\n",
       "\tESRRG & JGA & ESRRG           & 0.454 & 0.724 & -1.4737942 & 7.279377e-254 & 3.518705e-249\\\\\n",
       "\tCOL1A2 & JGA & COL1A2          & 0.160 & 0.034 &  1.0723227 & 5.415809e-252 & 2.617894e-247\\\\\n",
       "\tSLC35F1 & JGA & SLC35F1         & 0.230 & 0.066 &  1.6406031 & 1.104889e-248 & 5.340812e-244\\\\\n",
       "\tPTP4A3 & JGA & PTP4A3          & 0.118 & 0.021 &  1.2138455 & 9.378347e-244 & 4.533305e-239\\\\\n",
       "\tLTBP1 & JGA & LTBP1           & 0.423 & 0.195 &  1.9442025 & 5.152496e-240 & 2.490613e-235\\\\\n",
       "\tPTH2R & JGA & PTH2R           & 0.276 & 0.601 & -1.4695170 & 5.451992e-239 & 2.635384e-234\\\\\n",
       "\tFN1 & JGA & FN1             & 0.224 & 0.065 &  2.3765794 & 4.669006e-236 & 2.256904e-231\\\\\n",
       "\tDAAM2 & JGA & DAAM2           & 0.172 & 0.042 &  1.4344304 & 2.132107e-232 & 1.030618e-227\\\\\n",
       "\tCCN4 & JGA & CCN4            & 0.125 & 0.024 &  1.0950626 & 2.725526e-229 & 1.317465e-224\\\\\n",
       "\tRGS5 & JGA & RGS5            & 0.171 & 0.042 &  1.3145521 & 5.369629e-225 & 2.595571e-220\\\\\n",
       "\tC2CD2 & JGA & C2CD2           & 0.181 & 0.048 &  1.3976891 & 6.091549e-217 & 2.944533e-212\\\\\n",
       "\tTMTC1 & JGA & TMTC1           & 0.346 & 0.143 &  1.6755264 & 5.328469e-216 & 2.575675e-211\\\\\n",
       "\tHGF & JGA & HGF             & 0.102 & 0.018 &  0.8881228 & 3.705581e-214 & 1.791204e-209\\\\\n",
       "\tRUNX1T1 & JGA & RUNX1T1         & 0.233 & 0.074 &  1.3735738 & 4.408107e-213 & 2.130791e-208\\\\\n",
       "\tBICC1 & JGA & BICC1           & 0.403 & 0.670 & -1.3532155 & 7.495811e-213 & 3.623325e-208\\\\\n",
       "\tRCAN2 & JGA & RCAN2           & 0.368 & 0.159 &  1.6592062 & 1.338853e-211 & 6.471748e-207\\\\\n",
       "\tCOL3A1 & JGA & COL3A1          & 0.172 & 0.045 &  1.2186622 & 9.102256e-206 & 4.399849e-201\\\\\n",
       "\tRBMS3 & JGA & RBMS3           & 0.281 & 0.104 &  1.5262223 & 1.431907e-203 & 6.921550e-199\\\\\n",
       "\tFLNA & JGA & FLNA            & 0.199 & 0.059 &  1.5124101 & 6.699960e-197 & 3.238626e-192\\\\\n",
       "\\end{tabular}\n"
      ],
      "text/markdown": [
       "\n",
       "A data.frame: 50 × 7\n",
       "\n",
       "| <!--/--> | cluster &lt;fct&gt; | gene &lt;chr&gt; | pct.1 &lt;dbl&gt; | pct.2 &lt;dbl&gt; | avg_log2FC &lt;dbl&gt; | p_val &lt;dbl&gt; | p_val_adj &lt;dbl&gt; |\n",
       "|---|---|---|---|---|---|---|---|\n",
       "| SLIT3 | JGA | SLIT3           | 0.631 | 0.199 |  3.0909057 |  0.000000e+00 |  0.000000e+00 |\n",
       "| EBF1 | JGA | EBF1            | 0.577 | 0.139 |  3.0101334 |  0.000000e+00 |  0.000000e+00 |\n",
       "| CARMN | JGA | CARMN           | 0.417 | 0.050 |  2.8494782 |  0.000000e+00 |  0.000000e+00 |\n",
       "| CACNA1C | JGA | CACNA1C         | 0.620 | 0.203 |  2.8366488 |  0.000000e+00 |  0.000000e+00 |\n",
       "| DLC1 | JGA | DLC1            | 0.538 | 0.195 |  2.7287416 |  0.000000e+00 |  0.000000e+00 |\n",
       "| PDGFRB | JGA | PDGFRB          | 0.327 | 0.034 |  2.6252168 |  0.000000e+00 |  0.000000e+00 |\n",
       "| ADGRB3 | JGA | ADGRB3          | 0.433 | 0.154 |  2.6088064 |  0.000000e+00 |  0.000000e+00 |\n",
       "| NTRK3 | JGA | NTRK3           | 0.322 | 0.070 |  2.5608537 |  0.000000e+00 |  0.000000e+00 |\n",
       "| PRKG1 | JGA | PRKG1           | 0.733 | 0.417 |  2.2561879 |  0.000000e+00 |  0.000000e+00 |\n",
       "| LHFPL6 | JGA | LHFPL6          | 0.394 | 0.135 |  2.1284097 |  0.000000e+00 |  0.000000e+00 |\n",
       "| IRAG1 | JGA | IRAG1           | 0.255 | 0.040 |  1.9937660 |  0.000000e+00 |  0.000000e+00 |\n",
       "| HTR1F | JGA | HTR1F           | 0.250 | 0.059 |  1.9679371 |  0.000000e+00 |  0.000000e+00 |\n",
       "| MAP1B | JGA | MAP1B           | 0.248 | 0.034 |  1.9674205 |  0.000000e+00 |  0.000000e+00 |\n",
       "| ZEB2 | JGA | ZEB2            | 0.359 | 0.120 |  1.8912965 |  0.000000e+00 |  0.000000e+00 |\n",
       "| PRR16 | JGA | PRR16           | 0.230 | 0.052 |  1.8504552 |  0.000000e+00 |  0.000000e+00 |\n",
       "| NOTCH3 | JGA | NOTCH3          | 0.222 | 0.033 |  1.8225920 |  0.000000e+00 |  0.000000e+00 |\n",
       "| CALD1 | JGA | CALD1           | 0.381 | 0.118 |  1.8206223 |  0.000000e+00 |  0.000000e+00 |\n",
       "| FHL5 | JGA | FHL5            | 0.185 | 0.015 |  1.7838839 |  0.000000e+00 |  0.000000e+00 |\n",
       "| MEF2C | JGA | MEF2C           | 0.282 | 0.079 |  1.7804968 |  0.000000e+00 |  0.000000e+00 |\n",
       "| ATP10A | JGA | ATP10A          | 0.231 | 0.058 |  1.6658649 |  0.000000e+00 |  0.000000e+00 |\n",
       "| ADCY3 | JGA | ADCY3           | 0.206 | 0.038 |  1.6632459 |  0.000000e+00 |  0.000000e+00 |\n",
       "| EDNRA | JGA | EDNRA           | 0.152 | 0.021 |  1.3665535 |  0.000000e+00 |  0.000000e+00 |\n",
       "| NEURL1B | JGA | NEURL1B         | 0.142 | 0.024 |  1.3309561 |  0.000000e+00 |  0.000000e+00 |\n",
       "| PKHD1 | JGA | PKHD1           | 0.465 | 0.758 | -1.4719059 |  0.000000e+00 |  0.000000e+00 |\n",
       "| COL25A1 | JGA | COL25A1         | 0.319 | 0.104 |  1.7900418 | 2.616040e-300 | 1.264542e-295 |\n",
       "| MYH11 | JGA | MYH11           | 0.282 | 0.085 |  1.6464582 | 5.490479e-293 | 2.653988e-288 |\n",
       "| ENSG00000275016 | JGA | ENSG00000275016 | 0.194 | 0.047 |  1.7846418 | 9.969154e-274 | 4.818890e-269 |\n",
       "| CCDC102B | JGA | CCDC102B        | 0.297 | 0.098 |  2.1442336 | 1.701621e-273 | 8.225297e-269 |\n",
       "| JAG1 | JGA | JAG1            | 0.263 | 0.079 |  1.6726442 | 2.821279e-267 | 1.363750e-262 |\n",
       "| INPP4B | JGA | INPP4B          | 0.477 | 0.235 |  1.9460614 | 1.828791e-260 | 8.840012e-256 |\n",
       "| NFASC | JGA | NFASC           | 0.262 | 0.081 |  1.6693229 | 7.736618e-256 | 3.739727e-251 |\n",
       "| ESRRG | JGA | ESRRG           | 0.454 | 0.724 | -1.4737942 | 7.279377e-254 | 3.518705e-249 |\n",
       "| COL1A2 | JGA | COL1A2          | 0.160 | 0.034 |  1.0723227 | 5.415809e-252 | 2.617894e-247 |\n",
       "| SLC35F1 | JGA | SLC35F1         | 0.230 | 0.066 |  1.6406031 | 1.104889e-248 | 5.340812e-244 |\n",
       "| PTP4A3 | JGA | PTP4A3          | 0.118 | 0.021 |  1.2138455 | 9.378347e-244 | 4.533305e-239 |\n",
       "| LTBP1 | JGA | LTBP1           | 0.423 | 0.195 |  1.9442025 | 5.152496e-240 | 2.490613e-235 |\n",
       "| PTH2R | JGA | PTH2R           | 0.276 | 0.601 | -1.4695170 | 5.451992e-239 | 2.635384e-234 |\n",
       "| FN1 | JGA | FN1             | 0.224 | 0.065 |  2.3765794 | 4.669006e-236 | 2.256904e-231 |\n",
       "| DAAM2 | JGA | DAAM2           | 0.172 | 0.042 |  1.4344304 | 2.132107e-232 | 1.030618e-227 |\n",
       "| CCN4 | JGA | CCN4            | 0.125 | 0.024 |  1.0950626 | 2.725526e-229 | 1.317465e-224 |\n",
       "| RGS5 | JGA | RGS5            | 0.171 | 0.042 |  1.3145521 | 5.369629e-225 | 2.595571e-220 |\n",
       "| C2CD2 | JGA | C2CD2           | 0.181 | 0.048 |  1.3976891 | 6.091549e-217 | 2.944533e-212 |\n",
       "| TMTC1 | JGA | TMTC1           | 0.346 | 0.143 |  1.6755264 | 5.328469e-216 | 2.575675e-211 |\n",
       "| HGF | JGA | HGF             | 0.102 | 0.018 |  0.8881228 | 3.705581e-214 | 1.791204e-209 |\n",
       "| RUNX1T1 | JGA | RUNX1T1         | 0.233 | 0.074 |  1.3735738 | 4.408107e-213 | 2.130791e-208 |\n",
       "| BICC1 | JGA | BICC1           | 0.403 | 0.670 | -1.3532155 | 7.495811e-213 | 3.623325e-208 |\n",
       "| RCAN2 | JGA | RCAN2           | 0.368 | 0.159 |  1.6592062 | 1.338853e-211 | 6.471748e-207 |\n",
       "| COL3A1 | JGA | COL3A1          | 0.172 | 0.045 |  1.2186622 | 9.102256e-206 | 4.399849e-201 |\n",
       "| RBMS3 | JGA | RBMS3           | 0.281 | 0.104 |  1.5262223 | 1.431907e-203 | 6.921550e-199 |\n",
       "| FLNA | JGA | FLNA            | 0.199 | 0.059 |  1.5124101 | 6.699960e-197 | 3.238626e-192 |\n",
       "\n"
      ],
      "text/plain": [
       "                cluster gene            pct.1 pct.2 avg_log2FC p_val        \n",
       "SLIT3           JGA     SLIT3           0.631 0.199  3.0909057  0.000000e+00\n",
       "EBF1            JGA     EBF1            0.577 0.139  3.0101334  0.000000e+00\n",
       "CARMN           JGA     CARMN           0.417 0.050  2.8494782  0.000000e+00\n",
       "CACNA1C         JGA     CACNA1C         0.620 0.203  2.8366488  0.000000e+00\n",
       "DLC1            JGA     DLC1            0.538 0.195  2.7287416  0.000000e+00\n",
       "PDGFRB          JGA     PDGFRB          0.327 0.034  2.6252168  0.000000e+00\n",
       "ADGRB3          JGA     ADGRB3          0.433 0.154  2.6088064  0.000000e+00\n",
       "NTRK3           JGA     NTRK3           0.322 0.070  2.5608537  0.000000e+00\n",
       "PRKG1           JGA     PRKG1           0.733 0.417  2.2561879  0.000000e+00\n",
       "LHFPL6          JGA     LHFPL6          0.394 0.135  2.1284097  0.000000e+00\n",
       "IRAG1           JGA     IRAG1           0.255 0.040  1.9937660  0.000000e+00\n",
       "HTR1F           JGA     HTR1F           0.250 0.059  1.9679371  0.000000e+00\n",
       "MAP1B           JGA     MAP1B           0.248 0.034  1.9674205  0.000000e+00\n",
       "ZEB2            JGA     ZEB2            0.359 0.120  1.8912965  0.000000e+00\n",
       "PRR16           JGA     PRR16           0.230 0.052  1.8504552  0.000000e+00\n",
       "NOTCH3          JGA     NOTCH3          0.222 0.033  1.8225920  0.000000e+00\n",
       "CALD1           JGA     CALD1           0.381 0.118  1.8206223  0.000000e+00\n",
       "FHL5            JGA     FHL5            0.185 0.015  1.7838839  0.000000e+00\n",
       "MEF2C           JGA     MEF2C           0.282 0.079  1.7804968  0.000000e+00\n",
       "ATP10A          JGA     ATP10A          0.231 0.058  1.6658649  0.000000e+00\n",
       "ADCY3           JGA     ADCY3           0.206 0.038  1.6632459  0.000000e+00\n",
       "EDNRA           JGA     EDNRA           0.152 0.021  1.3665535  0.000000e+00\n",
       "NEURL1B         JGA     NEURL1B         0.142 0.024  1.3309561  0.000000e+00\n",
       "PKHD1           JGA     PKHD1           0.465 0.758 -1.4719059  0.000000e+00\n",
       "COL25A1         JGA     COL25A1         0.319 0.104  1.7900418 2.616040e-300\n",
       "MYH11           JGA     MYH11           0.282 0.085  1.6464582 5.490479e-293\n",
       "ENSG00000275016 JGA     ENSG00000275016 0.194 0.047  1.7846418 9.969154e-274\n",
       "CCDC102B        JGA     CCDC102B        0.297 0.098  2.1442336 1.701621e-273\n",
       "JAG1            JGA     JAG1            0.263 0.079  1.6726442 2.821279e-267\n",
       "INPP4B          JGA     INPP4B          0.477 0.235  1.9460614 1.828791e-260\n",
       "NFASC           JGA     NFASC           0.262 0.081  1.6693229 7.736618e-256\n",
       "ESRRG           JGA     ESRRG           0.454 0.724 -1.4737942 7.279377e-254\n",
       "COL1A2          JGA     COL1A2          0.160 0.034  1.0723227 5.415809e-252\n",
       "SLC35F1         JGA     SLC35F1         0.230 0.066  1.6406031 1.104889e-248\n",
       "PTP4A3          JGA     PTP4A3          0.118 0.021  1.2138455 9.378347e-244\n",
       "LTBP1           JGA     LTBP1           0.423 0.195  1.9442025 5.152496e-240\n",
       "PTH2R           JGA     PTH2R           0.276 0.601 -1.4695170 5.451992e-239\n",
       "FN1             JGA     FN1             0.224 0.065  2.3765794 4.669006e-236\n",
       "DAAM2           JGA     DAAM2           0.172 0.042  1.4344304 2.132107e-232\n",
       "CCN4            JGA     CCN4            0.125 0.024  1.0950626 2.725526e-229\n",
       "RGS5            JGA     RGS5            0.171 0.042  1.3145521 5.369629e-225\n",
       "C2CD2           JGA     C2CD2           0.181 0.048  1.3976891 6.091549e-217\n",
       "TMTC1           JGA     TMTC1           0.346 0.143  1.6755264 5.328469e-216\n",
       "HGF             JGA     HGF             0.102 0.018  0.8881228 3.705581e-214\n",
       "RUNX1T1         JGA     RUNX1T1         0.233 0.074  1.3735738 4.408107e-213\n",
       "BICC1           JGA     BICC1           0.403 0.670 -1.3532155 7.495811e-213\n",
       "RCAN2           JGA     RCAN2           0.368 0.159  1.6592062 1.338853e-211\n",
       "COL3A1          JGA     COL3A1          0.172 0.045  1.2186622 9.102256e-206\n",
       "RBMS3           JGA     RBMS3           0.281 0.104  1.5262223 1.431907e-203\n",
       "FLNA            JGA     FLNA            0.199 0.059  1.5124101 6.699960e-197\n",
       "                p_val_adj    \n",
       "SLIT3            0.000000e+00\n",
       "EBF1             0.000000e+00\n",
       "CARMN            0.000000e+00\n",
       "CACNA1C          0.000000e+00\n",
       "DLC1             0.000000e+00\n",
       "PDGFRB           0.000000e+00\n",
       "ADGRB3           0.000000e+00\n",
       "NTRK3            0.000000e+00\n",
       "PRKG1            0.000000e+00\n",
       "LHFPL6           0.000000e+00\n",
       "IRAG1            0.000000e+00\n",
       "HTR1F            0.000000e+00\n",
       "MAP1B            0.000000e+00\n",
       "ZEB2             0.000000e+00\n",
       "PRR16            0.000000e+00\n",
       "NOTCH3           0.000000e+00\n",
       "CALD1            0.000000e+00\n",
       "FHL5             0.000000e+00\n",
       "MEF2C            0.000000e+00\n",
       "ATP10A           0.000000e+00\n",
       "ADCY3            0.000000e+00\n",
       "EDNRA            0.000000e+00\n",
       "NEURL1B          0.000000e+00\n",
       "PKHD1            0.000000e+00\n",
       "COL25A1         1.264542e-295\n",
       "MYH11           2.653988e-288\n",
       "ENSG00000275016 4.818890e-269\n",
       "CCDC102B        8.225297e-269\n",
       "JAG1            1.363750e-262\n",
       "INPP4B          8.840012e-256\n",
       "NFASC           3.739727e-251\n",
       "ESRRG           3.518705e-249\n",
       "COL1A2          2.617894e-247\n",
       "SLC35F1         5.340812e-244\n",
       "PTP4A3          4.533305e-239\n",
       "LTBP1           2.490613e-235\n",
       "PTH2R           2.635384e-234\n",
       "FN1             2.256904e-231\n",
       "DAAM2           1.030618e-227\n",
       "CCN4            1.317465e-224\n",
       "RGS5            2.595571e-220\n",
       "C2CD2           2.944533e-212\n",
       "TMTC1           2.575675e-211\n",
       "HGF             1.791204e-209\n",
       "RUNX1T1         2.130791e-208\n",
       "BICC1           3.623325e-208\n",
       "RCAN2           6.471748e-207\n",
       "COL3A1          4.399849e-201\n",
       "RBMS3           6.921550e-199\n",
       "FLNA            3.238626e-192"
      ]
     },
     "metadata": {},
     "output_type": "display_data"
    }
   ],
   "source": [
    "dim(DEG)\n",
    "head(DEG,50)"
   ]
  },
  {
   "cell_type": "code",
   "execution_count": null,
   "id": "f28f85bd",
   "metadata": {},
   "outputs": [],
   "source": []
  },
  {
   "cell_type": "code",
   "execution_count": null,
   "id": "0eda4828",
   "metadata": {},
   "outputs": [],
   "source": []
  },
  {
   "cell_type": "code",
   "execution_count": null,
   "id": "1476c3e9",
   "metadata": {},
   "outputs": [],
   "source": []
  },
  {
   "cell_type": "code",
   "execution_count": null,
   "id": "5b9c2ab5",
   "metadata": {},
   "outputs": [],
   "source": []
  },
  {
   "cell_type": "code",
   "execution_count": null,
   "id": "1963a24f",
   "metadata": {},
   "outputs": [],
   "source": []
  },
  {
   "cell_type": "code",
   "execution_count": null,
   "id": "1f6a83ab",
   "metadata": {},
   "outputs": [],
   "source": []
  }
 ],
 "metadata": {
  "kernelspec": {
   "display_name": "R",
   "language": "R",
   "name": "ir"
  },
  "language_info": {
   "codemirror_mode": "r",
   "file_extension": ".r",
   "mimetype": "text/x-r-source",
   "name": "R",
   "pygments_lexer": "r",
   "version": "4.2.2"
  }
 },
 "nbformat": 4,
 "nbformat_minor": 5
}
