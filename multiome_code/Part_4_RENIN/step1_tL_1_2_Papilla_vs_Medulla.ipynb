{
 "cells": [
  {
   "cell_type": "code",
   "execution_count": 2,
   "id": "5a5f9755",
   "metadata": {
    "scrolled": false
   },
   "outputs": [],
   "source": [
    "library(Seurat)\n",
    "library(Signac)\n",
    "library(SeuratWrappers)\n",
    "library(RENIN)\n",
    "library(tidyverse)\n",
    "library(chromVARmotifs)\n",
    "library(BSgenome.Hsapiens.UCSC.hg19)"
   ]
  },
  {
   "cell_type": "markdown",
   "id": "2dc24966",
   "metadata": {},
   "source": [
    "## define the two ident to compare in FindMarkers function"
   ]
  },
  {
   "cell_type": "code",
   "execution_count": 5,
   "id": "7b858190",
   "metadata": {},
   "outputs": [],
   "source": [
    "FindMarkers_ident_1 = \"Papilla\"\n",
    "FindMarkers_ident_2 = \"Medulla\"\n",
    "\n",
    "celltype_subset = c(\"tL1\", \"tL2\")"
   ]
  },
  {
   "cell_type": "code",
   "execution_count": 6,
   "id": "77782b23",
   "metadata": {},
   "outputs": [],
   "source": [
    "de_gene_file = \"../../processed_data/RENIN/de_genes/446267_cells_RNA/tL_rank_genes_groups_p_vs_m_20230425.RData\""
   ]
  },
  {
   "cell_type": "code",
   "execution_count": 7,
   "id": "7484a1a0",
   "metadata": {},
   "outputs": [
    {
     "data": {
      "text/html": [
       "'../../processed_data/RENIN/by_regions/tL1_tL2'"
      ],
      "text/latex": [
       "'../../processed\\_data/RENIN/by\\_regions/tL1\\_tL2'"
      ],
      "text/markdown": [
       "'../../processed_data/RENIN/by_regions/tL1_tL2'"
      ],
      "text/plain": [
       "[1] \"../../processed_data/RENIN/by_regions/tL1_tL2\""
      ]
     },
     "metadata": {},
     "output_type": "display_data"
    }
   ],
   "source": [
    "processed_dir = file.path(\"..\", \"..\", \"processed_data\", \"RENIN\", \"by_regions\", paste0(gsub(pattern = \"\\\\/\", \"_\", paste(celltype_subset, collapse = \"_\"))))\n",
    "processed_dir\n",
    "dir.create(processed_dir, recursive = T, showWarnings = F)"
   ]
  },
  {
   "cell_type": "markdown",
   "id": "7923c586",
   "metadata": {},
   "source": [
    "### load previously calculated image which includes expr_mat, peak_mat, novaseq.sub. This could save time for dealing with new de_gene for different clusters while sharing the same novaseq.sub object"
   ]
  },
  {
   "cell_type": "code",
   "execution_count": 8,
   "id": "a014ce77",
   "metadata": {},
   "outputs": [
    {
     "data": {
      "text/plain": [
       "[1] \"2023-07-01 12:27:02 CDT\""
      ]
     },
     "metadata": {},
     "output_type": "display_data"
    },
    {
     "data": {
      "text/plain": [
       "[1] \"2023-07-01 12:31:55 CDT\""
      ]
     },
     "metadata": {},
     "output_type": "display_data"
    }
   ],
   "source": [
    "Sys.time()\n",
    "load(\"../../processed_data/RENIN/RENIN_324701_cells_preprocess.RData\")\n",
    "Sys.time()"
   ]
  },
  {
   "cell_type": "code",
   "execution_count": 9,
   "id": "7378c09c",
   "metadata": {},
   "outputs": [
    {
     "data": {
      "text/plain": [
       "An object of class Seurat \n",
       "237522 features across 324701 samples within 2 assays \n",
       "Active assay: peaks (189184 features, 189184 variable features)\n",
       " 1 other assay present: SCT\n",
       " 6 dimensional reductions calculated: pca, harmony_RNA, lsi, harmony_peaks, umap.peaks, WNN.UMAP"
      ]
     },
     "metadata": {},
     "output_type": "display_data"
    },
    {
     "data": {
      "text/plain": [
       "\n",
       "      JGA       POD       PEC        PT PT_dediff  PT_VCAM1       tL1       tL2 \n",
       "     2465      3179      1239     64880     29494      8445     25438      9029 \n",
       "   tL-TAL      TAL1      TAL2      TAL3       DCT       CNT       PC1       PC2 \n",
       "    15485     29910     19724      8900     14150     13197     16140      4049 \n",
       "      ICA       ICB      Uro1      Uro2      ENDO      SMC1      SMC2      SMC3 \n",
       "    10579      4120      3210       682     12847      4272       156        86 \n",
       "     Fib1      Fib2      Fib3        Ma        BT \n",
       "     3786      7191      3095      3673      5280 "
      ]
     },
     "metadata": {},
     "output_type": "display_data"
    }
   ],
   "source": [
    "novaseq.sub\n",
    "table(novaseq.sub$celltype5_rna)"
   ]
  },
  {
   "cell_type": "code",
   "execution_count": 10,
   "id": "f5ee7fc7",
   "metadata": {},
   "outputs": [
    {
     "data": {
      "text/html": [
       "<style>\n",
       ".list-inline {list-style: none; margin:0; padding: 0}\n",
       ".list-inline>li {display: inline-block}\n",
       ".list-inline>li:not(:last-child)::after {content: \"\\00b7\"; padding: 0 .5ex}\n",
       "</style>\n",
       "<ol class=list-inline><li>'celltype_subset'</li><li>'de_gene_file'</li><li>'expr_mat'</li><li>'FindMarkers_ident_1'</li><li>'FindMarkers_ident_2'</li><li>'level.novaseq'</li><li>'level.novaseq.renal_region_new'</li><li>'level.novaseq.rna'</li><li>'novaseq.sub'</li><li>'palette.novaseq'</li><li>'palette.novaseq.renal_region_new'</li><li>'palette.novaseq.rna'</li><li>'peak_mat'</li><li>'processed_dir'</li></ol>\n"
      ],
      "text/latex": [
       "\\begin{enumerate*}\n",
       "\\item 'celltype\\_subset'\n",
       "\\item 'de\\_gene\\_file'\n",
       "\\item 'expr\\_mat'\n",
       "\\item 'FindMarkers\\_ident\\_1'\n",
       "\\item 'FindMarkers\\_ident\\_2'\n",
       "\\item 'level.novaseq'\n",
       "\\item 'level.novaseq.renal\\_region\\_new'\n",
       "\\item 'level.novaseq.rna'\n",
       "\\item 'novaseq.sub'\n",
       "\\item 'palette.novaseq'\n",
       "\\item 'palette.novaseq.renal\\_region\\_new'\n",
       "\\item 'palette.novaseq.rna'\n",
       "\\item 'peak\\_mat'\n",
       "\\item 'processed\\_dir'\n",
       "\\end{enumerate*}\n"
      ],
      "text/markdown": [
       "1. 'celltype_subset'\n",
       "2. 'de_gene_file'\n",
       "3. 'expr_mat'\n",
       "4. 'FindMarkers_ident_1'\n",
       "5. 'FindMarkers_ident_2'\n",
       "6. 'level.novaseq'\n",
       "7. 'level.novaseq.renal_region_new'\n",
       "8. 'level.novaseq.rna'\n",
       "9. 'novaseq.sub'\n",
       "10. 'palette.novaseq'\n",
       "11. 'palette.novaseq.renal_region_new'\n",
       "12. 'palette.novaseq.rna'\n",
       "13. 'peak_mat'\n",
       "14. 'processed_dir'\n",
       "\n",
       "\n"
      ],
      "text/plain": [
       " [1] \"celltype_subset\"                  \"de_gene_file\"                    \n",
       " [3] \"expr_mat\"                         \"FindMarkers_ident_1\"             \n",
       " [5] \"FindMarkers_ident_2\"              \"level.novaseq\"                   \n",
       " [7] \"level.novaseq.renal_region_new\"   \"level.novaseq.rna\"               \n",
       " [9] \"novaseq.sub\"                      \"palette.novaseq\"                 \n",
       "[11] \"palette.novaseq.renal_region_new\" \"palette.novaseq.rna\"             \n",
       "[13] \"peak_mat\"                         \"processed_dir\"                   "
      ]
     },
     "metadata": {},
     "output_type": "display_data"
    }
   ],
   "source": [
    "ls()"
   ]
  },
  {
   "cell_type": "code",
   "execution_count": 11,
   "id": "ea7f2396",
   "metadata": {},
   "outputs": [],
   "source": [
    "## subset novaseq.sub again to only include the celltypes of interest"
   ]
  },
  {
   "cell_type": "code",
   "execution_count": 12,
   "id": "6846e163",
   "metadata": {},
   "outputs": [
    {
     "data": {
      "text/plain": [
       "An object of class Seurat \n",
       "237522 features across 34467 samples within 2 assays \n",
       "Active assay: peaks (189184 features, 189184 variable features)\n",
       " 1 other assay present: SCT\n",
       " 6 dimensional reductions calculated: pca, harmony_RNA, lsi, harmony_peaks, umap.peaks, WNN.UMAP"
      ]
     },
     "metadata": {},
     "output_type": "display_data"
    },
    {
     "data": {
      "text/plain": [
       "\n",
       "      JGA       POD       PEC        PT PT_dediff  PT_VCAM1       tL1       tL2 \n",
       "        0         0         0         0         0         0     25438      9029 \n",
       "   tL-TAL      TAL1      TAL2      TAL3       DCT       CNT       PC1       PC2 \n",
       "        0         0         0         0         0         0         0         0 \n",
       "      ICA       ICB      Uro1      Uro2      ENDO      SMC1      SMC2      SMC3 \n",
       "        0         0         0         0         0         0         0         0 \n",
       "     Fib1      Fib2      Fib3        Ma        BT \n",
       "        0         0         0         0         0 "
      ]
     },
     "metadata": {},
     "output_type": "display_data"
    }
   ],
   "source": [
    "novaseq.sub = subset(novaseq.sub, celltype5_rna %in% celltype_subset)\n",
    "novaseq.sub\n",
    "table(novaseq.sub$celltype5_rna)"
   ]
  },
  {
   "cell_type": "code",
   "execution_count": 14,
   "id": "16c607fc",
   "metadata": {},
   "outputs": [
    {
     "data": {
      "text/html": [
       "<style>\n",
       ".list-inline {list-style: none; margin:0; padding: 0}\n",
       ".list-inline>li {display: inline-block}\n",
       ".list-inline>li:not(:last-child)::after {content: \"\\00b7\"; padding: 0 .5ex}\n",
       "</style>\n",
       "<ol class=list-inline><li>'celltype_subset'</li><li>'de_gene_file'</li><li>'expr_mat'</li><li>'FindMarkers_ident_1'</li><li>'FindMarkers_ident_2'</li><li>'level.novaseq'</li><li>'level.novaseq.renal_region_new'</li><li>'level.novaseq.rna'</li><li>'novaseq.sub'</li><li>'palette.novaseq'</li><li>'palette.novaseq.renal_region_new'</li><li>'palette.novaseq.rna'</li><li>'peak_mat'</li><li>'processed_dir'</li></ol>\n"
      ],
      "text/latex": [
       "\\begin{enumerate*}\n",
       "\\item 'celltype\\_subset'\n",
       "\\item 'de\\_gene\\_file'\n",
       "\\item 'expr\\_mat'\n",
       "\\item 'FindMarkers\\_ident\\_1'\n",
       "\\item 'FindMarkers\\_ident\\_2'\n",
       "\\item 'level.novaseq'\n",
       "\\item 'level.novaseq.renal\\_region\\_new'\n",
       "\\item 'level.novaseq.rna'\n",
       "\\item 'novaseq.sub'\n",
       "\\item 'palette.novaseq'\n",
       "\\item 'palette.novaseq.renal\\_region\\_new'\n",
       "\\item 'palette.novaseq.rna'\n",
       "\\item 'peak\\_mat'\n",
       "\\item 'processed\\_dir'\n",
       "\\end{enumerate*}\n"
      ],
      "text/markdown": [
       "1. 'celltype_subset'\n",
       "2. 'de_gene_file'\n",
       "3. 'expr_mat'\n",
       "4. 'FindMarkers_ident_1'\n",
       "5. 'FindMarkers_ident_2'\n",
       "6. 'level.novaseq'\n",
       "7. 'level.novaseq.renal_region_new'\n",
       "8. 'level.novaseq.rna'\n",
       "9. 'novaseq.sub'\n",
       "10. 'palette.novaseq'\n",
       "11. 'palette.novaseq.renal_region_new'\n",
       "12. 'palette.novaseq.rna'\n",
       "13. 'peak_mat'\n",
       "14. 'processed_dir'\n",
       "\n",
       "\n"
      ],
      "text/plain": [
       " [1] \"celltype_subset\"                  \"de_gene_file\"                    \n",
       " [3] \"expr_mat\"                         \"FindMarkers_ident_1\"             \n",
       " [5] \"FindMarkers_ident_2\"              \"level.novaseq\"                   \n",
       " [7] \"level.novaseq.renal_region_new\"   \"level.novaseq.rna\"               \n",
       " [9] \"novaseq.sub\"                      \"palette.novaseq\"                 \n",
       "[11] \"palette.novaseq.renal_region_new\" \"palette.novaseq.rna\"             \n",
       "[13] \"peak_mat\"                         \"processed_dir\"                   "
      ]
     },
     "metadata": {},
     "output_type": "display_data"
    }
   ],
   "source": [
    "ls()"
   ]
  },
  {
   "cell_type": "markdown",
   "id": "d6839c0d",
   "metadata": {},
   "source": [
    "### remove the following variables because they will be regenerated for new comparison"
   ]
  },
  {
   "cell_type": "code",
   "execution_count": 15,
   "id": "a62ab8fa",
   "metadata": {},
   "outputs": [
    {
     "name": "stderr",
     "output_type": "stream",
     "text": [
      "Warning message in rm(list = c(\"de_genes\", \"de_genes_BK\", \"gene_list\", \"peak_results\", :\n",
      "“object 'de_genes' not found”\n",
      "Warning message in rm(list = c(\"de_genes\", \"de_genes_BK\", \"gene_list\", \"peak_results\", :\n",
      "“object 'de_genes_BK' not found”\n",
      "Warning message in rm(list = c(\"de_genes\", \"de_genes_BK\", \"gene_list\", \"peak_results\", :\n",
      "“object 'gene_list' not found”\n",
      "Warning message in rm(list = c(\"de_genes\", \"de_genes_BK\", \"gene_list\", \"peak_results\", :\n",
      "“object 'peak_results' not found”\n",
      "Warning message in rm(list = c(\"de_genes\", \"de_genes_BK\", \"gene_list\", \"peak_results\", :\n",
      "“object 'aen_lists' not found”\n",
      "Warning message in rm(list = c(\"de_genes\", \"de_genes_BK\", \"gene_list\", \"peak_results\", :\n",
      "“object 'tf_results' not found”\n",
      "Warning message in rm(list = c(\"de_genes\", \"de_genes_BK\", \"gene_list\", \"peak_results\", :\n",
      "“object 'regulator_tf_names' not found”\n",
      "Warning message in rm(list = c(\"de_genes\", \"de_genes_BK\", \"gene_list\", \"peak_results\", :\n",
      "“object 'centrality_rankings' not found”\n"
     ]
    }
   ],
   "source": [
    "rm(list = c(\"de_genes\", \"de_genes_BK\", \"gene_list\", \"peak_results\", \"aen_lists\", \"tf_results\", \"regulator_tf_names\", \"centrality_rankings\"))"
   ]
  },
  {
   "cell_type": "code",
   "execution_count": 16,
   "id": "fd843e48",
   "metadata": {},
   "outputs": [
    {
     "data": {
      "text/html": [
       "<style>\n",
       ".list-inline {list-style: none; margin:0; padding: 0}\n",
       ".list-inline>li {display: inline-block}\n",
       ".list-inline>li:not(:last-child)::after {content: \"\\00b7\"; padding: 0 .5ex}\n",
       "</style>\n",
       "<ol class=list-inline><li>'celltype_subset'</li><li>'de_gene_file'</li><li>'expr_mat'</li><li>'FindMarkers_ident_1'</li><li>'FindMarkers_ident_2'</li><li>'level.novaseq'</li><li>'level.novaseq.renal_region_new'</li><li>'level.novaseq.rna'</li><li>'novaseq.sub'</li><li>'palette.novaseq'</li><li>'palette.novaseq.renal_region_new'</li><li>'palette.novaseq.rna'</li><li>'peak_mat'</li><li>'processed_dir'</li></ol>\n"
      ],
      "text/latex": [
       "\\begin{enumerate*}\n",
       "\\item 'celltype\\_subset'\n",
       "\\item 'de\\_gene\\_file'\n",
       "\\item 'expr\\_mat'\n",
       "\\item 'FindMarkers\\_ident\\_1'\n",
       "\\item 'FindMarkers\\_ident\\_2'\n",
       "\\item 'level.novaseq'\n",
       "\\item 'level.novaseq.renal\\_region\\_new'\n",
       "\\item 'level.novaseq.rna'\n",
       "\\item 'novaseq.sub'\n",
       "\\item 'palette.novaseq'\n",
       "\\item 'palette.novaseq.renal\\_region\\_new'\n",
       "\\item 'palette.novaseq.rna'\n",
       "\\item 'peak\\_mat'\n",
       "\\item 'processed\\_dir'\n",
       "\\end{enumerate*}\n"
      ],
      "text/markdown": [
       "1. 'celltype_subset'\n",
       "2. 'de_gene_file'\n",
       "3. 'expr_mat'\n",
       "4. 'FindMarkers_ident_1'\n",
       "5. 'FindMarkers_ident_2'\n",
       "6. 'level.novaseq'\n",
       "7. 'level.novaseq.renal_region_new'\n",
       "8. 'level.novaseq.rna'\n",
       "9. 'novaseq.sub'\n",
       "10. 'palette.novaseq'\n",
       "11. 'palette.novaseq.renal_region_new'\n",
       "12. 'palette.novaseq.rna'\n",
       "13. 'peak_mat'\n",
       "14. 'processed_dir'\n",
       "\n",
       "\n"
      ],
      "text/plain": [
       " [1] \"celltype_subset\"                  \"de_gene_file\"                    \n",
       " [3] \"expr_mat\"                         \"FindMarkers_ident_1\"             \n",
       " [5] \"FindMarkers_ident_2\"              \"level.novaseq\"                   \n",
       " [7] \"level.novaseq.renal_region_new\"   \"level.novaseq.rna\"               \n",
       " [9] \"novaseq.sub\"                      \"palette.novaseq\"                 \n",
       "[11] \"palette.novaseq.renal_region_new\" \"palette.novaseq.rna\"             \n",
       "[13] \"peak_mat\"                         \"processed_dir\"                   "
      ]
     },
     "metadata": {},
     "output_type": "display_data"
    }
   ],
   "source": [
    "ls()"
   ]
  },
  {
   "cell_type": "code",
   "execution_count": 17,
   "id": "354579b1",
   "metadata": {},
   "outputs": [
    {
     "data": {
      "text/html": [
       "<style>\n",
       ".dl-inline {width: auto; margin:0; padding: 0}\n",
       ".dl-inline>dt, .dl-inline>dd {float: none; width: auto; display: inline-block}\n",
       ".dl-inline>dt::after {content: \":\\0020\"; padding-right: .5ex}\n",
       ".dl-inline>dt:not(:first-of-type) {padding-left: .5ex}\n",
       "</style><dl class=dl-inline><dt>R1.034,R2.082,R3.082,P1.76,B3</dt><dd>Medulla</dd><dt>R1.085,R2.022,R3.006,P1.50,B3</dt><dd>Papilla</dd><dt>R1.063,R2.045,R3.058,P1.72,B3</dt><dd>Papilla</dd><dt>R1.042,R2.078,R3.088,P1.62,B3</dt><dd>Medulla</dd><dt>R1.089,R2.003,R3.023,P1.61,B2</dt><dd>Papilla</dd><dt>R1.064,R2.074,R3.073,P1.86,B2</dt><dd>Medulla</dd></dl>\n",
       "\n",
       "<details>\n",
       "\t<summary style=display:list-item;cursor:pointer>\n",
       "\t\t<strong>Levels</strong>:\n",
       "\t</summary>\n",
       "\t<style>\n",
       "\t.list-inline {list-style: none; margin:0; padding: 0}\n",
       "\t.list-inline>li {display: inline-block}\n",
       "\t.list-inline>li:not(:last-child)::after {content: \"\\00b7\"; padding: 0 .5ex}\n",
       "\t</style>\n",
       "\t<ol class=list-inline><li>'Cortex'</li><li>'Medulla'</li><li>'Papilla'</li><li>'Renal Artery'</li><li>'Ureter'</li></ol>\n",
       "</details>"
      ],
      "text/latex": [
       "\\begin{description*}\n",
       "\\item[R1.034,R2.082,R3.082,P1.76,B3] Medulla\n",
       "\\item[R1.085,R2.022,R3.006,P1.50,B3] Papilla\n",
       "\\item[R1.063,R2.045,R3.058,P1.72,B3] Papilla\n",
       "\\item[R1.042,R2.078,R3.088,P1.62,B3] Medulla\n",
       "\\item[R1.089,R2.003,R3.023,P1.61,B2] Papilla\n",
       "\\item[R1.064,R2.074,R3.073,P1.86,B2] Medulla\n",
       "\\end{description*}\n",
       "\n",
       "\\emph{Levels}: \\begin{enumerate*}\n",
       "\\item 'Cortex'\n",
       "\\item 'Medulla'\n",
       "\\item 'Papilla'\n",
       "\\item 'Renal Artery'\n",
       "\\item 'Ureter'\n",
       "\\end{enumerate*}\n"
      ],
      "text/markdown": [
       "R1.034,R2.082,R3.082,P1.76,B3\n",
       ":   MedullaR1.085,R2.022,R3.006,P1.50,B3\n",
       ":   PapillaR1.063,R2.045,R3.058,P1.72,B3\n",
       ":   PapillaR1.042,R2.078,R3.088,P1.62,B3\n",
       ":   MedullaR1.089,R2.003,R3.023,P1.61,B2\n",
       ":   PapillaR1.064,R2.074,R3.073,P1.86,B2\n",
       ":   Medulla\n",
       "\n",
       "\n",
       "**Levels**: 1. 'Cortex'\n",
       "2. 'Medulla'\n",
       "3. 'Papilla'\n",
       "4. 'Renal Artery'\n",
       "5. 'Ureter'\n",
       "\n",
       "\n"
      ],
      "text/plain": [
       "R1.034,R2.082,R3.082,P1.76,B3 R1.085,R2.022,R3.006,P1.50,B3 \n",
       "                      Medulla                       Papilla \n",
       "R1.063,R2.045,R3.058,P1.72,B3 R1.042,R2.078,R3.088,P1.62,B3 \n",
       "                      Papilla                       Medulla \n",
       "R1.089,R2.003,R3.023,P1.61,B2 R1.064,R2.074,R3.073,P1.86,B2 \n",
       "                      Papilla                       Medulla \n",
       "Levels: Cortex Medulla Papilla Renal Artery Ureter"
      ]
     },
     "metadata": {},
     "output_type": "display_data"
    }
   ],
   "source": [
    "Idents(novaseq.sub) = novaseq.sub$renal_region_new\n",
    "head(Idents(novaseq.sub))"
   ]
  },
  {
   "cell_type": "markdown",
   "id": "83799c4e",
   "metadata": {},
   "source": [
    "### subset mpt from novaseq.sub because comparison is to be made bewtween two celltypes"
   ]
  },
  {
   "cell_type": "code",
   "execution_count": 19,
   "id": "8042ee6a",
   "metadata": {},
   "outputs": [
    {
     "data": {
      "text/plain": [
       "An object of class Seurat \n",
       "237522 features across 30959 samples within 2 assays \n",
       "Active assay: peaks (189184 features, 189184 variable features)\n",
       " 1 other assay present: SCT\n",
       " 6 dimensional reductions calculated: pca, harmony_RNA, lsi, harmony_peaks, umap.peaks, WNN.UMAP"
      ]
     },
     "metadata": {},
     "output_type": "display_data"
    },
    {
     "data": {
      "text/plain": [
       "\n",
       "      JGA       POD       PEC        PT PT_dediff  PT_VCAM1       tL1       tL2 \n",
       "        0         0         0         0         0         0     22871      8088 \n",
       "   tL-TAL      TAL1      TAL2      TAL3       DCT       CNT       PC1       PC2 \n",
       "        0         0         0         0         0         0         0         0 \n",
       "      ICA       ICB      Uro1      Uro2      ENDO      SMC1      SMC2      SMC3 \n",
       "        0         0         0         0         0         0         0         0 \n",
       "     Fib1      Fib2      Fib3        Ma        BT \n",
       "        0         0         0         0         0 "
      ]
     },
     "metadata": {},
     "output_type": "display_data"
    }
   ],
   "source": [
    "mpt <- subset(novaseq.sub, renal_region_new %in% c(FindMarkers_ident_1, FindMarkers_ident_2))\n",
    "mpt\n",
    "table(mpt$celltype5_rna)"
   ]
  },
  {
   "cell_type": "markdown",
   "id": "7315242c",
   "metadata": {},
   "source": [
    "## load hli_446267_cells de_gene data frame"
   ]
  },
  {
   "cell_type": "code",
   "execution_count": 20,
   "id": "be82613a",
   "metadata": {},
   "outputs": [
    {
     "data": {
      "text/plain": [
       "[1] \"2023-07-01 12:41:39 CDT\""
      ]
     },
     "metadata": {},
     "output_type": "display_data"
    },
    {
     "data": {
      "text/plain": [
       "[1] \"2023-07-01 12:41:39 CDT\""
      ]
     },
     "metadata": {},
     "output_type": "display_data"
    }
   ],
   "source": [
    "Sys.time()\n",
    "options(future.globals.maxSize = 8000 * 1024^2)\n",
    "load(de_gene_file)\n",
    "Sys.time()"
   ]
  },
  {
   "cell_type": "code",
   "execution_count": 21,
   "id": "ed12a263",
   "metadata": {},
   "outputs": [
    {
     "name": "stdout",
     "output_type": "stream",
     "text": [
      "        names           scores                 pvals             pvals_adj\n",
      "CA8       CA8 53.3390846252441                     0                     0\n",
      "NEBL     NEBL 45.4913749694824                     0                     0\n",
      "SH3GL3 SH3GL3 42.8328742980957                     0                     0\n",
      "ANK2     ANK2 38.8889694213867                     0                     0\n",
      "GLS       GLS 32.5694999694824 1.10904285491029e-232 2.39989942284745e-229\n",
      "OSBPL3 OSBPL3 31.0615062713623 7.97782863205628e-212 1.31531600346516e-208\n",
      "          logfoldchanges\n",
      "CA8     2.97676587104797\n",
      "NEBL    1.01005041599274\n",
      "SH3GL3  2.10418319702148\n",
      "ANK2    1.25412750244141\n",
      "GLS     1.02023696899414\n",
      "OSBPL3 0.997186601161957\n"
     ]
    },
    {
     "data": {
      "text/html": [
       "<style>\n",
       ".list-inline {list-style: none; margin:0; padding: 0}\n",
       ".list-inline>li {display: inline-block}\n",
       ".list-inline>li:not(:last-child)::after {content: \"\\00b7\"; padding: 0 .5ex}\n",
       "</style>\n",
       "<ol class=list-inline><li>34623</li><li>5</li></ol>\n"
      ],
      "text/latex": [
       "\\begin{enumerate*}\n",
       "\\item 34623\n",
       "\\item 5\n",
       "\\end{enumerate*}\n"
      ],
      "text/markdown": [
       "1. 34623\n",
       "2. 5\n",
       "\n",
       "\n"
      ],
      "text/plain": [
       "[1] 34623     5"
      ]
     },
     "metadata": {},
     "output_type": "display_data"
    }
   ],
   "source": [
    "rownames(de_genes) = de_genes$names\n",
    "de_genes_BK = de_genes\n",
    "print(head(de_genes))\n",
    "dim(de_genes)"
   ]
  },
  {
   "cell_type": "code",
   "execution_count": 22,
   "id": "37b5af7d",
   "metadata": {},
   "outputs": [
    {
     "data": {
      "text/html": [
       "<style>\n",
       ".list-inline {list-style: none; margin:0; padding: 0}\n",
       ".list-inline>li {display: inline-block}\n",
       ".list-inline>li:not(:last-child)::after {content: \"\\00b7\"; padding: 0 .5ex}\n",
       "</style>\n",
       "<ol class=list-inline><li>755</li><li>5</li></ol>\n"
      ],
      "text/latex": [
       "\\begin{enumerate*}\n",
       "\\item 755\n",
       "\\item 5\n",
       "\\end{enumerate*}\n"
      ],
      "text/markdown": [
       "1. 755\n",
       "2. 5\n",
       "\n",
       "\n"
      ],
      "text/plain": [
       "[1] 755   5"
      ]
     },
     "metadata": {},
     "output_type": "display_data"
    }
   ],
   "source": [
    "### keep DEGs with pvals_adj<0.05\n",
    "p_val_cutoff = 0.05\n",
    "peak_assay = \"peaks\"\n",
    "de_genes <- de_genes[which(de_genes$pvals_adj < p_val_cutoff), ]\n",
    "DefaultAssay(novaseq.sub) <- peak_assay\n",
    "DefaultAssay(mpt) <- peak_assay\n",
    "\n",
    "dim(de_genes)"
   ]
  },
  {
   "cell_type": "code",
   "execution_count": 23,
   "id": "f5273bec",
   "metadata": {},
   "outputs": [
    {
     "data": {
      "text/plain": [
       "[1] \"2023-07-01 12:42:16 CDT\""
      ]
     },
     "metadata": {},
     "output_type": "display_data"
    },
    {
     "data": {
      "text/plain": [
       "[1] \"2023-07-01 12:42:19 CDT\""
      ]
     },
     "metadata": {},
     "output_type": "display_data"
    }
   ],
   "source": [
    "Sys.time()\n",
    "# gene_coords <- Signac:::CollapseToLongestTranscript(Annotation(novaseq.sub))\n",
    "gene_coords <- Signac:::CollapseToLongestTranscript(Annotation(mpt))\n",
    "Sys.time()"
   ]
  },
  {
   "cell_type": "code",
   "execution_count": 24,
   "id": "c4dcadfe",
   "metadata": {},
   "outputs": [
    {
     "data": {
      "text/html": [
       "<style>\n",
       ".list-inline {list-style: none; margin:0; padding: 0}\n",
       ".list-inline>li {display: inline-block}\n",
       ".list-inline>li:not(:last-child)::after {content: \"\\00b7\"; padding: 0 .5ex}\n",
       "</style>\n",
       "<ol class=list-inline><li>620</li><li>5</li></ol>\n"
      ],
      "text/latex": [
       "\\begin{enumerate*}\n",
       "\\item 620\n",
       "\\item 5\n",
       "\\end{enumerate*}\n"
      ],
      "text/markdown": [
       "1. 620\n",
       "2. 5\n",
       "\n",
       "\n"
      ],
      "text/plain": [
       "[1] 620   5"
      ]
     },
     "metadata": {},
     "output_type": "display_data"
    }
   ],
   "source": [
    "de_genes <- de_genes[which(rownames(de_genes) %in% gene_coords$gene_name), ]\n",
    "dim(de_genes)\n",
    "gene_list = rownames(de_genes)"
   ]
  },
  {
   "cell_type": "markdown",
   "id": "9c638101",
   "metadata": {},
   "source": [
    "## Next, make two de_gene sublists: gene_list_neg, gene_list_pos."
   ]
  },
  {
   "cell_type": "code",
   "execution_count": 25,
   "id": "c52a8482",
   "metadata": {},
   "outputs": [
    {
     "name": "stdout",
     "output_type": "stream",
     "text": [
      "[1] 358\n",
      "[1] 262\n"
     ]
    }
   ],
   "source": [
    "gene_list_neg = rownames(de_genes)[de_genes$logfoldchanges < 0]\n",
    "print(length(gene_list_neg))\n",
    "gene_list_pos = rownames(de_genes)[de_genes$logfoldchanges > 0]\n",
    "print(length(gene_list_pos))"
   ]
  },
  {
   "cell_type": "code",
   "execution_count": 26,
   "id": "f53d3d5e",
   "metadata": {},
   "outputs": [],
   "source": [
    "# de_genes[order(de_genes$logfoldchanges, decreasing = T),]"
   ]
  },
  {
   "cell_type": "markdown",
   "id": "33acfd26",
   "metadata": {},
   "source": [
    "## run_peak_aen"
   ]
  },
  {
   "cell_type": "code",
   "execution_count": 27,
   "id": "99c7b95a",
   "metadata": {},
   "outputs": [
    {
     "data": {
      "text/plain": [
       "[1] \"2023-07-01 12:51:26 CDT\""
      ]
     },
     "metadata": {},
     "output_type": "display_data"
    },
    {
     "name": "stderr",
     "output_type": "stream",
     "text": [
      "Loading required package: gcdnet\n",
      "\n",
      "\n",
      "Attaching package: ‘gcdnet’\n",
      "\n",
      "\n",
      "The following object is masked from ‘package:stats4’:\n",
      "\n",
      "    coef\n",
      "\n",
      "\n",
      "The following objects are masked from ‘package:stats’:\n",
      "\n",
      "    coef, predict\n",
      "\n",
      "\n",
      "Loading required package: future\n",
      "\n",
      "\n",
      "Attaching package: ‘future’\n",
      "\n",
      "\n",
      "The following object is masked from ‘package:rtracklayer’:\n",
      "\n",
      "    values\n",
      "\n",
      "\n",
      "The following object is masked from ‘package:GenomicRanges’:\n",
      "\n",
      "    values\n",
      "\n",
      "\n",
      "The following object is masked from ‘package:IRanges’:\n",
      "\n",
      "    values\n",
      "\n",
      "\n",
      "The following object is masked from ‘package:S4Vectors’:\n",
      "\n",
      "    values\n",
      "\n",
      "\n",
      "Loading required package: future.apply\n",
      "\n"
     ]
    },
    {
     "name": "stdout",
     "output_type": "stream",
     "text": [
      "[1] \"Omitted (mitochondrial) genes with no genomic peaks: MT-CO1\"\n",
      "[2] \"Omitted (mitochondrial) genes with no genomic peaks: TBL1Y\" \n",
      "[1] \"AEN completed in 8.59863569736481\"\n"
     ]
    },
    {
     "data": {
      "text/plain": [
       "[1] \"2023-07-01 13:00:19 CDT\""
      ]
     },
     "metadata": {},
     "output_type": "display_data"
    }
   ],
   "source": [
    "Sys.time()\n",
    "\n",
    "options(future.globals.maxSize = 8000 * 1024^2)\n",
    "\n",
    "peak_results <- run_peak_aen(novaseq.sub, expr_mat, peak_mat, gene_list, lambda2 = 0.5, max_distance = 5e+05, num_bootstraps = 100)\n",
    "\n",
    "aen_lists <- make_aen_lists(peak_results)\n",
    "\n",
    "Sys.time()"
   ]
  },
  {
   "cell_type": "markdown",
   "id": "8a20a0bb",
   "metadata": {},
   "source": [
    "## prepare_pseudocell_matrix for mpt"
   ]
  },
  {
   "cell_type": "code",
   "execution_count": 28,
   "id": "3ad166f3",
   "metadata": {},
   "outputs": [
    {
     "name": "stderr",
     "output_type": "stream",
     "text": [
      "Loading required package: Matrix\n",
      "\n",
      "\n",
      "Attaching package: ‘Matrix’\n",
      "\n",
      "\n",
      "The following object is masked from ‘package:S4Vectors’:\n",
      "\n",
      "    expand\n",
      "\n",
      "\n",
      "The following objects are masked from ‘package:tidyr’:\n",
      "\n",
      "    expand, pack, unpack\n",
      "\n",
      "\n",
      "Loading required package: VISION\n",
      "\n",
      "Loading required package: SingleCellExperiment\n",
      "\n",
      "Loading required package: SummarizedExperiment\n",
      "\n",
      "Loading required package: MatrixGenerics\n",
      "\n",
      "Loading required package: matrixStats\n",
      "\n",
      "\n",
      "Attaching package: ‘matrixStats’\n",
      "\n",
      "\n",
      "The following object is masked from ‘package:dplyr’:\n",
      "\n",
      "    count\n",
      "\n",
      "\n",
      "\n",
      "Attaching package: ‘MatrixGenerics’\n",
      "\n",
      "\n",
      "The following objects are masked from ‘package:matrixStats’:\n",
      "\n",
      "    colAlls, colAnyNAs, colAnys, colAvgsPerRowSet, colCollapse,\n",
      "    colCounts, colCummaxs, colCummins, colCumprods, colCumsums,\n",
      "    colDiffs, colIQRDiffs, colIQRs, colLogSumExps, colMadDiffs,\n",
      "    colMads, colMaxs, colMeans2, colMedians, colMins, colOrderStats,\n",
      "    colProds, colQuantiles, colRanges, colRanks, colSdDiffs, colSds,\n",
      "    colSums2, colTabulates, colVarDiffs, colVars, colWeightedMads,\n",
      "    colWeightedMeans, colWeightedMedians, colWeightedSds,\n",
      "    colWeightedVars, rowAlls, rowAnyNAs, rowAnys, rowAvgsPerColSet,\n",
      "    rowCollapse, rowCounts, rowCummaxs, rowCummins, rowCumprods,\n",
      "    rowCumsums, rowDiffs, rowIQRDiffs, rowIQRs, rowLogSumExps,\n",
      "    rowMadDiffs, rowMads, rowMaxs, rowMeans2, rowMedians, rowMins,\n",
      "    rowOrderStats, rowProds, rowQuantiles, rowRanges, rowRanks,\n",
      "    rowSdDiffs, rowSds, rowSums2, rowTabulates, rowVarDiffs, rowVars,\n",
      "    rowWeightedMads, rowWeightedMeans, rowWeightedMedians,\n",
      "    rowWeightedSds, rowWeightedVars\n",
      "\n",
      "\n",
      "Loading required package: Biobase\n",
      "\n",
      "Welcome to Bioconductor\n",
      "\n",
      "    Vignettes contain introductory material; view with\n",
      "    'browseVignettes()'. To cite Bioconductor, see\n",
      "    'citation(\"Biobase\")', and for packages 'citation(\"pkgname\")'.\n",
      "\n",
      "\n",
      "\n",
      "Attaching package: ‘Biobase’\n",
      "\n",
      "\n",
      "The following object is masked from ‘package:MatrixGenerics’:\n",
      "\n",
      "    rowMedians\n",
      "\n",
      "\n",
      "The following objects are masked from ‘package:matrixStats’:\n",
      "\n",
      "    anyMissing, rowMedians\n",
      "\n",
      "\n",
      "\n",
      "Attaching package: ‘SummarizedExperiment’\n",
      "\n",
      "\n",
      "The following object is masked from ‘package:SeuratObject’:\n",
      "\n",
      "    Assays\n",
      "\n",
      "\n",
      "The following object is masked from ‘package:Seurat’:\n",
      "\n",
      "    Assays\n",
      "\n",
      "\n",
      "Calculating cell-specific modality weights\n",
      "\n",
      "Finding 5 nearest neighbors for each modality.\n",
      "\n",
      "Calculating kernel bandwidths\n",
      "\n",
      "Finding multimodal neighbors\n",
      "\n",
      "Constructing multimodal KNN graph\n",
      "\n",
      "Constructing multimodal SNN graph\n",
      "\n",
      "Warning message:\n",
      "“The default method for RunUMAP has changed from calling Python UMAP via reticulate to the R-native UWOT using the cosine metric\n",
      "To use Python UMAP via reticulate, set umap.method to 'umap-learn' and metric to 'correlation'\n",
      "This message will be shown once per session”\n",
      "13:02:30 UMAP embedding parameters a = 0.9922 b = 1.112\n",
      "\n",
      "13:02:49 Commencing smooth kNN distance calibration using 1 thread\n",
      "\n",
      "13:02:49 3 smooth knn distance failures\n",
      "\n",
      "13:02:53 Initializing from normalized Laplacian + noise\n",
      "\n",
      "13:02:53 Commencing optimization for 200 epochs, with 273004 positive edges\n",
      "\n",
      "13:03:04 Optimization finished\n",
      "\n",
      "Performing initial coarse-clustering...\n",
      "\n",
      "Further partitioning coarse clusters...\n",
      "\n",
      "Micro-pooling completed reducing 30959 cells into 3096 pools\n",
      "\n"
     ]
    }
   ],
   "source": [
    "expr_mat_2 <- prepare_pseudocell_matrix(mpt, \n",
    "                                      assay = \"SCT\", \n",
    "                                      slot = \"data\", \n",
    "                                      cells_per_partition = 10, \n",
    "                                      find_neighbors = FALSE,\n",
    "                                      reduction1 = \"harmony_peaks\",\n",
    "                                      reduction2 = \"harmony_RNA\",\n",
    "                                      dim_list = list(1:50, 1:50),\n",
    "                                      k.nn = 5,\n",
    "                                      seed = 489284)"
   ]
  },
  {
   "cell_type": "code",
   "execution_count": 29,
   "id": "cff8fd5f",
   "metadata": {},
   "outputs": [
    {
     "data": {
      "text/html": [
       "620"
      ],
      "text/latex": [
       "620"
      ],
      "text/markdown": [
       "620"
      ],
      "text/plain": [
       "[1] 620"
      ]
     },
     "metadata": {},
     "output_type": "display_data"
    },
    {
     "data": {
      "text/html": [
       "620"
      ],
      "text/latex": [
       "620"
      ],
      "text/markdown": [
       "620"
      ],
      "text/plain": [
       "[1] 620"
      ]
     },
     "metadata": {},
     "output_type": "display_data"
    }
   ],
   "source": [
    "length(gene_list)\n",
    "sum(gene_list %in% colnames(expr_mat_2))"
   ]
  },
  {
   "cell_type": "markdown",
   "id": "552134da",
   "metadata": {},
   "source": [
    "### run_tf_aen"
   ]
  },
  {
   "cell_type": "code",
   "execution_count": 30,
   "id": "b014765b",
   "metadata": {},
   "outputs": [
    {
     "data": {
      "text/plain": [
       "[1] \"2023-07-01 13:05:54 CDT\""
      ]
     },
     "metadata": {},
     "output_type": "display_data"
    },
    {
     "name": "stdout",
     "output_type": "stream",
     "text": [
      "[1] \"Genes without any candidate TFs--most likely no linked peaks or promoter region peaks: IL1RL1\"\n",
      "[2] \"Genes without any candidate TFs--most likely no linked peaks or promoter region peaks: NAIP\"  \n",
      "[1] \"AEN completed in 13.337763774395\"\n"
     ]
    },
    {
     "name": "stderr",
     "output_type": "stream",
     "text": [
      "Loading required package: igraph\n",
      "\n",
      "\n",
      "Attaching package: ‘igraph’\n",
      "\n",
      "\n",
      "The following objects are masked from ‘package:future’:\n",
      "\n",
      "    %->%, %<-%\n",
      "\n",
      "\n",
      "The following objects are masked from ‘package:rtracklayer’:\n",
      "\n",
      "    blocks, path\n",
      "\n",
      "\n",
      "The following object is masked from ‘package:Biostrings’:\n",
      "\n",
      "    union\n",
      "\n",
      "\n",
      "The following object is masked from ‘package:XVector’:\n",
      "\n",
      "    path\n",
      "\n",
      "\n",
      "The following object is masked from ‘package:GenomicRanges’:\n",
      "\n",
      "    union\n",
      "\n",
      "\n",
      "The following object is masked from ‘package:IRanges’:\n",
      "\n",
      "    union\n",
      "\n",
      "\n",
      "The following object is masked from ‘package:S4Vectors’:\n",
      "\n",
      "    union\n",
      "\n",
      "\n",
      "The following objects are masked from ‘package:BiocGenerics’:\n",
      "\n",
      "    normalize, path, union\n",
      "\n",
      "\n",
      "The following objects are masked from ‘package:dplyr’:\n",
      "\n",
      "    as_data_frame, groups, union\n",
      "\n",
      "\n",
      "The following objects are masked from ‘package:purrr’:\n",
      "\n",
      "    compose, simplify\n",
      "\n",
      "\n",
      "The following object is masked from ‘package:tidyr’:\n",
      "\n",
      "    crossing\n",
      "\n",
      "\n",
      "The following object is masked from ‘package:tibble’:\n",
      "\n",
      "    as_data_frame\n",
      "\n",
      "\n",
      "The following objects are masked from ‘package:stats’:\n",
      "\n",
      "    decompose, spectrum\n",
      "\n",
      "\n",
      "The following object is masked from ‘package:base’:\n",
      "\n",
      "    union\n",
      "\n",
      "\n"
     ]
    },
    {
     "data": {
      "text/plain": [
       "[1] \"2023-07-01 13:19:43 CDT\""
      ]
     },
     "metadata": {},
     "output_type": "display_data"
    }
   ],
   "source": [
    "Sys.time()\n",
    "\n",
    "tf_results <- run_tf_aen(mpt, expr_mat_2, peak_results, gene_list, lambda2 = 0.5)\n",
    "\n",
    "regulator_tf_names <- unlist(novaseq.sub@assays$peaks@motifs@motif.names)\n",
    "\n",
    "regulator_tf_names <- regulator_tf_names[which(regulator_tf_names %in% rownames(GetAssayData(novaseq.sub, assay = \"SCT\")))]\n",
    "\n",
    "centrality_rankings <- rank_tfs_by_centrality(tf_results, novaseq.sub)\n",
    "\n",
    "Sys.time()"
   ]
  },
  {
   "cell_type": "code",
   "execution_count": 31,
   "id": "8d70cd93",
   "metadata": {},
   "outputs": [
    {
     "name": "stdout",
     "output_type": "stream",
     "text": [
      "[1] \"2023-07-01 13:19:43 CDT\"\n",
      "[1] \"centrality_rankings - Betweenness:\"\n",
      "      ELF1      STAT3     HIVEP3      KLF12    SMARCC1      CREB5      ATOH8 \n",
      "4031.56667 3748.48333 3267.48333 2891.20000 2883.31667 1808.00000  838.25000 \n",
      "      ELF2        HLF      ESRRB       RARB      CEBPD      NFKB1      HNF1B \n",
      " 765.20000  456.66667  262.41667  176.33333  170.16667  143.66667  111.00000 \n",
      "      KLF7      MLXIP     TCF7L1       BPTF      HOXD3        VDR \n",
      "  79.00000   76.83333   65.83333   63.75000   26.50000   22.08333 \n",
      "[1] \"centrality_rankings - PageRank:\"\n",
      "      RUNX1       MECOM      TFAP2B      ARNTL2        SOX6        BCL6 \n",
      "0.020807855 0.012433656 0.012324934 0.011593641 0.011104470 0.010330234 \n",
      "      HNF4G        PBX1        NFIB       PROX1       BACH1       TEAD1 \n",
      "0.009937950 0.009138496 0.007899867 0.007498011 0.007103922 0.007073588 \n",
      "      STAT1       SMAD9        ELF5       NR1H4       PPARG        ZEB1 \n",
      "0.006709501 0.006482994 0.006245102 0.005943381 0.005827495 0.005723419 \n",
      "      ESRRG        PAX2 \n",
      "0.005669476 0.005660668 \n",
      "[1] \"2023-07-01 13:19:43 CDT\"\n",
      "[1] \"calculating rank_tfs...\"\n",
      "[1] \"2023-07-01 13:21:12 CDT\"\n"
     ]
    }
   ],
   "source": [
    "print(Sys.time())\n",
    "    \n",
    "print(\"centrality_rankings - Betweenness:\")\n",
    "print(head(centrality_rankings$Betweenness,20))\n",
    "print(\"centrality_rankings - PageRank:\")\n",
    "print(head(centrality_rankings$PageRank,20))\n",
    "\n",
    "print(Sys.time())\n",
    "print(\"calculating rank_tfs...\")\n",
    "tf_ranks = rank_tfs(tf_results, \n",
    "                    negative_genes = rownames(de_genes_BK)[which(de_genes_BK$logfoldchanges < 0)], \n",
    "                    seurat = mpt, \n",
    "                    num_cores =  1\n",
    "    )\n",
    "print(Sys.time())"
   ]
  },
  {
   "cell_type": "code",
   "execution_count": 32,
   "id": "80c3896f",
   "metadata": {},
   "outputs": [
    {
     "data": {
      "text/html": [
       "<table class=\"dataframe\">\n",
       "<caption>A data.frame: 20 × 3</caption>\n",
       "<thead>\n",
       "\t<tr><th></th><th scope=col>TF_name</th><th scope=col>Score</th><th scope=col>SE</th></tr>\n",
       "\t<tr><th></th><th scope=col>&lt;chr&gt;</th><th scope=col>&lt;dbl&gt;</th><th scope=col>&lt;dbl&gt;</th></tr>\n",
       "</thead>\n",
       "<tbody>\n",
       "\t<tr><th scope=row>MECOM</th><td>MECOM </td><td>3.8227974</td><td>0.08809677</td></tr>\n",
       "\t<tr><th scope=row>RUNX1</th><td>RUNX1 </td><td>2.9182348</td><td>0.05806189</td></tr>\n",
       "\t<tr><th scope=row>TEAD1</th><td>TEAD1 </td><td>1.9878145</td><td>0.09978262</td></tr>\n",
       "\t<tr><th scope=row>ARNTL2</th><td>ARNTL2</td><td>1.4782638</td><td>0.15071560</td></tr>\n",
       "\t<tr><th scope=row>ELF1</th><td>ELF1  </td><td>1.3470883</td><td>0.06634797</td></tr>\n",
       "\t<tr><th scope=row>BACH1</th><td>BACH1 </td><td>1.2330211</td><td>0.05141307</td></tr>\n",
       "\t<tr><th scope=row>BCL6</th><td>BCL6  </td><td>1.0596308</td><td>0.03963175</td></tr>\n",
       "\t<tr><th scope=row>TFAP2B</th><td>TFAP2B</td><td>1.0353967</td><td>0.02490451</td></tr>\n",
       "\t<tr><th scope=row>GLIS3</th><td>GLIS3 </td><td>0.8470593</td><td>0.10959604</td></tr>\n",
       "\t<tr><th scope=row>HNF4G</th><td>HNF4G </td><td>0.8336927</td><td>0.02847953</td></tr>\n",
       "\t<tr><th scope=row>ZEB1</th><td>ZEB1  </td><td>0.8274496</td><td>0.03909429</td></tr>\n",
       "\t<tr><th scope=row>LCOR</th><td>LCOR  </td><td>0.7122248</td><td>0.05565226</td></tr>\n",
       "\t<tr><th scope=row>ETV6</th><td>ETV6  </td><td>0.6859285</td><td>0.05526453</td></tr>\n",
       "\t<tr><th scope=row>HIVEP3</th><td>HIVEP3</td><td>0.6697454</td><td>0.03315657</td></tr>\n",
       "\t<tr><th scope=row>TCF4</th><td>TCF4  </td><td>0.6423789</td><td>0.02956430</td></tr>\n",
       "\t<tr><th scope=row>NR6A1</th><td>NR6A1 </td><td>0.5213901</td><td>0.03286169</td></tr>\n",
       "\t<tr><th scope=row>HIF1A</th><td>HIF1A </td><td>0.5069173</td><td>0.05845895</td></tr>\n",
       "\t<tr><th scope=row>PAX2</th><td>PAX2  </td><td>0.4788280</td><td>0.06135698</td></tr>\n",
       "\t<tr><th scope=row>PROX1</th><td>PROX1 </td><td>0.4506224</td><td>0.01610637</td></tr>\n",
       "\t<tr><th scope=row>SMAD2</th><td>SMAD2 </td><td>0.4307344</td><td>0.04501115</td></tr>\n",
       "</tbody>\n",
       "</table>\n"
      ],
      "text/latex": [
       "A data.frame: 20 × 3\n",
       "\\begin{tabular}{r|lll}\n",
       "  & TF\\_name & Score & SE\\\\\n",
       "  & <chr> & <dbl> & <dbl>\\\\\n",
       "\\hline\n",
       "\tMECOM & MECOM  & 3.8227974 & 0.08809677\\\\\n",
       "\tRUNX1 & RUNX1  & 2.9182348 & 0.05806189\\\\\n",
       "\tTEAD1 & TEAD1  & 1.9878145 & 0.09978262\\\\\n",
       "\tARNTL2 & ARNTL2 & 1.4782638 & 0.15071560\\\\\n",
       "\tELF1 & ELF1   & 1.3470883 & 0.06634797\\\\\n",
       "\tBACH1 & BACH1  & 1.2330211 & 0.05141307\\\\\n",
       "\tBCL6 & BCL6   & 1.0596308 & 0.03963175\\\\\n",
       "\tTFAP2B & TFAP2B & 1.0353967 & 0.02490451\\\\\n",
       "\tGLIS3 & GLIS3  & 0.8470593 & 0.10959604\\\\\n",
       "\tHNF4G & HNF4G  & 0.8336927 & 0.02847953\\\\\n",
       "\tZEB1 & ZEB1   & 0.8274496 & 0.03909429\\\\\n",
       "\tLCOR & LCOR   & 0.7122248 & 0.05565226\\\\\n",
       "\tETV6 & ETV6   & 0.6859285 & 0.05526453\\\\\n",
       "\tHIVEP3 & HIVEP3 & 0.6697454 & 0.03315657\\\\\n",
       "\tTCF4 & TCF4   & 0.6423789 & 0.02956430\\\\\n",
       "\tNR6A1 & NR6A1  & 0.5213901 & 0.03286169\\\\\n",
       "\tHIF1A & HIF1A  & 0.5069173 & 0.05845895\\\\\n",
       "\tPAX2 & PAX2   & 0.4788280 & 0.06135698\\\\\n",
       "\tPROX1 & PROX1  & 0.4506224 & 0.01610637\\\\\n",
       "\tSMAD2 & SMAD2  & 0.4307344 & 0.04501115\\\\\n",
       "\\end{tabular}\n"
      ],
      "text/markdown": [
       "\n",
       "A data.frame: 20 × 3\n",
       "\n",
       "| <!--/--> | TF_name &lt;chr&gt; | Score &lt;dbl&gt; | SE &lt;dbl&gt; |\n",
       "|---|---|---|---|\n",
       "| MECOM | MECOM  | 3.8227974 | 0.08809677 |\n",
       "| RUNX1 | RUNX1  | 2.9182348 | 0.05806189 |\n",
       "| TEAD1 | TEAD1  | 1.9878145 | 0.09978262 |\n",
       "| ARNTL2 | ARNTL2 | 1.4782638 | 0.15071560 |\n",
       "| ELF1 | ELF1   | 1.3470883 | 0.06634797 |\n",
       "| BACH1 | BACH1  | 1.2330211 | 0.05141307 |\n",
       "| BCL6 | BCL6   | 1.0596308 | 0.03963175 |\n",
       "| TFAP2B | TFAP2B | 1.0353967 | 0.02490451 |\n",
       "| GLIS3 | GLIS3  | 0.8470593 | 0.10959604 |\n",
       "| HNF4G | HNF4G  | 0.8336927 | 0.02847953 |\n",
       "| ZEB1 | ZEB1   | 0.8274496 | 0.03909429 |\n",
       "| LCOR | LCOR   | 0.7122248 | 0.05565226 |\n",
       "| ETV6 | ETV6   | 0.6859285 | 0.05526453 |\n",
       "| HIVEP3 | HIVEP3 | 0.6697454 | 0.03315657 |\n",
       "| TCF4 | TCF4   | 0.6423789 | 0.02956430 |\n",
       "| NR6A1 | NR6A1  | 0.5213901 | 0.03286169 |\n",
       "| HIF1A | HIF1A  | 0.5069173 | 0.05845895 |\n",
       "| PAX2 | PAX2   | 0.4788280 | 0.06135698 |\n",
       "| PROX1 | PROX1  | 0.4506224 | 0.01610637 |\n",
       "| SMAD2 | SMAD2  | 0.4307344 | 0.04501115 |\n",
       "\n"
      ],
      "text/plain": [
       "       TF_name Score     SE        \n",
       "MECOM  MECOM   3.8227974 0.08809677\n",
       "RUNX1  RUNX1   2.9182348 0.05806189\n",
       "TEAD1  TEAD1   1.9878145 0.09978262\n",
       "ARNTL2 ARNTL2  1.4782638 0.15071560\n",
       "ELF1   ELF1    1.3470883 0.06634797\n",
       "BACH1  BACH1   1.2330211 0.05141307\n",
       "BCL6   BCL6    1.0596308 0.03963175\n",
       "TFAP2B TFAP2B  1.0353967 0.02490451\n",
       "GLIS3  GLIS3   0.8470593 0.10959604\n",
       "HNF4G  HNF4G   0.8336927 0.02847953\n",
       "ZEB1   ZEB1    0.8274496 0.03909429\n",
       "LCOR   LCOR    0.7122248 0.05565226\n",
       "ETV6   ETV6    0.6859285 0.05526453\n",
       "HIVEP3 HIVEP3  0.6697454 0.03315657\n",
       "TCF4   TCF4    0.6423789 0.02956430\n",
       "NR6A1  NR6A1   0.5213901 0.03286169\n",
       "HIF1A  HIF1A   0.5069173 0.05845895\n",
       "PAX2   PAX2    0.4788280 0.06135698\n",
       "PROX1  PROX1   0.4506224 0.01610637\n",
       "SMAD2  SMAD2   0.4307344 0.04501115"
      ]
     },
     "metadata": {},
     "output_type": "display_data"
    },
    {
     "data": {
      "text/html": [
       "<table class=\"dataframe\">\n",
       "<caption>A data.frame: 20 × 3</caption>\n",
       "<thead>\n",
       "\t<tr><th></th><th scope=col>TF_name</th><th scope=col>Score</th><th scope=col>SE</th></tr>\n",
       "\t<tr><th></th><th scope=col>&lt;chr&gt;</th><th scope=col>&lt;dbl&gt;</th><th scope=col>&lt;dbl&gt;</th></tr>\n",
       "</thead>\n",
       "<tbody>\n",
       "\t<tr><th scope=row>CUX1</th><td>CUX1  </td><td>-0.1700801</td><td>0.02712446</td></tr>\n",
       "\t<tr><th scope=row>PLAGL1</th><td>PLAGL1</td><td>-0.1757637</td><td>0.01707298</td></tr>\n",
       "\t<tr><th scope=row>RREB1</th><td>RREB1 </td><td>-0.1855252</td><td>0.02569827</td></tr>\n",
       "\t<tr><th scope=row>HNF1B</th><td>HNF1B </td><td>-0.2532379</td><td>0.04447832</td></tr>\n",
       "\t<tr><th scope=row>MITF</th><td>MITF  </td><td>-0.2879897</td><td>0.04372470</td></tr>\n",
       "\t<tr><th scope=row>GLI3</th><td>GLI3  </td><td>-0.3175795</td><td>0.01645019</td></tr>\n",
       "\t<tr><th scope=row>ZNF148</th><td>ZNF148</td><td>-0.3754478</td><td>0.03808196</td></tr>\n",
       "\t<tr><th scope=row>FOXO3</th><td>FOXO3 </td><td>-0.4421478</td><td>0.02870272</td></tr>\n",
       "\t<tr><th scope=row>ARID5B</th><td>ARID5B</td><td>-0.5095355</td><td>0.03877060</td></tr>\n",
       "\t<tr><th scope=row>PPARG</th><td>PPARG </td><td>-0.5604226</td><td>0.02564116</td></tr>\n",
       "\t<tr><th scope=row>RORA</th><td>RORA  </td><td>-0.6211520</td><td>0.05272696</td></tr>\n",
       "\t<tr><th scope=row>SMAD9</th><td>SMAD9 </td><td>-0.6628366</td><td>0.02268430</td></tr>\n",
       "\t<tr><th scope=row>NR1H4</th><td>NR1H4 </td><td>-0.7008044</td><td>0.02923860</td></tr>\n",
       "\t<tr><th scope=row>FOXP2</th><td>FOXP2 </td><td>-0.7076686</td><td>0.08552548</td></tr>\n",
       "\t<tr><th scope=row>STAT1</th><td>STAT1 </td><td>-0.7284147</td><td>0.03957032</td></tr>\n",
       "\t<tr><th scope=row>PAX8</th><td>PAX8  </td><td>-0.8238843</td><td>0.06284774</td></tr>\n",
       "\t<tr><th scope=row>NFIB</th><td>NFIB  </td><td>-0.9384647</td><td>0.04902419</td></tr>\n",
       "\t<tr><th scope=row>ESRRG</th><td>ESRRG </td><td>-1.1872147</td><td>0.08440783</td></tr>\n",
       "\t<tr><th scope=row>PBX1</th><td>PBX1  </td><td>-1.2122413</td><td>0.03749544</td></tr>\n",
       "\t<tr><th scope=row>SOX6</th><td>SOX6  </td><td>-2.0629913</td><td>0.06297316</td></tr>\n",
       "</tbody>\n",
       "</table>\n"
      ],
      "text/latex": [
       "A data.frame: 20 × 3\n",
       "\\begin{tabular}{r|lll}\n",
       "  & TF\\_name & Score & SE\\\\\n",
       "  & <chr> & <dbl> & <dbl>\\\\\n",
       "\\hline\n",
       "\tCUX1 & CUX1   & -0.1700801 & 0.02712446\\\\\n",
       "\tPLAGL1 & PLAGL1 & -0.1757637 & 0.01707298\\\\\n",
       "\tRREB1 & RREB1  & -0.1855252 & 0.02569827\\\\\n",
       "\tHNF1B & HNF1B  & -0.2532379 & 0.04447832\\\\\n",
       "\tMITF & MITF   & -0.2879897 & 0.04372470\\\\\n",
       "\tGLI3 & GLI3   & -0.3175795 & 0.01645019\\\\\n",
       "\tZNF148 & ZNF148 & -0.3754478 & 0.03808196\\\\\n",
       "\tFOXO3 & FOXO3  & -0.4421478 & 0.02870272\\\\\n",
       "\tARID5B & ARID5B & -0.5095355 & 0.03877060\\\\\n",
       "\tPPARG & PPARG  & -0.5604226 & 0.02564116\\\\\n",
       "\tRORA & RORA   & -0.6211520 & 0.05272696\\\\\n",
       "\tSMAD9 & SMAD9  & -0.6628366 & 0.02268430\\\\\n",
       "\tNR1H4 & NR1H4  & -0.7008044 & 0.02923860\\\\\n",
       "\tFOXP2 & FOXP2  & -0.7076686 & 0.08552548\\\\\n",
       "\tSTAT1 & STAT1  & -0.7284147 & 0.03957032\\\\\n",
       "\tPAX8 & PAX8   & -0.8238843 & 0.06284774\\\\\n",
       "\tNFIB & NFIB   & -0.9384647 & 0.04902419\\\\\n",
       "\tESRRG & ESRRG  & -1.1872147 & 0.08440783\\\\\n",
       "\tPBX1 & PBX1   & -1.2122413 & 0.03749544\\\\\n",
       "\tSOX6 & SOX6   & -2.0629913 & 0.06297316\\\\\n",
       "\\end{tabular}\n"
      ],
      "text/markdown": [
       "\n",
       "A data.frame: 20 × 3\n",
       "\n",
       "| <!--/--> | TF_name &lt;chr&gt; | Score &lt;dbl&gt; | SE &lt;dbl&gt; |\n",
       "|---|---|---|---|\n",
       "| CUX1 | CUX1   | -0.1700801 | 0.02712446 |\n",
       "| PLAGL1 | PLAGL1 | -0.1757637 | 0.01707298 |\n",
       "| RREB1 | RREB1  | -0.1855252 | 0.02569827 |\n",
       "| HNF1B | HNF1B  | -0.2532379 | 0.04447832 |\n",
       "| MITF | MITF   | -0.2879897 | 0.04372470 |\n",
       "| GLI3 | GLI3   | -0.3175795 | 0.01645019 |\n",
       "| ZNF148 | ZNF148 | -0.3754478 | 0.03808196 |\n",
       "| FOXO3 | FOXO3  | -0.4421478 | 0.02870272 |\n",
       "| ARID5B | ARID5B | -0.5095355 | 0.03877060 |\n",
       "| PPARG | PPARG  | -0.5604226 | 0.02564116 |\n",
       "| RORA | RORA   | -0.6211520 | 0.05272696 |\n",
       "| SMAD9 | SMAD9  | -0.6628366 | 0.02268430 |\n",
       "| NR1H4 | NR1H4  | -0.7008044 | 0.02923860 |\n",
       "| FOXP2 | FOXP2  | -0.7076686 | 0.08552548 |\n",
       "| STAT1 | STAT1  | -0.7284147 | 0.03957032 |\n",
       "| PAX8 | PAX8   | -0.8238843 | 0.06284774 |\n",
       "| NFIB | NFIB   | -0.9384647 | 0.04902419 |\n",
       "| ESRRG | ESRRG  | -1.1872147 | 0.08440783 |\n",
       "| PBX1 | PBX1   | -1.2122413 | 0.03749544 |\n",
       "| SOX6 | SOX6   | -2.0629913 | 0.06297316 |\n",
       "\n"
      ],
      "text/plain": [
       "       TF_name Score      SE        \n",
       "CUX1   CUX1    -0.1700801 0.02712446\n",
       "PLAGL1 PLAGL1  -0.1757637 0.01707298\n",
       "RREB1  RREB1   -0.1855252 0.02569827\n",
       "HNF1B  HNF1B   -0.2532379 0.04447832\n",
       "MITF   MITF    -0.2879897 0.04372470\n",
       "GLI3   GLI3    -0.3175795 0.01645019\n",
       "ZNF148 ZNF148  -0.3754478 0.03808196\n",
       "FOXO3  FOXO3   -0.4421478 0.02870272\n",
       "ARID5B ARID5B  -0.5095355 0.03877060\n",
       "PPARG  PPARG   -0.5604226 0.02564116\n",
       "RORA   RORA    -0.6211520 0.05272696\n",
       "SMAD9  SMAD9   -0.6628366 0.02268430\n",
       "NR1H4  NR1H4   -0.7008044 0.02923860\n",
       "FOXP2  FOXP2   -0.7076686 0.08552548\n",
       "STAT1  STAT1   -0.7284147 0.03957032\n",
       "PAX8   PAX8    -0.8238843 0.06284774\n",
       "NFIB   NFIB    -0.9384647 0.04902419\n",
       "ESRRG  ESRRG   -1.1872147 0.08440783\n",
       "PBX1   PBX1    -1.2122413 0.03749544\n",
       "SOX6   SOX6    -2.0629913 0.06297316"
      ]
     },
     "metadata": {},
     "output_type": "display_data"
    }
   ],
   "source": [
    "head(tf_ranks,20)\n",
    "tail(tf_ranks,20)"
   ]
  },
  {
   "cell_type": "code",
   "execution_count": 33,
   "id": "eacba4e3",
   "metadata": {},
   "outputs": [],
   "source": [
    "save(list=c(\"gene_list\", \"aen_lists\", \"de_genes_BK\", \"tf_results\", \"tf_ranks\", \"regulator_tf_names\", \"centrality_rankings\", \"peak_results\"), \n",
    "     file = file.path(processed_dir, paste0(\"RENIN_324701_cells_\", FindMarkers_ident_1, \"_vs_\", FindMarkers_ident_2, \".RData\")), compress = T)"
   ]
  },
  {
   "cell_type": "code",
   "execution_count": null,
   "id": "9c4466a7",
   "metadata": {},
   "outputs": [],
   "source": []
  },
  {
   "cell_type": "code",
   "execution_count": 34,
   "id": "dca8cb14",
   "metadata": {},
   "outputs": [
    {
     "data": {
      "text/plain": [
       "[1] \"2023-07-01 13:21:23 CDT\""
      ]
     },
     "metadata": {},
     "output_type": "display_data"
    }
   ],
   "source": [
    "Sys.time()"
   ]
  },
  {
   "cell_type": "code",
   "execution_count": null,
   "id": "a20d79ea",
   "metadata": {},
   "outputs": [],
   "source": []
  },
  {
   "cell_type": "code",
   "execution_count": null,
   "id": "0de64550",
   "metadata": {},
   "outputs": [],
   "source": []
  },
  {
   "cell_type": "code",
   "execution_count": null,
   "id": "1b62ad80",
   "metadata": {},
   "outputs": [],
   "source": []
  }
 ],
 "metadata": {
  "kernelspec": {
   "display_name": "R",
   "language": "R",
   "name": "ir"
  },
  "language_info": {
   "codemirror_mode": "r",
   "file_extension": ".r",
   "mimetype": "text/x-r-source",
   "name": "R",
   "pygments_lexer": "r",
   "version": "4.2.2"
  }
 },
 "nbformat": 4,
 "nbformat_minor": 5
}
