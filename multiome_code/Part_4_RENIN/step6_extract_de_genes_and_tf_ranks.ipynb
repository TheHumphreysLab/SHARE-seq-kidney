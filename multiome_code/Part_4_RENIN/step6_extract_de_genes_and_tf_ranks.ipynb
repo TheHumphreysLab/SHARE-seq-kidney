{
 "cells": [
  {
   "cell_type": "code",
   "execution_count": 17,
   "id": "f8afe0cd",
   "metadata": {
    "vscode": {
     "languageId": "r"
    }
   },
   "outputs": [],
   "source": [
    "library(openxlsx)\n",
    "library(RENIN)\n",
    "library(ggplot2)\n",
    "library(ggrepel)"
   ]
  },
  {
   "cell_type": "code",
   "execution_count": 18,
   "id": "ca06750c",
   "metadata": {
    "vscode": {
     "languageId": "r"
    }
   },
   "outputs": [],
   "source": [
    "plot_tf_rankings <- function(results_df,\n",
    "                         tfs_to_label = NULL,\n",
    "                         p_value_cutoff = 0.05,\n",
    "                         score_cutoff = 0.1,\n",
    "                         two_tailed = TRUE,\n",
    "                         top_n_to_label = 5,\n",
    "                         label_tfs = TRUE,\n",
    "                         colors = c(\"#39B54A\", \"#5862AD\"), \n",
    "                         ident1 = \"H\", ident2 = \"FR\") {\n",
    "require(ggplot2)\n",
    "require(ggrepel)\n",
    "\n",
    "results_df$CI <- results_df$SE * qnorm((1 - p_value_cutoff) / ifelse(two_tailed, 1, 2))\n",
    "results_df <- results_df[which(abs(results_df$Score) - results_df$CI > 0), ]# remove nonsig TFs by p_value_cutoff\n",
    "results_df <- results_df[which(abs(results_df$Score) > score_cutoff), ] # trim middle for plotting with score_cutoff\n",
    "results_df <- results_df[order(results_df$Score, decreasing = TRUE), ]\n",
    "\n",
    "if (is.null(tfs_to_label)) {\n",
    "    tfs_to_label <- c(rownames(head(results_df, n = top_n_to_label)),\n",
    "                      rownames(tail(results_df, n = top_n_to_label)))\n",
    "}\n",
    "\n",
    "results_df$label <- rep(\"\", dim(results_df)[1])\n",
    "\n",
    "if (label_tfs) { \n",
    "    results_df$label[which(results_df$TF_name %in% tfs_to_label)] <- results_df$TF_name[which(results_df$TF_name %in% tfs_to_label)]\n",
    "}\n",
    "\n",
    "# allow change the legend label for ident1 and ident2. \n",
    "results_df$comp <- ifelse(results_df$Score > 0, ident1, ident2)\n",
    "# freeze the order of color with color 1 corresponds to ident 1, and color 2 corresponds to ident 2.\n",
    "results_df$comp = factor(results_df$comp, levels = c(ident1, ident2))\n",
    "\n",
    "if (length(which(results_df$Score < 0)) == 0) {\n",
    "    colors <- colors[1]\n",
    "}\n",
    "\n",
    "results_df$axis <- results_df$axis <- nrow(results_df):1\n",
    "g <- ggplot(results_df, aes(x=axis, y=Score, fill=comp)) + \n",
    "        # geom_bar(stat = \"identity\", color = \"black\", size = 0.0, width = 1, alpha = .8) + \n",
    "        geom_bar(stat = \"identity\", size = 0.0, width = 1, alpha = .8) + \n",
    "        scale_fill_manual(values = colors) +\n",
    "#             theme_classic() + xlab(\"TF\") + ylab(\"Predicted regulatory influence\") +\n",
    "        theme_classic() + xlab(\"TF\") + ylab(\"RENIN-predicted regulatory influence\") +\n",
    "        # geom_text_repel(aes(label = label), max.overlaps = 100, size = 5) + \n",
    "      geom_text_repel(aes(label = label), max.overlaps = 100, size = 5, xlim = c(-Inf, Inf)) + \n",
    "      coord_cartesian(clip = \"off\") +   ## to allow labels exceed the x axis boundary in case multiple labels are mixed up \n",
    "        theme(text = element_text(size = 14), axis.text = element_text(size = 14))\n",
    "return(g)\n",
    "}"
   ]
  },
  {
   "cell_type": "code",
   "execution_count": 19,
   "id": "02094ec4",
   "metadata": {
    "vscode": {
     "languageId": "r"
    }
   },
   "outputs": [
    {
     "data": {
      "text/html": [
       "'../../processed_data/RENIN/tables'"
      ],
      "text/latex": [
       "'../../processed\\_data/RENIN/tables'"
      ],
      "text/markdown": [
       "'../../processed_data/RENIN/tables'"
      ],
      "text/plain": [
       "[1] \"../../processed_data/RENIN/tables\""
      ]
     },
     "metadata": {},
     "output_type": "display_data"
    },
    {
     "data": {
      "text/html": [
       "'../../plots/RENIN'"
      ],
      "text/latex": [
       "'../../plots/RENIN'"
      ],
      "text/markdown": [
       "'../../plots/RENIN'"
      ],
      "text/plain": [
       "[1] \"../../plots/RENIN\""
      ]
     },
     "metadata": {},
     "output_type": "display_data"
    }
   ],
   "source": [
    "subfolder_name = \"RENIN_324701_cells_DEGs_from_446267_cells\"\n",
    "\n",
    "processed_folder = file.path(\"..\", \"..\", \"processed_data\", \"RENIN\", \"tables\")\n",
    "processed_folder\n",
    "dir.create(processed_folder, recursive = T, showWarnings = F)\n",
    "\n",
    "plots_folder = file.path(\"..\", \"..\", \"plots\", \"RENIN\")\n",
    "plots_folder\n",
    "dir.create(plots_folder, recursive = T, showWarnings = F)"
   ]
  },
  {
   "cell_type": "markdown",
   "id": "cc62eeb3",
   "metadata": {},
   "source": [
    "### color palette for celltype5_rna"
   ]
  },
  {
   "cell_type": "code",
   "execution_count": 20,
   "id": "2b68c03a",
   "metadata": {
    "vscode": {
     "languageId": "r"
    }
   },
   "outputs": [],
   "source": [
    "level.novaseq.rna <- c('JGA', 'POD', 'PEC', \n",
    "                       'PT', 'PT_dediff', 'PT_VCAM1', \n",
    "                       'tL1','tL2','tL-TAL', 'TAL1','TAL2', 'TAL3', \n",
    "                       'DCT', 'CNT', \n",
    "                       'PC1', 'PC2', \n",
    "                       'ICA', 'ICB', \n",
    "                       'Uro1', 'Uro2', \n",
    "                       'ENDO', \n",
    "                       'SMC1', 'SMC2', 'SMC3', \n",
    "                       'Fib1', 'Fib2', 'Fib3', \n",
    "                       'Ma', 'BT')\n",
    "\n",
    "palette.novaseq.rna <- c('#FF8933', '#00B5EB', '#0077BE', \n",
    "                         '#8DC71E', '#69B41E', '#013220',\n",
    "                         '#936210', '#5E2A0F', '#C9F5E6','#128394', '#62CCCC', '#046494',\n",
    "                         '#be658d', '#8a3e6a', \n",
    "                         '#6a3070', '#4c2564', \n",
    "                         '#617A2E', '#A57C00',\n",
    "                         '#092092', '#1C3BAC', \n",
    "                         '#F9CC72', \n",
    "                         '#E97E88', '#F8D1CD', '#E15566',\n",
    "                         '#E2062B', '#860111', '#B4041E', \n",
    "                         '#86DEBB', '#7D4729')\n",
    "\n",
    "names(palette.novaseq.rna) <- level.novaseq.rna\n"
   ]
  },
  {
   "cell_type": "markdown",
   "id": "07eb8557",
   "metadata": {},
   "source": [
    "### color palette for renal_region_new"
   ]
  },
  {
   "cell_type": "code",
   "execution_count": 21,
   "id": "8f9cd026",
   "metadata": {
    "vscode": {
     "languageId": "r"
    }
   },
   "outputs": [],
   "source": [
    "level.novaseq.renal_region_new  <- c(\"Cortex\", \"Medulla\", \"Papilla\", \"Renal Artery\", \"Ureter\")     # C/M/P/RA/U\n",
    "palette.novaseq.renal_region_new <- c('#4C9150','#7A339E','#E0AB3D','#CC2114','black')\n",
    "names(palette.novaseq.renal_region_new) <- level.novaseq.renal_region_new"
   ]
  },
  {
   "cell_type": "markdown",
   "id": "29481691",
   "metadata": {},
   "source": [
    "## the following scripts are used to extract tf_ranks"
   ]
  },
  {
   "cell_type": "markdown",
   "id": "d3cba99d",
   "metadata": {},
   "source": [
    "step3.5.15_RENIN_from_subset_harmony_extract_TF_ranks"
   ]
  },
  {
   "cell_type": "markdown",
   "id": "ea987914",
   "metadata": {},
   "source": [
    "step3.7.6_RENIN_from_subset_harmony_extract_TF_ranks_renal_region_new"
   ]
  },
  {
   "cell_type": "code",
   "execution_count": 22,
   "id": "0390d723",
   "metadata": {
    "vscode": {
     "languageId": "r"
    }
   },
   "outputs": [],
   "source": [
    "load_test = function(tf_ranks_list, processed_folder, plots_folder, subfolder_name, palette){\n",
    "    load(file.path(tf_ranks_list$file_path))\n",
    "\n",
    "    # create output folder\n",
    "    dir.create(file.path(processed_folder, \"de_genes\", subfolder_name), recursive = T, showWarnings = F)\n",
    "    dir.create(file.path(processed_folder, \"tf_ranks\", subfolder_name), recursive = T, showWarnings = F)\n",
    "    dir.create(file.path(plots_folder, \"tf_ranks_labeled\", subfolder_name), recursive = T, showWarnings = F)\n",
    "    dir.create(file.path(plots_folder, \"tf_ranks_unlabeled\", subfolder_name), recursive = T, showWarnings = F)\n",
    "    \n",
    "    # export de_genes\n",
    "    output_file_RData = file.path(processed_folder, \"de_genes\", subfolder_name, tf_ranks_list$output_name)\n",
    "    output_file_csv = gsub(\"RData\", \"csv\", output_file_RData, ignore.case = TRUE)\n",
    "\n",
    "    de_genes = de_genes_BK\n",
    "    \n",
    "    save(list = c(\"de_genes\"), file = output_file_RData, compress = T)\n",
    "    write.csv(de_genes, output_file_csv)\n",
    "\n",
    "    if (exists(\"tf_ranks\")){\n",
    "        # export tf_ranks\n",
    "        output_file_RData = file.path(processed_folder, \"tf_ranks\", subfolder_name, tf_ranks_list$output_name)\n",
    "        output_file_csv = gsub(\"RData\", \"csv\", output_file_RData, ignore.case = TRUE)\n",
    "\n",
    "        save(list = c(\"tf_ranks\"), file = output_file_RData, compress = T)\n",
    "        write.csv(tf_ranks, output_file_csv)\n",
    "        #################################\n",
    "        output_pdf = file.path(plots_folder, \"tf_ranks_unlabeled\", subfolder_name, gsub('RData', \"pdf\", tf_ranks_list$output_name))\n",
    "        message(output_pdf)\n",
    "        idents = strsplit(tf_ranks_list$comparison, \",\")[[1]]\n",
    "\n",
    "        if (length(idents) == 1){\n",
    "            p = plot_tf_rankings(results_df = tf_ranks, colors = c(palette[idents[1]], 'grey'), \n",
    "                        ident1 = idents[1], ident2 = \"Others\", top_n_to_label = 0)\n",
    "\n",
    "        } else if (length(idents) == 2){\n",
    "            p = plot_tf_rankings(results_df = tf_ranks, colors = c(palette[idents[1]], palette[idents[2]]), \n",
    "                        ident1 = idents[1], ident2 = idents[2], top_n_to_label = 0)\n",
    "            \n",
    "        }\n",
    "\n",
    "        p = p + theme(axis.title.x=element_blank()) + guides(fill=guide_legend(title=\"\"))\n",
    "        \n",
    "        ggsave(output_pdf, p, width = 8, height = 6, dpi = 300, units = \"in\")\n",
    "        #################################\n",
    "        output_png = file.path(plots_folder, \"tf_ranks_unlabeled\", subfolder_name, gsub('RData', \"png\", tf_ranks_list$output_name))\n",
    "        message(output_png)\n",
    "        idents = strsplit(tf_ranks_list$comparison, \",\")[[1]]\n",
    "\n",
    "        if (length(idents) == 1){\n",
    "            p = plot_tf_rankings(results_df = tf_ranks, colors = c(palette[idents[1]], 'grey'), \n",
    "                        ident1 = idents[1], ident2 = \"Others\", top_n_to_label = 0)\n",
    "\n",
    "        } else if (length(idents) == 2){\n",
    "            p = plot_tf_rankings(results_df = tf_ranks, colors = c(palette[idents[1]], palette[idents[2]]), \n",
    "                        ident1 = idents[1], ident2 = idents[2], top_n_to_label = 0)\n",
    "            \n",
    "        }\n",
    "\n",
    "        p = p + theme(axis.title.x=element_blank()) + guides(fill=guide_legend(title=\"\"))\n",
    "        \n",
    "        ggsave(output_png, p, width = 8, height = 6, dpi = 300, units = \"in\")\n",
    "        #################################\n",
    "        output_png = file.path(plots_folder, \"tf_ranks_labeled\", subfolder_name, gsub('RData', \"png\", tf_ranks_list$output_name))\n",
    "        message(output_png)\n",
    "        idents = strsplit(tf_ranks_list$comparison, \",\")[[1]]\n",
    "\n",
    "        if (length(idents) == 1){\n",
    "            p = plot_tf_rankings(results_df = tf_ranks, colors = c(palette[idents[1]], 'grey'), \n",
    "                        ident1 = idents[1], ident2 = \"Others\", top_n_to_label = 5)\n",
    "\n",
    "        } else if (length(idents) == 2){\n",
    "            p = plot_tf_rankings(results_df = tf_ranks, colors = c(palette[idents[1]], palette[idents[2]]), \n",
    "                        ident1 = idents[1], ident2 = idents[2], top_n_to_label = 5)\n",
    "            \n",
    "        }\n",
    "        \n",
    "        ggsave(output_png, p, width = 8, height = 6, dpi = 300, units = \"in\")\n",
    "    }\n",
    "    \n",
    "}"
   ]
  },
  {
   "cell_type": "code",
   "execution_count": null,
   "id": "b9e9f34a",
   "metadata": {
    "vscode": {
     "languageId": "r"
    }
   },
   "outputs": [],
   "source": []
  },
  {
   "cell_type": "markdown",
   "id": "11071837",
   "metadata": {},
   "source": [
    "## extract de_genes calculated using hli_subset_78954 cells"
   ]
  },
  {
   "cell_type": "code",
   "execution_count": 23,
   "id": "e2c123a9",
   "metadata": {
    "vscode": {
     "languageId": "r"
    }
   },
   "outputs": [],
   "source": [
    "tf_ranks_list_hli = data.frame(file_path = c(\n",
    "    '../../processed_data/RENIN/by_regions/TAL1_TAL2_TAL3/RENIN_324701_cells_Medulla_vs_Cortex.RData',\n",
    "    '../../processed_data/RENIN/by_regions/TAL1_TAL2_TAL3/RENIN_324701_cells_Papilla_vs_Medulla.RData',\n",
    "    '../../processed_data/RENIN/by_regions/tL1_tL2/RENIN_324701_cells_Papilla_vs_Medulla.RData',\n",
    "    \"../../processed_data/RENIN/by_regions/PC1_PC2/RENIN_324701_cells_Papilla_vs_Medulla.RData\",\n",
    "    '../../processed_data/RENIN/by_celltypes/PT_vs_PT_VCAM1/RENIN_324701_cells_PT_vs_PT_VCAM1.RData'\n",
    "))"
   ]
  },
  {
   "cell_type": "code",
   "execution_count": 24,
   "id": "3198f058",
   "metadata": {
    "vscode": {
     "languageId": "r"
    }
   },
   "outputs": [],
   "source": [
    "tf_ranks_list_hli$output_name = c(\n",
    "    \"TAL1_TAL2_TAL3_324701_cells_Medulla_vs_Cortex.RData\",\n",
    "    \"TAL1_TAL2_TAL3_324701_cells_Papilla_vs_Medulla.RData\",\n",
    "    \"tL1_tL2_324701_cells_Papilla_vs_Medulla.RData\",\n",
    "    \"PC1_PC2_324701_cells_Papilla_vs_Medulla.RData\",\n",
    "    \"PT_vs_PT_VCAM1_324701_cells.RData\"\n",
    ")"
   ]
  },
  {
   "cell_type": "code",
   "execution_count": 25,
   "id": "98eb77ac",
   "metadata": {
    "vscode": {
     "languageId": "r"
    }
   },
   "outputs": [],
   "source": [
    "tf_ranks_list_hli$comparison = c(\n",
    "    \"Medulla,Cortex\",\n",
    "    \"Papilla,Medulla\",\n",
    "    \"Papilla,Medulla\",\n",
    "    \"Papilla,Medulla\",\n",
    "    \"PT,PT_VCAM1\"\n",
    "    )"
   ]
  },
  {
   "cell_type": "code",
   "execution_count": 26,
   "id": "8440dd72",
   "metadata": {
    "vscode": {
     "languageId": "r"
    }
   },
   "outputs": [
    {
     "data": {
      "text/html": [
       "<table class=\"dataframe\">\n",
       "<caption>A data.frame: 5 × 3</caption>\n",
       "<thead>\n",
       "\t<tr><th scope=col>file_path</th><th scope=col>output_name</th><th scope=col>comparison</th></tr>\n",
       "\t<tr><th scope=col>&lt;chr&gt;</th><th scope=col>&lt;chr&gt;</th><th scope=col>&lt;chr&gt;</th></tr>\n",
       "</thead>\n",
       "<tbody>\n",
       "\t<tr><td>../../processed_data/RENIN/by_regions/TAL1_TAL2_TAL3/RENIN_324701_cells_Medulla_vs_Cortex.RData </td><td>TAL1_TAL2_TAL3_324701_cells_Medulla_vs_Cortex.RData </td><td>Medulla,Cortex </td></tr>\n",
       "\t<tr><td>../../processed_data/RENIN/by_regions/TAL1_TAL2_TAL3/RENIN_324701_cells_Papilla_vs_Medulla.RData</td><td>TAL1_TAL2_TAL3_324701_cells_Papilla_vs_Medulla.RData</td><td>Papilla,Medulla</td></tr>\n",
       "\t<tr><td>../../processed_data/RENIN/by_regions/tL1_tL2/RENIN_324701_cells_Papilla_vs_Medulla.RData       </td><td>tL1_tL2_324701_cells_Papilla_vs_Medulla.RData       </td><td>Papilla,Medulla</td></tr>\n",
       "\t<tr><td>../../processed_data/RENIN/by_regions/PC1_PC2/RENIN_324701_cells_Papilla_vs_Medulla.RData       </td><td>PC1_PC2_324701_cells_Papilla_vs_Medulla.RData       </td><td>Papilla,Medulla</td></tr>\n",
       "\t<tr><td>../../processed_data/RENIN/by_celltypes/PT_vs_PT_VCAM1/RENIN_324701_cells_PT_vs_PT_VCAM1.RData  </td><td>PT_vs_PT_VCAM1_324701_cells.RData                   </td><td>PT,PT_VCAM1    </td></tr>\n",
       "</tbody>\n",
       "</table>\n"
      ],
      "text/latex": [
       "A data.frame: 5 × 3\n",
       "\\begin{tabular}{lll}\n",
       " file\\_path & output\\_name & comparison\\\\\n",
       " <chr> & <chr> & <chr>\\\\\n",
       "\\hline\n",
       "\t ../../processed\\_data/RENIN/by\\_regions/TAL1\\_TAL2\\_TAL3/RENIN\\_324701\\_cells\\_Medulla\\_vs\\_Cortex.RData  & TAL1\\_TAL2\\_TAL3\\_324701\\_cells\\_Medulla\\_vs\\_Cortex.RData  & Medulla,Cortex \\\\\n",
       "\t ../../processed\\_data/RENIN/by\\_regions/TAL1\\_TAL2\\_TAL3/RENIN\\_324701\\_cells\\_Papilla\\_vs\\_Medulla.RData & TAL1\\_TAL2\\_TAL3\\_324701\\_cells\\_Papilla\\_vs\\_Medulla.RData & Papilla,Medulla\\\\\n",
       "\t ../../processed\\_data/RENIN/by\\_regions/tL1\\_tL2/RENIN\\_324701\\_cells\\_Papilla\\_vs\\_Medulla.RData        & tL1\\_tL2\\_324701\\_cells\\_Papilla\\_vs\\_Medulla.RData        & Papilla,Medulla\\\\\n",
       "\t ../../processed\\_data/RENIN/by\\_regions/PC1\\_PC2/RENIN\\_324701\\_cells\\_Papilla\\_vs\\_Medulla.RData        & PC1\\_PC2\\_324701\\_cells\\_Papilla\\_vs\\_Medulla.RData        & Papilla,Medulla\\\\\n",
       "\t ../../processed\\_data/RENIN/by\\_celltypes/PT\\_vs\\_PT\\_VCAM1/RENIN\\_324701\\_cells\\_PT\\_vs\\_PT\\_VCAM1.RData   & PT\\_vs\\_PT\\_VCAM1\\_324701\\_cells.RData                    & PT,PT\\_VCAM1    \\\\\n",
       "\\end{tabular}\n"
      ],
      "text/markdown": [
       "\n",
       "A data.frame: 5 × 3\n",
       "\n",
       "| file_path &lt;chr&gt; | output_name &lt;chr&gt; | comparison &lt;chr&gt; |\n",
       "|---|---|---|\n",
       "| ../../processed_data/RENIN/by_regions/TAL1_TAL2_TAL3/RENIN_324701_cells_Medulla_vs_Cortex.RData  | TAL1_TAL2_TAL3_324701_cells_Medulla_vs_Cortex.RData  | Medulla,Cortex  |\n",
       "| ../../processed_data/RENIN/by_regions/TAL1_TAL2_TAL3/RENIN_324701_cells_Papilla_vs_Medulla.RData | TAL1_TAL2_TAL3_324701_cells_Papilla_vs_Medulla.RData | Papilla,Medulla |\n",
       "| ../../processed_data/RENIN/by_regions/tL1_tL2/RENIN_324701_cells_Papilla_vs_Medulla.RData        | tL1_tL2_324701_cells_Papilla_vs_Medulla.RData        | Papilla,Medulla |\n",
       "| ../../processed_data/RENIN/by_regions/PC1_PC2/RENIN_324701_cells_Papilla_vs_Medulla.RData        | PC1_PC2_324701_cells_Papilla_vs_Medulla.RData        | Papilla,Medulla |\n",
       "| ../../processed_data/RENIN/by_celltypes/PT_vs_PT_VCAM1/RENIN_324701_cells_PT_vs_PT_VCAM1.RData   | PT_vs_PT_VCAM1_324701_cells.RData                    | PT,PT_VCAM1     |\n",
       "\n"
      ],
      "text/plain": [
       "  file_path                                                                                       \n",
       "1 ../../processed_data/RENIN/by_regions/TAL1_TAL2_TAL3/RENIN_324701_cells_Medulla_vs_Cortex.RData \n",
       "2 ../../processed_data/RENIN/by_regions/TAL1_TAL2_TAL3/RENIN_324701_cells_Papilla_vs_Medulla.RData\n",
       "3 ../../processed_data/RENIN/by_regions/tL1_tL2/RENIN_324701_cells_Papilla_vs_Medulla.RData       \n",
       "4 ../../processed_data/RENIN/by_regions/PC1_PC2/RENIN_324701_cells_Papilla_vs_Medulla.RData       \n",
       "5 ../../processed_data/RENIN/by_celltypes/PT_vs_PT_VCAM1/RENIN_324701_cells_PT_vs_PT_VCAM1.RData  \n",
       "  output_name                                          comparison     \n",
       "1 TAL1_TAL2_TAL3_324701_cells_Medulla_vs_Cortex.RData  Medulla,Cortex \n",
       "2 TAL1_TAL2_TAL3_324701_cells_Papilla_vs_Medulla.RData Papilla,Medulla\n",
       "3 tL1_tL2_324701_cells_Papilla_vs_Medulla.RData        Papilla,Medulla\n",
       "4 PC1_PC2_324701_cells_Papilla_vs_Medulla.RData        Papilla,Medulla\n",
       "5 PT_vs_PT_VCAM1_324701_cells.RData                    PT,PT_VCAM1    "
      ]
     },
     "metadata": {},
     "output_type": "display_data"
    }
   ],
   "source": [
    "tf_ranks_list_hli"
   ]
  },
  {
   "cell_type": "code",
   "execution_count": 27,
   "id": "f80c3f71",
   "metadata": {
    "vscode": {
     "languageId": "r"
    }
   },
   "outputs": [
    {
     "name": "stderr",
     "output_type": "stream",
     "text": [
      "2023-07-03 16:00:07\n",
      "\n",
      "../../processed_data/RENIN/by_regions/TAL1_TAL2_TAL3/RENIN_324701_cells_Medulla_vs_Cortex.RDataTAL1_TAL2_TAL3_324701_cells_Medulla_vs_Cortex.RDataMedulla,Cortex\n",
      "\n",
      "../../plots/RENIN/tf_ranks_unlabeled/RENIN_324701_cells_DEGs_from_446267_cells/TAL1_TAL2_TAL3_324701_cells_Medulla_vs_Cortex.pdf\n",
      "\n",
      "Warning message:\n",
      "“\u001b[1m\u001b[22mUsing `size` aesthetic for lines was deprecated in ggplot2 3.4.0.\n",
      "\u001b[36mℹ\u001b[39m Please use `linewidth` instead.”\n",
      "../../plots/RENIN/tf_ranks_unlabeled/RENIN_324701_cells_DEGs_from_446267_cells/TAL1_TAL2_TAL3_324701_cells_Medulla_vs_Cortex.png\n",
      "\n",
      "../../plots/RENIN/tf_ranks_labeled/RENIN_324701_cells_DEGs_from_446267_cells/TAL1_TAL2_TAL3_324701_cells_Medulla_vs_Cortex.png\n",
      "\n",
      "2023-07-03 16:00:26\n",
      "\n",
      "../../processed_data/RENIN/by_regions/TAL1_TAL2_TAL3/RENIN_324701_cells_Papilla_vs_Medulla.RDataTAL1_TAL2_TAL3_324701_cells_Papilla_vs_Medulla.RDataPapilla,Medulla\n",
      "\n",
      "../../plots/RENIN/tf_ranks_unlabeled/RENIN_324701_cells_DEGs_from_446267_cells/TAL1_TAL2_TAL3_324701_cells_Papilla_vs_Medulla.pdf\n",
      "\n",
      "../../plots/RENIN/tf_ranks_unlabeled/RENIN_324701_cells_DEGs_from_446267_cells/TAL1_TAL2_TAL3_324701_cells_Papilla_vs_Medulla.png\n",
      "\n",
      "../../plots/RENIN/tf_ranks_labeled/RENIN_324701_cells_DEGs_from_446267_cells/TAL1_TAL2_TAL3_324701_cells_Papilla_vs_Medulla.png\n",
      "\n",
      "2023-07-03 16:00:37\n",
      "\n",
      "../../processed_data/RENIN/by_regions/tL1_tL2/RENIN_324701_cells_Papilla_vs_Medulla.RDatatL1_tL2_324701_cells_Papilla_vs_Medulla.RDataPapilla,Medulla\n",
      "\n",
      "../../plots/RENIN/tf_ranks_unlabeled/RENIN_324701_cells_DEGs_from_446267_cells/tL1_tL2_324701_cells_Papilla_vs_Medulla.pdf\n",
      "\n",
      "../../plots/RENIN/tf_ranks_unlabeled/RENIN_324701_cells_DEGs_from_446267_cells/tL1_tL2_324701_cells_Papilla_vs_Medulla.png\n",
      "\n",
      "../../plots/RENIN/tf_ranks_labeled/RENIN_324701_cells_DEGs_from_446267_cells/tL1_tL2_324701_cells_Papilla_vs_Medulla.png\n",
      "\n",
      "2023-07-03 16:00:43\n",
      "\n",
      "../../processed_data/RENIN/by_regions/PC1_PC2/RENIN_324701_cells_Papilla_vs_Medulla.RDataPC1_PC2_324701_cells_Papilla_vs_Medulla.RDataPapilla,Medulla\n",
      "\n",
      "../../plots/RENIN/tf_ranks_unlabeled/RENIN_324701_cells_DEGs_from_446267_cells/PC1_PC2_324701_cells_Papilla_vs_Medulla.pdf\n",
      "\n",
      "../../plots/RENIN/tf_ranks_unlabeled/RENIN_324701_cells_DEGs_from_446267_cells/PC1_PC2_324701_cells_Papilla_vs_Medulla.png\n",
      "\n",
      "../../plots/RENIN/tf_ranks_labeled/RENIN_324701_cells_DEGs_from_446267_cells/PC1_PC2_324701_cells_Papilla_vs_Medulla.png\n",
      "\n",
      "2023-07-03 16:00:48\n",
      "\n",
      "../../processed_data/RENIN/by_celltypes/PT_vs_PT_VCAM1/RENIN_324701_cells_PT_vs_PT_VCAM1.RDataPT_vs_PT_VCAM1_324701_cells.RDataPT,PT_VCAM1\n",
      "\n",
      "../../plots/RENIN/tf_ranks_unlabeled/RENIN_324701_cells_DEGs_from_446267_cells/PT_vs_PT_VCAM1_324701_cells.pdf\n",
      "\n",
      "../../plots/RENIN/tf_ranks_unlabeled/RENIN_324701_cells_DEGs_from_446267_cells/PT_vs_PT_VCAM1_324701_cells.png\n",
      "\n",
      "../../plots/RENIN/tf_ranks_labeled/RENIN_324701_cells_DEGs_from_446267_cells/PT_vs_PT_VCAM1_324701_cells.png\n",
      "\n"
     ]
    }
   ],
   "source": [
    "for (i in 1:dim(tf_ranks_list_hli)[1]){\n",
    "    message(Sys.time())\n",
    "    message(tf_ranks_list_hli[i, ])\n",
    "    load_test(tf_ranks_list_hli[i, ], processed_folder, plots_folder, subfolder_name, palette = c(palette.novaseq.rna, palette.novaseq.renal_region_new)) \n",
    "}\n"
   ]
  },
  {
   "cell_type": "code",
   "execution_count": null,
   "id": "b3c826ed",
   "metadata": {
    "vscode": {
     "languageId": "r"
    }
   },
   "outputs": [],
   "source": []
  },
  {
   "cell_type": "code",
   "execution_count": null,
   "id": "0a94c511",
   "metadata": {
    "vscode": {
     "languageId": "r"
    }
   },
   "outputs": [],
   "source": []
  },
  {
   "cell_type": "code",
   "execution_count": null,
   "id": "e97748cb",
   "metadata": {},
   "outputs": [],
   "source": []
  },
  {
   "cell_type": "code",
   "execution_count": null,
   "id": "70bec1ec",
   "metadata": {},
   "outputs": [],
   "source": []
  },
  {
   "cell_type": "code",
   "execution_count": null,
   "id": "823fb87a",
   "metadata": {},
   "outputs": [],
   "source": []
  }
 ],
 "metadata": {
  "kernelspec": {
   "display_name": "R",
   "language": "R",
   "name": "ir"
  },
  "language_info": {
   "codemirror_mode": "r",
   "file_extension": ".r",
   "mimetype": "text/x-r-source",
   "name": "R",
   "pygments_lexer": "r",
   "version": "4.2.2"
  }
 },
 "nbformat": 4,
 "nbformat_minor": 5
}
