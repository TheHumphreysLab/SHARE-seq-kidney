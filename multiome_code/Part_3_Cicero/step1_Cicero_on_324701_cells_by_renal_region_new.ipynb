{
 "cells": [
  {
   "cell_type": "code",
   "execution_count": 1,
   "id": "10bd9e79",
   "metadata": {},
   "outputs": [],
   "source": [
    "#!/usr/bin/env RScript\n",
    "###################################################################\n",
    "# Description: modify Yoshi & Parker 2020 paper code for Cicero \n",
    "# CCAN analysis; Then simplified the make_cicero_cds steps to \n",
    "# avoid recalculating UMAP\n",
    "# The RenamePeaks step is not performed at stage to save time\n",
    "\n",
    "# Author: Dian Li\n",
    "# Last modified: 2023-June-27: \n",
    "###################################################################"
   ]
  },
  {
   "cell_type": "code",
   "execution_count": 2,
   "id": "d67588bc",
   "metadata": {},
   "outputs": [],
   "source": [
    "cluster_list = c(\"Cortex\", \"Medulla\", \"Papilla\", \"Renal Artery\", \"Ureter\")"
   ]
  },
  {
   "cell_type": "code",
   "execution_count": 3,
   "id": "5865304b",
   "metadata": {},
   "outputs": [
    {
     "name": "stderr",
     "output_type": "stream",
     "text": [
      "Attaching SeuratObject\n",
      "\n",
      "Attaching sp\n",
      "\n",
      "\n",
      "Attaching package: ‘Signac’\n",
      "\n",
      "\n",
      "The following object is masked from ‘package:Seurat’:\n",
      "\n",
      "    FoldChange\n",
      "\n",
      "\n",
      "Loading required package: monocle3\n",
      "\n",
      "Loading required package: Biobase\n",
      "\n",
      "Loading required package: BiocGenerics\n",
      "\n",
      "Loading required package: parallel\n",
      "\n",
      "\n",
      "Attaching package: ‘BiocGenerics’\n",
      "\n",
      "\n",
      "The following objects are masked from ‘package:parallel’:\n",
      "\n",
      "    clusterApply, clusterApplyLB, clusterCall, clusterEvalQ,\n",
      "    clusterExport, clusterMap, parApply, parCapply, parLapply,\n",
      "    parLapplyLB, parRapply, parSapply, parSapplyLB\n",
      "\n",
      "\n",
      "The following objects are masked from ‘package:stats’:\n",
      "\n",
      "    IQR, mad, sd, var, xtabs\n",
      "\n",
      "\n",
      "The following objects are masked from ‘package:base’:\n",
      "\n",
      "    anyDuplicated, append, as.data.frame, basename, cbind, colnames,\n",
      "    dirname, do.call, duplicated, eval, evalq, Filter, Find, get, grep,\n",
      "    grepl, intersect, is.unsorted, lapply, Map, mapply, match, mget,\n",
      "    order, paste, pmax, pmax.int, pmin, pmin.int, Position, rank,\n",
      "    rbind, Reduce, rownames, sapply, setdiff, sort, table, tapply,\n",
      "    union, unique, unsplit, which.max, which.min\n",
      "\n",
      "\n",
      "Welcome to Bioconductor\n",
      "\n",
      "    Vignettes contain introductory material; view with\n",
      "    'browseVignettes()'. To cite Bioconductor, see\n",
      "    'citation(\"Biobase\")', and for packages 'citation(\"pkgname\")'.\n",
      "\n",
      "\n",
      "Loading required package: SingleCellExperiment\n",
      "\n",
      "Loading required package: SummarizedExperiment\n",
      "\n",
      "Loading required package: MatrixGenerics\n",
      "\n",
      "Loading required package: matrixStats\n",
      "\n",
      "\n",
      "Attaching package: ‘matrixStats’\n",
      "\n",
      "\n",
      "The following objects are masked from ‘package:Biobase’:\n",
      "\n",
      "    anyMissing, rowMedians\n",
      "\n",
      "\n",
      "\n",
      "Attaching package: ‘MatrixGenerics’\n",
      "\n",
      "\n",
      "The following objects are masked from ‘package:matrixStats’:\n",
      "\n",
      "    colAlls, colAnyNAs, colAnys, colAvgsPerRowSet, colCollapse,\n",
      "    colCounts, colCummaxs, colCummins, colCumprods, colCumsums,\n",
      "    colDiffs, colIQRDiffs, colIQRs, colLogSumExps, colMadDiffs,\n",
      "    colMads, colMaxs, colMeans2, colMedians, colMins, colOrderStats,\n",
      "    colProds, colQuantiles, colRanges, colRanks, colSdDiffs, colSds,\n",
      "    colSums2, colTabulates, colVarDiffs, colVars, colWeightedMads,\n",
      "    colWeightedMeans, colWeightedMedians, colWeightedSds,\n",
      "    colWeightedVars, rowAlls, rowAnyNAs, rowAnys, rowAvgsPerColSet,\n",
      "    rowCollapse, rowCounts, rowCummaxs, rowCummins, rowCumprods,\n",
      "    rowCumsums, rowDiffs, rowIQRDiffs, rowIQRs, rowLogSumExps,\n",
      "    rowMadDiffs, rowMads, rowMaxs, rowMeans2, rowMedians, rowMins,\n",
      "    rowOrderStats, rowProds, rowQuantiles, rowRanges, rowRanks,\n",
      "    rowSdDiffs, rowSds, rowSums2, rowTabulates, rowVarDiffs, rowVars,\n",
      "    rowWeightedMads, rowWeightedMeans, rowWeightedMedians,\n",
      "    rowWeightedSds, rowWeightedVars\n",
      "\n",
      "\n",
      "The following object is masked from ‘package:Biobase’:\n",
      "\n",
      "    rowMedians\n",
      "\n",
      "\n",
      "Loading required package: GenomicRanges\n",
      "\n",
      "Loading required package: stats4\n",
      "\n",
      "Loading required package: S4Vectors\n",
      "\n",
      "\n",
      "Attaching package: ‘S4Vectors’\n",
      "\n",
      "\n",
      "The following objects are masked from ‘package:base’:\n",
      "\n",
      "    expand.grid, I, unname\n",
      "\n",
      "\n",
      "Loading required package: IRanges\n",
      "\n",
      "\n",
      "Attaching package: ‘IRanges’\n",
      "\n",
      "\n",
      "The following object is masked from ‘package:sp’:\n",
      "\n",
      "    %over%\n",
      "\n",
      "\n",
      "Loading required package: GenomeInfoDb\n",
      "\n",
      "\n",
      "Attaching package: ‘SummarizedExperiment’\n",
      "\n",
      "\n",
      "The following object is masked from ‘package:SeuratObject’:\n",
      "\n",
      "    Assays\n",
      "\n",
      "\n",
      "The following object is masked from ‘package:Seurat’:\n",
      "\n",
      "    Assays\n",
      "\n",
      "\n",
      "\n",
      "Attaching package: ‘monocle3’\n",
      "\n",
      "\n",
      "The following objects are masked from ‘package:Biobase’:\n",
      "\n",
      "    exprs, fData, fData<-, pData, pData<-\n",
      "\n",
      "\n",
      "Loading required package: Gviz\n",
      "\n",
      "Loading required package: grid\n",
      "\n",
      "Warning message:\n",
      "“no function found corresponding to methods exports from ‘BSgenome’ for: ‘releaseName’”\n",
      "\n",
      "Attaching package: 'dplyr'\n",
      "\n",
      "\n",
      "The following objects are masked from 'package:GenomicRanges':\n",
      "\n",
      "    intersect, setdiff, union\n",
      "\n",
      "\n",
      "The following object is masked from 'package:GenomeInfoDb':\n",
      "\n",
      "    intersect\n",
      "\n",
      "\n",
      "The following objects are masked from 'package:IRanges':\n",
      "\n",
      "    collapse, desc, intersect, setdiff, slice, union\n",
      "\n",
      "\n",
      "The following objects are masked from 'package:S4Vectors':\n",
      "\n",
      "    first, intersect, rename, setdiff, setequal, union\n",
      "\n",
      "\n",
      "The following object is masked from 'package:matrixStats':\n",
      "\n",
      "    count\n",
      "\n",
      "\n",
      "The following object is masked from 'package:Biobase':\n",
      "\n",
      "    combine\n",
      "\n",
      "\n",
      "The following objects are masked from 'package:BiocGenerics':\n",
      "\n",
      "    combine, intersect, setdiff, union\n",
      "\n",
      "\n",
      "The following objects are masked from 'package:stats':\n",
      "\n",
      "    filter, lag\n",
      "\n",
      "\n",
      "The following objects are masked from 'package:base':\n",
      "\n",
      "    intersect, setdiff, setequal, union\n",
      "\n",
      "\n",
      "here() starts at /home/data/dianli/projects/hli_SHAREseq-region-NovaseqS4/ATAC_merged_output/SHAREseq_3_batches\n",
      "\n"
     ]
    }
   ],
   "source": [
    "library(Seurat)\n",
    "library(Signac)\n",
    "library(cicero)\n",
    "library(SeuratWrappers)\n",
    "library(dplyr)\n",
    "library(here)\n",
    "library(openxlsx)\n",
    "library(SeuratObject)\n",
    "\n",
    "library(monocle3)"
   ]
  },
  {
   "cell_type": "markdown",
   "id": "7f82da59",
   "metadata": {},
   "source": [
    "### create processed_data_path_new"
   ]
  },
  {
   "cell_type": "code",
   "execution_count": 4,
   "id": "0beef6e6",
   "metadata": {},
   "outputs": [],
   "source": [
    "processed_data_path_new = \"../../processed_data/Cicero/324701_cells_by_renal_region_new\"\n",
    "dir.create(processed_data_path_new, recursive = T, showWarnings = F)"
   ]
  },
  {
   "cell_type": "markdown",
   "id": "6e724d97",
   "metadata": {},
   "source": [
    "### create plots_path"
   ]
  },
  {
   "cell_type": "code",
   "execution_count": 5,
   "id": "3b65eb3a",
   "metadata": {},
   "outputs": [],
   "source": [
    "plots_path = \"../../plots/Cicero/324701_cells_by_renal_region_new\"\n",
    "dir.create(plots_path, recursive = T, showWarnings = F)"
   ]
  },
  {
   "cell_type": "markdown",
   "id": "fae8f08d",
   "metadata": {},
   "source": [
    "### load multiome object"
   ]
  },
  {
   "cell_type": "code",
   "execution_count": 6,
   "id": "822945a1",
   "metadata": {},
   "outputs": [
    {
     "data": {
      "text/plain": [
       "[1] \"2023-06-28 16:27:29 CDT\""
      ]
     },
     "metadata": {},
     "output_type": "display_data"
    },
    {
     "data": {
      "text/plain": [
       "[1] \"2023-06-28 16:31:46 CDT\""
      ]
     },
     "metadata": {},
     "output_type": "display_data"
    }
   ],
   "source": [
    "Sys.time()\n",
    "load(\"../../processed_data/wnn/20221221_324701_cells_wnn.RData\")\n",
    "Sys.time()"
   ]
  },
  {
   "cell_type": "code",
   "execution_count": 7,
   "id": "ea15b24a",
   "metadata": {},
   "outputs": [
    {
     "data": {
      "text/plain": [
       "An object of class Seurat \n",
       "237522 features across 324701 samples within 2 assays \n",
       "Active assay: peaks (189184 features, 189184 variable features)\n",
       " 1 other assay present: RNA\n",
       " 6 dimensional reductions calculated: pca, harmony_RNA, lsi, harmony_peaks, umap.peaks, WNN.UMAP"
      ]
     },
     "metadata": {},
     "output_type": "display_data"
    }
   ],
   "source": [
    "novaseq.wnn"
   ]
  },
  {
   "cell_type": "code",
   "execution_count": 8,
   "id": "a09d6c79",
   "metadata": {},
   "outputs": [],
   "source": [
    "DefaultAssay(novaseq.wnn) <- \"peaks\""
   ]
  },
  {
   "cell_type": "code",
   "execution_count": 9,
   "id": "600449f0",
   "metadata": {},
   "outputs": [
    {
     "data": {
      "text/plain": [
       "\n",
       "      Cortex      Medulla      Papilla Renal Artery       Ureter \n",
       "      178521        76815        58891         3524         6950 "
      ]
     },
     "metadata": {},
     "output_type": "display_data"
    }
   ],
   "source": [
    "table(novaseq.wnn$renal_region_new)"
   ]
  },
  {
   "cell_type": "code",
   "execution_count": 10,
   "id": "197bee82",
   "metadata": {},
   "outputs": [
    {
     "data": {
      "text/html": [
       "<style>\n",
       ".dl-inline {width: auto; margin:0; padding: 0}\n",
       ".dl-inline>dt, .dl-inline>dd {float: none; width: auto; display: inline-block}\n",
       ".dl-inline>dt::after {content: \":\\0020\"; padding-right: .5ex}\n",
       ".dl-inline>dt:not(:first-of-type) {padding-left: .5ex}\n",
       "</style><dl class=dl-inline><dt>R1.034,R2.082,R3.082,P1.76,B3</dt><dd>Medulla</dd><dt>R1.047,R2.073,R3.003,P1.65,B2</dt><dd>Cortex</dd><dt>R1.025,R2.080,R3.017,P1.66,B2</dt><dd>Cortex</dd><dt>R1.056,R2.038,R3.008,P1.48,B2</dt><dd>Medulla</dd><dt>R1.089,R2.082,R3.024,P1.14,B1</dt><dd>Cortex</dd><dt>R1.031,R2.072,R3.075,P1.78,B3</dt><dd>Medulla</dd></dl>\n",
       "\n",
       "<details>\n",
       "\t<summary style=display:list-item;cursor:pointer>\n",
       "\t\t<strong>Levels</strong>:\n",
       "\t</summary>\n",
       "\t<style>\n",
       "\t.list-inline {list-style: none; margin:0; padding: 0}\n",
       "\t.list-inline>li {display: inline-block}\n",
       "\t.list-inline>li:not(:last-child)::after {content: \"\\00b7\"; padding: 0 .5ex}\n",
       "\t</style>\n",
       "\t<ol class=list-inline><li>'Cortex'</li><li>'Medulla'</li><li>'Papilla'</li><li>'Renal Artery'</li><li>'Ureter'</li></ol>\n",
       "</details>"
      ],
      "text/latex": [
       "\\begin{description*}\n",
       "\\item[R1.034,R2.082,R3.082,P1.76,B3] Medulla\n",
       "\\item[R1.047,R2.073,R3.003,P1.65,B2] Cortex\n",
       "\\item[R1.025,R2.080,R3.017,P1.66,B2] Cortex\n",
       "\\item[R1.056,R2.038,R3.008,P1.48,B2] Medulla\n",
       "\\item[R1.089,R2.082,R3.024,P1.14,B1] Cortex\n",
       "\\item[R1.031,R2.072,R3.075,P1.78,B3] Medulla\n",
       "\\end{description*}\n",
       "\n",
       "\\emph{Levels}: \\begin{enumerate*}\n",
       "\\item 'Cortex'\n",
       "\\item 'Medulla'\n",
       "\\item 'Papilla'\n",
       "\\item 'Renal Artery'\n",
       "\\item 'Ureter'\n",
       "\\end{enumerate*}\n"
      ],
      "text/markdown": [
       "R1.034,R2.082,R3.082,P1.76,B3\n",
       ":   MedullaR1.047,R2.073,R3.003,P1.65,B2\n",
       ":   CortexR1.025,R2.080,R3.017,P1.66,B2\n",
       ":   CortexR1.056,R2.038,R3.008,P1.48,B2\n",
       ":   MedullaR1.089,R2.082,R3.024,P1.14,B1\n",
       ":   CortexR1.031,R2.072,R3.075,P1.78,B3\n",
       ":   Medulla\n",
       "\n",
       "\n",
       "**Levels**: 1. 'Cortex'\n",
       "2. 'Medulla'\n",
       "3. 'Papilla'\n",
       "4. 'Renal Artery'\n",
       "5. 'Ureter'\n",
       "\n",
       "\n"
      ],
      "text/plain": [
       "R1.034,R2.082,R3.082,P1.76,B3 R1.047,R2.073,R3.003,P1.65,B2 \n",
       "                      Medulla                        Cortex \n",
       "R1.025,R2.080,R3.017,P1.66,B2 R1.056,R2.038,R3.008,P1.48,B2 \n",
       "                       Cortex                       Medulla \n",
       "R1.089,R2.082,R3.024,P1.14,B1 R1.031,R2.072,R3.075,P1.78,B3 \n",
       "                       Cortex                       Medulla \n",
       "Levels: Cortex Medulla Papilla Renal Artery Ureter"
      ]
     },
     "metadata": {},
     "output_type": "display_data"
    }
   ],
   "source": [
    "Idents(novaseq.wnn) <- \"renal_region_new\"\n",
    "head(Idents(novaseq.wnn))"
   ]
  },
  {
   "cell_type": "code",
   "execution_count": 11,
   "id": "db9f67d5",
   "metadata": {},
   "outputs": [],
   "source": [
    "novaseq.BK = novaseq.wnn"
   ]
  },
  {
   "cell_type": "markdown",
   "id": "8aa708d6",
   "metadata": {},
   "source": [
    "### calculate ccan for each renal region"
   ]
  },
  {
   "cell_type": "code",
   "execution_count": 12,
   "id": "98e925e1",
   "metadata": {},
   "outputs": [],
   "source": [
    "run_cicero_wrapper <- function(novaseq, clusterID, processed_data_path_new, plots_path){\n",
    "   print(Sys.time())\n",
    "  print(\"step 1.1. create a subset based on clusterID\")\n",
    "  \n",
    "  # novaseq <- subset(novaseq, ident = clusterID) # create a subset\n",
    "    if (is.null(clusterID)){\n",
    "        novaseq = novaseq\n",
    "        clusterID = \"all_regions\"\n",
    "    } else{\n",
    "        novaseq <- subset(novaseq, renal_region_new %in% clusterID)\n",
    "    }\n",
    "    \n",
    "  print(paste0(\"Subsetting seurat object for: \",clusterID))\n",
    "  print(novaseq)\n",
    "    \n",
    "  ###################################################################\n",
    "  # convert to cicero naming convention\n",
    "  print(Sys.time())\n",
    "  print(\"step 2. convert to cicero naming convention\")\n",
    "  \n",
    "  # for UMAP umap issue\n",
    "  novaseq[[\"UMAP\"]] <- novaseq[[\"umap.peaks\"]]\n",
    "  novaseq[[\"umap.peaks\"]] <- NULL\n",
    "  \n",
    "  print(novaseq)\n",
    "  \n",
    "  count_data <- GetAssayData(novaseq, slot = \"counts\")\n",
    "  summ <- summary(count_data)\n",
    "  summ_frame <- data.frame(peak = rownames(count_data)[summ$i],\n",
    "                           cell.id = colnames(count_data)[summ$j],\n",
    "                           count = summ$x)\n",
    "  print(head(summ_frame))\n",
    "  ###################################################################\n",
    "  # prepare cicero cell_data_set\n",
    "  print(Sys.time())\n",
    "  print(\"step 3. prepare atac cell_data_set\")\n",
    "  \n",
    "  # create cell data set object with cicero constructor\n",
    "  input_cds <- make_atac_cds(summ_frame, binarize = TRUE)  \n",
    "  ###################################################################\n",
    "  # step \n",
    "  # set seed. (only one time)\n",
    "  print(Sys.time())\n",
    "  print(\"step 4. set.seed(2017)\")\n",
    "  \n",
    "  set.seed(2017)\n",
    "  ###################################################################\n",
    "  # step \n",
    "  # set seed. (only one time)\n",
    "  print(Sys.time())\n",
    "  print(\"step 5. make cicero cds\")\n",
    "  \n",
    "  input_cds <- detect_genes(input_cds)\n",
    "  input_cds <- estimate_size_factors(input_cds)\n",
    "  \n",
    "  # use novaseq original UMAP to save time and keep consistency\n",
    "  input_cds <- preprocess_cds(input_cds, method=\"LSI\")\n",
    "  # input_cds <- reduce_dimension(input_cds, reduction_method=\"UMAP\", preprocess_method=\"LSI\")\n",
    "  # \n",
    "  # umap_coords <- reducedDims(input_cds)$UMAP\n",
    "  \n",
    "  umap_coords = Embeddings(novaseq, reduction = \"UMAP\")\n",
    "  cicero_cds <- make_cicero_cds(input_cds, reduced_coordinates=umap_coords)\n",
    "  \n",
    "  cicero_cds\n",
    "  ###################################################################\n",
    "  # step \n",
    "  # prepare contigs variable\n",
    "  print(Sys.time())\n",
    "  print(\"step 6. prepare contigs variable\")\n",
    "  \n",
    "  genome <- seqlengths(novaseq)\n",
    "  \n",
    "  contigs <- data.frame(\"V1\" = names(genome), \"length\" = genome)  \n",
    "  # select chromosomes to run cicero on\n",
    "  ###################################################################\n",
    "  # for testing purposes, only test chr1, chrX and chrY for now\n",
    "  levels <- paste0(\"chr\",c(seq(1,22),\"X\",\"Y\"))\n",
    "  # levels <- paste0(\"chr\",c(seq(1,1),\"X\",\"Y\"))\n",
    "  ###################################################################\n",
    "  contigs <- subset(contigs, V1 %in% levels)\n",
    "  \n",
    "  chrom = NULL\n",
    "  # if a specific chromosome is specified, subset the contigs and only run that chromosome\n",
    "  if(!is.null(chrom)) {\n",
    "    contigs <- subset(contigs, V1 %in% chrom)\n",
    "  }\n",
    "  contigs\n",
    "  ###################################################################\n",
    "  # step \n",
    "  # prepare contigs variable\n",
    "  print(Sys.time())\n",
    "  print(\"step 6.1. remove varibales not being used and clean memory\")\n",
    "  \n",
    "  rm(list = c(\"summ_frame\", \"input_cds\"))\n",
    "  gc()\n",
    "  ###################################################################\n",
    "  # step \n",
    "  # run_cicero\n",
    "  print(Sys.time())\n",
    "  print(\"step 7. run_cicero\")\n",
    "  \n",
    "  # can the contig region be limited to 1Mb up- and downstream of gene of interest to increase speed?\n",
    "  # create a subset by input chromosome\n",
    "  conns <- run_cicero(cicero_cds, contigs, sample_num = 100) \n",
    "  \n",
    "  save(list=c(\"conns\"), file = file.path(processed_data_path_new, paste0(\"conns_ccan_\", gsub(pattern = \"\\\\/\", \"_\", paste(clusterID, collapse = \"_\")), \".RData\")), compress = T)\n",
    "  \n",
    "  ###################################################################\n",
    "  # step \n",
    "  # generate_ccans\n",
    "  print(Sys.time())\n",
    "  print(\"step 8. generate_ccans\")\n",
    "  \n",
    "  # CCAN_assigns <- generate_ccans(conns)\n",
    "  CCAN_assigns <- generate_ccans(conns, coaccess_cutoff_override = 0.2)\n",
    "  \n",
    "  \n",
    "  \n",
    "  ###################################################################\n",
    "  # step \n",
    "  # save conns and ccan object\n",
    "  print(Sys.time())\n",
    "  print(\"step 9. save conns and ccan object\")\n",
    "\n",
    "  save(list=c(\"conns\", \"CCAN_assigns\"), file = file.path(processed_data_path_new, paste0(\"conns_ccan_\", gsub(pattern = \"\\\\/\", \"_\", paste(clusterID, collapse = \"_\")), \".RData\")), compress = T)\n",
    "  \n",
    "  ###################################################################\n",
    "  # modify ccan output\n",
    "  # create a column that identifies which connections belong to a CCAN\n",
    "  # to save storage, won't calculate ccan for now\n",
    "  if (FALSE){\n",
    "    ccan1 <- left_join(conns, CCAN_assigns, by=c(\"Peak1\" = \"Peak\"), all.x=TRUE)\n",
    "    colnames(ccan1)[4] <- \"CCAN1\"\n",
    "    ccan2 <- left_join(conns, CCAN_assigns, by=c(\"Peak2\" = \"Peak\"), all.x=TRUE)\n",
    "    colnames(ccan2)[4] <- \"CCAN2\"\n",
    "    ccan <- cbind(ccan1, CCAN2=ccan2$CCAN2) %>%\n",
    "      dplyr::mutate(CCAN = ifelse(CCAN1 == CCAN2, CCAN1, 0)) %>%\n",
    "      dplyr::select(-CCAN1, -CCAN2)\n",
    "    \n",
    "    save(list=c(\"conns\", \"CCAN_assigns\", \"ccan\"), file = file.path(processed_data_path_new, paste0(\"conns_ccan_\", gsub(pattern = \"\\\\/\", \"_\", paste(clusterID, collapse = \"_\")), \".RData\")), compress = T)\n",
    "  }\n",
    "  ###################################################################\n",
    "  # step.\n",
    "  # make CoveragePlot\n",
    "  links <- ConnectionsToLinks(conns = conns, ccans = CCAN_assigns)\n",
    "  Links(novaseq) <- links\n",
    "  ###################################################################\n",
    "  p = CoveragePlot(novaseq, region = \"chr1-99756821-100037935\")\n",
    "  \n",
    "  ggsave(filename = file.path(plots_path, paste0(\"CoveragePlot_\", gsub(pattern = \"\\\\/\", \"_\", paste(clusterID, collapse = \"_\")), \"_chr1-99756821-100037935\", \".png\")), plot = p, \n",
    "         width = 12, height = 10, units = \"in\", dpi = 300)\n",
    "  ###################################################################\n",
    "  # p = CoveragePlot(novaseq, region = \"chrY-6996148-6997666\")\n",
    "  # \n",
    "  # ggsave(filename = file.path(plots_path, paste0(\"CoveragePlot_\", gsub(pattern = \"\\\\/\", \"_\", paste(clusterID, collapse = \"_\")), \"_chrY-6996148-6997666\", \".png\")), plot = p, \n",
    "  #        width = 12, height = 10, units = \"in\", dpi = 300)\n",
    "  # ###################################################################\n",
    "  # p = CoveragePlot(novaseq, region = \"chr1-100249518-100614716\")\n",
    "  # \n",
    "  # ggsave(filename = file.path(plots_path, paste0(\"CoveragePlot_\", gsub(pattern = \"\\\\/\", \"_\", paste(clusterID, collapse = \"_\")), \"_chr1-100249518-100614716\", \".png\")), plot = p, \n",
    "  #        width = 12, height = 10, units = \"in\", dpi = 300) \n",
    "    print(Sys.time())\n",
    "}"
   ]
  },
  {
   "cell_type": "code",
   "execution_count": null,
   "id": "4cad3f48",
   "metadata": {},
   "outputs": [
    {
     "name": "stdout",
     "output_type": "stream",
     "text": [
      "[1] \"2023-06-28 16:31:47 CDT\"\n",
      "[1] \"step 1.1. create a subset based on clusterID\"\n",
      "[1] \"Subsetting seurat object for: Cortex\"\n",
      "An object of class Seurat \n",
      "237522 features across 178521 samples within 2 assays \n",
      "Active assay: peaks (189184 features, 189184 variable features)\n",
      " 1 other assay present: RNA\n",
      " 6 dimensional reductions calculated: pca, harmony_RNA, lsi, harmony_peaks, umap.peaks, WNN.UMAP\n",
      "[1] \"2023-06-28 16:33:31 CDT\"\n",
      "[1] \"step 2. convert to cicero naming convention\"\n"
     ]
    },
    {
     "name": "stderr",
     "output_type": "stream",
     "text": [
      "Warning message:\n",
      "\"Cannot add objects with duplicate keys (offending key: peaksUMAP_), setting key to 'umap_'\"\n"
     ]
    },
    {
     "name": "stdout",
     "output_type": "stream",
     "text": [
      "An object of class Seurat \n",
      "237522 features across 178521 samples within 2 assays \n",
      "Active assay: peaks (189184 features, 189184 variable features)\n",
      " 1 other assay present: RNA\n",
      " 6 dimensional reductions calculated: pca, harmony_RNA, lsi, harmony_peaks, WNN.UMAP, UMAP\n",
      "                  peak                       cell.id count\n",
      "1     chr1-10367-10542 R1.047,R2.073,R3.003,P1.65,B2     1\n",
      "2 chr1-7705359-7705897 R1.047,R2.073,R3.003,P1.65,B2     1\n",
      "3 chr1-7727461-7728046 R1.047,R2.073,R3.003,P1.65,B2     1\n",
      "4 chr1-8021056-8022096 R1.047,R2.073,R3.003,P1.65,B2     1\n",
      "5 chr1-8181000-8181670 R1.047,R2.073,R3.003,P1.65,B2     1\n",
      "6 chr1-8908626-8909181 R1.047,R2.073,R3.003,P1.65,B2     1\n",
      "[1] \"2023-06-28 16:33:57 CDT\"\n",
      "[1] \"step 3. prepare atac cell_data_set\"\n",
      "[1] \"2023-06-28 16:41:25 CDT\"\n",
      "[1] \"step 4. set.seed(2017)\"\n",
      "[1] \"2023-06-28 16:41:25 CDT\"\n",
      "[1] \"step 5. make cicero cds\"\n"
     ]
    },
    {
     "name": "stderr",
     "output_type": "stream",
     "text": [
      "Overlap QC metrics:\n",
      "Cells per bin: 50\n",
      "Maximum shared cells bin-bin: 44\n",
      "Mean shared cells bin-bin: 0.0135225265040003\n",
      "Median shared cells bin-bin: 0\n",
      "\n"
     ]
    }
   ],
   "source": [
    "###################################################################\n",
    "###################################################################\n",
    "###################################################################\n",
    "# start for loop\n",
    "\n",
    "# for (clusterID in unique(novaseq$celltype)){\n",
    "for (clusterID in cluster_list){\n",
    "  # convert to cicero naming convention\n",
    "  run_cicero_wrapper(novaseq = novaseq.BK, clusterID = clusterID, \n",
    "             processed_data_path_new = processed_data_path_new, \n",
    "             plots_path = plots_path)\n",
    "  \n",
    "}\n",
    "  \n",
    "###################################################################\n",
    "###################################################################\n",
    "###################################################################\n"
   ]
  },
  {
   "cell_type": "markdown",
   "id": "5120afa5",
   "metadata": {},
   "source": [
    "### run Cicero for all regions combined"
   ]
  },
  {
   "cell_type": "code",
   "execution_count": null,
   "id": "ed5f7f0a",
   "metadata": {},
   "outputs": [],
   "source": [
    "run_cicero_wrapper(novaseq = novaseq.BK, clusterID = NULL, \n",
    "             processed_data_path_new = processed_data_path_new, \n",
    "             plots_path = plots_path)"
   ]
  },
  {
   "cell_type": "code",
   "execution_count": null,
   "id": "846d0d39",
   "metadata": {},
   "outputs": [],
   "source": []
  },
  {
   "cell_type": "code",
   "execution_count": null,
   "id": "4613f6e9",
   "metadata": {},
   "outputs": [],
   "source": [
    "Sys.time()"
   ]
  },
  {
   "cell_type": "code",
   "execution_count": null,
   "id": "bc2b4f80",
   "metadata": {},
   "outputs": [],
   "source": []
  },
  {
   "cell_type": "code",
   "execution_count": null,
   "id": "45aebfe6",
   "metadata": {},
   "outputs": [],
   "source": []
  },
  {
   "cell_type": "code",
   "execution_count": null,
   "id": "88845eb0",
   "metadata": {},
   "outputs": [],
   "source": []
  },
  {
   "cell_type": "code",
   "execution_count": null,
   "id": "328d38ca",
   "metadata": {},
   "outputs": [],
   "source": []
  },
  {
   "cell_type": "code",
   "execution_count": null,
   "id": "04cd8e09",
   "metadata": {},
   "outputs": [],
   "source": []
  },
  {
   "cell_type": "code",
   "execution_count": null,
   "id": "87f37f95",
   "metadata": {},
   "outputs": [],
   "source": []
  }
 ],
 "metadata": {
  "kernelspec": {
   "display_name": "R",
   "language": "R",
   "name": "ir"
  },
  "language_info": {
   "codemirror_mode": "r",
   "file_extension": ".r",
   "mimetype": "text/x-r-source",
   "name": "R",
   "pygments_lexer": "r",
   "version": "4.2.2"
  }
 },
 "nbformat": 4,
 "nbformat_minor": 5
}
