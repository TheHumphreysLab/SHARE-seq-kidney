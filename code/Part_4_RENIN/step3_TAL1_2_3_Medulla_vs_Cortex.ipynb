{
 "cells": [
  {
   "cell_type": "code",
   "execution_count": 1,
   "id": "5a5f9755",
   "metadata": {
    "scrolled": false
   },
   "outputs": [
    {
     "name": "stderr",
     "output_type": "stream",
     "text": [
      "Attaching SeuratObject\n",
      "\n",
      "Attaching sp\n",
      "\n",
      "\n",
      "Attaching package: ‘Signac’\n",
      "\n",
      "\n",
      "The following object is masked from ‘package:Seurat’:\n",
      "\n",
      "    FoldChange\n",
      "\n",
      "\n",
      "── \u001b[1mAttaching packages\u001b[22m ─────────────────────────────────────────────────────────────────────────────── tidyverse 1.3.2 ──\n",
      "\u001b[32m✔\u001b[39m \u001b[34mggplot2\u001b[39m 3.4.1     \u001b[32m✔\u001b[39m \u001b[34mpurrr  \u001b[39m 0.3.4\n",
      "\u001b[32m✔\u001b[39m \u001b[34mtibble \u001b[39m 3.1.8     \u001b[32m✔\u001b[39m \u001b[34mdplyr  \u001b[39m 1.0.9\n",
      "\u001b[32m✔\u001b[39m \u001b[34mtidyr  \u001b[39m 1.2.0     \u001b[32m✔\u001b[39m \u001b[34mstringr\u001b[39m 1.4.0\n",
      "\u001b[32m✔\u001b[39m \u001b[34mreadr  \u001b[39m 2.1.2     \u001b[32m✔\u001b[39m \u001b[34mforcats\u001b[39m 0.5.1\n",
      "── \u001b[1mConflicts\u001b[22m ────────────────────────────────────────────────────────────────────────────────── tidyverse_conflicts() ──\n",
      "\u001b[31m✖\u001b[39m \u001b[34mdplyr\u001b[39m::\u001b[32mfilter()\u001b[39m masks \u001b[34mstats\u001b[39m::filter()\n",
      "\u001b[31m✖\u001b[39m \u001b[34mdplyr\u001b[39m::\u001b[32mlag()\u001b[39m    masks \u001b[34mstats\u001b[39m::lag()\n",
      "\u001b[31m✖\u001b[39m \u001b[34mpurrr\u001b[39m::\u001b[32mreduce()\u001b[39m masks \u001b[34mSignac\u001b[39m::reduce()\n",
      "\n",
      "\n",
      "Warning message:\n",
      "“no function found corresponding to methods exports from ‘BSgenome’ for: ‘releaseName’”\n",
      "Loading required package: BSgenome\n",
      "\n",
      "Loading required package: BiocGenerics\n",
      "\n",
      "Loading required package: parallel\n",
      "\n",
      "\n",
      "Attaching package: ‘BiocGenerics’\n",
      "\n",
      "\n",
      "The following objects are masked from ‘package:parallel’:\n",
      "\n",
      "    clusterApply, clusterApplyLB, clusterCall, clusterEvalQ,\n",
      "    clusterExport, clusterMap, parApply, parCapply, parLapply,\n",
      "    parLapplyLB, parRapply, parSapply, parSapplyLB\n",
      "\n",
      "\n",
      "The following objects are masked from ‘package:dplyr’:\n",
      "\n",
      "    combine, intersect, setdiff, union\n",
      "\n",
      "\n",
      "The following objects are masked from ‘package:stats’:\n",
      "\n",
      "    IQR, mad, sd, var, xtabs\n",
      "\n",
      "\n",
      "The following objects are masked from ‘package:base’:\n",
      "\n",
      "    anyDuplicated, append, as.data.frame, basename, cbind, colnames,\n",
      "    dirname, do.call, duplicated, eval, evalq, Filter, Find, get, grep,\n",
      "    grepl, intersect, is.unsorted, lapply, Map, mapply, match, mget,\n",
      "    order, paste, pmax, pmax.int, pmin, pmin.int, Position, rank,\n",
      "    rbind, Reduce, rownames, sapply, setdiff, sort, table, tapply,\n",
      "    union, unique, unsplit, which.max, which.min\n",
      "\n",
      "\n",
      "Loading required package: S4Vectors\n",
      "\n",
      "Loading required package: stats4\n",
      "\n",
      "\n",
      "Attaching package: ‘S4Vectors’\n",
      "\n",
      "\n",
      "The following objects are masked from ‘package:dplyr’:\n",
      "\n",
      "    first, rename\n",
      "\n",
      "\n",
      "The following object is masked from ‘package:tidyr’:\n",
      "\n",
      "    expand\n",
      "\n",
      "\n",
      "The following objects are masked from ‘package:base’:\n",
      "\n",
      "    expand.grid, I, unname\n",
      "\n",
      "\n",
      "Loading required package: IRanges\n",
      "\n",
      "\n",
      "Attaching package: ‘IRanges’\n",
      "\n",
      "\n",
      "The following objects are masked from ‘package:dplyr’:\n",
      "\n",
      "    collapse, desc, slice\n",
      "\n",
      "\n",
      "The following object is masked from ‘package:purrr’:\n",
      "\n",
      "    reduce\n",
      "\n",
      "\n",
      "The following object is masked from ‘package:sp’:\n",
      "\n",
      "    %over%\n",
      "\n",
      "\n",
      "Loading required package: GenomeInfoDb\n",
      "\n",
      "Loading required package: GenomicRanges\n",
      "\n",
      "Loading required package: Biostrings\n",
      "\n",
      "Loading required package: XVector\n",
      "\n",
      "\n",
      "Attaching package: ‘XVector’\n",
      "\n",
      "\n",
      "The following object is masked from ‘package:purrr’:\n",
      "\n",
      "    compact\n",
      "\n",
      "\n",
      "\n",
      "Attaching package: ‘Biostrings’\n",
      "\n",
      "\n",
      "The following object is masked from ‘package:base’:\n",
      "\n",
      "    strsplit\n",
      "\n",
      "\n",
      "Loading required package: rtracklayer\n",
      "\n"
     ]
    }
   ],
   "source": [
    "library(Seurat)\n",
    "library(Signac)\n",
    "library(SeuratWrappers)\n",
    "library(RENIN)\n",
    "library(tidyverse)\n",
    "library(chromVARmotifs)\n",
    "library(BSgenome.Hsapiens.UCSC.hg19)"
   ]
  },
  {
   "cell_type": "markdown",
   "id": "2dc24966",
   "metadata": {},
   "source": [
    "## define the two ident to compare in FindMarkers function"
   ]
  },
  {
   "cell_type": "code",
   "execution_count": 2,
   "id": "7b858190",
   "metadata": {},
   "outputs": [],
   "source": [
    "FindMarkers_ident_1 = \"Medulla\"\n",
    "FindMarkers_ident_2 = \"Cortex\"\n",
    "\n",
    "celltype_subset = c(\"TAL1\", \"TAL2\", \"TAL3\")"
   ]
  },
  {
   "cell_type": "code",
   "execution_count": 3,
   "id": "77782b23",
   "metadata": {},
   "outputs": [],
   "source": [
    "de_gene_file = \"../../processed_data/RENIN/de_genes/446267_cells_RNA/TAL_rank_genes_groups_m_vs_c_20230425.RData\""
   ]
  },
  {
   "cell_type": "code",
   "execution_count": 4,
   "id": "7484a1a0",
   "metadata": {},
   "outputs": [
    {
     "data": {
      "text/html": [
       "'../../processed_data/RENIN/by_regions/TAL1_TAL2_TAL3'"
      ],
      "text/latex": [
       "'../../processed\\_data/RENIN/by\\_regions/TAL1\\_TAL2\\_TAL3'"
      ],
      "text/markdown": [
       "'../../processed_data/RENIN/by_regions/TAL1_TAL2_TAL3'"
      ],
      "text/plain": [
       "[1] \"../../processed_data/RENIN/by_regions/TAL1_TAL2_TAL3\""
      ]
     },
     "metadata": {},
     "output_type": "display_data"
    }
   ],
   "source": [
    "processed_dir = file.path(\"..\", \"..\", \"processed_data\", \"RENIN\", \"by_regions\", paste0(gsub(pattern = \"\\\\/\", \"_\", paste(celltype_subset, collapse = \"_\"))))\n",
    "processed_dir\n",
    "dir.create(processed_dir, recursive = T, showWarnings = F)"
   ]
  },
  {
   "cell_type": "markdown",
   "id": "7923c586",
   "metadata": {},
   "source": [
    "### load previously calculated image which includes expr_mat, peak_mat, novaseq.sub. This could save time for dealing with new de_gene for different clusters while sharing the same novaseq.sub object"
   ]
  },
  {
   "cell_type": "code",
   "execution_count": 5,
   "id": "a014ce77",
   "metadata": {},
   "outputs": [
    {
     "data": {
      "text/plain": [
       "[1] \"2023-07-01 13:19:08 CDT\""
      ]
     },
     "metadata": {},
     "output_type": "display_data"
    },
    {
     "data": {
      "text/plain": [
       "[1] \"2023-07-01 13:23:56 CDT\""
      ]
     },
     "metadata": {},
     "output_type": "display_data"
    }
   ],
   "source": [
    "Sys.time()\n",
    "load(\"../../processed_data/RENIN/RENIN_324701_cells_preprocess.RData\")\n",
    "Sys.time()"
   ]
  },
  {
   "cell_type": "code",
   "execution_count": 6,
   "id": "7378c09c",
   "metadata": {},
   "outputs": [
    {
     "data": {
      "text/plain": [
       "An object of class Seurat \n",
       "237522 features across 324701 samples within 2 assays \n",
       "Active assay: peaks (189184 features, 189184 variable features)\n",
       " 1 other assay present: SCT\n",
       " 6 dimensional reductions calculated: pca, harmony_RNA, lsi, harmony_peaks, umap.peaks, WNN.UMAP"
      ]
     },
     "metadata": {},
     "output_type": "display_data"
    },
    {
     "data": {
      "text/plain": [
       "\n",
       "      JGA       POD       PEC        PT PT_dediff  PT_VCAM1       tL1       tL2 \n",
       "     2465      3179      1239     64880     29494      8445     25438      9029 \n",
       "   tL-TAL      TAL1      TAL2      TAL3       DCT       CNT       PC1       PC2 \n",
       "    15485     29910     19724      8900     14150     13197     16140      4049 \n",
       "      ICA       ICB      Uro1      Uro2      ENDO      SMC1      SMC2      SMC3 \n",
       "    10579      4120      3210       682     12847      4272       156        86 \n",
       "     Fib1      Fib2      Fib3        Ma        BT \n",
       "     3786      7191      3095      3673      5280 "
      ]
     },
     "metadata": {},
     "output_type": "display_data"
    }
   ],
   "source": [
    "novaseq.sub\n",
    "table(novaseq.sub$celltype5_rna)"
   ]
  },
  {
   "cell_type": "code",
   "execution_count": 7,
   "id": "f5ee7fc7",
   "metadata": {},
   "outputs": [
    {
     "data": {
      "text/html": [
       "<style>\n",
       ".list-inline {list-style: none; margin:0; padding: 0}\n",
       ".list-inline>li {display: inline-block}\n",
       ".list-inline>li:not(:last-child)::after {content: \"\\00b7\"; padding: 0 .5ex}\n",
       "</style>\n",
       "<ol class=list-inline><li>'celltype_subset'</li><li>'de_gene_file'</li><li>'expr_mat'</li><li>'FindMarkers_ident_1'</li><li>'FindMarkers_ident_2'</li><li>'level.novaseq'</li><li>'level.novaseq.renal_region_new'</li><li>'level.novaseq.rna'</li><li>'novaseq.sub'</li><li>'palette.novaseq'</li><li>'palette.novaseq.renal_region_new'</li><li>'palette.novaseq.rna'</li><li>'peak_mat'</li><li>'processed_dir'</li></ol>\n"
      ],
      "text/latex": [
       "\\begin{enumerate*}\n",
       "\\item 'celltype\\_subset'\n",
       "\\item 'de\\_gene\\_file'\n",
       "\\item 'expr\\_mat'\n",
       "\\item 'FindMarkers\\_ident\\_1'\n",
       "\\item 'FindMarkers\\_ident\\_2'\n",
       "\\item 'level.novaseq'\n",
       "\\item 'level.novaseq.renal\\_region\\_new'\n",
       "\\item 'level.novaseq.rna'\n",
       "\\item 'novaseq.sub'\n",
       "\\item 'palette.novaseq'\n",
       "\\item 'palette.novaseq.renal\\_region\\_new'\n",
       "\\item 'palette.novaseq.rna'\n",
       "\\item 'peak\\_mat'\n",
       "\\item 'processed\\_dir'\n",
       "\\end{enumerate*}\n"
      ],
      "text/markdown": [
       "1. 'celltype_subset'\n",
       "2. 'de_gene_file'\n",
       "3. 'expr_mat'\n",
       "4. 'FindMarkers_ident_1'\n",
       "5. 'FindMarkers_ident_2'\n",
       "6. 'level.novaseq'\n",
       "7. 'level.novaseq.renal_region_new'\n",
       "8. 'level.novaseq.rna'\n",
       "9. 'novaseq.sub'\n",
       "10. 'palette.novaseq'\n",
       "11. 'palette.novaseq.renal_region_new'\n",
       "12. 'palette.novaseq.rna'\n",
       "13. 'peak_mat'\n",
       "14. 'processed_dir'\n",
       "\n",
       "\n"
      ],
      "text/plain": [
       " [1] \"celltype_subset\"                  \"de_gene_file\"                    \n",
       " [3] \"expr_mat\"                         \"FindMarkers_ident_1\"             \n",
       " [5] \"FindMarkers_ident_2\"              \"level.novaseq\"                   \n",
       " [7] \"level.novaseq.renal_region_new\"   \"level.novaseq.rna\"               \n",
       " [9] \"novaseq.sub\"                      \"palette.novaseq\"                 \n",
       "[11] \"palette.novaseq.renal_region_new\" \"palette.novaseq.rna\"             \n",
       "[13] \"peak_mat\"                         \"processed_dir\"                   "
      ]
     },
     "metadata": {},
     "output_type": "display_data"
    }
   ],
   "source": [
    "ls()"
   ]
  },
  {
   "cell_type": "code",
   "execution_count": 8,
   "id": "ea7f2396",
   "metadata": {},
   "outputs": [],
   "source": [
    "## subset novaseq.sub again to only include the celltypes of interest"
   ]
  },
  {
   "cell_type": "code",
   "execution_count": 9,
   "id": "6846e163",
   "metadata": {},
   "outputs": [
    {
     "data": {
      "text/plain": [
       "An object of class Seurat \n",
       "237522 features across 58534 samples within 2 assays \n",
       "Active assay: peaks (189184 features, 189184 variable features)\n",
       " 1 other assay present: SCT\n",
       " 6 dimensional reductions calculated: pca, harmony_RNA, lsi, harmony_peaks, umap.peaks, WNN.UMAP"
      ]
     },
     "metadata": {},
     "output_type": "display_data"
    },
    {
     "data": {
      "text/plain": [
       "\n",
       "      JGA       POD       PEC        PT PT_dediff  PT_VCAM1       tL1       tL2 \n",
       "        0         0         0         0         0         0         0         0 \n",
       "   tL-TAL      TAL1      TAL2      TAL3       DCT       CNT       PC1       PC2 \n",
       "        0     29910     19724      8900         0         0         0         0 \n",
       "      ICA       ICB      Uro1      Uro2      ENDO      SMC1      SMC2      SMC3 \n",
       "        0         0         0         0         0         0         0         0 \n",
       "     Fib1      Fib2      Fib3        Ma        BT \n",
       "        0         0         0         0         0 "
      ]
     },
     "metadata": {},
     "output_type": "display_data"
    }
   ],
   "source": [
    "novaseq.sub = subset(novaseq.sub, celltype5_rna %in% celltype_subset)\n",
    "novaseq.sub\n",
    "table(novaseq.sub$celltype5_rna)"
   ]
  },
  {
   "cell_type": "code",
   "execution_count": 10,
   "id": "16c607fc",
   "metadata": {},
   "outputs": [
    {
     "data": {
      "text/html": [
       "<style>\n",
       ".list-inline {list-style: none; margin:0; padding: 0}\n",
       ".list-inline>li {display: inline-block}\n",
       ".list-inline>li:not(:last-child)::after {content: \"\\00b7\"; padding: 0 .5ex}\n",
       "</style>\n",
       "<ol class=list-inline><li>'celltype_subset'</li><li>'de_gene_file'</li><li>'expr_mat'</li><li>'FindMarkers_ident_1'</li><li>'FindMarkers_ident_2'</li><li>'level.novaseq'</li><li>'level.novaseq.renal_region_new'</li><li>'level.novaseq.rna'</li><li>'novaseq.sub'</li><li>'palette.novaseq'</li><li>'palette.novaseq.renal_region_new'</li><li>'palette.novaseq.rna'</li><li>'peak_mat'</li><li>'processed_dir'</li></ol>\n"
      ],
      "text/latex": [
       "\\begin{enumerate*}\n",
       "\\item 'celltype\\_subset'\n",
       "\\item 'de\\_gene\\_file'\n",
       "\\item 'expr\\_mat'\n",
       "\\item 'FindMarkers\\_ident\\_1'\n",
       "\\item 'FindMarkers\\_ident\\_2'\n",
       "\\item 'level.novaseq'\n",
       "\\item 'level.novaseq.renal\\_region\\_new'\n",
       "\\item 'level.novaseq.rna'\n",
       "\\item 'novaseq.sub'\n",
       "\\item 'palette.novaseq'\n",
       "\\item 'palette.novaseq.renal\\_region\\_new'\n",
       "\\item 'palette.novaseq.rna'\n",
       "\\item 'peak\\_mat'\n",
       "\\item 'processed\\_dir'\n",
       "\\end{enumerate*}\n"
      ],
      "text/markdown": [
       "1. 'celltype_subset'\n",
       "2. 'de_gene_file'\n",
       "3. 'expr_mat'\n",
       "4. 'FindMarkers_ident_1'\n",
       "5. 'FindMarkers_ident_2'\n",
       "6. 'level.novaseq'\n",
       "7. 'level.novaseq.renal_region_new'\n",
       "8. 'level.novaseq.rna'\n",
       "9. 'novaseq.sub'\n",
       "10. 'palette.novaseq'\n",
       "11. 'palette.novaseq.renal_region_new'\n",
       "12. 'palette.novaseq.rna'\n",
       "13. 'peak_mat'\n",
       "14. 'processed_dir'\n",
       "\n",
       "\n"
      ],
      "text/plain": [
       " [1] \"celltype_subset\"                  \"de_gene_file\"                    \n",
       " [3] \"expr_mat\"                         \"FindMarkers_ident_1\"             \n",
       " [5] \"FindMarkers_ident_2\"              \"level.novaseq\"                   \n",
       " [7] \"level.novaseq.renal_region_new\"   \"level.novaseq.rna\"               \n",
       " [9] \"novaseq.sub\"                      \"palette.novaseq\"                 \n",
       "[11] \"palette.novaseq.renal_region_new\" \"palette.novaseq.rna\"             \n",
       "[13] \"peak_mat\"                         \"processed_dir\"                   "
      ]
     },
     "metadata": {},
     "output_type": "display_data"
    }
   ],
   "source": [
    "ls()"
   ]
  },
  {
   "cell_type": "markdown",
   "id": "d6839c0d",
   "metadata": {},
   "source": [
    "### remove the following variables because they will be regenerated for new comparison"
   ]
  },
  {
   "cell_type": "code",
   "execution_count": 11,
   "id": "a62ab8fa",
   "metadata": {},
   "outputs": [
    {
     "name": "stderr",
     "output_type": "stream",
     "text": [
      "Warning message in rm(list = c(\"de_genes\", \"de_genes_BK\", \"gene_list\", \"peak_results\", :\n",
      "“object 'de_genes' not found”\n",
      "Warning message in rm(list = c(\"de_genes\", \"de_genes_BK\", \"gene_list\", \"peak_results\", :\n",
      "“object 'de_genes_BK' not found”\n",
      "Warning message in rm(list = c(\"de_genes\", \"de_genes_BK\", \"gene_list\", \"peak_results\", :\n",
      "“object 'gene_list' not found”\n",
      "Warning message in rm(list = c(\"de_genes\", \"de_genes_BK\", \"gene_list\", \"peak_results\", :\n",
      "“object 'peak_results' not found”\n",
      "Warning message in rm(list = c(\"de_genes\", \"de_genes_BK\", \"gene_list\", \"peak_results\", :\n",
      "“object 'aen_lists' not found”\n",
      "Warning message in rm(list = c(\"de_genes\", \"de_genes_BK\", \"gene_list\", \"peak_results\", :\n",
      "“object 'tf_results' not found”\n",
      "Warning message in rm(list = c(\"de_genes\", \"de_genes_BK\", \"gene_list\", \"peak_results\", :\n",
      "“object 'regulator_tf_names' not found”\n",
      "Warning message in rm(list = c(\"de_genes\", \"de_genes_BK\", \"gene_list\", \"peak_results\", :\n",
      "“object 'centrality_rankings' not found”\n"
     ]
    }
   ],
   "source": [
    "rm(list = c(\"de_genes\", \"de_genes_BK\", \"gene_list\", \"peak_results\", \"aen_lists\", \"tf_results\", \"regulator_tf_names\", \"centrality_rankings\"))"
   ]
  },
  {
   "cell_type": "code",
   "execution_count": 12,
   "id": "fd843e48",
   "metadata": {},
   "outputs": [
    {
     "data": {
      "text/html": [
       "<style>\n",
       ".list-inline {list-style: none; margin:0; padding: 0}\n",
       ".list-inline>li {display: inline-block}\n",
       ".list-inline>li:not(:last-child)::after {content: \"\\00b7\"; padding: 0 .5ex}\n",
       "</style>\n",
       "<ol class=list-inline><li>'celltype_subset'</li><li>'de_gene_file'</li><li>'expr_mat'</li><li>'FindMarkers_ident_1'</li><li>'FindMarkers_ident_2'</li><li>'level.novaseq'</li><li>'level.novaseq.renal_region_new'</li><li>'level.novaseq.rna'</li><li>'novaseq.sub'</li><li>'palette.novaseq'</li><li>'palette.novaseq.renal_region_new'</li><li>'palette.novaseq.rna'</li><li>'peak_mat'</li><li>'processed_dir'</li></ol>\n"
      ],
      "text/latex": [
       "\\begin{enumerate*}\n",
       "\\item 'celltype\\_subset'\n",
       "\\item 'de\\_gene\\_file'\n",
       "\\item 'expr\\_mat'\n",
       "\\item 'FindMarkers\\_ident\\_1'\n",
       "\\item 'FindMarkers\\_ident\\_2'\n",
       "\\item 'level.novaseq'\n",
       "\\item 'level.novaseq.renal\\_region\\_new'\n",
       "\\item 'level.novaseq.rna'\n",
       "\\item 'novaseq.sub'\n",
       "\\item 'palette.novaseq'\n",
       "\\item 'palette.novaseq.renal\\_region\\_new'\n",
       "\\item 'palette.novaseq.rna'\n",
       "\\item 'peak\\_mat'\n",
       "\\item 'processed\\_dir'\n",
       "\\end{enumerate*}\n"
      ],
      "text/markdown": [
       "1. 'celltype_subset'\n",
       "2. 'de_gene_file'\n",
       "3. 'expr_mat'\n",
       "4. 'FindMarkers_ident_1'\n",
       "5. 'FindMarkers_ident_2'\n",
       "6. 'level.novaseq'\n",
       "7. 'level.novaseq.renal_region_new'\n",
       "8. 'level.novaseq.rna'\n",
       "9. 'novaseq.sub'\n",
       "10. 'palette.novaseq'\n",
       "11. 'palette.novaseq.renal_region_new'\n",
       "12. 'palette.novaseq.rna'\n",
       "13. 'peak_mat'\n",
       "14. 'processed_dir'\n",
       "\n",
       "\n"
      ],
      "text/plain": [
       " [1] \"celltype_subset\"                  \"de_gene_file\"                    \n",
       " [3] \"expr_mat\"                         \"FindMarkers_ident_1\"             \n",
       " [5] \"FindMarkers_ident_2\"              \"level.novaseq\"                   \n",
       " [7] \"level.novaseq.renal_region_new\"   \"level.novaseq.rna\"               \n",
       " [9] \"novaseq.sub\"                      \"palette.novaseq\"                 \n",
       "[11] \"palette.novaseq.renal_region_new\" \"palette.novaseq.rna\"             \n",
       "[13] \"peak_mat\"                         \"processed_dir\"                   "
      ]
     },
     "metadata": {},
     "output_type": "display_data"
    }
   ],
   "source": [
    "ls()"
   ]
  },
  {
   "cell_type": "code",
   "execution_count": 13,
   "id": "354579b1",
   "metadata": {},
   "outputs": [
    {
     "data": {
      "text/html": [
       "<style>\n",
       ".dl-inline {width: auto; margin:0; padding: 0}\n",
       ".dl-inline>dt, .dl-inline>dd {float: none; width: auto; display: inline-block}\n",
       ".dl-inline>dt::after {content: \":\\0020\"; padding-right: .5ex}\n",
       ".dl-inline>dt:not(:first-of-type) {padding-left: .5ex}\n",
       "</style><dl class=dl-inline><dt>R1.056,R2.038,R3.008,P1.48,B2</dt><dd>Medulla</dd><dt>R1.031,R2.072,R3.075,P1.78,B3</dt><dd>Medulla</dd><dt>R1.006,R2.001,R3.001,P1.11,B3</dt><dd>Cortex</dd><dt>R1.048,R2.071,R3.010,P1.66,B2</dt><dd>Cortex</dd><dt>R1.030,R2.014,R3.064,P1.50,B3</dt><dd>Papilla</dd><dt>R1.078,R2.071,R3.079,P1.50,B3</dt><dd>Papilla</dd></dl>\n",
       "\n",
       "<details>\n",
       "\t<summary style=display:list-item;cursor:pointer>\n",
       "\t\t<strong>Levels</strong>:\n",
       "\t</summary>\n",
       "\t<style>\n",
       "\t.list-inline {list-style: none; margin:0; padding: 0}\n",
       "\t.list-inline>li {display: inline-block}\n",
       "\t.list-inline>li:not(:last-child)::after {content: \"\\00b7\"; padding: 0 .5ex}\n",
       "\t</style>\n",
       "\t<ol class=list-inline><li>'Cortex'</li><li>'Medulla'</li><li>'Papilla'</li><li>'Renal Artery'</li><li>'Ureter'</li></ol>\n",
       "</details>"
      ],
      "text/latex": [
       "\\begin{description*}\n",
       "\\item[R1.056,R2.038,R3.008,P1.48,B2] Medulla\n",
       "\\item[R1.031,R2.072,R3.075,P1.78,B3] Medulla\n",
       "\\item[R1.006,R2.001,R3.001,P1.11,B3] Cortex\n",
       "\\item[R1.048,R2.071,R3.010,P1.66,B2] Cortex\n",
       "\\item[R1.030,R2.014,R3.064,P1.50,B3] Papilla\n",
       "\\item[R1.078,R2.071,R3.079,P1.50,B3] Papilla\n",
       "\\end{description*}\n",
       "\n",
       "\\emph{Levels}: \\begin{enumerate*}\n",
       "\\item 'Cortex'\n",
       "\\item 'Medulla'\n",
       "\\item 'Papilla'\n",
       "\\item 'Renal Artery'\n",
       "\\item 'Ureter'\n",
       "\\end{enumerate*}\n"
      ],
      "text/markdown": [
       "R1.056,R2.038,R3.008,P1.48,B2\n",
       ":   MedullaR1.031,R2.072,R3.075,P1.78,B3\n",
       ":   MedullaR1.006,R2.001,R3.001,P1.11,B3\n",
       ":   CortexR1.048,R2.071,R3.010,P1.66,B2\n",
       ":   CortexR1.030,R2.014,R3.064,P1.50,B3\n",
       ":   PapillaR1.078,R2.071,R3.079,P1.50,B3\n",
       ":   Papilla\n",
       "\n",
       "\n",
       "**Levels**: 1. 'Cortex'\n",
       "2. 'Medulla'\n",
       "3. 'Papilla'\n",
       "4. 'Renal Artery'\n",
       "5. 'Ureter'\n",
       "\n",
       "\n"
      ],
      "text/plain": [
       "R1.056,R2.038,R3.008,P1.48,B2 R1.031,R2.072,R3.075,P1.78,B3 \n",
       "                      Medulla                       Medulla \n",
       "R1.006,R2.001,R3.001,P1.11,B3 R1.048,R2.071,R3.010,P1.66,B2 \n",
       "                       Cortex                        Cortex \n",
       "R1.030,R2.014,R3.064,P1.50,B3 R1.078,R2.071,R3.079,P1.50,B3 \n",
       "                      Papilla                       Papilla \n",
       "Levels: Cortex Medulla Papilla Renal Artery Ureter"
      ]
     },
     "metadata": {},
     "output_type": "display_data"
    }
   ],
   "source": [
    "Idents(novaseq.sub) = novaseq.sub$renal_region_new\n",
    "head(Idents(novaseq.sub))"
   ]
  },
  {
   "cell_type": "markdown",
   "id": "6653f7e6",
   "metadata": {},
   "source": [
    "### subset mpt from novaseq.sub because comparison is to be made bewtween two celltypes"
   ]
  },
  {
   "cell_type": "code",
   "execution_count": 14,
   "id": "8042ee6a",
   "metadata": {},
   "outputs": [
    {
     "data": {
      "text/plain": [
       "An object of class Seurat \n",
       "237522 features across 39908 samples within 2 assays \n",
       "Active assay: peaks (189184 features, 189184 variable features)\n",
       " 1 other assay present: SCT\n",
       " 6 dimensional reductions calculated: pca, harmony_RNA, lsi, harmony_peaks, umap.peaks, WNN.UMAP"
      ]
     },
     "metadata": {},
     "output_type": "display_data"
    },
    {
     "data": {
      "text/plain": [
       "\n",
       "      JGA       POD       PEC        PT PT_dediff  PT_VCAM1       tL1       tL2 \n",
       "        0         0         0         0         0         0         0         0 \n",
       "   tL-TAL      TAL1      TAL2      TAL3       DCT       CNT       PC1       PC2 \n",
       "        0     14771     16600      8537         0         0         0         0 \n",
       "      ICA       ICB      Uro1      Uro2      ENDO      SMC1      SMC2      SMC3 \n",
       "        0         0         0         0         0         0         0         0 \n",
       "     Fib1      Fib2      Fib3        Ma        BT \n",
       "        0         0         0         0         0 "
      ]
     },
     "metadata": {},
     "output_type": "display_data"
    }
   ],
   "source": [
    "mpt <- subset(novaseq.sub, renal_region_new %in% c(FindMarkers_ident_1, FindMarkers_ident_2))\n",
    "mpt\n",
    "table(mpt$celltype5_rna)"
   ]
  },
  {
   "cell_type": "markdown",
   "id": "7315242c",
   "metadata": {},
   "source": [
    "## load hli_446267_cells de_gene data frame"
   ]
  },
  {
   "cell_type": "code",
   "execution_count": 15,
   "id": "be82613a",
   "metadata": {},
   "outputs": [
    {
     "data": {
      "text/plain": [
       "[1] \"2023-07-01 13:24:57 CDT\""
      ]
     },
     "metadata": {},
     "output_type": "display_data"
    },
    {
     "data": {
      "text/plain": [
       "[1] \"2023-07-01 13:24:57 CDT\""
      ]
     },
     "metadata": {},
     "output_type": "display_data"
    }
   ],
   "source": [
    "Sys.time()\n",
    "options(future.globals.maxSize = 8000 * 1024^2)\n",
    "load(de_gene_file)\n",
    "Sys.time()"
   ]
  },
  {
   "cell_type": "code",
   "execution_count": 16,
   "id": "ed12a263",
   "metadata": {},
   "outputs": [
    {
     "name": "stdout",
     "output_type": "stream",
     "text": [
      "          names           scores pvals pvals_adj    logfoldchanges\n",
      "PDE1A     PDE1A 75.1906814575195     0         0  1.43420672416687\n",
      "MAST4     MAST4 70.0619735717773     0         0  1.35592079162598\n",
      "ESRRG     ESRRG 69.1707611083984     0         0 0.981366038322449\n",
      "FOXP2     FOXP2 68.5606842041016     0         0  1.95928347110748\n",
      "SLC4A7   SLC4A7 68.4411849975586     0         0  2.02226448059082\n",
      "SLC12A1 SLC12A1 65.9282150268555     0         0  1.06851625442505\n"
     ]
    },
    {
     "data": {
      "text/html": [
       "<style>\n",
       ".list-inline {list-style: none; margin:0; padding: 0}\n",
       ".list-inline>li {display: inline-block}\n",
       ".list-inline>li:not(:last-child)::after {content: \"\\00b7\"; padding: 0 .5ex}\n",
       "</style>\n",
       "<ol class=list-inline><li>40634</li><li>5</li></ol>\n"
      ],
      "text/latex": [
       "\\begin{enumerate*}\n",
       "\\item 40634\n",
       "\\item 5\n",
       "\\end{enumerate*}\n"
      ],
      "text/markdown": [
       "1. 40634\n",
       "2. 5\n",
       "\n",
       "\n"
      ],
      "text/plain": [
       "[1] 40634     5"
      ]
     },
     "metadata": {},
     "output_type": "display_data"
    }
   ],
   "source": [
    "rownames(de_genes) = de_genes$names\n",
    "de_genes_BK = de_genes\n",
    "print(head(de_genes))\n",
    "dim(de_genes)"
   ]
  },
  {
   "cell_type": "code",
   "execution_count": 17,
   "id": "37b5af7d",
   "metadata": {},
   "outputs": [
    {
     "data": {
      "text/html": [
       "<style>\n",
       ".list-inline {list-style: none; margin:0; padding: 0}\n",
       ".list-inline>li {display: inline-block}\n",
       ".list-inline>li:not(:last-child)::after {content: \"\\00b7\"; padding: 0 .5ex}\n",
       "</style>\n",
       "<ol class=list-inline><li>1919</li><li>5</li></ol>\n"
      ],
      "text/latex": [
       "\\begin{enumerate*}\n",
       "\\item 1919\n",
       "\\item 5\n",
       "\\end{enumerate*}\n"
      ],
      "text/markdown": [
       "1. 1919\n",
       "2. 5\n",
       "\n",
       "\n"
      ],
      "text/plain": [
       "[1] 1919    5"
      ]
     },
     "metadata": {},
     "output_type": "display_data"
    }
   ],
   "source": [
    "### keep DEGs with pvals_adj<0.05\n",
    "p_val_cutoff = 0.05\n",
    "peak_assay = \"peaks\"\n",
    "de_genes <- de_genes[which(de_genes$pvals_adj < p_val_cutoff), ]\n",
    "DefaultAssay(novaseq.sub) <- peak_assay\n",
    "DefaultAssay(mpt) <- peak_assay\n",
    "\n",
    "dim(de_genes)"
   ]
  },
  {
   "cell_type": "code",
   "execution_count": 18,
   "id": "f5273bec",
   "metadata": {},
   "outputs": [
    {
     "data": {
      "text/plain": [
       "[1] \"2023-07-01 13:24:57 CDT\""
      ]
     },
     "metadata": {},
     "output_type": "display_data"
    },
    {
     "data": {
      "text/plain": [
       "[1] \"2023-07-01 13:25:00 CDT\""
      ]
     },
     "metadata": {},
     "output_type": "display_data"
    }
   ],
   "source": [
    "Sys.time()\n",
    "# gene_coords <- Signac:::CollapseToLongestTranscript(Annotation(novaseq.sub))\n",
    "gene_coords <- Signac:::CollapseToLongestTranscript(Annotation(mpt))\n",
    "Sys.time()"
   ]
  },
  {
   "cell_type": "code",
   "execution_count": 19,
   "id": "c4dcadfe",
   "metadata": {},
   "outputs": [
    {
     "data": {
      "text/html": [
       "<style>\n",
       ".list-inline {list-style: none; margin:0; padding: 0}\n",
       ".list-inline>li {display: inline-block}\n",
       ".list-inline>li:not(:last-child)::after {content: \"\\00b7\"; padding: 0 .5ex}\n",
       "</style>\n",
       "<ol class=list-inline><li>1504</li><li>5</li></ol>\n"
      ],
      "text/latex": [
       "\\begin{enumerate*}\n",
       "\\item 1504\n",
       "\\item 5\n",
       "\\end{enumerate*}\n"
      ],
      "text/markdown": [
       "1. 1504\n",
       "2. 5\n",
       "\n",
       "\n"
      ],
      "text/plain": [
       "[1] 1504    5"
      ]
     },
     "metadata": {},
     "output_type": "display_data"
    }
   ],
   "source": [
    "de_genes <- de_genes[which(rownames(de_genes) %in% gene_coords$gene_name), ]\n",
    "dim(de_genes)\n",
    "gene_list = rownames(de_genes)"
   ]
  },
  {
   "cell_type": "markdown",
   "id": "9c638101",
   "metadata": {},
   "source": [
    "## Next, make two de_gene sublists: gene_list_neg, gene_list_pos."
   ]
  },
  {
   "cell_type": "code",
   "execution_count": 20,
   "id": "c52a8482",
   "metadata": {},
   "outputs": [
    {
     "name": "stdout",
     "output_type": "stream",
     "text": [
      "[1] 369\n",
      "[1] 1135\n"
     ]
    }
   ],
   "source": [
    "gene_list_neg = rownames(de_genes)[de_genes$logfoldchanges < 0]\n",
    "print(length(gene_list_neg))\n",
    "gene_list_pos = rownames(de_genes)[de_genes$logfoldchanges > 0]\n",
    "print(length(gene_list_pos))"
   ]
  },
  {
   "cell_type": "code",
   "execution_count": 21,
   "id": "f53d3d5e",
   "metadata": {},
   "outputs": [],
   "source": [
    "# de_genes[order(de_genes$logfoldchanges, decreasing = T),]"
   ]
  },
  {
   "cell_type": "markdown",
   "id": "33acfd26",
   "metadata": {},
   "source": [
    "## run_peak_aen"
   ]
  },
  {
   "cell_type": "code",
   "execution_count": 22,
   "id": "99c7b95a",
   "metadata": {},
   "outputs": [
    {
     "data": {
      "text/plain": [
       "[1] \"2023-07-01 13:25:01 CDT\""
      ]
     },
     "metadata": {},
     "output_type": "display_data"
    },
    {
     "name": "stderr",
     "output_type": "stream",
     "text": [
      "Loading required package: gcdnet\n",
      "\n",
      "\n",
      "Attaching package: ‘gcdnet’\n",
      "\n",
      "\n",
      "The following object is masked from ‘package:stats4’:\n",
      "\n",
      "    coef\n",
      "\n",
      "\n",
      "The following objects are masked from ‘package:stats’:\n",
      "\n",
      "    coef, predict\n",
      "\n",
      "\n",
      "Loading required package: future\n",
      "\n",
      "\n",
      "Attaching package: ‘future’\n",
      "\n",
      "\n",
      "The following object is masked from ‘package:rtracklayer’:\n",
      "\n",
      "    values\n",
      "\n",
      "\n",
      "The following object is masked from ‘package:GenomicRanges’:\n",
      "\n",
      "    values\n",
      "\n",
      "\n",
      "The following object is masked from ‘package:IRanges’:\n",
      "\n",
      "    values\n",
      "\n",
      "\n",
      "The following object is masked from ‘package:S4Vectors’:\n",
      "\n",
      "    values\n",
      "\n",
      "\n",
      "Loading required package: future.apply\n",
      "\n"
     ]
    },
    {
     "name": "stdout",
     "output_type": "stream",
     "text": [
      "[1] \"Omitted (mitochondrial) genes with no genomic peaks: SMN1\"  \n",
      "[2] \"Omitted (mitochondrial) genes with no genomic peaks: TTTY10\"\n",
      "[3] \"Omitted (mitochondrial) genes with no genomic peaks: MT-CO3\"\n",
      "[4] \"Omitted (mitochondrial) genes with no genomic peaks: MT-ND3\"\n",
      "[5] \"Omitted (mitochondrial) genes with no genomic peaks: MT-ND6\"\n",
      "[6] \"Omitted (mitochondrial) genes with no genomic peaks: MT-CO2\"\n",
      "[1] \"AEN completed in 11.3215464353561\"\n"
     ]
    },
    {
     "data": {
      "text/plain": [
       "[1] \"2023-07-01 13:36:55 CDT\""
      ]
     },
     "metadata": {},
     "output_type": "display_data"
    }
   ],
   "source": [
    "Sys.time()\n",
    "\n",
    "options(future.globals.maxSize = 8000 * 1024^2)\n",
    "\n",
    "peak_results <- run_peak_aen(novaseq.sub, expr_mat, peak_mat, gene_list, lambda2 = 0.5, max_distance = 5e+05, num_bootstraps = 100)\n",
    "\n",
    "aen_lists <- make_aen_lists(peak_results)\n",
    "\n",
    "Sys.time()"
   ]
  },
  {
   "cell_type": "markdown",
   "id": "8a20a0bb",
   "metadata": {},
   "source": [
    "## prepare_pseudocell_matrix for mpt"
   ]
  },
  {
   "cell_type": "code",
   "execution_count": 23,
   "id": "3ad166f3",
   "metadata": {},
   "outputs": [
    {
     "name": "stderr",
     "output_type": "stream",
     "text": [
      "Loading required package: Matrix\n",
      "\n",
      "\n",
      "Attaching package: ‘Matrix’\n",
      "\n",
      "\n",
      "The following object is masked from ‘package:S4Vectors’:\n",
      "\n",
      "    expand\n",
      "\n",
      "\n",
      "The following objects are masked from ‘package:tidyr’:\n",
      "\n",
      "    expand, pack, unpack\n",
      "\n",
      "\n",
      "Loading required package: VISION\n",
      "\n",
      "Loading required package: SingleCellExperiment\n",
      "\n",
      "Loading required package: SummarizedExperiment\n",
      "\n",
      "Loading required package: MatrixGenerics\n",
      "\n",
      "Loading required package: matrixStats\n",
      "\n",
      "\n",
      "Attaching package: ‘matrixStats’\n",
      "\n",
      "\n",
      "The following object is masked from ‘package:dplyr’:\n",
      "\n",
      "    count\n",
      "\n",
      "\n",
      "\n",
      "Attaching package: ‘MatrixGenerics’\n",
      "\n",
      "\n",
      "The following objects are masked from ‘package:matrixStats’:\n",
      "\n",
      "    colAlls, colAnyNAs, colAnys, colAvgsPerRowSet, colCollapse,\n",
      "    colCounts, colCummaxs, colCummins, colCumprods, colCumsums,\n",
      "    colDiffs, colIQRDiffs, colIQRs, colLogSumExps, colMadDiffs,\n",
      "    colMads, colMaxs, colMeans2, colMedians, colMins, colOrderStats,\n",
      "    colProds, colQuantiles, colRanges, colRanks, colSdDiffs, colSds,\n",
      "    colSums2, colTabulates, colVarDiffs, colVars, colWeightedMads,\n",
      "    colWeightedMeans, colWeightedMedians, colWeightedSds,\n",
      "    colWeightedVars, rowAlls, rowAnyNAs, rowAnys, rowAvgsPerColSet,\n",
      "    rowCollapse, rowCounts, rowCummaxs, rowCummins, rowCumprods,\n",
      "    rowCumsums, rowDiffs, rowIQRDiffs, rowIQRs, rowLogSumExps,\n",
      "    rowMadDiffs, rowMads, rowMaxs, rowMeans2, rowMedians, rowMins,\n",
      "    rowOrderStats, rowProds, rowQuantiles, rowRanges, rowRanks,\n",
      "    rowSdDiffs, rowSds, rowSums2, rowTabulates, rowVarDiffs, rowVars,\n",
      "    rowWeightedMads, rowWeightedMeans, rowWeightedMedians,\n",
      "    rowWeightedSds, rowWeightedVars\n",
      "\n",
      "\n",
      "Loading required package: Biobase\n",
      "\n",
      "Welcome to Bioconductor\n",
      "\n",
      "    Vignettes contain introductory material; view with\n",
      "    'browseVignettes()'. To cite Bioconductor, see\n",
      "    'citation(\"Biobase\")', and for packages 'citation(\"pkgname\")'.\n",
      "\n",
      "\n",
      "\n",
      "Attaching package: ‘Biobase’\n",
      "\n",
      "\n",
      "The following object is masked from ‘package:MatrixGenerics’:\n",
      "\n",
      "    rowMedians\n",
      "\n",
      "\n",
      "The following objects are masked from ‘package:matrixStats’:\n",
      "\n",
      "    anyMissing, rowMedians\n",
      "\n",
      "\n",
      "\n",
      "Attaching package: ‘SummarizedExperiment’\n",
      "\n",
      "\n",
      "The following object is masked from ‘package:SeuratObject’:\n",
      "\n",
      "    Assays\n",
      "\n",
      "\n",
      "The following object is masked from ‘package:Seurat’:\n",
      "\n",
      "    Assays\n",
      "\n",
      "\n",
      "Calculating cell-specific modality weights\n",
      "\n",
      "Finding 5 nearest neighbors for each modality.\n",
      "\n",
      "Calculating kernel bandwidths\n",
      "\n",
      "Finding multimodal neighbors\n",
      "\n",
      "Constructing multimodal KNN graph\n",
      "\n",
      "Constructing multimodal SNN graph\n",
      "\n",
      "Warning message:\n",
      "“The default method for RunUMAP has changed from calling Python UMAP via reticulate to the R-native UWOT using the cosine metric\n",
      "To use Python UMAP via reticulate, set umap.method to 'umap-learn' and metric to 'correlation'\n",
      "This message will be shown once per session”\n",
      "13:39:57 UMAP embedding parameters a = 0.9922 b = 1.112\n",
      "\n",
      "13:40:20 Commencing smooth kNN distance calibration using 1 thread\n",
      "\n",
      "13:40:20 2 smooth knn distance failures\n",
      "\n",
      "13:40:24 Initializing from normalized Laplacian + noise\n",
      "\n",
      "13:40:24 Commencing optimization for 200 epochs, with 342522 positive edges\n",
      "\n",
      "13:40:38 Optimization finished\n",
      "\n",
      "Performing initial coarse-clustering...\n",
      "\n",
      "Further partitioning coarse clusters...\n",
      "\n",
      "Micro-pooling completed reducing 39908 cells into 3991 pools\n",
      "\n"
     ]
    }
   ],
   "source": [
    "expr_mat_2 <- prepare_pseudocell_matrix(mpt, \n",
    "                                      assay = \"SCT\", \n",
    "                                      slot = \"data\", \n",
    "                                      cells_per_partition = 10, \n",
    "                                      find_neighbors = FALSE,\n",
    "                                      reduction1 = \"harmony_peaks\",\n",
    "                                      reduction2 = \"harmony_RNA\",\n",
    "                                      dim_list = list(1:50, 1:50),\n",
    "                                      k.nn = 5,\n",
    "                                      seed = 489284)"
   ]
  },
  {
   "cell_type": "code",
   "execution_count": 24,
   "id": "b5dc4e36",
   "metadata": {},
   "outputs": [
    {
     "data": {
      "text/html": [
       "1504"
      ],
      "text/latex": [
       "1504"
      ],
      "text/markdown": [
       "1504"
      ],
      "text/plain": [
       "[1] 1504"
      ]
     },
     "metadata": {},
     "output_type": "display_data"
    },
    {
     "data": {
      "text/html": [
       "1504"
      ],
      "text/latex": [
       "1504"
      ],
      "text/markdown": [
       "1504"
      ],
      "text/plain": [
       "[1] 1504"
      ]
     },
     "metadata": {},
     "output_type": "display_data"
    }
   ],
   "source": [
    "length(gene_list)\n",
    "sum(gene_list %in% colnames(expr_mat_2))"
   ]
  },
  {
   "cell_type": "markdown",
   "id": "51f3a1df",
   "metadata": {},
   "source": [
    "### run_tf_aen"
   ]
  },
  {
   "cell_type": "code",
   "execution_count": 25,
   "id": "b014765b",
   "metadata": {},
   "outputs": [
    {
     "data": {
      "text/plain": [
       "[1] \"2023-07-01 13:45:05 CDT\""
      ]
     },
     "metadata": {},
     "output_type": "display_data"
    },
    {
     "name": "stdout",
     "output_type": "stream",
     "text": [
      "[1] \"Genes without any candidate TFs--most likely no linked peaks or promoter region peaks: AGAP6\" \n",
      "[2] \"Genes without any candidate TFs--most likely no linked peaks or promoter region peaks: SMN2\"  \n",
      "[3] \"Genes without any candidate TFs--most likely no linked peaks or promoter region peaks: ZBTB11\"\n",
      "[4] \"Genes without any candidate TFs--most likely no linked peaks or promoter region peaks: NPIPB6\"\n",
      "[5] \"Genes without any candidate TFs--most likely no linked peaks or promoter region peaks: BTBD2\" \n",
      "[6] \"Genes without any candidate TFs--most likely no linked peaks or promoter region peaks: RPL10\" \n",
      "[7] \"Genes without any candidate TFs--most likely no linked peaks or promoter region peaks: ZNF701\"\n",
      "[8] \"Genes without any candidate TFs--most likely no linked peaks or promoter region peaks: OR7C1\" \n",
      "[9] \"Genes without any candidate TFs--most likely no linked peaks or promoter region peaks: FRMPD3\"\n",
      "[1] \"AEN completed in 30.121244764328\"\n"
     ]
    },
    {
     "name": "stderr",
     "output_type": "stream",
     "text": [
      "Loading required package: igraph\n",
      "\n",
      "\n",
      "Attaching package: ‘igraph’\n",
      "\n",
      "\n",
      "The following objects are masked from ‘package:future’:\n",
      "\n",
      "    %->%, %<-%\n",
      "\n",
      "\n",
      "The following objects are masked from ‘package:rtracklayer’:\n",
      "\n",
      "    blocks, path\n",
      "\n",
      "\n",
      "The following object is masked from ‘package:Biostrings’:\n",
      "\n",
      "    union\n",
      "\n",
      "\n",
      "The following object is masked from ‘package:XVector’:\n",
      "\n",
      "    path\n",
      "\n",
      "\n",
      "The following object is masked from ‘package:GenomicRanges’:\n",
      "\n",
      "    union\n",
      "\n",
      "\n",
      "The following object is masked from ‘package:IRanges’:\n",
      "\n",
      "    union\n",
      "\n",
      "\n",
      "The following object is masked from ‘package:S4Vectors’:\n",
      "\n",
      "    union\n",
      "\n",
      "\n",
      "The following objects are masked from ‘package:BiocGenerics’:\n",
      "\n",
      "    normalize, path, union\n",
      "\n",
      "\n",
      "The following objects are masked from ‘package:dplyr’:\n",
      "\n",
      "    as_data_frame, groups, union\n",
      "\n",
      "\n",
      "The following objects are masked from ‘package:purrr’:\n",
      "\n",
      "    compose, simplify\n",
      "\n",
      "\n",
      "The following object is masked from ‘package:tidyr’:\n",
      "\n",
      "    crossing\n",
      "\n",
      "\n",
      "The following object is masked from ‘package:tibble’:\n",
      "\n",
      "    as_data_frame\n",
      "\n",
      "\n",
      "The following objects are masked from ‘package:stats’:\n",
      "\n",
      "    decompose, spectrum\n",
      "\n",
      "\n",
      "The following object is masked from ‘package:base’:\n",
      "\n",
      "    union\n",
      "\n",
      "\n"
     ]
    },
    {
     "data": {
      "text/plain": [
       "[1] \"2023-07-01 14:16:07 CDT\""
      ]
     },
     "metadata": {},
     "output_type": "display_data"
    }
   ],
   "source": [
    "Sys.time()\n",
    "\n",
    "tf_results <- run_tf_aen(mpt, expr_mat_2, peak_results, gene_list, lambda2 = 0.5)\n",
    "\n",
    "regulator_tf_names <- unlist(novaseq.sub@assays$peaks@motifs@motif.names)\n",
    "\n",
    "regulator_tf_names <- regulator_tf_names[which(regulator_tf_names %in% rownames(GetAssayData(novaseq.sub, assay = \"SCT\")))]\n",
    "\n",
    "centrality_rankings <- rank_tfs_by_centrality(tf_results, novaseq.sub)\n",
    "\n",
    "Sys.time()"
   ]
  },
  {
   "cell_type": "code",
   "execution_count": 26,
   "id": "8d70cd93",
   "metadata": {},
   "outputs": [
    {
     "name": "stdout",
     "output_type": "stream",
     "text": [
      "[1] \"2023-07-01 14:16:07 CDT\"\n",
      "[1] \"centrality_rankings - Betweenness:\"\n",
      "       FOXP2        ESRRG        ESRRB        DNMT1        MECOM         SIM2 \n",
      "27554.535931 17800.117749 11933.733225 11860.931169  6931.570455  5173.581169 \n",
      "       NPAS2        NR4A1        MEF2C        RUNX2        KLF11         SPI1 \n",
      " 2562.890476  1016.942857   419.009524   274.000000   212.400000    80.625541 \n",
      "        ETV5         ESR2         RXRA        KLF15       PKNOX2       POU6F2 \n",
      "   14.978571    10.666667    10.250000     8.000000     5.533333     3.166667 \n",
      "         YY1         MBD2 \n",
      "    3.000000     2.666667 \n",
      "[1] \"centrality_rankings - PageRank:\"\n",
      "      FOXP2       ESRRB       ESRRG       DNMT1      ARNTL2       RUNX1 \n",
      "0.038507726 0.019048896 0.014741394 0.013761763 0.011713360 0.011352465 \n",
      "      PPARA       KLF12      BCL11A       MEF2A       TCF12        PAX8 \n",
      "0.011045549 0.010349724 0.009558086 0.007480452 0.006997164 0.006328284 \n",
      "       SIM2      SREBF2        PAX2      TFAP2D       BACH2       GLIS3 \n",
      "0.005546931 0.005393489 0.005393032 0.005192039 0.005119706 0.005055370 \n",
      "       MITF      PRDM16 \n",
      "0.005044746 0.004902539 \n",
      "[1] \"2023-07-01 14:16:07 CDT\"\n",
      "[1] \"calculating rank_tfs...\"\n",
      "[1] \"2023-07-01 14:19:05 CDT\"\n"
     ]
    }
   ],
   "source": [
    "print(Sys.time())\n",
    "    \n",
    "print(\"centrality_rankings - Betweenness:\")\n",
    "print(head(centrality_rankings$Betweenness,20))\n",
    "print(\"centrality_rankings - PageRank:\")\n",
    "print(head(centrality_rankings$PageRank,20))\n",
    "\n",
    "print(Sys.time())\n",
    "print(\"calculating rank_tfs...\")\n",
    "tf_ranks = rank_tfs(tf_results, \n",
    "                    negative_genes = rownames(de_genes_BK)[which(de_genes_BK$logfoldchanges < 0)], \n",
    "                    seurat = mpt, \n",
    "                    num_cores =  1\n",
    "    )\n",
    "print(Sys.time())"
   ]
  },
  {
   "cell_type": "code",
   "execution_count": 27,
   "id": "80c3896f",
   "metadata": {},
   "outputs": [
    {
     "data": {
      "text/html": [
       "<table class=\"dataframe\">\n",
       "<caption>A data.frame: 20 × 3</caption>\n",
       "<thead>\n",
       "\t<tr><th></th><th scope=col>TF_name</th><th scope=col>Score</th><th scope=col>SE</th></tr>\n",
       "\t<tr><th></th><th scope=col>&lt;chr&gt;</th><th scope=col>&lt;dbl&gt;</th><th scope=col>&lt;dbl&gt;</th></tr>\n",
       "</thead>\n",
       "<tbody>\n",
       "\t<tr><th scope=row>ESRRG</th><td>ESRRG </td><td>15.6534465</td><td>0.24697289</td></tr>\n",
       "\t<tr><th scope=row>FOXP2</th><td>FOXP2 </td><td> 6.0024381</td><td>0.08152818</td></tr>\n",
       "\t<tr><th scope=row>MECOM</th><td>MECOM </td><td> 5.8507643</td><td>0.21804965</td></tr>\n",
       "\t<tr><th scope=row>ESRRB</th><td>ESRRB </td><td> 5.1961054</td><td>0.08999914</td></tr>\n",
       "\t<tr><th scope=row>KLF12</th><td>KLF12 </td><td> 2.9818846</td><td>0.09336354</td></tr>\n",
       "\t<tr><th scope=row>PPARA</th><td>PPARA </td><td> 2.2986633</td><td>0.05867425</td></tr>\n",
       "\t<tr><th scope=row>PRDM16</th><td>PRDM16</td><td> 2.2879389</td><td>0.07655572</td></tr>\n",
       "\t<tr><th scope=row>RUNX1</th><td>RUNX1 </td><td> 2.2287677</td><td>0.06390962</td></tr>\n",
       "\t<tr><th scope=row>MEF2A</th><td>MEF2A </td><td> 1.8178211</td><td>0.06985107</td></tr>\n",
       "\t<tr><th scope=row>TCF12</th><td>TCF12 </td><td> 1.7803506</td><td>0.08288619</td></tr>\n",
       "\t<tr><th scope=row>MITF</th><td>MITF  </td><td> 1.7294714</td><td>0.06706012</td></tr>\n",
       "\t<tr><th scope=row>NR3C2</th><td>NR3C2 </td><td> 1.7198523</td><td>0.08301723</td></tr>\n",
       "\t<tr><th scope=row>SOX6</th><td>SOX6  </td><td> 1.7143963</td><td>0.08456914</td></tr>\n",
       "\t<tr><th scope=row>SIM2</th><td>SIM2  </td><td> 1.4830207</td><td>0.04608053</td></tr>\n",
       "\t<tr><th scope=row>FOXO3</th><td>FOXO3 </td><td> 1.2843512</td><td>0.05126338</td></tr>\n",
       "\t<tr><th scope=row>PAX2</th><td>PAX2  </td><td> 1.2277895</td><td>0.05430143</td></tr>\n",
       "\t<tr><th scope=row>NFYC</th><td>NFYC  </td><td> 1.0873757</td><td>0.04787910</td></tr>\n",
       "\t<tr><th scope=row>SREBF2</th><td>SREBF2</td><td> 0.9951607</td><td>0.04298756</td></tr>\n",
       "\t<tr><th scope=row>PAX8</th><td>PAX8  </td><td> 0.8919985</td><td>0.04939776</td></tr>\n",
       "\t<tr><th scope=row>NFIA</th><td>NFIA  </td><td> 0.7856662</td><td>0.05006809</td></tr>\n",
       "</tbody>\n",
       "</table>\n"
      ],
      "text/latex": [
       "A data.frame: 20 × 3\n",
       "\\begin{tabular}{r|lll}\n",
       "  & TF\\_name & Score & SE\\\\\n",
       "  & <chr> & <dbl> & <dbl>\\\\\n",
       "\\hline\n",
       "\tESRRG & ESRRG  & 15.6534465 & 0.24697289\\\\\n",
       "\tFOXP2 & FOXP2  &  6.0024381 & 0.08152818\\\\\n",
       "\tMECOM & MECOM  &  5.8507643 & 0.21804965\\\\\n",
       "\tESRRB & ESRRB  &  5.1961054 & 0.08999914\\\\\n",
       "\tKLF12 & KLF12  &  2.9818846 & 0.09336354\\\\\n",
       "\tPPARA & PPARA  &  2.2986633 & 0.05867425\\\\\n",
       "\tPRDM16 & PRDM16 &  2.2879389 & 0.07655572\\\\\n",
       "\tRUNX1 & RUNX1  &  2.2287677 & 0.06390962\\\\\n",
       "\tMEF2A & MEF2A  &  1.8178211 & 0.06985107\\\\\n",
       "\tTCF12 & TCF12  &  1.7803506 & 0.08288619\\\\\n",
       "\tMITF & MITF   &  1.7294714 & 0.06706012\\\\\n",
       "\tNR3C2 & NR3C2  &  1.7198523 & 0.08301723\\\\\n",
       "\tSOX6 & SOX6   &  1.7143963 & 0.08456914\\\\\n",
       "\tSIM2 & SIM2   &  1.4830207 & 0.04608053\\\\\n",
       "\tFOXO3 & FOXO3  &  1.2843512 & 0.05126338\\\\\n",
       "\tPAX2 & PAX2   &  1.2277895 & 0.05430143\\\\\n",
       "\tNFYC & NFYC   &  1.0873757 & 0.04787910\\\\\n",
       "\tSREBF2 & SREBF2 &  0.9951607 & 0.04298756\\\\\n",
       "\tPAX8 & PAX8   &  0.8919985 & 0.04939776\\\\\n",
       "\tNFIA & NFIA   &  0.7856662 & 0.05006809\\\\\n",
       "\\end{tabular}\n"
      ],
      "text/markdown": [
       "\n",
       "A data.frame: 20 × 3\n",
       "\n",
       "| <!--/--> | TF_name &lt;chr&gt; | Score &lt;dbl&gt; | SE &lt;dbl&gt; |\n",
       "|---|---|---|---|\n",
       "| ESRRG | ESRRG  | 15.6534465 | 0.24697289 |\n",
       "| FOXP2 | FOXP2  |  6.0024381 | 0.08152818 |\n",
       "| MECOM | MECOM  |  5.8507643 | 0.21804965 |\n",
       "| ESRRB | ESRRB  |  5.1961054 | 0.08999914 |\n",
       "| KLF12 | KLF12  |  2.9818846 | 0.09336354 |\n",
       "| PPARA | PPARA  |  2.2986633 | 0.05867425 |\n",
       "| PRDM16 | PRDM16 |  2.2879389 | 0.07655572 |\n",
       "| RUNX1 | RUNX1  |  2.2287677 | 0.06390962 |\n",
       "| MEF2A | MEF2A  |  1.8178211 | 0.06985107 |\n",
       "| TCF12 | TCF12  |  1.7803506 | 0.08288619 |\n",
       "| MITF | MITF   |  1.7294714 | 0.06706012 |\n",
       "| NR3C2 | NR3C2  |  1.7198523 | 0.08301723 |\n",
       "| SOX6 | SOX6   |  1.7143963 | 0.08456914 |\n",
       "| SIM2 | SIM2   |  1.4830207 | 0.04608053 |\n",
       "| FOXO3 | FOXO3  |  1.2843512 | 0.05126338 |\n",
       "| PAX2 | PAX2   |  1.2277895 | 0.05430143 |\n",
       "| NFYC | NFYC   |  1.0873757 | 0.04787910 |\n",
       "| SREBF2 | SREBF2 |  0.9951607 | 0.04298756 |\n",
       "| PAX8 | PAX8   |  0.8919985 | 0.04939776 |\n",
       "| NFIA | NFIA   |  0.7856662 | 0.05006809 |\n",
       "\n"
      ],
      "text/plain": [
       "       TF_name Score      SE        \n",
       "ESRRG  ESRRG   15.6534465 0.24697289\n",
       "FOXP2  FOXP2    6.0024381 0.08152818\n",
       "MECOM  MECOM    5.8507643 0.21804965\n",
       "ESRRB  ESRRB    5.1961054 0.08999914\n",
       "KLF12  KLF12    2.9818846 0.09336354\n",
       "PPARA  PPARA    2.2986633 0.05867425\n",
       "PRDM16 PRDM16   2.2879389 0.07655572\n",
       "RUNX1  RUNX1    2.2287677 0.06390962\n",
       "MEF2A  MEF2A    1.8178211 0.06985107\n",
       "TCF12  TCF12    1.7803506 0.08288619\n",
       "MITF   MITF     1.7294714 0.06706012\n",
       "NR3C2  NR3C2    1.7198523 0.08301723\n",
       "SOX6   SOX6     1.7143963 0.08456914\n",
       "SIM2   SIM2     1.4830207 0.04608053\n",
       "FOXO3  FOXO3    1.2843512 0.05126338\n",
       "PAX2   PAX2     1.2277895 0.05430143\n",
       "NFYC   NFYC     1.0873757 0.04787910\n",
       "SREBF2 SREBF2   0.9951607 0.04298756\n",
       "PAX8   PAX8     0.8919985 0.04939776\n",
       "NFIA   NFIA     0.7856662 0.05006809"
      ]
     },
     "metadata": {},
     "output_type": "display_data"
    },
    {
     "data": {
      "text/html": [
       "<table class=\"dataframe\">\n",
       "<caption>A data.frame: 20 × 3</caption>\n",
       "<thead>\n",
       "\t<tr><th></th><th scope=col>TF_name</th><th scope=col>Score</th><th scope=col>SE</th></tr>\n",
       "\t<tr><th></th><th scope=col>&lt;chr&gt;</th><th scope=col>&lt;dbl&gt;</th><th scope=col>&lt;dbl&gt;</th></tr>\n",
       "</thead>\n",
       "<tbody>\n",
       "\t<tr><th scope=row>ARID3A</th><td>ARID3A </td><td>-0.1648217</td><td>0.01213434</td></tr>\n",
       "\t<tr><th scope=row>RARB</th><td>RARB   </td><td>-0.1658627</td><td>0.02149325</td></tr>\n",
       "\t<tr><th scope=row>EBF1</th><td>EBF1   </td><td>-0.1661661</td><td>0.01384698</td></tr>\n",
       "\t<tr><th scope=row>VDR</th><td>VDR    </td><td>-0.2023878</td><td>0.01119827</td></tr>\n",
       "\t<tr><th scope=row>TFCP2L1</th><td>TFCP2L1</td><td>-0.2156912</td><td>0.04752411</td></tr>\n",
       "\t<tr><th scope=row>CUX1</th><td>CUX1   </td><td>-0.2199603</td><td>0.02283824</td></tr>\n",
       "\t<tr><th scope=row>ARID5B</th><td>ARID5B </td><td>-0.2767234</td><td>0.02592344</td></tr>\n",
       "\t<tr><th scope=row>ESR1</th><td>ESR1   </td><td>-0.3008193</td><td>0.01888258</td></tr>\n",
       "\t<tr><th scope=row>RORA</th><td>RORA   </td><td>-0.3174730</td><td>0.05859488</td></tr>\n",
       "\t<tr><th scope=row>NPAS2</th><td>NPAS2  </td><td>-0.3444154</td><td>0.01877231</td></tr>\n",
       "\t<tr><th scope=row>TFAP2D</th><td>TFAP2D </td><td>-0.4123524</td><td>0.01772111</td></tr>\n",
       "\t<tr><th scope=row>SOX5</th><td>SOX5   </td><td>-0.4322858</td><td>0.02964416</td></tr>\n",
       "\t<tr><th scope=row>SOX13</th><td>SOX13  </td><td>-0.4861733</td><td>0.02547141</td></tr>\n",
       "\t<tr><th scope=row>GLIS3</th><td>GLIS3  </td><td>-0.5709828</td><td>0.06861987</td></tr>\n",
       "\t<tr><th scope=row>BACH2</th><td>BACH2  </td><td>-0.5755751</td><td>0.02802690</td></tr>\n",
       "\t<tr><th scope=row>LEF1</th><td>LEF1   </td><td>-0.6282622</td><td>0.02609336</td></tr>\n",
       "\t<tr><th scope=row>ZFHX3</th><td>ZFHX3  </td><td>-1.0099202</td><td>0.04971563</td></tr>\n",
       "\t<tr><th scope=row>BCL11A</th><td>BCL11A </td><td>-1.7318495</td><td>0.04979213</td></tr>\n",
       "\t<tr><th scope=row>ARNTL2</th><td>ARNTL2 </td><td>-2.6119867</td><td>0.11349419</td></tr>\n",
       "\t<tr><th scope=row>DNMT1</th><td>DNMT1  </td><td>-3.4193291</td><td>0.07004162</td></tr>\n",
       "</tbody>\n",
       "</table>\n"
      ],
      "text/latex": [
       "A data.frame: 20 × 3\n",
       "\\begin{tabular}{r|lll}\n",
       "  & TF\\_name & Score & SE\\\\\n",
       "  & <chr> & <dbl> & <dbl>\\\\\n",
       "\\hline\n",
       "\tARID3A & ARID3A  & -0.1648217 & 0.01213434\\\\\n",
       "\tRARB & RARB    & -0.1658627 & 0.02149325\\\\\n",
       "\tEBF1 & EBF1    & -0.1661661 & 0.01384698\\\\\n",
       "\tVDR & VDR     & -0.2023878 & 0.01119827\\\\\n",
       "\tTFCP2L1 & TFCP2L1 & -0.2156912 & 0.04752411\\\\\n",
       "\tCUX1 & CUX1    & -0.2199603 & 0.02283824\\\\\n",
       "\tARID5B & ARID5B  & -0.2767234 & 0.02592344\\\\\n",
       "\tESR1 & ESR1    & -0.3008193 & 0.01888258\\\\\n",
       "\tRORA & RORA    & -0.3174730 & 0.05859488\\\\\n",
       "\tNPAS2 & NPAS2   & -0.3444154 & 0.01877231\\\\\n",
       "\tTFAP2D & TFAP2D  & -0.4123524 & 0.01772111\\\\\n",
       "\tSOX5 & SOX5    & -0.4322858 & 0.02964416\\\\\n",
       "\tSOX13 & SOX13   & -0.4861733 & 0.02547141\\\\\n",
       "\tGLIS3 & GLIS3   & -0.5709828 & 0.06861987\\\\\n",
       "\tBACH2 & BACH2   & -0.5755751 & 0.02802690\\\\\n",
       "\tLEF1 & LEF1    & -0.6282622 & 0.02609336\\\\\n",
       "\tZFHX3 & ZFHX3   & -1.0099202 & 0.04971563\\\\\n",
       "\tBCL11A & BCL11A  & -1.7318495 & 0.04979213\\\\\n",
       "\tARNTL2 & ARNTL2  & -2.6119867 & 0.11349419\\\\\n",
       "\tDNMT1 & DNMT1   & -3.4193291 & 0.07004162\\\\\n",
       "\\end{tabular}\n"
      ],
      "text/markdown": [
       "\n",
       "A data.frame: 20 × 3\n",
       "\n",
       "| <!--/--> | TF_name &lt;chr&gt; | Score &lt;dbl&gt; | SE &lt;dbl&gt; |\n",
       "|---|---|---|---|\n",
       "| ARID3A | ARID3A  | -0.1648217 | 0.01213434 |\n",
       "| RARB | RARB    | -0.1658627 | 0.02149325 |\n",
       "| EBF1 | EBF1    | -0.1661661 | 0.01384698 |\n",
       "| VDR | VDR     | -0.2023878 | 0.01119827 |\n",
       "| TFCP2L1 | TFCP2L1 | -0.2156912 | 0.04752411 |\n",
       "| CUX1 | CUX1    | -0.2199603 | 0.02283824 |\n",
       "| ARID5B | ARID5B  | -0.2767234 | 0.02592344 |\n",
       "| ESR1 | ESR1    | -0.3008193 | 0.01888258 |\n",
       "| RORA | RORA    | -0.3174730 | 0.05859488 |\n",
       "| NPAS2 | NPAS2   | -0.3444154 | 0.01877231 |\n",
       "| TFAP2D | TFAP2D  | -0.4123524 | 0.01772111 |\n",
       "| SOX5 | SOX5    | -0.4322858 | 0.02964416 |\n",
       "| SOX13 | SOX13   | -0.4861733 | 0.02547141 |\n",
       "| GLIS3 | GLIS3   | -0.5709828 | 0.06861987 |\n",
       "| BACH2 | BACH2   | -0.5755751 | 0.02802690 |\n",
       "| LEF1 | LEF1    | -0.6282622 | 0.02609336 |\n",
       "| ZFHX3 | ZFHX3   | -1.0099202 | 0.04971563 |\n",
       "| BCL11A | BCL11A  | -1.7318495 | 0.04979213 |\n",
       "| ARNTL2 | ARNTL2  | -2.6119867 | 0.11349419 |\n",
       "| DNMT1 | DNMT1   | -3.4193291 | 0.07004162 |\n",
       "\n"
      ],
      "text/plain": [
       "        TF_name Score      SE        \n",
       "ARID3A  ARID3A  -0.1648217 0.01213434\n",
       "RARB    RARB    -0.1658627 0.02149325\n",
       "EBF1    EBF1    -0.1661661 0.01384698\n",
       "VDR     VDR     -0.2023878 0.01119827\n",
       "TFCP2L1 TFCP2L1 -0.2156912 0.04752411\n",
       "CUX1    CUX1    -0.2199603 0.02283824\n",
       "ARID5B  ARID5B  -0.2767234 0.02592344\n",
       "ESR1    ESR1    -0.3008193 0.01888258\n",
       "RORA    RORA    -0.3174730 0.05859488\n",
       "NPAS2   NPAS2   -0.3444154 0.01877231\n",
       "TFAP2D  TFAP2D  -0.4123524 0.01772111\n",
       "SOX5    SOX5    -0.4322858 0.02964416\n",
       "SOX13   SOX13   -0.4861733 0.02547141\n",
       "GLIS3   GLIS3   -0.5709828 0.06861987\n",
       "BACH2   BACH2   -0.5755751 0.02802690\n",
       "LEF1    LEF1    -0.6282622 0.02609336\n",
       "ZFHX3   ZFHX3   -1.0099202 0.04971563\n",
       "BCL11A  BCL11A  -1.7318495 0.04979213\n",
       "ARNTL2  ARNTL2  -2.6119867 0.11349419\n",
       "DNMT1   DNMT1   -3.4193291 0.07004162"
      ]
     },
     "metadata": {},
     "output_type": "display_data"
    }
   ],
   "source": [
    "head(tf_ranks,20)\n",
    "tail(tf_ranks,20)"
   ]
  },
  {
   "cell_type": "code",
   "execution_count": 28,
   "id": "eacba4e3",
   "metadata": {},
   "outputs": [],
   "source": [
    "save(list=c(\"gene_list\", \"aen_lists\", \"de_genes_BK\", \"tf_results\", \"tf_ranks\", \"regulator_tf_names\", \"centrality_rankings\", \"peak_results\"), \n",
    "     file = file.path(processed_dir, paste0(\"RENIN_324701_cells_\", FindMarkers_ident_1, \"_vs_\", FindMarkers_ident_2, \".RData\")), compress = T)"
   ]
  },
  {
   "cell_type": "code",
   "execution_count": null,
   "id": "9c4466a7",
   "metadata": {},
   "outputs": [],
   "source": []
  },
  {
   "cell_type": "code",
   "execution_count": 29,
   "id": "dca8cb14",
   "metadata": {},
   "outputs": [
    {
     "data": {
      "text/plain": [
       "[1] \"2023-07-01 14:19:31 CDT\""
      ]
     },
     "metadata": {},
     "output_type": "display_data"
    }
   ],
   "source": [
    "Sys.time()"
   ]
  },
  {
   "cell_type": "code",
   "execution_count": null,
   "id": "a20d79ea",
   "metadata": {},
   "outputs": [],
   "source": []
  },
  {
   "cell_type": "code",
   "execution_count": null,
   "id": "0de64550",
   "metadata": {},
   "outputs": [],
   "source": []
  },
  {
   "cell_type": "code",
   "execution_count": null,
   "id": "1b62ad80",
   "metadata": {},
   "outputs": [],
   "source": []
  },
  {
   "cell_type": "code",
   "execution_count": null,
   "id": "84c390d4",
   "metadata": {},
   "outputs": [],
   "source": []
  }
 ],
 "metadata": {
  "kernelspec": {
   "display_name": "R",
   "language": "R",
   "name": "ir"
  },
  "language_info": {
   "codemirror_mode": "r",
   "file_extension": ".r",
   "mimetype": "text/x-r-source",
   "name": "R",
   "pygments_lexer": "r",
   "version": "4.2.2"
  }
 },
 "nbformat": 4,
 "nbformat_minor": 5
}
