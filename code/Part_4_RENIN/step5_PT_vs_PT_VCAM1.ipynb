{
 "cells": [
  {
   "cell_type": "code",
   "execution_count": 2,
   "id": "5a5f9755",
   "metadata": {},
   "outputs": [
    {
     "name": "stderr",
     "output_type": "stream",
     "text": [
      "Attaching SeuratObject\n",
      "\n",
      "Attaching sp\n",
      "\n",
      "\n",
      "Attaching package: ‘Signac’\n",
      "\n",
      "\n",
      "The following object is masked from ‘package:Seurat’:\n",
      "\n",
      "    FoldChange\n",
      "\n",
      "\n",
      "── \u001b[1mAttaching packages\u001b[22m ─────────────────────────────────────────────────────────────────────────────── tidyverse 1.3.2 ──\n",
      "\u001b[32m✔\u001b[39m \u001b[34mggplot2\u001b[39m 3.4.1     \u001b[32m✔\u001b[39m \u001b[34mpurrr  \u001b[39m 0.3.4\n",
      "\u001b[32m✔\u001b[39m \u001b[34mtibble \u001b[39m 3.1.8     \u001b[32m✔\u001b[39m \u001b[34mdplyr  \u001b[39m 1.0.9\n",
      "\u001b[32m✔\u001b[39m \u001b[34mtidyr  \u001b[39m 1.2.0     \u001b[32m✔\u001b[39m \u001b[34mstringr\u001b[39m 1.4.0\n",
      "\u001b[32m✔\u001b[39m \u001b[34mreadr  \u001b[39m 2.1.2     \u001b[32m✔\u001b[39m \u001b[34mforcats\u001b[39m 0.5.1\n",
      "── \u001b[1mConflicts\u001b[22m ────────────────────────────────────────────────────────────────────────────────── tidyverse_conflicts() ──\n",
      "\u001b[31m✖\u001b[39m \u001b[34mdplyr\u001b[39m::\u001b[32mfilter()\u001b[39m masks \u001b[34mstats\u001b[39m::filter()\n",
      "\u001b[31m✖\u001b[39m \u001b[34mdplyr\u001b[39m::\u001b[32mlag()\u001b[39m    masks \u001b[34mstats\u001b[39m::lag()\n",
      "\u001b[31m✖\u001b[39m \u001b[34mpurrr\u001b[39m::\u001b[32mreduce()\u001b[39m masks \u001b[34mSignac\u001b[39m::reduce()\n",
      "\n",
      "\n",
      "Warning message:\n",
      "“no function found corresponding to methods exports from ‘BSgenome’ for: ‘releaseName’”\n",
      "Loading required package: BSgenome\n",
      "\n",
      "Loading required package: BiocGenerics\n",
      "\n",
      "Loading required package: parallel\n",
      "\n",
      "\n",
      "Attaching package: ‘BiocGenerics’\n",
      "\n",
      "\n",
      "The following objects are masked from ‘package:parallel’:\n",
      "\n",
      "    clusterApply, clusterApplyLB, clusterCall, clusterEvalQ,\n",
      "    clusterExport, clusterMap, parApply, parCapply, parLapply,\n",
      "    parLapplyLB, parRapply, parSapply, parSapplyLB\n",
      "\n",
      "\n",
      "The following objects are masked from ‘package:dplyr’:\n",
      "\n",
      "    combine, intersect, setdiff, union\n",
      "\n",
      "\n",
      "The following objects are masked from ‘package:stats’:\n",
      "\n",
      "    IQR, mad, sd, var, xtabs\n",
      "\n",
      "\n",
      "The following objects are masked from ‘package:base’:\n",
      "\n",
      "    anyDuplicated, append, as.data.frame, basename, cbind, colnames,\n",
      "    dirname, do.call, duplicated, eval, evalq, Filter, Find, get, grep,\n",
      "    grepl, intersect, is.unsorted, lapply, Map, mapply, match, mget,\n",
      "    order, paste, pmax, pmax.int, pmin, pmin.int, Position, rank,\n",
      "    rbind, Reduce, rownames, sapply, setdiff, sort, table, tapply,\n",
      "    union, unique, unsplit, which.max, which.min\n",
      "\n",
      "\n",
      "Loading required package: S4Vectors\n",
      "\n",
      "Loading required package: stats4\n",
      "\n",
      "\n",
      "Attaching package: ‘S4Vectors’\n",
      "\n",
      "\n",
      "The following objects are masked from ‘package:dplyr’:\n",
      "\n",
      "    first, rename\n",
      "\n",
      "\n",
      "The following object is masked from ‘package:tidyr’:\n",
      "\n",
      "    expand\n",
      "\n",
      "\n",
      "The following objects are masked from ‘package:base’:\n",
      "\n",
      "    expand.grid, I, unname\n",
      "\n",
      "\n",
      "Loading required package: IRanges\n",
      "\n",
      "\n",
      "Attaching package: ‘IRanges’\n",
      "\n",
      "\n",
      "The following objects are masked from ‘package:dplyr’:\n",
      "\n",
      "    collapse, desc, slice\n",
      "\n",
      "\n",
      "The following object is masked from ‘package:purrr’:\n",
      "\n",
      "    reduce\n",
      "\n",
      "\n",
      "The following object is masked from ‘package:sp’:\n",
      "\n",
      "    %over%\n",
      "\n",
      "\n",
      "Loading required package: GenomeInfoDb\n",
      "\n",
      "Loading required package: GenomicRanges\n",
      "\n",
      "Loading required package: Biostrings\n",
      "\n",
      "Loading required package: XVector\n",
      "\n",
      "\n",
      "Attaching package: ‘XVector’\n",
      "\n",
      "\n",
      "The following object is masked from ‘package:purrr’:\n",
      "\n",
      "    compact\n",
      "\n",
      "\n",
      "\n",
      "Attaching package: ‘Biostrings’\n",
      "\n",
      "\n",
      "The following object is masked from ‘package:base’:\n",
      "\n",
      "    strsplit\n",
      "\n",
      "\n",
      "Loading required package: rtracklayer\n",
      "\n"
     ]
    }
   ],
   "source": [
    "library(Seurat)\n",
    "library(Signac)\n",
    "library(SeuratWrappers)\n",
    "library(RENIN)\n",
    "library(tidyverse)\n",
    "library(chromVARmotifs)\n",
    "library(BSgenome.Hsapiens.UCSC.hg19)"
   ]
  },
  {
   "cell_type": "markdown",
   "id": "2dc24966",
   "metadata": {},
   "source": [
    "## define the two ident to compare in FindMarkers function"
   ]
  },
  {
   "cell_type": "code",
   "execution_count": 3,
   "id": "7b858190",
   "metadata": {},
   "outputs": [],
   "source": [
    "FindMarkers_ident_1 = \"PT\"\n",
    "FindMarkers_ident_2 = \"PT_VCAM1\""
   ]
  },
  {
   "cell_type": "code",
   "execution_count": 4,
   "id": "77782b23",
   "metadata": {},
   "outputs": [],
   "source": [
    "de_gene_file = \"../../processed_data/RENIN/de_genes/446267_cells_RNA/PT_rank_genes_groups_PT_vs_PTVCAM1_20230425.RData\""
   ]
  },
  {
   "cell_type": "code",
   "execution_count": 5,
   "id": "7484a1a0",
   "metadata": {},
   "outputs": [
    {
     "data": {
      "text/html": [
       "'../../processed_data/RENIN/by_celltypes/PT_vs_PT_VCAM1'"
      ],
      "text/latex": [
       "'../../processed\\_data/RENIN/by\\_celltypes/PT\\_vs\\_PT\\_VCAM1'"
      ],
      "text/markdown": [
       "'../../processed_data/RENIN/by_celltypes/PT_vs_PT_VCAM1'"
      ],
      "text/plain": [
       "[1] \"../../processed_data/RENIN/by_celltypes/PT_vs_PT_VCAM1\""
      ]
     },
     "metadata": {},
     "output_type": "display_data"
    }
   ],
   "source": [
    "processed_dir = file.path(\"..\", \"..\", \"processed_data\", \"RENIN\", \"by_celltypes\", paste0(gsub(pattern = \"\\\\/\", \"_\", paste(c(FindMarkers_ident_1,FindMarkers_ident_2), collapse = \"_vs_\"))))\n",
    "processed_dir\n",
    "dir.create(processed_dir, recursive = T, showWarnings = F)"
   ]
  },
  {
   "cell_type": "markdown",
   "id": "7923c586",
   "metadata": {},
   "source": [
    "### load previously calculated image which includes expr_mat, peak_mat, novaseq.sub. This could save time for dealing with new de_gene for different clusters while sharing the same novaseq.sub object"
   ]
  },
  {
   "cell_type": "code",
   "execution_count": 6,
   "id": "a014ce77",
   "metadata": {},
   "outputs": [
    {
     "data": {
      "text/plain": [
       "[1] \"2023-06-30 23:04:20 CDT\""
      ]
     },
     "metadata": {},
     "output_type": "display_data"
    },
    {
     "data": {
      "text/plain": [
       "[1] \"2023-06-30 23:09:11 CDT\""
      ]
     },
     "metadata": {},
     "output_type": "display_data"
    }
   ],
   "source": [
    "Sys.time()\n",
    "load(\"../../processed_data/RENIN/RENIN_324701_cells_preprocess.RData\")\n",
    "Sys.time()"
   ]
  },
  {
   "cell_type": "code",
   "execution_count": 7,
   "id": "7378c09c",
   "metadata": {},
   "outputs": [
    {
     "data": {
      "text/plain": [
       "An object of class Seurat \n",
       "237522 features across 324701 samples within 2 assays \n",
       "Active assay: peaks (189184 features, 189184 variable features)\n",
       " 1 other assay present: SCT\n",
       " 6 dimensional reductions calculated: pca, harmony_RNA, lsi, harmony_peaks, umap.peaks, WNN.UMAP"
      ]
     },
     "metadata": {},
     "output_type": "display_data"
    },
    {
     "data": {
      "text/plain": [
       "\n",
       "      JGA       POD       PEC        PT PT_dediff  PT_VCAM1       tL1       tL2 \n",
       "     2465      3179      1239     64880     29494      8445     25438      9029 \n",
       "   tL-TAL      TAL1      TAL2      TAL3       DCT       CNT       PC1       PC2 \n",
       "    15485     29910     19724      8900     14150     13197     16140      4049 \n",
       "      ICA       ICB      Uro1      Uro2      ENDO      SMC1      SMC2      SMC3 \n",
       "    10579      4120      3210       682     12847      4272       156        86 \n",
       "     Fib1      Fib2      Fib3        Ma        BT \n",
       "     3786      7191      3095      3673      5280 "
      ]
     },
     "metadata": {},
     "output_type": "display_data"
    }
   ],
   "source": [
    "novaseq.sub\n",
    "table(novaseq.sub$celltype5_rna)"
   ]
  },
  {
   "cell_type": "code",
   "execution_count": 8,
   "id": "ece97b01",
   "metadata": {},
   "outputs": [
    {
     "data": {
      "text/html": [
       "<style>\n",
       ".list-inline {list-style: none; margin:0; padding: 0}\n",
       ".list-inline>li {display: inline-block}\n",
       ".list-inline>li:not(:last-child)::after {content: \"\\00b7\"; padding: 0 .5ex}\n",
       "</style>\n",
       "<ol class=list-inline><li>'de_gene_file'</li><li>'expr_mat'</li><li>'FindMarkers_ident_1'</li><li>'FindMarkers_ident_2'</li><li>'level.novaseq'</li><li>'level.novaseq.renal_region_new'</li><li>'level.novaseq.rna'</li><li>'novaseq.sub'</li><li>'palette.novaseq'</li><li>'palette.novaseq.renal_region_new'</li><li>'palette.novaseq.rna'</li><li>'peak_mat'</li><li>'processed_dir'</li></ol>\n"
      ],
      "text/latex": [
       "\\begin{enumerate*}\n",
       "\\item 'de\\_gene\\_file'\n",
       "\\item 'expr\\_mat'\n",
       "\\item 'FindMarkers\\_ident\\_1'\n",
       "\\item 'FindMarkers\\_ident\\_2'\n",
       "\\item 'level.novaseq'\n",
       "\\item 'level.novaseq.renal\\_region\\_new'\n",
       "\\item 'level.novaseq.rna'\n",
       "\\item 'novaseq.sub'\n",
       "\\item 'palette.novaseq'\n",
       "\\item 'palette.novaseq.renal\\_region\\_new'\n",
       "\\item 'palette.novaseq.rna'\n",
       "\\item 'peak\\_mat'\n",
       "\\item 'processed\\_dir'\n",
       "\\end{enumerate*}\n"
      ],
      "text/markdown": [
       "1. 'de_gene_file'\n",
       "2. 'expr_mat'\n",
       "3. 'FindMarkers_ident_1'\n",
       "4. 'FindMarkers_ident_2'\n",
       "5. 'level.novaseq'\n",
       "6. 'level.novaseq.renal_region_new'\n",
       "7. 'level.novaseq.rna'\n",
       "8. 'novaseq.sub'\n",
       "9. 'palette.novaseq'\n",
       "10. 'palette.novaseq.renal_region_new'\n",
       "11. 'palette.novaseq.rna'\n",
       "12. 'peak_mat'\n",
       "13. 'processed_dir'\n",
       "\n",
       "\n"
      ],
      "text/plain": [
       " [1] \"de_gene_file\"                     \"expr_mat\"                        \n",
       " [3] \"FindMarkers_ident_1\"              \"FindMarkers_ident_2\"             \n",
       " [5] \"level.novaseq\"                    \"level.novaseq.renal_region_new\"  \n",
       " [7] \"level.novaseq.rna\"                \"novaseq.sub\"                     \n",
       " [9] \"palette.novaseq\"                  \"palette.novaseq.renal_region_new\"\n",
       "[11] \"palette.novaseq.rna\"              \"peak_mat\"                        \n",
       "[13] \"processed_dir\"                   "
      ]
     },
     "metadata": {},
     "output_type": "display_data"
    }
   ],
   "source": [
    "ls()"
   ]
  },
  {
   "cell_type": "markdown",
   "id": "d6839c0d",
   "metadata": {},
   "source": [
    "### remove the following variables because they will be regenerated for new comparison"
   ]
  },
  {
   "cell_type": "code",
   "execution_count": 9,
   "id": "a62ab8fa",
   "metadata": {},
   "outputs": [
    {
     "name": "stderr",
     "output_type": "stream",
     "text": [
      "Warning message in rm(list = c(\"peak_results\", \"aen_lists\", \"de_genes_BK\", \"gene_list\")):\n",
      "“object 'peak_results' not found”\n",
      "Warning message in rm(list = c(\"peak_results\", \"aen_lists\", \"de_genes_BK\", \"gene_list\")):\n",
      "“object 'aen_lists' not found”\n",
      "Warning message in rm(list = c(\"peak_results\", \"aen_lists\", \"de_genes_BK\", \"gene_list\")):\n",
      "“object 'de_genes_BK' not found”\n",
      "Warning message in rm(list = c(\"peak_results\", \"aen_lists\", \"de_genes_BK\", \"gene_list\")):\n",
      "“object 'gene_list' not found”\n"
     ]
    }
   ],
   "source": [
    "rm(list = c(\"peak_results\", 'aen_lists', 'de_genes_BK', 'gene_list'))"
   ]
  },
  {
   "cell_type": "code",
   "execution_count": 10,
   "id": "fd843e48",
   "metadata": {},
   "outputs": [
    {
     "data": {
      "text/html": [
       "<style>\n",
       ".list-inline {list-style: none; margin:0; padding: 0}\n",
       ".list-inline>li {display: inline-block}\n",
       ".list-inline>li:not(:last-child)::after {content: \"\\00b7\"; padding: 0 .5ex}\n",
       "</style>\n",
       "<ol class=list-inline><li>'de_gene_file'</li><li>'expr_mat'</li><li>'FindMarkers_ident_1'</li><li>'FindMarkers_ident_2'</li><li>'level.novaseq'</li><li>'level.novaseq.renal_region_new'</li><li>'level.novaseq.rna'</li><li>'novaseq.sub'</li><li>'palette.novaseq'</li><li>'palette.novaseq.renal_region_new'</li><li>'palette.novaseq.rna'</li><li>'peak_mat'</li><li>'processed_dir'</li></ol>\n"
      ],
      "text/latex": [
       "\\begin{enumerate*}\n",
       "\\item 'de\\_gene\\_file'\n",
       "\\item 'expr\\_mat'\n",
       "\\item 'FindMarkers\\_ident\\_1'\n",
       "\\item 'FindMarkers\\_ident\\_2'\n",
       "\\item 'level.novaseq'\n",
       "\\item 'level.novaseq.renal\\_region\\_new'\n",
       "\\item 'level.novaseq.rna'\n",
       "\\item 'novaseq.sub'\n",
       "\\item 'palette.novaseq'\n",
       "\\item 'palette.novaseq.renal\\_region\\_new'\n",
       "\\item 'palette.novaseq.rna'\n",
       "\\item 'peak\\_mat'\n",
       "\\item 'processed\\_dir'\n",
       "\\end{enumerate*}\n"
      ],
      "text/markdown": [
       "1. 'de_gene_file'\n",
       "2. 'expr_mat'\n",
       "3. 'FindMarkers_ident_1'\n",
       "4. 'FindMarkers_ident_2'\n",
       "5. 'level.novaseq'\n",
       "6. 'level.novaseq.renal_region_new'\n",
       "7. 'level.novaseq.rna'\n",
       "8. 'novaseq.sub'\n",
       "9. 'palette.novaseq'\n",
       "10. 'palette.novaseq.renal_region_new'\n",
       "11. 'palette.novaseq.rna'\n",
       "12. 'peak_mat'\n",
       "13. 'processed_dir'\n",
       "\n",
       "\n"
      ],
      "text/plain": [
       " [1] \"de_gene_file\"                     \"expr_mat\"                        \n",
       " [3] \"FindMarkers_ident_1\"              \"FindMarkers_ident_2\"             \n",
       " [5] \"level.novaseq\"                    \"level.novaseq.renal_region_new\"  \n",
       " [7] \"level.novaseq.rna\"                \"novaseq.sub\"                     \n",
       " [9] \"palette.novaseq\"                  \"palette.novaseq.renal_region_new\"\n",
       "[11] \"palette.novaseq.rna\"              \"peak_mat\"                        \n",
       "[13] \"processed_dir\"                   "
      ]
     },
     "metadata": {},
     "output_type": "display_data"
    }
   ],
   "source": [
    "ls()"
   ]
  },
  {
   "cell_type": "code",
   "execution_count": 11,
   "id": "da921a35",
   "metadata": {},
   "outputs": [
    {
     "data": {
      "text/html": [
       "<style>\n",
       ".dl-inline {width: auto; margin:0; padding: 0}\n",
       ".dl-inline>dt, .dl-inline>dd {float: none; width: auto; display: inline-block}\n",
       ".dl-inline>dt::after {content: \":\\0020\"; padding-right: .5ex}\n",
       ".dl-inline>dt:not(:first-of-type) {padding-left: .5ex}\n",
       "</style><dl class=dl-inline><dt>R1.034,R2.082,R3.082,P1.76,B3</dt><dd>tL1</dd><dt>R1.047,R2.073,R3.003,P1.65,B2</dt><dd>PEC</dd><dt>R1.025,R2.080,R3.017,P1.66,B2</dt><dd>PT_dediff</dd><dt>R1.056,R2.038,R3.008,P1.48,B2</dt><dd>TAL1</dd><dt>R1.089,R2.082,R3.024,P1.14,B1</dt><dd>CNT</dd><dt>R1.031,R2.072,R3.075,P1.78,B3</dt><dd>TAL2</dd></dl>\n",
       "\n",
       "<details>\n",
       "\t<summary style=display:list-item;cursor:pointer>\n",
       "\t\t<strong>Levels</strong>:\n",
       "\t</summary>\n",
       "\t<style>\n",
       "\t.list-inline {list-style: none; margin:0; padding: 0}\n",
       "\t.list-inline>li {display: inline-block}\n",
       "\t.list-inline>li:not(:last-child)::after {content: \"\\00b7\"; padding: 0 .5ex}\n",
       "\t</style>\n",
       "\t<ol class=list-inline><li>'JGA'</li><li>'POD'</li><li>'PEC'</li><li>'PT'</li><li>'PT_dediff'</li><li>'PT_VCAM1'</li><li>'tL1'</li><li>'tL2'</li><li>'tL-TAL'</li><li>'TAL1'</li><li>'TAL2'</li><li>'TAL3'</li><li>'DCT'</li><li>'CNT'</li><li>'PC1'</li><li>'PC2'</li><li>'ICA'</li><li>'ICB'</li><li>'Uro1'</li><li>'Uro2'</li><li>'ENDO'</li><li>'SMC1'</li><li>'SMC2'</li><li>'SMC3'</li><li>'Fib1'</li><li>'Fib2'</li><li>'Fib3'</li><li>'Ma'</li><li>'BT'</li></ol>\n",
       "</details>"
      ],
      "text/latex": [
       "\\begin{description*}\n",
       "\\item[R1.034,R2.082,R3.082,P1.76,B3] tL1\n",
       "\\item[R1.047,R2.073,R3.003,P1.65,B2] PEC\n",
       "\\item[R1.025,R2.080,R3.017,P1.66,B2] PT\\_dediff\n",
       "\\item[R1.056,R2.038,R3.008,P1.48,B2] TAL1\n",
       "\\item[R1.089,R2.082,R3.024,P1.14,B1] CNT\n",
       "\\item[R1.031,R2.072,R3.075,P1.78,B3] TAL2\n",
       "\\end{description*}\n",
       "\n",
       "\\emph{Levels}: \\begin{enumerate*}\n",
       "\\item 'JGA'\n",
       "\\item 'POD'\n",
       "\\item 'PEC'\n",
       "\\item 'PT'\n",
       "\\item 'PT\\_dediff'\n",
       "\\item 'PT\\_VCAM1'\n",
       "\\item 'tL1'\n",
       "\\item 'tL2'\n",
       "\\item 'tL-TAL'\n",
       "\\item 'TAL1'\n",
       "\\item 'TAL2'\n",
       "\\item 'TAL3'\n",
       "\\item 'DCT'\n",
       "\\item 'CNT'\n",
       "\\item 'PC1'\n",
       "\\item 'PC2'\n",
       "\\item 'ICA'\n",
       "\\item 'ICB'\n",
       "\\item 'Uro1'\n",
       "\\item 'Uro2'\n",
       "\\item 'ENDO'\n",
       "\\item 'SMC1'\n",
       "\\item 'SMC2'\n",
       "\\item 'SMC3'\n",
       "\\item 'Fib1'\n",
       "\\item 'Fib2'\n",
       "\\item 'Fib3'\n",
       "\\item 'Ma'\n",
       "\\item 'BT'\n",
       "\\end{enumerate*}\n"
      ],
      "text/markdown": [
       "R1.034,R2.082,R3.082,P1.76,B3\n",
       ":   tL1R1.047,R2.073,R3.003,P1.65,B2\n",
       ":   PECR1.025,R2.080,R3.017,P1.66,B2\n",
       ":   PT_dediffR1.056,R2.038,R3.008,P1.48,B2\n",
       ":   TAL1R1.089,R2.082,R3.024,P1.14,B1\n",
       ":   CNTR1.031,R2.072,R3.075,P1.78,B3\n",
       ":   TAL2\n",
       "\n",
       "\n",
       "**Levels**: 1. 'JGA'\n",
       "2. 'POD'\n",
       "3. 'PEC'\n",
       "4. 'PT'\n",
       "5. 'PT_dediff'\n",
       "6. 'PT_VCAM1'\n",
       "7. 'tL1'\n",
       "8. 'tL2'\n",
       "9. 'tL-TAL'\n",
       "10. 'TAL1'\n",
       "11. 'TAL2'\n",
       "12. 'TAL3'\n",
       "13. 'DCT'\n",
       "14. 'CNT'\n",
       "15. 'PC1'\n",
       "16. 'PC2'\n",
       "17. 'ICA'\n",
       "18. 'ICB'\n",
       "19. 'Uro1'\n",
       "20. 'Uro2'\n",
       "21. 'ENDO'\n",
       "22. 'SMC1'\n",
       "23. 'SMC2'\n",
       "24. 'SMC3'\n",
       "25. 'Fib1'\n",
       "26. 'Fib2'\n",
       "27. 'Fib3'\n",
       "28. 'Ma'\n",
       "29. 'BT'\n",
       "\n",
       "\n"
      ],
      "text/plain": [
       "R1.034,R2.082,R3.082,P1.76,B3 R1.047,R2.073,R3.003,P1.65,B2 \n",
       "                          tL1                           PEC \n",
       "R1.025,R2.080,R3.017,P1.66,B2 R1.056,R2.038,R3.008,P1.48,B2 \n",
       "                    PT_dediff                          TAL1 \n",
       "R1.089,R2.082,R3.024,P1.14,B1 R1.031,R2.072,R3.075,P1.78,B3 \n",
       "                          CNT                          TAL2 \n",
       "29 Levels: JGA POD PEC PT PT_dediff PT_VCAM1 tL1 tL2 tL-TAL TAL1 TAL2 ... BT"
      ]
     },
     "metadata": {},
     "output_type": "display_data"
    }
   ],
   "source": [
    "Idents(novaseq.sub) = novaseq.sub$celltype5_rna\n",
    "head(Idents(novaseq.sub))"
   ]
  },
  {
   "cell_type": "code",
   "execution_count": 12,
   "id": "8042ee6a",
   "metadata": {},
   "outputs": [
    {
     "data": {
      "text/plain": [
       "An object of class Seurat \n",
       "237522 features across 73325 samples within 2 assays \n",
       "Active assay: peaks (189184 features, 189184 variable features)\n",
       " 1 other assay present: SCT\n",
       " 6 dimensional reductions calculated: pca, harmony_RNA, lsi, harmony_peaks, umap.peaks, WNN.UMAP"
      ]
     },
     "metadata": {},
     "output_type": "display_data"
    },
    {
     "data": {
      "text/plain": [
       "\n",
       "      JGA       POD       PEC        PT PT_dediff  PT_VCAM1       tL1       tL2 \n",
       "        0         0         0     64880         0      8445         0         0 \n",
       "   tL-TAL      TAL1      TAL2      TAL3       DCT       CNT       PC1       PC2 \n",
       "        0         0         0         0         0         0         0         0 \n",
       "      ICA       ICB      Uro1      Uro2      ENDO      SMC1      SMC2      SMC3 \n",
       "        0         0         0         0         0         0         0         0 \n",
       "     Fib1      Fib2      Fib3        Ma        BT \n",
       "        0         0         0         0         0 "
      ]
     },
     "metadata": {},
     "output_type": "display_data"
    }
   ],
   "source": [
    "mpt <- subset(novaseq.sub, celltype5_rna %in% c(FindMarkers_ident_1, FindMarkers_ident_2))\n",
    "mpt\n",
    "table(mpt$celltype5_rna)"
   ]
  },
  {
   "cell_type": "markdown",
   "id": "28c629be",
   "metadata": {},
   "source": [
    "## load 446267_cells_RNA de_gene data frame"
   ]
  },
  {
   "cell_type": "code",
   "execution_count": 13,
   "id": "f088011e",
   "metadata": {},
   "outputs": [],
   "source": [
    "load(de_gene_file)"
   ]
  },
  {
   "cell_type": "code",
   "execution_count": 14,
   "id": "27d69e51",
   "metadata": {},
   "outputs": [
    {
     "data": {
      "text/html": [
       "<style>\n",
       ".list-inline {list-style: none; margin:0; padding: 0}\n",
       ".list-inline>li {display: inline-block}\n",
       ".list-inline>li:not(:last-child)::after {content: \"\\00b7\"; padding: 0 .5ex}\n",
       "</style>\n",
       "<ol class=list-inline><li>'de_gene_file'</li><li>'de_genes'</li><li>'expr_mat'</li><li>'FindMarkers_ident_1'</li><li>'FindMarkers_ident_2'</li><li>'level.novaseq'</li><li>'level.novaseq.renal_region_new'</li><li>'level.novaseq.rna'</li><li>'mpt'</li><li>'novaseq.sub'</li><li>'palette.novaseq'</li><li>'palette.novaseq.renal_region_new'</li><li>'palette.novaseq.rna'</li><li>'peak_mat'</li><li>'processed_dir'</li></ol>\n"
      ],
      "text/latex": [
       "\\begin{enumerate*}\n",
       "\\item 'de\\_gene\\_file'\n",
       "\\item 'de\\_genes'\n",
       "\\item 'expr\\_mat'\n",
       "\\item 'FindMarkers\\_ident\\_1'\n",
       "\\item 'FindMarkers\\_ident\\_2'\n",
       "\\item 'level.novaseq'\n",
       "\\item 'level.novaseq.renal\\_region\\_new'\n",
       "\\item 'level.novaseq.rna'\n",
       "\\item 'mpt'\n",
       "\\item 'novaseq.sub'\n",
       "\\item 'palette.novaseq'\n",
       "\\item 'palette.novaseq.renal\\_region\\_new'\n",
       "\\item 'palette.novaseq.rna'\n",
       "\\item 'peak\\_mat'\n",
       "\\item 'processed\\_dir'\n",
       "\\end{enumerate*}\n"
      ],
      "text/markdown": [
       "1. 'de_gene_file'\n",
       "2. 'de_genes'\n",
       "3. 'expr_mat'\n",
       "4. 'FindMarkers_ident_1'\n",
       "5. 'FindMarkers_ident_2'\n",
       "6. 'level.novaseq'\n",
       "7. 'level.novaseq.renal_region_new'\n",
       "8. 'level.novaseq.rna'\n",
       "9. 'mpt'\n",
       "10. 'novaseq.sub'\n",
       "11. 'palette.novaseq'\n",
       "12. 'palette.novaseq.renal_region_new'\n",
       "13. 'palette.novaseq.rna'\n",
       "14. 'peak_mat'\n",
       "15. 'processed_dir'\n",
       "\n",
       "\n"
      ],
      "text/plain": [
       " [1] \"de_gene_file\"                     \"de_genes\"                        \n",
       " [3] \"expr_mat\"                         \"FindMarkers_ident_1\"             \n",
       " [5] \"FindMarkers_ident_2\"              \"level.novaseq\"                   \n",
       " [7] \"level.novaseq.renal_region_new\"   \"level.novaseq.rna\"               \n",
       " [9] \"mpt\"                              \"novaseq.sub\"                     \n",
       "[11] \"palette.novaseq\"                  \"palette.novaseq.renal_region_new\"\n",
       "[13] \"palette.novaseq.rna\"              \"peak_mat\"                        \n",
       "[15] \"processed_dir\"                   "
      ]
     },
     "metadata": {},
     "output_type": "display_data"
    }
   ],
   "source": [
    "ls()"
   ]
  },
  {
   "cell_type": "code",
   "execution_count": 15,
   "id": "ebd5a6f1",
   "metadata": {},
   "outputs": [
    {
     "data": {
      "text/html": [
       "<style>\n",
       ".list-inline {list-style: none; margin:0; padding: 0}\n",
       ".list-inline>li {display: inline-block}\n",
       ".list-inline>li:not(:last-child)::after {content: \"\\00b7\"; padding: 0 .5ex}\n",
       "</style>\n",
       "<ol class=list-inline><li>48555</li><li>5</li></ol>\n"
      ],
      "text/latex": [
       "\\begin{enumerate*}\n",
       "\\item 48555\n",
       "\\item 5\n",
       "\\end{enumerate*}\n"
      ],
      "text/markdown": [
       "1. 48555\n",
       "2. 5\n",
       "\n",
       "\n"
      ],
      "text/plain": [
       "[1] 48555     5"
      ]
     },
     "metadata": {},
     "output_type": "display_data"
    }
   ],
   "source": [
    "rownames(de_genes) = de_genes$names\n",
    "de_genes_BK = de_genes\n",
    "dim(de_genes)"
   ]
  },
  {
   "cell_type": "code",
   "execution_count": 16,
   "id": "60a71933",
   "metadata": {},
   "outputs": [
    {
     "data": {
      "text/html": [
       "<style>\n",
       ".list-inline {list-style: none; margin:0; padding: 0}\n",
       ".list-inline>li {display: inline-block}\n",
       ".list-inline>li:not(:last-child)::after {content: \"\\00b7\"; padding: 0 .5ex}\n",
       "</style>\n",
       "<ol class=list-inline><li>1765</li><li>5</li></ol>\n"
      ],
      "text/latex": [
       "\\begin{enumerate*}\n",
       "\\item 1765\n",
       "\\item 5\n",
       "\\end{enumerate*}\n"
      ],
      "text/markdown": [
       "1. 1765\n",
       "2. 5\n",
       "\n",
       "\n"
      ],
      "text/plain": [
       "[1] 1765    5"
      ]
     },
     "metadata": {},
     "output_type": "display_data"
    }
   ],
   "source": [
    "### keep DEGs with pvals_adj<0.05\n",
    "p_val_cutoff = 0.05\n",
    "peak_assay = \"peaks\"\n",
    "de_genes <- de_genes[which(de_genes$pvals_adj < p_val_cutoff), ]\n",
    "DefaultAssay(novaseq.sub) <- peak_assay\n",
    "DefaultAssay(mpt) <- peak_assay\n",
    "\n",
    "dim(de_genes)"
   ]
  },
  {
   "cell_type": "code",
   "execution_count": 17,
   "id": "f5273bec",
   "metadata": {},
   "outputs": [
    {
     "data": {
      "text/plain": [
       "[1] \"2023-06-30 23:10:02 CDT\""
      ]
     },
     "metadata": {},
     "output_type": "display_data"
    },
    {
     "data": {
      "text/plain": [
       "[1] \"2023-06-30 23:10:06 CDT\""
      ]
     },
     "metadata": {},
     "output_type": "display_data"
    }
   ],
   "source": [
    "Sys.time()\n",
    "# gene_coords <- Signac:::CollapseToLongestTranscript(Annotation(novaseq.sub))\n",
    "gene_coords <- Signac:::CollapseToLongestTranscript(Annotation(mpt))\n",
    "Sys.time()"
   ]
  },
  {
   "cell_type": "code",
   "execution_count": 18,
   "id": "c4dcadfe",
   "metadata": {},
   "outputs": [
    {
     "data": {
      "text/html": [
       "<style>\n",
       ".list-inline {list-style: none; margin:0; padding: 0}\n",
       ".list-inline>li {display: inline-block}\n",
       ".list-inline>li:not(:last-child)::after {content: \"\\00b7\"; padding: 0 .5ex}\n",
       "</style>\n",
       "<ol class=list-inline><li>1471</li><li>5</li></ol>\n"
      ],
      "text/latex": [
       "\\begin{enumerate*}\n",
       "\\item 1471\n",
       "\\item 5\n",
       "\\end{enumerate*}\n"
      ],
      "text/markdown": [
       "1. 1471\n",
       "2. 5\n",
       "\n",
       "\n"
      ],
      "text/plain": [
       "[1] 1471    5"
      ]
     },
     "metadata": {},
     "output_type": "display_data"
    }
   ],
   "source": [
    "de_genes <- de_genes[which(rownames(de_genes) %in% gene_coords$gene_name), ]\n",
    "dim(de_genes)\n",
    "gene_list = rownames(de_genes)"
   ]
  },
  {
   "cell_type": "markdown",
   "id": "73d308bf",
   "metadata": {},
   "source": [
    "## Next, make two de_gene sublists: gene_list_neg, gene_list_pos"
   ]
  },
  {
   "cell_type": "code",
   "execution_count": 19,
   "id": "c0ffbfa6",
   "metadata": {},
   "outputs": [
    {
     "name": "stdout",
     "output_type": "stream",
     "text": [
      "[1] 1274\n",
      "[1] 197\n"
     ]
    }
   ],
   "source": [
    "gene_list_neg = rownames(de_genes)[de_genes$logfoldchanges < 0]\n",
    "print(length(gene_list_neg))\n",
    "gene_list_pos = rownames(de_genes)[de_genes$logfoldchanges > 0]\n",
    "print(length(gene_list_pos))"
   ]
  },
  {
   "cell_type": "code",
   "execution_count": 20,
   "id": "b9c5326d",
   "metadata": {},
   "outputs": [],
   "source": [
    "# de_genes[order(de_genes$logfoldchanges, decreasing = T),]"
   ]
  },
  {
   "cell_type": "code",
   "execution_count": null,
   "id": "cad8296c",
   "metadata": {},
   "outputs": [],
   "source": []
  },
  {
   "cell_type": "markdown",
   "id": "33acfd26",
   "metadata": {},
   "source": [
    "## run_peak_aen"
   ]
  },
  {
   "cell_type": "code",
   "execution_count": 21,
   "id": "99c7b95a",
   "metadata": {},
   "outputs": [
    {
     "data": {
      "text/plain": [
       "[1] \"2023-06-30 23:10:06 CDT\""
      ]
     },
     "metadata": {},
     "output_type": "display_data"
    },
    {
     "name": "stderr",
     "output_type": "stream",
     "text": [
      "Loading required package: gcdnet\n",
      "\n",
      "\n",
      "Attaching package: ‘gcdnet’\n",
      "\n",
      "\n",
      "The following object is masked from ‘package:stats4’:\n",
      "\n",
      "    coef\n",
      "\n",
      "\n",
      "The following objects are masked from ‘package:stats’:\n",
      "\n",
      "    coef, predict\n",
      "\n",
      "\n",
      "Loading required package: future\n",
      "\n",
      "\n",
      "Attaching package: ‘future’\n",
      "\n",
      "\n",
      "The following object is masked from ‘package:rtracklayer’:\n",
      "\n",
      "    values\n",
      "\n",
      "\n",
      "The following object is masked from ‘package:GenomicRanges’:\n",
      "\n",
      "    values\n",
      "\n",
      "\n",
      "The following object is masked from ‘package:IRanges’:\n",
      "\n",
      "    values\n",
      "\n",
      "\n",
      "The following object is masked from ‘package:S4Vectors’:\n",
      "\n",
      "    values\n",
      "\n",
      "\n",
      "Loading required package: future.apply\n",
      "\n"
     ]
    },
    {
     "name": "stdout",
     "output_type": "stream",
     "text": [
      "[1] \"Omitted (mitochondrial) genes with no genomic peaks: PCDH11Y\"  \n",
      "[2] \"Omitted (mitochondrial) genes with no genomic peaks: SMN1\"     \n",
      "[3] \"Omitted (mitochondrial) genes with no genomic peaks: PCDH11X\"  \n",
      "[4] \"Omitted (mitochondrial) genes with no genomic peaks: LINC00278\"\n",
      "[1] \"AEN completed in 11.4115601181984\"\n"
     ]
    },
    {
     "data": {
      "text/plain": [
       "[1] \"2023-06-30 23:22:01 CDT\""
      ]
     },
     "metadata": {},
     "output_type": "display_data"
    }
   ],
   "source": [
    "Sys.time()\n",
    "\n",
    "options(future.globals.maxSize = 8000 * 1024^2)\n",
    "\n",
    "peak_results <- run_peak_aen(novaseq.sub, expr_mat, peak_mat, gene_list, lambda2 = 0.5, max_distance = 5e+05, num_bootstraps = 100)\n",
    "\n",
    "aen_lists <- make_aen_lists(peak_results)\n",
    "\n",
    "Sys.time()"
   ]
  },
  {
   "cell_type": "markdown",
   "id": "3afac727",
   "metadata": {},
   "source": [
    "### prepare meta cells for mpt object"
   ]
  },
  {
   "cell_type": "code",
   "execution_count": 22,
   "id": "7aad6907",
   "metadata": {},
   "outputs": [
    {
     "name": "stderr",
     "output_type": "stream",
     "text": [
      "Loading required package: Matrix\n",
      "\n",
      "\n",
      "Attaching package: ‘Matrix’\n",
      "\n",
      "\n",
      "The following object is masked from ‘package:S4Vectors’:\n",
      "\n",
      "    expand\n",
      "\n",
      "\n",
      "The following objects are masked from ‘package:tidyr’:\n",
      "\n",
      "    expand, pack, unpack\n",
      "\n",
      "\n",
      "Loading required package: VISION\n",
      "\n",
      "Loading required package: SingleCellExperiment\n",
      "\n",
      "Loading required package: SummarizedExperiment\n",
      "\n",
      "Loading required package: MatrixGenerics\n",
      "\n",
      "Loading required package: matrixStats\n",
      "\n",
      "\n",
      "Attaching package: ‘matrixStats’\n",
      "\n",
      "\n",
      "The following object is masked from ‘package:dplyr’:\n",
      "\n",
      "    count\n",
      "\n",
      "\n",
      "\n",
      "Attaching package: ‘MatrixGenerics’\n",
      "\n",
      "\n",
      "The following objects are masked from ‘package:matrixStats’:\n",
      "\n",
      "    colAlls, colAnyNAs, colAnys, colAvgsPerRowSet, colCollapse,\n",
      "    colCounts, colCummaxs, colCummins, colCumprods, colCumsums,\n",
      "    colDiffs, colIQRDiffs, colIQRs, colLogSumExps, colMadDiffs,\n",
      "    colMads, colMaxs, colMeans2, colMedians, colMins, colOrderStats,\n",
      "    colProds, colQuantiles, colRanges, colRanks, colSdDiffs, colSds,\n",
      "    colSums2, colTabulates, colVarDiffs, colVars, colWeightedMads,\n",
      "    colWeightedMeans, colWeightedMedians, colWeightedSds,\n",
      "    colWeightedVars, rowAlls, rowAnyNAs, rowAnys, rowAvgsPerColSet,\n",
      "    rowCollapse, rowCounts, rowCummaxs, rowCummins, rowCumprods,\n",
      "    rowCumsums, rowDiffs, rowIQRDiffs, rowIQRs, rowLogSumExps,\n",
      "    rowMadDiffs, rowMads, rowMaxs, rowMeans2, rowMedians, rowMins,\n",
      "    rowOrderStats, rowProds, rowQuantiles, rowRanges, rowRanks,\n",
      "    rowSdDiffs, rowSds, rowSums2, rowTabulates, rowVarDiffs, rowVars,\n",
      "    rowWeightedMads, rowWeightedMeans, rowWeightedMedians,\n",
      "    rowWeightedSds, rowWeightedVars\n",
      "\n",
      "\n",
      "Loading required package: Biobase\n",
      "\n",
      "Welcome to Bioconductor\n",
      "\n",
      "    Vignettes contain introductory material; view with\n",
      "    'browseVignettes()'. To cite Bioconductor, see\n",
      "    'citation(\"Biobase\")', and for packages 'citation(\"pkgname\")'.\n",
      "\n",
      "\n",
      "\n",
      "Attaching package: ‘Biobase’\n",
      "\n",
      "\n",
      "The following object is masked from ‘package:MatrixGenerics’:\n",
      "\n",
      "    rowMedians\n",
      "\n",
      "\n",
      "The following objects are masked from ‘package:matrixStats’:\n",
      "\n",
      "    anyMissing, rowMedians\n",
      "\n",
      "\n",
      "\n",
      "Attaching package: ‘SummarizedExperiment’\n",
      "\n",
      "\n",
      "The following object is masked from ‘package:SeuratObject’:\n",
      "\n",
      "    Assays\n",
      "\n",
      "\n",
      "The following object is masked from ‘package:Seurat’:\n",
      "\n",
      "    Assays\n",
      "\n",
      "\n",
      "Calculating cell-specific modality weights\n",
      "\n",
      "Finding 5 nearest neighbors for each modality.\n",
      "\n",
      "Calculating kernel bandwidths\n",
      "\n",
      "Finding multimodal neighbors\n",
      "\n",
      "Constructing multimodal KNN graph\n",
      "\n",
      "Constructing multimodal SNN graph\n",
      "\n",
      "Warning message:\n",
      "“The default method for RunUMAP has changed from calling Python UMAP via reticulate to the R-native UWOT using the cosine metric\n",
      "To use Python UMAP via reticulate, set umap.method to 'umap-learn' and metric to 'correlation'\n",
      "This message will be shown once per session”\n",
      "23:27:46 UMAP embedding parameters a = 0.9922 b = 1.112\n",
      "\n",
      "23:28:09 Commencing smooth kNN distance calibration using 1 thread\n",
      "\n",
      "23:28:09 2 smooth knn distance failures\n",
      "\n",
      "23:28:15 Initializing from normalized Laplacian + noise\n",
      "\n",
      "23:28:15 Commencing optimization for 200 epochs, with 655210 positive edges\n",
      "\n",
      "23:28:42 Optimization finished\n",
      "\n",
      "Performing initial coarse-clustering...\n",
      "\n",
      "Further partitioning coarse clusters...\n",
      "\n",
      "Micro-pooling completed reducing 73325 cells into 7332 pools\n",
      "\n"
     ]
    }
   ],
   "source": [
    "expr_mat_2 <- prepare_pseudocell_matrix(mpt, \n",
    "                                      assay = \"SCT\", \n",
    "                                      slot = \"data\", \n",
    "                                      cells_per_partition = 10, \n",
    "                                      find_neighbors = FALSE,\n",
    "                                      reduction1 = \"harmony_peaks\",\n",
    "                                      reduction2 = \"harmony_RNA\",\n",
    "                                      dim_list = list(1:50, 1:50),\n",
    "                                      k.nn = 5,\n",
    "                                      seed = 489284)"
   ]
  },
  {
   "cell_type": "code",
   "execution_count": null,
   "id": "d5da47ec",
   "metadata": {},
   "outputs": [],
   "source": []
  },
  {
   "cell_type": "code",
   "execution_count": 23,
   "id": "7d78ab8c",
   "metadata": {},
   "outputs": [
    {
     "data": {
      "text/html": [
       "1471"
      ],
      "text/latex": [
       "1471"
      ],
      "text/markdown": [
       "1471"
      ],
      "text/plain": [
       "[1] 1471"
      ]
     },
     "metadata": {},
     "output_type": "display_data"
    },
    {
     "data": {
      "text/html": [
       "1471"
      ],
      "text/latex": [
       "1471"
      ],
      "text/markdown": [
       "1471"
      ],
      "text/plain": [
       "[1] 1471"
      ]
     },
     "metadata": {},
     "output_type": "display_data"
    }
   ],
   "source": [
    "length(gene_list)\n",
    "sum(gene_list %in% colnames(expr_mat_2))"
   ]
  },
  {
   "cell_type": "markdown",
   "id": "ff3e3386",
   "metadata": {},
   "source": [
    "### run_tf_aen"
   ]
  },
  {
   "cell_type": "code",
   "execution_count": 24,
   "id": "6337c7ef",
   "metadata": {},
   "outputs": [
    {
     "data": {
      "text/plain": [
       "[1] \"2023-06-30 23:41:54 CDT\""
      ]
     },
     "metadata": {},
     "output_type": "display_data"
    },
    {
     "name": "stdout",
     "output_type": "stream",
     "text": [
      "[1] \"Genes without any candidate TFs--most likely no linked peaks or promoter region peaks: BTBD2\" \n",
      "[2] \"Genes without any candidate TFs--most likely no linked peaks or promoter region peaks: NBPF20\"\n",
      "[3] \"Genes without any candidate TFs--most likely no linked peaks or promoter region peaks: AGAP6\" \n",
      "[4] \"Genes without any candidate TFs--most likely no linked peaks or promoter region peaks: SMN2\"  \n",
      "[5] \"Genes without any candidate TFs--most likely no linked peaks or promoter region peaks: DTX2\"  \n",
      "[6] \"Genes without any candidate TFs--most likely no linked peaks or promoter region peaks: GIGYF1\"\n",
      "[7] \"Genes without any candidate TFs--most likely no linked peaks or promoter region peaks: FAM21B\"\n",
      "[8] \"Genes without any candidate TFs--most likely no linked peaks or promoter region peaks: CBWD7\" \n",
      "[9] \"Genes without any candidate TFs--most likely no linked peaks or promoter region peaks: CDH18\" \n",
      "[1] \"AEN completed in 43.0119196335475\"\n"
     ]
    },
    {
     "name": "stderr",
     "output_type": "stream",
     "text": [
      "Loading required package: igraph\n",
      "\n",
      "\n",
      "Attaching package: ‘igraph’\n",
      "\n",
      "\n",
      "The following objects are masked from ‘package:future’:\n",
      "\n",
      "    %->%, %<-%\n",
      "\n",
      "\n",
      "The following objects are masked from ‘package:rtracklayer’:\n",
      "\n",
      "    blocks, path\n",
      "\n",
      "\n",
      "The following object is masked from ‘package:Biostrings’:\n",
      "\n",
      "    union\n",
      "\n",
      "\n",
      "The following object is masked from ‘package:XVector’:\n",
      "\n",
      "    path\n",
      "\n",
      "\n",
      "The following object is masked from ‘package:GenomicRanges’:\n",
      "\n",
      "    union\n",
      "\n",
      "\n",
      "The following object is masked from ‘package:IRanges’:\n",
      "\n",
      "    union\n",
      "\n",
      "\n",
      "The following object is masked from ‘package:S4Vectors’:\n",
      "\n",
      "    union\n",
      "\n",
      "\n",
      "The following objects are masked from ‘package:BiocGenerics’:\n",
      "\n",
      "    normalize, path, union\n",
      "\n",
      "\n",
      "The following objects are masked from ‘package:dplyr’:\n",
      "\n",
      "    as_data_frame, groups, union\n",
      "\n",
      "\n",
      "The following objects are masked from ‘package:purrr’:\n",
      "\n",
      "    compose, simplify\n",
      "\n",
      "\n",
      "The following object is masked from ‘package:tidyr’:\n",
      "\n",
      "    crossing\n",
      "\n",
      "\n",
      "The following object is masked from ‘package:tibble’:\n",
      "\n",
      "    as_data_frame\n",
      "\n",
      "\n",
      "The following objects are masked from ‘package:stats’:\n",
      "\n",
      "    decompose, spectrum\n",
      "\n",
      "\n",
      "The following object is masked from ‘package:base’:\n",
      "\n",
      "    union\n",
      "\n",
      "\n"
     ]
    },
    {
     "data": {
      "text/plain": [
       "[1] \"2023-07-01 00:26:17 CDT\""
      ]
     },
     "metadata": {},
     "output_type": "display_data"
    }
   ],
   "source": [
    "Sys.time()\n",
    "\n",
    "tf_results <- run_tf_aen(mpt, expr_mat_2, peak_results, gene_list, lambda2 = 0.5)\n",
    "\n",
    "regulator_tf_names <- unlist(novaseq.sub@assays$peaks@motifs@motif.names)\n",
    "\n",
    "regulator_tf_names <- regulator_tf_names[which(regulator_tf_names %in% rownames(GetAssayData(novaseq.sub, assay = \"SCT\")))]\n",
    "\n",
    "centrality_rankings <- rank_tfs_by_centrality(tf_results, novaseq.sub)\n",
    "\n",
    "Sys.time()"
   ]
  },
  {
   "cell_type": "code",
   "execution_count": 25,
   "id": "8d70cd93",
   "metadata": {},
   "outputs": [
    {
     "name": "stdout",
     "output_type": "stream",
     "text": [
      "[1] \"2023-07-01 00:26:17 CDT\"\n",
      "[1] \"centrality_rankings - Betweenness:\"\n",
      "     GLIS3      DNMT1      ESRRG      ZFHX3      NR1H4     BCL11A      RUNX1 \n",
      "36029.0500 31428.9310 23401.7214 21416.0071 12745.1262  8190.6881  8019.9429 \n",
      "       MAF       RARB       HBP1     ZNF75D        JUN       TFEC       NFYC \n",
      " 3937.5095  3859.3167  2534.2667  2159.7595  1758.4500  1402.6333  1146.1833 \n",
      "    POU6F2      FOXP1       ELF3      FOXN3     ZBTB7C       ATF1 \n",
      " 1104.5024   927.0000   660.4929   659.2833   483.0000   436.8667 \n",
      "[1] \"centrality_rankings - PageRank:\"\n",
      "      TCF12        NFIB        PAX8       GLIS3       ESRRG        SOX6 \n",
      "0.019624636 0.018442626 0.017476904 0.014657995 0.010693771 0.010601180 \n",
      "      NR1H4        RORA        ETV6       HNF4A       STAT1        KLF6 \n",
      "0.010144044 0.009840880 0.009688696 0.009456987 0.009216004 0.008851263 \n",
      "      PPARA       NFAT5       MEF2A       STAT3       TEAD1        NFIA \n",
      "0.008255799 0.007980012 0.007341864 0.007114467 0.006922345 0.006670303 \n",
      "     ARNTL2       HIF1A \n",
      "0.005742273 0.005377472 \n",
      "[1] \"2023-07-01 00:26:17 CDT\"\n",
      "[1] \"calculating rank_tfs...\"\n",
      "[1] \"2023-07-01 00:29:25 CDT\"\n"
     ]
    }
   ],
   "source": [
    "print(Sys.time())\n",
    "    \n",
    "print(\"centrality_rankings - Betweenness:\")\n",
    "print(head(centrality_rankings$Betweenness,20))\n",
    "print(\"centrality_rankings - PageRank:\")\n",
    "print(head(centrality_rankings$PageRank,20))\n",
    "\n",
    "print(Sys.time())\n",
    "print(\"calculating rank_tfs...\")\n",
    "tf_ranks = rank_tfs(tf_results, \n",
    "                    negative_genes = rownames(de_genes_BK)[which(de_genes_BK$logfoldchanges < 0)], \n",
    "                    seurat = mpt, \n",
    "                    num_cores =  1\n",
    "    )\n",
    "print(Sys.time())"
   ]
  },
  {
   "cell_type": "code",
   "execution_count": 26,
   "id": "80c3896f",
   "metadata": {},
   "outputs": [
    {
     "data": {
      "text/html": [
       "<table class=\"dataframe\">\n",
       "<caption>A data.frame: 20 × 3</caption>\n",
       "<thead>\n",
       "\t<tr><th></th><th scope=col>TF_name</th><th scope=col>Score</th><th scope=col>SE</th></tr>\n",
       "\t<tr><th></th><th scope=col>&lt;chr&gt;</th><th scope=col>&lt;dbl&gt;</th><th scope=col>&lt;dbl&gt;</th></tr>\n",
       "</thead>\n",
       "<tbody>\n",
       "\t<tr><th scope=row>PPARA</th><td>PPARA  </td><td>1.8817809</td><td>0.04537664</td></tr>\n",
       "\t<tr><th scope=row>HNF4A</th><td>HNF4A  </td><td>1.7123379</td><td>0.03380345</td></tr>\n",
       "\t<tr><th scope=row>ARNTL2</th><td>ARNTL2 </td><td>1.5350156</td><td>0.07229693</td></tr>\n",
       "\t<tr><th scope=row>DNMT1</th><td>DNMT1  </td><td>1.4133519</td><td>0.03961257</td></tr>\n",
       "\t<tr><th scope=row>ESRRG</th><td>ESRRG  </td><td>0.6965156</td><td>0.08920942</td></tr>\n",
       "\t<tr><th scope=row>SOX5</th><td>SOX5   </td><td>0.6240492</td><td>0.03170411</td></tr>\n",
       "\t<tr><th scope=row>BCL11A</th><td>BCL11A </td><td>0.5758600</td><td>0.03024291</td></tr>\n",
       "\t<tr><th scope=row>ZFHX3</th><td>ZFHX3  </td><td>0.5690468</td><td>0.02959775</td></tr>\n",
       "\t<tr><th scope=row>RUNX1</th><td>RUNX1  </td><td>0.5371439</td><td>0.03042104</td></tr>\n",
       "\t<tr><th scope=row>MECOM</th><td>MECOM  </td><td>0.4163723</td><td>0.04441629</td></tr>\n",
       "\t<tr><th scope=row>MAF</th><td>MAF    </td><td>0.3777863</td><td>0.01947636</td></tr>\n",
       "\t<tr><th scope=row>TFCP2L1</th><td>TFCP2L1</td><td>0.3702544</td><td>0.02996812</td></tr>\n",
       "\t<tr><th scope=row>NFATC3</th><td>NFATC3 </td><td>0.3573391</td><td>0.01818136</td></tr>\n",
       "\t<tr><th scope=row>THRB</th><td>THRB   </td><td>0.2581488</td><td>0.02461355</td></tr>\n",
       "\t<tr><th scope=row>NR3C2</th><td>NR3C2  </td><td>0.2495339</td><td>0.02551645</td></tr>\n",
       "\t<tr><th scope=row>VDR</th><td>VDR    </td><td>0.2211370</td><td>0.01217733</td></tr>\n",
       "\t<tr><th scope=row>PBX1</th><td>PBX1   </td><td>0.2103891</td><td>0.03861032</td></tr>\n",
       "\t<tr><th scope=row>TFAP2D</th><td>TFAP2D </td><td>0.2025561</td><td>0.01247117</td></tr>\n",
       "\t<tr><th scope=row>TFEC</th><td>TFEC   </td><td>0.1982614</td><td>0.01370321</td></tr>\n",
       "\t<tr><th scope=row>RXRA</th><td>RXRA   </td><td>0.1970482</td><td>0.01323763</td></tr>\n",
       "</tbody>\n",
       "</table>\n"
      ],
      "text/latex": [
       "A data.frame: 20 × 3\n",
       "\\begin{tabular}{r|lll}\n",
       "  & TF\\_name & Score & SE\\\\\n",
       "  & <chr> & <dbl> & <dbl>\\\\\n",
       "\\hline\n",
       "\tPPARA & PPARA   & 1.8817809 & 0.04537664\\\\\n",
       "\tHNF4A & HNF4A   & 1.7123379 & 0.03380345\\\\\n",
       "\tARNTL2 & ARNTL2  & 1.5350156 & 0.07229693\\\\\n",
       "\tDNMT1 & DNMT1   & 1.4133519 & 0.03961257\\\\\n",
       "\tESRRG & ESRRG   & 0.6965156 & 0.08920942\\\\\n",
       "\tSOX5 & SOX5    & 0.6240492 & 0.03170411\\\\\n",
       "\tBCL11A & BCL11A  & 0.5758600 & 0.03024291\\\\\n",
       "\tZFHX3 & ZFHX3   & 0.5690468 & 0.02959775\\\\\n",
       "\tRUNX1 & RUNX1   & 0.5371439 & 0.03042104\\\\\n",
       "\tMECOM & MECOM   & 0.4163723 & 0.04441629\\\\\n",
       "\tMAF & MAF     & 0.3777863 & 0.01947636\\\\\n",
       "\tTFCP2L1 & TFCP2L1 & 0.3702544 & 0.02996812\\\\\n",
       "\tNFATC3 & NFATC3  & 0.3573391 & 0.01818136\\\\\n",
       "\tTHRB & THRB    & 0.2581488 & 0.02461355\\\\\n",
       "\tNR3C2 & NR3C2   & 0.2495339 & 0.02551645\\\\\n",
       "\tVDR & VDR     & 0.2211370 & 0.01217733\\\\\n",
       "\tPBX1 & PBX1    & 0.2103891 & 0.03861032\\\\\n",
       "\tTFAP2D & TFAP2D  & 0.2025561 & 0.01247117\\\\\n",
       "\tTFEC & TFEC    & 0.1982614 & 0.01370321\\\\\n",
       "\tRXRA & RXRA    & 0.1970482 & 0.01323763\\\\\n",
       "\\end{tabular}\n"
      ],
      "text/markdown": [
       "\n",
       "A data.frame: 20 × 3\n",
       "\n",
       "| <!--/--> | TF_name &lt;chr&gt; | Score &lt;dbl&gt; | SE &lt;dbl&gt; |\n",
       "|---|---|---|---|\n",
       "| PPARA | PPARA   | 1.8817809 | 0.04537664 |\n",
       "| HNF4A | HNF4A   | 1.7123379 | 0.03380345 |\n",
       "| ARNTL2 | ARNTL2  | 1.5350156 | 0.07229693 |\n",
       "| DNMT1 | DNMT1   | 1.4133519 | 0.03961257 |\n",
       "| ESRRG | ESRRG   | 0.6965156 | 0.08920942 |\n",
       "| SOX5 | SOX5    | 0.6240492 | 0.03170411 |\n",
       "| BCL11A | BCL11A  | 0.5758600 | 0.03024291 |\n",
       "| ZFHX3 | ZFHX3   | 0.5690468 | 0.02959775 |\n",
       "| RUNX1 | RUNX1   | 0.5371439 | 0.03042104 |\n",
       "| MECOM | MECOM   | 0.4163723 | 0.04441629 |\n",
       "| MAF | MAF     | 0.3777863 | 0.01947636 |\n",
       "| TFCP2L1 | TFCP2L1 | 0.3702544 | 0.02996812 |\n",
       "| NFATC3 | NFATC3  | 0.3573391 | 0.01818136 |\n",
       "| THRB | THRB    | 0.2581488 | 0.02461355 |\n",
       "| NR3C2 | NR3C2   | 0.2495339 | 0.02551645 |\n",
       "| VDR | VDR     | 0.2211370 | 0.01217733 |\n",
       "| PBX1 | PBX1    | 0.2103891 | 0.03861032 |\n",
       "| TFAP2D | TFAP2D  | 0.2025561 | 0.01247117 |\n",
       "| TFEC | TFEC    | 0.1982614 | 0.01370321 |\n",
       "| RXRA | RXRA    | 0.1970482 | 0.01323763 |\n",
       "\n"
      ],
      "text/plain": [
       "        TF_name Score     SE        \n",
       "PPARA   PPARA   1.8817809 0.04537664\n",
       "HNF4A   HNF4A   1.7123379 0.03380345\n",
       "ARNTL2  ARNTL2  1.5350156 0.07229693\n",
       "DNMT1   DNMT1   1.4133519 0.03961257\n",
       "ESRRG   ESRRG   0.6965156 0.08920942\n",
       "SOX5    SOX5    0.6240492 0.03170411\n",
       "BCL11A  BCL11A  0.5758600 0.03024291\n",
       "ZFHX3   ZFHX3   0.5690468 0.02959775\n",
       "RUNX1   RUNX1   0.5371439 0.03042104\n",
       "MECOM   MECOM   0.4163723 0.04441629\n",
       "MAF     MAF     0.3777863 0.01947636\n",
       "TFCP2L1 TFCP2L1 0.3702544 0.02996812\n",
       "NFATC3  NFATC3  0.3573391 0.01818136\n",
       "THRB    THRB    0.2581488 0.02461355\n",
       "NR3C2   NR3C2   0.2495339 0.02551645\n",
       "VDR     VDR     0.2211370 0.01217733\n",
       "PBX1    PBX1    0.2103891 0.03861032\n",
       "TFAP2D  TFAP2D  0.2025561 0.01247117\n",
       "TFEC    TFEC    0.1982614 0.01370321\n",
       "RXRA    RXRA    0.1970482 0.01323763"
      ]
     },
     "metadata": {},
     "output_type": "display_data"
    },
    {
     "data": {
      "text/html": [
       "<table class=\"dataframe\">\n",
       "<caption>A data.frame: 20 × 3</caption>\n",
       "<thead>\n",
       "\t<tr><th></th><th scope=col>TF_name</th><th scope=col>Score</th><th scope=col>SE</th></tr>\n",
       "\t<tr><th></th><th scope=col>&lt;chr&gt;</th><th scope=col>&lt;dbl&gt;</th><th scope=col>&lt;dbl&gt;</th></tr>\n",
       "</thead>\n",
       "<tbody>\n",
       "\t<tr><th scope=row>HIVEP2</th><td>HIVEP2</td><td>-0.3710029</td><td>0.01903864</td></tr>\n",
       "\t<tr><th scope=row>FOXP2</th><td>FOXP2 </td><td>-0.4307060</td><td>0.02562943</td></tr>\n",
       "\t<tr><th scope=row>TEAD1</th><td>TEAD1 </td><td>-0.4641859</td><td>0.04508974</td></tr>\n",
       "\t<tr><th scope=row>CREB5</th><td>CREB5 </td><td>-0.4690078</td><td>0.01603769</td></tr>\n",
       "\t<tr><th scope=row>HIF1A</th><td>HIF1A </td><td>-0.4900706</td><td>0.02270890</td></tr>\n",
       "\t<tr><th scope=row>ZNF148</th><td>ZNF148</td><td>-0.4958536</td><td>0.02928001</td></tr>\n",
       "\t<tr><th scope=row>MITF</th><td>MITF  </td><td>-0.5163732</td><td>0.02284001</td></tr>\n",
       "\t<tr><th scope=row>KLF6</th><td>KLF6  </td><td>-0.5183941</td><td>0.01630609</td></tr>\n",
       "\t<tr><th scope=row>STAT3</th><td>STAT3 </td><td>-0.5348554</td><td>0.02898480</td></tr>\n",
       "\t<tr><th scope=row>RORA</th><td>RORA  </td><td>-0.5532690</td><td>0.05723707</td></tr>\n",
       "\t<tr><th scope=row>STAT1</th><td>STAT1 </td><td>-0.5726136</td><td>0.02537121</td></tr>\n",
       "\t<tr><th scope=row>NFIA</th><td>NFIA  </td><td>-0.6025225</td><td>0.04018347</td></tr>\n",
       "\t<tr><th scope=row>SOX6</th><td>SOX6  </td><td>-0.7178316</td><td>0.04920169</td></tr>\n",
       "\t<tr><th scope=row>MEF2A</th><td>MEF2A </td><td>-0.8311176</td><td>0.02884048</td></tr>\n",
       "\t<tr><th scope=row>NFAT5</th><td>NFAT5 </td><td>-0.8699760</td><td>0.03413257</td></tr>\n",
       "\t<tr><th scope=row>ETV6</th><td>ETV6  </td><td>-1.0126109</td><td>0.03075547</td></tr>\n",
       "\t<tr><th scope=row>NFIB</th><td>NFIB  </td><td>-1.5189093</td><td>0.06576907</td></tr>\n",
       "\t<tr><th scope=row>PAX8</th><td>PAX8  </td><td>-1.7052499</td><td>0.04699601</td></tr>\n",
       "\t<tr><th scope=row>TCF12</th><td>TCF12 </td><td>-2.0781457</td><td>0.06143601</td></tr>\n",
       "\t<tr><th scope=row>GLIS3</th><td>GLIS3 </td><td>-2.2221852</td><td>0.04743985</td></tr>\n",
       "</tbody>\n",
       "</table>\n"
      ],
      "text/latex": [
       "A data.frame: 20 × 3\n",
       "\\begin{tabular}{r|lll}\n",
       "  & TF\\_name & Score & SE\\\\\n",
       "  & <chr> & <dbl> & <dbl>\\\\\n",
       "\\hline\n",
       "\tHIVEP2 & HIVEP2 & -0.3710029 & 0.01903864\\\\\n",
       "\tFOXP2 & FOXP2  & -0.4307060 & 0.02562943\\\\\n",
       "\tTEAD1 & TEAD1  & -0.4641859 & 0.04508974\\\\\n",
       "\tCREB5 & CREB5  & -0.4690078 & 0.01603769\\\\\n",
       "\tHIF1A & HIF1A  & -0.4900706 & 0.02270890\\\\\n",
       "\tZNF148 & ZNF148 & -0.4958536 & 0.02928001\\\\\n",
       "\tMITF & MITF   & -0.5163732 & 0.02284001\\\\\n",
       "\tKLF6 & KLF6   & -0.5183941 & 0.01630609\\\\\n",
       "\tSTAT3 & STAT3  & -0.5348554 & 0.02898480\\\\\n",
       "\tRORA & RORA   & -0.5532690 & 0.05723707\\\\\n",
       "\tSTAT1 & STAT1  & -0.5726136 & 0.02537121\\\\\n",
       "\tNFIA & NFIA   & -0.6025225 & 0.04018347\\\\\n",
       "\tSOX6 & SOX6   & -0.7178316 & 0.04920169\\\\\n",
       "\tMEF2A & MEF2A  & -0.8311176 & 0.02884048\\\\\n",
       "\tNFAT5 & NFAT5  & -0.8699760 & 0.03413257\\\\\n",
       "\tETV6 & ETV6   & -1.0126109 & 0.03075547\\\\\n",
       "\tNFIB & NFIB   & -1.5189093 & 0.06576907\\\\\n",
       "\tPAX8 & PAX8   & -1.7052499 & 0.04699601\\\\\n",
       "\tTCF12 & TCF12  & -2.0781457 & 0.06143601\\\\\n",
       "\tGLIS3 & GLIS3  & -2.2221852 & 0.04743985\\\\\n",
       "\\end{tabular}\n"
      ],
      "text/markdown": [
       "\n",
       "A data.frame: 20 × 3\n",
       "\n",
       "| <!--/--> | TF_name &lt;chr&gt; | Score &lt;dbl&gt; | SE &lt;dbl&gt; |\n",
       "|---|---|---|---|\n",
       "| HIVEP2 | HIVEP2 | -0.3710029 | 0.01903864 |\n",
       "| FOXP2 | FOXP2  | -0.4307060 | 0.02562943 |\n",
       "| TEAD1 | TEAD1  | -0.4641859 | 0.04508974 |\n",
       "| CREB5 | CREB5  | -0.4690078 | 0.01603769 |\n",
       "| HIF1A | HIF1A  | -0.4900706 | 0.02270890 |\n",
       "| ZNF148 | ZNF148 | -0.4958536 | 0.02928001 |\n",
       "| MITF | MITF   | -0.5163732 | 0.02284001 |\n",
       "| KLF6 | KLF6   | -0.5183941 | 0.01630609 |\n",
       "| STAT3 | STAT3  | -0.5348554 | 0.02898480 |\n",
       "| RORA | RORA   | -0.5532690 | 0.05723707 |\n",
       "| STAT1 | STAT1  | -0.5726136 | 0.02537121 |\n",
       "| NFIA | NFIA   | -0.6025225 | 0.04018347 |\n",
       "| SOX6 | SOX6   | -0.7178316 | 0.04920169 |\n",
       "| MEF2A | MEF2A  | -0.8311176 | 0.02884048 |\n",
       "| NFAT5 | NFAT5  | -0.8699760 | 0.03413257 |\n",
       "| ETV6 | ETV6   | -1.0126109 | 0.03075547 |\n",
       "| NFIB | NFIB   | -1.5189093 | 0.06576907 |\n",
       "| PAX8 | PAX8   | -1.7052499 | 0.04699601 |\n",
       "| TCF12 | TCF12  | -2.0781457 | 0.06143601 |\n",
       "| GLIS3 | GLIS3  | -2.2221852 | 0.04743985 |\n",
       "\n"
      ],
      "text/plain": [
       "       TF_name Score      SE        \n",
       "HIVEP2 HIVEP2  -0.3710029 0.01903864\n",
       "FOXP2  FOXP2   -0.4307060 0.02562943\n",
       "TEAD1  TEAD1   -0.4641859 0.04508974\n",
       "CREB5  CREB5   -0.4690078 0.01603769\n",
       "HIF1A  HIF1A   -0.4900706 0.02270890\n",
       "ZNF148 ZNF148  -0.4958536 0.02928001\n",
       "MITF   MITF    -0.5163732 0.02284001\n",
       "KLF6   KLF6    -0.5183941 0.01630609\n",
       "STAT3  STAT3   -0.5348554 0.02898480\n",
       "RORA   RORA    -0.5532690 0.05723707\n",
       "STAT1  STAT1   -0.5726136 0.02537121\n",
       "NFIA   NFIA    -0.6025225 0.04018347\n",
       "SOX6   SOX6    -0.7178316 0.04920169\n",
       "MEF2A  MEF2A   -0.8311176 0.02884048\n",
       "NFAT5  NFAT5   -0.8699760 0.03413257\n",
       "ETV6   ETV6    -1.0126109 0.03075547\n",
       "NFIB   NFIB    -1.5189093 0.06576907\n",
       "PAX8   PAX8    -1.7052499 0.04699601\n",
       "TCF12  TCF12   -2.0781457 0.06143601\n",
       "GLIS3  GLIS3   -2.2221852 0.04743985"
      ]
     },
     "metadata": {},
     "output_type": "display_data"
    }
   ],
   "source": [
    "head(tf_ranks,20)\n",
    "tail(tf_ranks,20)"
   ]
  },
  {
   "cell_type": "code",
   "execution_count": 27,
   "id": "eacba4e3",
   "metadata": {},
   "outputs": [],
   "source": [
    "save(list=c(\"gene_list\", \"aen_lists\", \"de_genes_BK\", \"tf_results\", \"tf_ranks\", \"regulator_tf_names\", \"centrality_rankings\", \"peak_results\"), \n",
    "     file = file.path(processed_dir, paste0(\"RENIN_324701_cells_\", FindMarkers_ident_1, \"_vs_\", FindMarkers_ident_2, \".RData\")), compress = T)"
   ]
  },
  {
   "cell_type": "code",
   "execution_count": null,
   "id": "9c4466a7",
   "metadata": {},
   "outputs": [],
   "source": []
  },
  {
   "cell_type": "code",
   "execution_count": 28,
   "id": "9cb265fe",
   "metadata": {},
   "outputs": [
    {
     "data": {
      "text/plain": [
       "[1] \"2023-07-01 00:29:47 CDT\""
      ]
     },
     "metadata": {},
     "output_type": "display_data"
    }
   ],
   "source": [
    "Sys.time()"
   ]
  },
  {
   "cell_type": "code",
   "execution_count": null,
   "id": "27eeab21",
   "metadata": {},
   "outputs": [],
   "source": []
  },
  {
   "cell_type": "code",
   "execution_count": null,
   "id": "6eb8ed09",
   "metadata": {},
   "outputs": [],
   "source": []
  },
  {
   "cell_type": "code",
   "execution_count": null,
   "id": "1c8a0a92",
   "metadata": {},
   "outputs": [],
   "source": []
  },
  {
   "cell_type": "code",
   "execution_count": null,
   "id": "f382a47d",
   "metadata": {},
   "outputs": [],
   "source": []
  },
  {
   "cell_type": "code",
   "execution_count": null,
   "id": "12354af8",
   "metadata": {},
   "outputs": [],
   "source": []
  },
  {
   "cell_type": "code",
   "execution_count": null,
   "id": "79bf3a9d",
   "metadata": {},
   "outputs": [],
   "source": []
  },
  {
   "cell_type": "code",
   "execution_count": null,
   "id": "cfde586b",
   "metadata": {},
   "outputs": [],
   "source": []
  },
  {
   "cell_type": "code",
   "execution_count": null,
   "id": "9a13ff35",
   "metadata": {},
   "outputs": [],
   "source": []
  }
 ],
 "metadata": {
  "kernelspec": {
   "display_name": "R",
   "language": "R",
   "name": "ir"
  },
  "language_info": {
   "codemirror_mode": "r",
   "file_extension": ".r",
   "mimetype": "text/x-r-source",
   "name": "R",
   "pygments_lexer": "r",
   "version": "4.2.2"
  }
 },
 "nbformat": 4,
 "nbformat_minor": 5
}
