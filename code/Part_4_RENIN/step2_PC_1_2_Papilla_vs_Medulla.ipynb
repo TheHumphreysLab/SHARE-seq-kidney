{
 "cells": [
  {
   "cell_type": "code",
   "execution_count": 1,
   "id": "5a5f9755",
   "metadata": {
    "scrolled": false
   },
   "outputs": [
    {
     "name": "stderr",
     "output_type": "stream",
     "text": [
      "Attaching SeuratObject\n",
      "\n",
      "Attaching sp\n",
      "\n",
      "\n",
      "Attaching package: ‘Signac’\n",
      "\n",
      "\n",
      "The following object is masked from ‘package:Seurat’:\n",
      "\n",
      "    FoldChange\n",
      "\n",
      "\n",
      "── \u001b[1mAttaching packages\u001b[22m ──────────────────────────────────────────────────────── tidyverse 1.3.2 ──\n",
      "\u001b[32m✔\u001b[39m \u001b[34mggplot2\u001b[39m 3.4.1     \u001b[32m✔\u001b[39m \u001b[34mpurrr  \u001b[39m 0.3.4\n",
      "\u001b[32m✔\u001b[39m \u001b[34mtibble \u001b[39m 3.1.8     \u001b[32m✔\u001b[39m \u001b[34mdplyr  \u001b[39m 1.0.9\n",
      "\u001b[32m✔\u001b[39m \u001b[34mtidyr  \u001b[39m 1.2.0     \u001b[32m✔\u001b[39m \u001b[34mstringr\u001b[39m 1.4.0\n",
      "\u001b[32m✔\u001b[39m \u001b[34mreadr  \u001b[39m 2.1.2     \u001b[32m✔\u001b[39m \u001b[34mforcats\u001b[39m 0.5.1\n",
      "── \u001b[1mConflicts\u001b[22m ─────────────────────────────────────────────────────────── tidyverse_conflicts() ──\n",
      "\u001b[31m✖\u001b[39m \u001b[34mdplyr\u001b[39m::\u001b[32mfilter()\u001b[39m masks \u001b[34mstats\u001b[39m::filter()\n",
      "\u001b[31m✖\u001b[39m \u001b[34mdplyr\u001b[39m::\u001b[32mlag()\u001b[39m    masks \u001b[34mstats\u001b[39m::lag()\n",
      "\u001b[31m✖\u001b[39m \u001b[34mpurrr\u001b[39m::\u001b[32mreduce()\u001b[39m masks \u001b[34mSignac\u001b[39m::reduce()\n",
      "\n",
      "\n",
      "Warning message:\n",
      "“no function found corresponding to methods exports from ‘BSgenome’ for: ‘releaseName’”\n",
      "Loading required package: BSgenome\n",
      "\n",
      "Loading required package: BiocGenerics\n",
      "\n",
      "Loading required package: parallel\n",
      "\n",
      "\n",
      "Attaching package: ‘BiocGenerics’\n",
      "\n",
      "\n",
      "The following objects are masked from ‘package:parallel’:\n",
      "\n",
      "    clusterApply, clusterApplyLB, clusterCall, clusterEvalQ,\n",
      "    clusterExport, clusterMap, parApply, parCapply, parLapply,\n",
      "    parLapplyLB, parRapply, parSapply, parSapplyLB\n",
      "\n",
      "\n",
      "The following objects are masked from ‘package:dplyr’:\n",
      "\n",
      "    combine, intersect, setdiff, union\n",
      "\n",
      "\n",
      "The following objects are masked from ‘package:stats’:\n",
      "\n",
      "    IQR, mad, sd, var, xtabs\n",
      "\n",
      "\n",
      "The following objects are masked from ‘package:base’:\n",
      "\n",
      "    anyDuplicated, append, as.data.frame, basename, cbind, colnames,\n",
      "    dirname, do.call, duplicated, eval, evalq, Filter, Find, get, grep,\n",
      "    grepl, intersect, is.unsorted, lapply, Map, mapply, match, mget,\n",
      "    order, paste, pmax, pmax.int, pmin, pmin.int, Position, rank,\n",
      "    rbind, Reduce, rownames, sapply, setdiff, sort, table, tapply,\n",
      "    union, unique, unsplit, which.max, which.min\n",
      "\n",
      "\n",
      "Loading required package: S4Vectors\n",
      "\n",
      "Loading required package: stats4\n",
      "\n",
      "\n",
      "Attaching package: ‘S4Vectors’\n",
      "\n",
      "\n",
      "The following objects are masked from ‘package:dplyr’:\n",
      "\n",
      "    first, rename\n",
      "\n",
      "\n",
      "The following object is masked from ‘package:tidyr’:\n",
      "\n",
      "    expand\n",
      "\n",
      "\n",
      "The following objects are masked from ‘package:base’:\n",
      "\n",
      "    expand.grid, I, unname\n",
      "\n",
      "\n",
      "Loading required package: IRanges\n",
      "\n",
      "\n",
      "Attaching package: ‘IRanges’\n",
      "\n",
      "\n",
      "The following objects are masked from ‘package:dplyr’:\n",
      "\n",
      "    collapse, desc, slice\n",
      "\n",
      "\n",
      "The following object is masked from ‘package:purrr’:\n",
      "\n",
      "    reduce\n",
      "\n",
      "\n",
      "The following object is masked from ‘package:sp’:\n",
      "\n",
      "    %over%\n",
      "\n",
      "\n",
      "Loading required package: GenomeInfoDb\n",
      "\n",
      "Loading required package: GenomicRanges\n",
      "\n",
      "Loading required package: Biostrings\n",
      "\n",
      "Loading required package: XVector\n",
      "\n",
      "\n",
      "Attaching package: ‘XVector’\n",
      "\n",
      "\n",
      "The following object is masked from ‘package:purrr’:\n",
      "\n",
      "    compact\n",
      "\n",
      "\n",
      "\n",
      "Attaching package: ‘Biostrings’\n",
      "\n",
      "\n",
      "The following object is masked from ‘package:base’:\n",
      "\n",
      "    strsplit\n",
      "\n",
      "\n",
      "Loading required package: rtracklayer\n",
      "\n"
     ]
    }
   ],
   "source": [
    "library(Seurat)\n",
    "library(Signac)\n",
    "library(SeuratWrappers)\n",
    "library(RENIN)\n",
    "library(tidyverse)\n",
    "library(chromVARmotifs)\n",
    "library(BSgenome.Hsapiens.UCSC.hg19)"
   ]
  },
  {
   "cell_type": "markdown",
   "id": "2dc24966",
   "metadata": {},
   "source": [
    "## define the two ident to compare in FindMarkers function"
   ]
  },
  {
   "cell_type": "code",
   "execution_count": 2,
   "id": "7b858190",
   "metadata": {},
   "outputs": [],
   "source": [
    "FindMarkers_ident_1 = \"Papilla\"\n",
    "FindMarkers_ident_2 = \"Medulla\"\n",
    "\n",
    "celltype_subset = c(\"PC1\", \"PC2\")"
   ]
  },
  {
   "cell_type": "code",
   "execution_count": 3,
   "id": "77782b23",
   "metadata": {},
   "outputs": [],
   "source": [
    "de_gene_file = \"../../processed_data/RENIN/de_genes/446267_cells_RNA/PC_rank_genes_groups_p_vs_m_20230425.RData\""
   ]
  },
  {
   "cell_type": "code",
   "execution_count": 4,
   "id": "7484a1a0",
   "metadata": {},
   "outputs": [
    {
     "data": {
      "text/html": [
       "'../../processed_data/RENIN/by_regions/PC1_PC2'"
      ],
      "text/latex": [
       "'../../processed\\_data/RENIN/by\\_regions/PC1\\_PC2'"
      ],
      "text/markdown": [
       "'../../processed_data/RENIN/by_regions/PC1_PC2'"
      ],
      "text/plain": [
       "[1] \"../../processed_data/RENIN/by_regions/PC1_PC2\""
      ]
     },
     "metadata": {},
     "output_type": "display_data"
    }
   ],
   "source": [
    "processed_dir = file.path(\"..\", \"..\", \"processed_data\", \"RENIN\", \"by_regions\", paste0(gsub(pattern = \"\\\\/\", \"_\", paste(celltype_subset, collapse = \"_\"))))\n",
    "processed_dir\n",
    "dir.create(processed_dir, recursive = T, showWarnings = F)"
   ]
  },
  {
   "cell_type": "markdown",
   "id": "7923c586",
   "metadata": {},
   "source": [
    "### load previously calculated image which includes expr_mat, peak_mat, novaseq.sub. This could save time for dealing with new de_gene for different clusters while sharing the same novaseq.sub object"
   ]
  },
  {
   "cell_type": "code",
   "execution_count": 5,
   "id": "a014ce77",
   "metadata": {},
   "outputs": [
    {
     "data": {
      "text/plain": [
       "[1] \"2023-07-03 14:52:54 CDT\""
      ]
     },
     "metadata": {},
     "output_type": "display_data"
    },
    {
     "data": {
      "text/plain": [
       "[1] \"2023-07-03 14:58:53 CDT\""
      ]
     },
     "metadata": {},
     "output_type": "display_data"
    }
   ],
   "source": [
    "Sys.time()\n",
    "load(\"../../processed_data/RENIN/RENIN_324701_cells_preprocess.RData\")\n",
    "Sys.time()"
   ]
  },
  {
   "cell_type": "code",
   "execution_count": 6,
   "id": "7378c09c",
   "metadata": {},
   "outputs": [
    {
     "data": {
      "text/plain": [
       "An object of class Seurat \n",
       "237522 features across 324701 samples within 2 assays \n",
       "Active assay: peaks (189184 features, 189184 variable features)\n",
       " 1 other assay present: SCT\n",
       " 6 dimensional reductions calculated: pca, harmony_RNA, lsi, harmony_peaks, umap.peaks, WNN.UMAP"
      ]
     },
     "metadata": {},
     "output_type": "display_data"
    },
    {
     "data": {
      "text/plain": [
       "\n",
       "      JGA       POD       PEC        PT PT_dediff  PT_VCAM1       tL1       tL2 \n",
       "     2465      3179      1239     64880     29494      8445     25438      9029 \n",
       "   tL-TAL      TAL1      TAL2      TAL3       DCT       CNT       PC1       PC2 \n",
       "    15485     29910     19724      8900     14150     13197     16140      4049 \n",
       "      ICA       ICB      Uro1      Uro2      ENDO      SMC1      SMC2      SMC3 \n",
       "    10579      4120      3210       682     12847      4272       156        86 \n",
       "     Fib1      Fib2      Fib3        Ma        BT \n",
       "     3786      7191      3095      3673      5280 "
      ]
     },
     "metadata": {},
     "output_type": "display_data"
    }
   ],
   "source": [
    "novaseq.sub\n",
    "table(novaseq.sub$celltype5_rna)"
   ]
  },
  {
   "cell_type": "code",
   "execution_count": 7,
   "id": "f5ee7fc7",
   "metadata": {},
   "outputs": [
    {
     "data": {
      "text/html": [
       "<style>\n",
       ".list-inline {list-style: none; margin:0; padding: 0}\n",
       ".list-inline>li {display: inline-block}\n",
       ".list-inline>li:not(:last-child)::after {content: \"\\00b7\"; padding: 0 .5ex}\n",
       "</style>\n",
       "<ol class=list-inline><li>'celltype_subset'</li><li>'de_gene_file'</li><li>'expr_mat'</li><li>'FindMarkers_ident_1'</li><li>'FindMarkers_ident_2'</li><li>'level.novaseq'</li><li>'level.novaseq.renal_region_new'</li><li>'level.novaseq.rna'</li><li>'novaseq.sub'</li><li>'palette.novaseq'</li><li>'palette.novaseq.renal_region_new'</li><li>'palette.novaseq.rna'</li><li>'peak_mat'</li><li>'processed_dir'</li></ol>\n"
      ],
      "text/latex": [
       "\\begin{enumerate*}\n",
       "\\item 'celltype\\_subset'\n",
       "\\item 'de\\_gene\\_file'\n",
       "\\item 'expr\\_mat'\n",
       "\\item 'FindMarkers\\_ident\\_1'\n",
       "\\item 'FindMarkers\\_ident\\_2'\n",
       "\\item 'level.novaseq'\n",
       "\\item 'level.novaseq.renal\\_region\\_new'\n",
       "\\item 'level.novaseq.rna'\n",
       "\\item 'novaseq.sub'\n",
       "\\item 'palette.novaseq'\n",
       "\\item 'palette.novaseq.renal\\_region\\_new'\n",
       "\\item 'palette.novaseq.rna'\n",
       "\\item 'peak\\_mat'\n",
       "\\item 'processed\\_dir'\n",
       "\\end{enumerate*}\n"
      ],
      "text/markdown": [
       "1. 'celltype_subset'\n",
       "2. 'de_gene_file'\n",
       "3. 'expr_mat'\n",
       "4. 'FindMarkers_ident_1'\n",
       "5. 'FindMarkers_ident_2'\n",
       "6. 'level.novaseq'\n",
       "7. 'level.novaseq.renal_region_new'\n",
       "8. 'level.novaseq.rna'\n",
       "9. 'novaseq.sub'\n",
       "10. 'palette.novaseq'\n",
       "11. 'palette.novaseq.renal_region_new'\n",
       "12. 'palette.novaseq.rna'\n",
       "13. 'peak_mat'\n",
       "14. 'processed_dir'\n",
       "\n",
       "\n"
      ],
      "text/plain": [
       " [1] \"celltype_subset\"                  \"de_gene_file\"                    \n",
       " [3] \"expr_mat\"                         \"FindMarkers_ident_1\"             \n",
       " [5] \"FindMarkers_ident_2\"              \"level.novaseq\"                   \n",
       " [7] \"level.novaseq.renal_region_new\"   \"level.novaseq.rna\"               \n",
       " [9] \"novaseq.sub\"                      \"palette.novaseq\"                 \n",
       "[11] \"palette.novaseq.renal_region_new\" \"palette.novaseq.rna\"             \n",
       "[13] \"peak_mat\"                         \"processed_dir\"                   "
      ]
     },
     "metadata": {},
     "output_type": "display_data"
    }
   ],
   "source": [
    "ls()"
   ]
  },
  {
   "cell_type": "code",
   "execution_count": 8,
   "id": "ea7f2396",
   "metadata": {},
   "outputs": [],
   "source": [
    "## subset novaseq.sub again to only include the celltypes of interest"
   ]
  },
  {
   "cell_type": "code",
   "execution_count": 9,
   "id": "6846e163",
   "metadata": {},
   "outputs": [
    {
     "data": {
      "text/plain": [
       "An object of class Seurat \n",
       "237522 features across 20189 samples within 2 assays \n",
       "Active assay: peaks (189184 features, 189184 variable features)\n",
       " 1 other assay present: SCT\n",
       " 6 dimensional reductions calculated: pca, harmony_RNA, lsi, harmony_peaks, umap.peaks, WNN.UMAP"
      ]
     },
     "metadata": {},
     "output_type": "display_data"
    },
    {
     "data": {
      "text/plain": [
       "\n",
       "      JGA       POD       PEC        PT PT_dediff  PT_VCAM1       tL1       tL2 \n",
       "        0         0         0         0         0         0         0         0 \n",
       "   tL-TAL      TAL1      TAL2      TAL3       DCT       CNT       PC1       PC2 \n",
       "        0         0         0         0         0         0     16140      4049 \n",
       "      ICA       ICB      Uro1      Uro2      ENDO      SMC1      SMC2      SMC3 \n",
       "        0         0         0         0         0         0         0         0 \n",
       "     Fib1      Fib2      Fib3        Ma        BT \n",
       "        0         0         0         0         0 "
      ]
     },
     "metadata": {},
     "output_type": "display_data"
    }
   ],
   "source": [
    "novaseq.sub = subset(novaseq.sub, celltype5_rna %in% celltype_subset)\n",
    "novaseq.sub\n",
    "table(novaseq.sub$celltype5_rna)"
   ]
  },
  {
   "cell_type": "code",
   "execution_count": 10,
   "id": "16c607fc",
   "metadata": {},
   "outputs": [
    {
     "data": {
      "text/html": [
       "<style>\n",
       ".list-inline {list-style: none; margin:0; padding: 0}\n",
       ".list-inline>li {display: inline-block}\n",
       ".list-inline>li:not(:last-child)::after {content: \"\\00b7\"; padding: 0 .5ex}\n",
       "</style>\n",
       "<ol class=list-inline><li>'celltype_subset'</li><li>'de_gene_file'</li><li>'expr_mat'</li><li>'FindMarkers_ident_1'</li><li>'FindMarkers_ident_2'</li><li>'level.novaseq'</li><li>'level.novaseq.renal_region_new'</li><li>'level.novaseq.rna'</li><li>'novaseq.sub'</li><li>'palette.novaseq'</li><li>'palette.novaseq.renal_region_new'</li><li>'palette.novaseq.rna'</li><li>'peak_mat'</li><li>'processed_dir'</li></ol>\n"
      ],
      "text/latex": [
       "\\begin{enumerate*}\n",
       "\\item 'celltype\\_subset'\n",
       "\\item 'de\\_gene\\_file'\n",
       "\\item 'expr\\_mat'\n",
       "\\item 'FindMarkers\\_ident\\_1'\n",
       "\\item 'FindMarkers\\_ident\\_2'\n",
       "\\item 'level.novaseq'\n",
       "\\item 'level.novaseq.renal\\_region\\_new'\n",
       "\\item 'level.novaseq.rna'\n",
       "\\item 'novaseq.sub'\n",
       "\\item 'palette.novaseq'\n",
       "\\item 'palette.novaseq.renal\\_region\\_new'\n",
       "\\item 'palette.novaseq.rna'\n",
       "\\item 'peak\\_mat'\n",
       "\\item 'processed\\_dir'\n",
       "\\end{enumerate*}\n"
      ],
      "text/markdown": [
       "1. 'celltype_subset'\n",
       "2. 'de_gene_file'\n",
       "3. 'expr_mat'\n",
       "4. 'FindMarkers_ident_1'\n",
       "5. 'FindMarkers_ident_2'\n",
       "6. 'level.novaseq'\n",
       "7. 'level.novaseq.renal_region_new'\n",
       "8. 'level.novaseq.rna'\n",
       "9. 'novaseq.sub'\n",
       "10. 'palette.novaseq'\n",
       "11. 'palette.novaseq.renal_region_new'\n",
       "12. 'palette.novaseq.rna'\n",
       "13. 'peak_mat'\n",
       "14. 'processed_dir'\n",
       "\n",
       "\n"
      ],
      "text/plain": [
       " [1] \"celltype_subset\"                  \"de_gene_file\"                    \n",
       " [3] \"expr_mat\"                         \"FindMarkers_ident_1\"             \n",
       " [5] \"FindMarkers_ident_2\"              \"level.novaseq\"                   \n",
       " [7] \"level.novaseq.renal_region_new\"   \"level.novaseq.rna\"               \n",
       " [9] \"novaseq.sub\"                      \"palette.novaseq\"                 \n",
       "[11] \"palette.novaseq.renal_region_new\" \"palette.novaseq.rna\"             \n",
       "[13] \"peak_mat\"                         \"processed_dir\"                   "
      ]
     },
     "metadata": {},
     "output_type": "display_data"
    }
   ],
   "source": [
    "ls()"
   ]
  },
  {
   "cell_type": "markdown",
   "id": "d6839c0d",
   "metadata": {},
   "source": [
    "### remove the following variables because they will be regenerated for new comparison"
   ]
  },
  {
   "cell_type": "code",
   "execution_count": 11,
   "id": "a62ab8fa",
   "metadata": {},
   "outputs": [
    {
     "name": "stderr",
     "output_type": "stream",
     "text": [
      "Warning message in rm(list = c(\"de_genes\", \"de_genes_BK\", \"gene_list\", \"peak_results\", :\n",
      "“object 'de_genes' not found”\n",
      "Warning message in rm(list = c(\"de_genes\", \"de_genes_BK\", \"gene_list\", \"peak_results\", :\n",
      "“object 'de_genes_BK' not found”\n",
      "Warning message in rm(list = c(\"de_genes\", \"de_genes_BK\", \"gene_list\", \"peak_results\", :\n",
      "“object 'gene_list' not found”\n",
      "Warning message in rm(list = c(\"de_genes\", \"de_genes_BK\", \"gene_list\", \"peak_results\", :\n",
      "“object 'peak_results' not found”\n",
      "Warning message in rm(list = c(\"de_genes\", \"de_genes_BK\", \"gene_list\", \"peak_results\", :\n",
      "“object 'aen_lists' not found”\n",
      "Warning message in rm(list = c(\"de_genes\", \"de_genes_BK\", \"gene_list\", \"peak_results\", :\n",
      "“object 'tf_results' not found”\n",
      "Warning message in rm(list = c(\"de_genes\", \"de_genes_BK\", \"gene_list\", \"peak_results\", :\n",
      "“object 'regulator_tf_names' not found”\n",
      "Warning message in rm(list = c(\"de_genes\", \"de_genes_BK\", \"gene_list\", \"peak_results\", :\n",
      "“object 'centrality_rankings' not found”\n"
     ]
    }
   ],
   "source": [
    "rm(list = c(\"de_genes\", \"de_genes_BK\", \"gene_list\", \"peak_results\", \"aen_lists\", \"tf_results\", \"regulator_tf_names\", \"centrality_rankings\"))"
   ]
  },
  {
   "cell_type": "code",
   "execution_count": 12,
   "id": "fd843e48",
   "metadata": {},
   "outputs": [
    {
     "data": {
      "text/html": [
       "<style>\n",
       ".list-inline {list-style: none; margin:0; padding: 0}\n",
       ".list-inline>li {display: inline-block}\n",
       ".list-inline>li:not(:last-child)::after {content: \"\\00b7\"; padding: 0 .5ex}\n",
       "</style>\n",
       "<ol class=list-inline><li>'celltype_subset'</li><li>'de_gene_file'</li><li>'expr_mat'</li><li>'FindMarkers_ident_1'</li><li>'FindMarkers_ident_2'</li><li>'level.novaseq'</li><li>'level.novaseq.renal_region_new'</li><li>'level.novaseq.rna'</li><li>'novaseq.sub'</li><li>'palette.novaseq'</li><li>'palette.novaseq.renal_region_new'</li><li>'palette.novaseq.rna'</li><li>'peak_mat'</li><li>'processed_dir'</li></ol>\n"
      ],
      "text/latex": [
       "\\begin{enumerate*}\n",
       "\\item 'celltype\\_subset'\n",
       "\\item 'de\\_gene\\_file'\n",
       "\\item 'expr\\_mat'\n",
       "\\item 'FindMarkers\\_ident\\_1'\n",
       "\\item 'FindMarkers\\_ident\\_2'\n",
       "\\item 'level.novaseq'\n",
       "\\item 'level.novaseq.renal\\_region\\_new'\n",
       "\\item 'level.novaseq.rna'\n",
       "\\item 'novaseq.sub'\n",
       "\\item 'palette.novaseq'\n",
       "\\item 'palette.novaseq.renal\\_region\\_new'\n",
       "\\item 'palette.novaseq.rna'\n",
       "\\item 'peak\\_mat'\n",
       "\\item 'processed\\_dir'\n",
       "\\end{enumerate*}\n"
      ],
      "text/markdown": [
       "1. 'celltype_subset'\n",
       "2. 'de_gene_file'\n",
       "3. 'expr_mat'\n",
       "4. 'FindMarkers_ident_1'\n",
       "5. 'FindMarkers_ident_2'\n",
       "6. 'level.novaseq'\n",
       "7. 'level.novaseq.renal_region_new'\n",
       "8. 'level.novaseq.rna'\n",
       "9. 'novaseq.sub'\n",
       "10. 'palette.novaseq'\n",
       "11. 'palette.novaseq.renal_region_new'\n",
       "12. 'palette.novaseq.rna'\n",
       "13. 'peak_mat'\n",
       "14. 'processed_dir'\n",
       "\n",
       "\n"
      ],
      "text/plain": [
       " [1] \"celltype_subset\"                  \"de_gene_file\"                    \n",
       " [3] \"expr_mat\"                         \"FindMarkers_ident_1\"             \n",
       " [5] \"FindMarkers_ident_2\"              \"level.novaseq\"                   \n",
       " [7] \"level.novaseq.renal_region_new\"   \"level.novaseq.rna\"               \n",
       " [9] \"novaseq.sub\"                      \"palette.novaseq\"                 \n",
       "[11] \"palette.novaseq.renal_region_new\" \"palette.novaseq.rna\"             \n",
       "[13] \"peak_mat\"                         \"processed_dir\"                   "
      ]
     },
     "metadata": {},
     "output_type": "display_data"
    }
   ],
   "source": [
    "ls()"
   ]
  },
  {
   "cell_type": "code",
   "execution_count": 13,
   "id": "354579b1",
   "metadata": {},
   "outputs": [
    {
     "data": {
      "text/html": [
       "<style>\n",
       ".dl-inline {width: auto; margin:0; padding: 0}\n",
       ".dl-inline>dt, .dl-inline>dd {float: none; width: auto; display: inline-block}\n",
       ".dl-inline>dt::after {content: \":\\0020\"; padding-right: .5ex}\n",
       ".dl-inline>dt:not(:first-of-type) {padding-left: .5ex}\n",
       "</style><dl class=dl-inline><dt>R1.020,R2.020,R3.036,P1.01,B2</dt><dd>Cortex</dd><dt>R1.067,R2.026,R3.067,P1.62,B2</dt><dd>Papilla</dd><dt>R1.061,R2.068,R3.015,P1.74,B3</dt><dd>Papilla</dd><dt>R1.031,R2.058,R3.092,P1.84,B3</dt><dd>Cortex</dd><dt>R1.025,R2.004,R3.076,P1.61,B3</dt><dd>Medulla</dd><dt>R1.067,R2.004,R3.014,P1.50,B2</dt><dd>Papilla</dd></dl>\n",
       "\n",
       "<details>\n",
       "\t<summary style=display:list-item;cursor:pointer>\n",
       "\t\t<strong>Levels</strong>:\n",
       "\t</summary>\n",
       "\t<style>\n",
       "\t.list-inline {list-style: none; margin:0; padding: 0}\n",
       "\t.list-inline>li {display: inline-block}\n",
       "\t.list-inline>li:not(:last-child)::after {content: \"\\00b7\"; padding: 0 .5ex}\n",
       "\t</style>\n",
       "\t<ol class=list-inline><li>'Cortex'</li><li>'Medulla'</li><li>'Papilla'</li><li>'Renal Artery'</li><li>'Ureter'</li></ol>\n",
       "</details>"
      ],
      "text/latex": [
       "\\begin{description*}\n",
       "\\item[R1.020,R2.020,R3.036,P1.01,B2] Cortex\n",
       "\\item[R1.067,R2.026,R3.067,P1.62,B2] Papilla\n",
       "\\item[R1.061,R2.068,R3.015,P1.74,B3] Papilla\n",
       "\\item[R1.031,R2.058,R3.092,P1.84,B3] Cortex\n",
       "\\item[R1.025,R2.004,R3.076,P1.61,B3] Medulla\n",
       "\\item[R1.067,R2.004,R3.014,P1.50,B2] Papilla\n",
       "\\end{description*}\n",
       "\n",
       "\\emph{Levels}: \\begin{enumerate*}\n",
       "\\item 'Cortex'\n",
       "\\item 'Medulla'\n",
       "\\item 'Papilla'\n",
       "\\item 'Renal Artery'\n",
       "\\item 'Ureter'\n",
       "\\end{enumerate*}\n"
      ],
      "text/markdown": [
       "R1.020,R2.020,R3.036,P1.01,B2\n",
       ":   CortexR1.067,R2.026,R3.067,P1.62,B2\n",
       ":   PapillaR1.061,R2.068,R3.015,P1.74,B3\n",
       ":   PapillaR1.031,R2.058,R3.092,P1.84,B3\n",
       ":   CortexR1.025,R2.004,R3.076,P1.61,B3\n",
       ":   MedullaR1.067,R2.004,R3.014,P1.50,B2\n",
       ":   Papilla\n",
       "\n",
       "\n",
       "**Levels**: 1. 'Cortex'\n",
       "2. 'Medulla'\n",
       "3. 'Papilla'\n",
       "4. 'Renal Artery'\n",
       "5. 'Ureter'\n",
       "\n",
       "\n"
      ],
      "text/plain": [
       "R1.020,R2.020,R3.036,P1.01,B2 R1.067,R2.026,R3.067,P1.62,B2 \n",
       "                       Cortex                       Papilla \n",
       "R1.061,R2.068,R3.015,P1.74,B3 R1.031,R2.058,R3.092,P1.84,B3 \n",
       "                      Papilla                        Cortex \n",
       "R1.025,R2.004,R3.076,P1.61,B3 R1.067,R2.004,R3.014,P1.50,B2 \n",
       "                      Medulla                       Papilla \n",
       "Levels: Cortex Medulla Papilla Renal Artery Ureter"
      ]
     },
     "metadata": {},
     "output_type": "display_data"
    }
   ],
   "source": [
    "Idents(novaseq.sub) = novaseq.sub$renal_region_new\n",
    "head(Idents(novaseq.sub))"
   ]
  },
  {
   "cell_type": "markdown",
   "id": "83799c4e",
   "metadata": {},
   "source": [
    "### subset mpt from novaseq.sub because comparison is to be made bewtween two celltypes"
   ]
  },
  {
   "cell_type": "code",
   "execution_count": 14,
   "id": "8042ee6a",
   "metadata": {},
   "outputs": [
    {
     "data": {
      "text/plain": [
       "An object of class Seurat \n",
       "237522 features across 14841 samples within 2 assays \n",
       "Active assay: peaks (189184 features, 189184 variable features)\n",
       " 1 other assay present: SCT\n",
       " 6 dimensional reductions calculated: pca, harmony_RNA, lsi, harmony_peaks, umap.peaks, WNN.UMAP"
      ]
     },
     "metadata": {},
     "output_type": "display_data"
    },
    {
     "data": {
      "text/plain": [
       "\n",
       "      JGA       POD       PEC        PT PT_dediff  PT_VCAM1       tL1       tL2 \n",
       "        0         0         0         0         0         0         0         0 \n",
       "   tL-TAL      TAL1      TAL2      TAL3       DCT       CNT       PC1       PC2 \n",
       "        0         0         0         0         0         0     11327      3514 \n",
       "      ICA       ICB      Uro1      Uro2      ENDO      SMC1      SMC2      SMC3 \n",
       "        0         0         0         0         0         0         0         0 \n",
       "     Fib1      Fib2      Fib3        Ma        BT \n",
       "        0         0         0         0         0 "
      ]
     },
     "metadata": {},
     "output_type": "display_data"
    }
   ],
   "source": [
    "mpt <- subset(novaseq.sub, renal_region_new %in% c(FindMarkers_ident_1, FindMarkers_ident_2))\n",
    "mpt\n",
    "table(mpt$celltype5_rna)"
   ]
  },
  {
   "cell_type": "markdown",
   "id": "7315242c",
   "metadata": {},
   "source": [
    "## load hli_446267_cells de_gene data frame"
   ]
  },
  {
   "cell_type": "code",
   "execution_count": 15,
   "id": "be82613a",
   "metadata": {},
   "outputs": [
    {
     "data": {
      "text/plain": [
       "[1] \"2023-07-03 14:59:33 CDT\""
      ]
     },
     "metadata": {},
     "output_type": "display_data"
    },
    {
     "data": {
      "text/plain": [
       "[1] \"2023-07-03 14:59:33 CDT\""
      ]
     },
     "metadata": {},
     "output_type": "display_data"
    }
   ],
   "source": [
    "Sys.time()\n",
    "options(future.globals.maxSize = 8000 * 1024^2)\n",
    "load(de_gene_file)\n",
    "Sys.time()"
   ]
  },
  {
   "cell_type": "code",
   "execution_count": 16,
   "id": "ed12a263",
   "metadata": {},
   "outputs": [
    {
     "name": "stdout",
     "output_type": "stream",
     "text": [
      "          names           scores                 pvals             pvals_adj\n",
      "SLC14A2 SLC14A2  31.957067489624 4.30935376039755e-224 8.02401670186024e-220\n",
      "AUTS2     AUTS2  23.783052444458 5.00195195733028e-125 1.86272690890979e-121\n",
      "PCDH7     PCDH7  21.848690032959 7.99948405213519e-106 2.48250655084595e-102\n",
      "PDE3A     PDE3A 20.9934558868408   7.5269603772299e-98  2.15618464960032e-94\n",
      "COL4A4   COL4A4 20.9076042175293  4.56596055585979e-97   1.2145455078587e-93\n",
      "ANKS1B   ANKS1B 20.6729755401611  6.06586245403742e-95  1.50595145192236e-91\n",
      "           logfoldchanges\n",
      "SLC14A2  1.44827747344971\n",
      "AUTS2    1.32176184654236\n",
      "PCDH7    1.21994042396545\n",
      "PDE3A   0.669078528881073\n",
      "COL4A4   1.23974442481995\n",
      "ANKS1B   1.49152863025665\n"
     ]
    },
    {
     "data": {
      "text/html": [
       "<style>\n",
       ".list-inline {list-style: none; margin:0; padding: 0}\n",
       ".list-inline>li {display: inline-block}\n",
       ".list-inline>li:not(:last-child)::after {content: \"\\00b7\"; padding: 0 .5ex}\n",
       "</style>\n",
       "<ol class=list-inline><li>37240</li><li>5</li></ol>\n"
      ],
      "text/latex": [
       "\\begin{enumerate*}\n",
       "\\item 37240\n",
       "\\item 5\n",
       "\\end{enumerate*}\n"
      ],
      "text/markdown": [
       "1. 37240\n",
       "2. 5\n",
       "\n",
       "\n"
      ],
      "text/plain": [
       "[1] 37240     5"
      ]
     },
     "metadata": {},
     "output_type": "display_data"
    }
   ],
   "source": [
    "rownames(de_genes) = de_genes$names\n",
    "de_genes_BK = de_genes\n",
    "print(head(de_genes))\n",
    "dim(de_genes)"
   ]
  },
  {
   "cell_type": "code",
   "execution_count": 17,
   "id": "37b5af7d",
   "metadata": {},
   "outputs": [
    {
     "data": {
      "text/html": [
       "<style>\n",
       ".list-inline {list-style: none; margin:0; padding: 0}\n",
       ".list-inline>li {display: inline-block}\n",
       ".list-inline>li:not(:last-child)::after {content: \"\\00b7\"; padding: 0 .5ex}\n",
       "</style>\n",
       "<ol class=list-inline><li>684</li><li>5</li></ol>\n"
      ],
      "text/latex": [
       "\\begin{enumerate*}\n",
       "\\item 684\n",
       "\\item 5\n",
       "\\end{enumerate*}\n"
      ],
      "text/markdown": [
       "1. 684\n",
       "2. 5\n",
       "\n",
       "\n"
      ],
      "text/plain": [
       "[1] 684   5"
      ]
     },
     "metadata": {},
     "output_type": "display_data"
    }
   ],
   "source": [
    "### keep DEGs with pvals_adj<0.05\n",
    "p_val_cutoff = 0.05\n",
    "peak_assay = \"peaks\"\n",
    "de_genes <- de_genes[which(de_genes$pvals_adj < p_val_cutoff), ]\n",
    "DefaultAssay(novaseq.sub) <- peak_assay\n",
    "DefaultAssay(mpt) <- peak_assay\n",
    "\n",
    "dim(de_genes)"
   ]
  },
  {
   "cell_type": "code",
   "execution_count": 18,
   "id": "f5273bec",
   "metadata": {},
   "outputs": [
    {
     "data": {
      "text/plain": [
       "[1] \"2023-07-03 14:59:33 CDT\""
      ]
     },
     "metadata": {},
     "output_type": "display_data"
    },
    {
     "data": {
      "text/plain": [
       "[1] \"2023-07-03 14:59:39 CDT\""
      ]
     },
     "metadata": {},
     "output_type": "display_data"
    }
   ],
   "source": [
    "Sys.time()\n",
    "# gene_coords <- Signac:::CollapseToLongestTranscript(Annotation(novaseq.sub))\n",
    "gene_coords <- Signac:::CollapseToLongestTranscript(Annotation(mpt))\n",
    "Sys.time()"
   ]
  },
  {
   "cell_type": "code",
   "execution_count": 19,
   "id": "c4dcadfe",
   "metadata": {},
   "outputs": [
    {
     "data": {
      "text/html": [
       "<style>\n",
       ".list-inline {list-style: none; margin:0; padding: 0}\n",
       ".list-inline>li {display: inline-block}\n",
       ".list-inline>li:not(:last-child)::after {content: \"\\00b7\"; padding: 0 .5ex}\n",
       "</style>\n",
       "<ol class=list-inline><li>573</li><li>5</li></ol>\n"
      ],
      "text/latex": [
       "\\begin{enumerate*}\n",
       "\\item 573\n",
       "\\item 5\n",
       "\\end{enumerate*}\n"
      ],
      "text/markdown": [
       "1. 573\n",
       "2. 5\n",
       "\n",
       "\n"
      ],
      "text/plain": [
       "[1] 573   5"
      ]
     },
     "metadata": {},
     "output_type": "display_data"
    }
   ],
   "source": [
    "de_genes <- de_genes[which(rownames(de_genes) %in% gene_coords$gene_name), ]\n",
    "dim(de_genes)\n",
    "gene_list = rownames(de_genes)"
   ]
  },
  {
   "cell_type": "markdown",
   "id": "9c638101",
   "metadata": {},
   "source": [
    "## Next, make two de_gene sublists: gene_list_neg, gene_list_pos."
   ]
  },
  {
   "cell_type": "code",
   "execution_count": 20,
   "id": "c52a8482",
   "metadata": {},
   "outputs": [
    {
     "name": "stdout",
     "output_type": "stream",
     "text": [
      "[1] 93\n",
      "[1] 480\n"
     ]
    }
   ],
   "source": [
    "gene_list_neg = rownames(de_genes)[de_genes$logfoldchanges < 0]\n",
    "print(length(gene_list_neg))\n",
    "gene_list_pos = rownames(de_genes)[de_genes$logfoldchanges > 0]\n",
    "print(length(gene_list_pos))"
   ]
  },
  {
   "cell_type": "code",
   "execution_count": 21,
   "id": "f53d3d5e",
   "metadata": {},
   "outputs": [],
   "source": [
    "# de_genes[order(de_genes$logfoldchanges, decreasing = T),]"
   ]
  },
  {
   "cell_type": "markdown",
   "id": "33acfd26",
   "metadata": {},
   "source": [
    "## run_peak_aen"
   ]
  },
  {
   "cell_type": "code",
   "execution_count": 22,
   "id": "99c7b95a",
   "metadata": {},
   "outputs": [
    {
     "data": {
      "text/plain": [
       "[1] \"2023-07-03 14:59:39 CDT\""
      ]
     },
     "metadata": {},
     "output_type": "display_data"
    },
    {
     "name": "stderr",
     "output_type": "stream",
     "text": [
      "Loading required package: gcdnet\n",
      "\n",
      "\n",
      "Attaching package: ‘gcdnet’\n",
      "\n",
      "\n",
      "The following object is masked from ‘package:stats4’:\n",
      "\n",
      "    coef\n",
      "\n",
      "\n",
      "The following objects are masked from ‘package:stats’:\n",
      "\n",
      "    coef, predict\n",
      "\n",
      "\n",
      "Loading required package: future\n",
      "\n",
      "\n",
      "Attaching package: ‘future’\n",
      "\n",
      "\n",
      "The following object is masked from ‘package:rtracklayer’:\n",
      "\n",
      "    values\n",
      "\n",
      "\n",
      "The following object is masked from ‘package:GenomicRanges’:\n",
      "\n",
      "    values\n",
      "\n",
      "\n",
      "The following object is masked from ‘package:IRanges’:\n",
      "\n",
      "    values\n",
      "\n",
      "\n",
      "The following object is masked from ‘package:S4Vectors’:\n",
      "\n",
      "    values\n",
      "\n",
      "\n",
      "Loading required package: future.apply\n",
      "\n"
     ]
    },
    {
     "name": "stdout",
     "output_type": "stream",
     "text": [
      "[1] \"Omitted (mitochondrial) genes with no genomic peaks: USP9Y\"\n",
      "[1] \"AEN completed in 11.07498087883\"\n"
     ]
    },
    {
     "data": {
      "text/plain": [
       "[1] \"2023-07-03 15:11:11 CDT\""
      ]
     },
     "metadata": {},
     "output_type": "display_data"
    }
   ],
   "source": [
    "Sys.time()\n",
    "\n",
    "options(future.globals.maxSize = 8000 * 1024^2)\n",
    "\n",
    "peak_results <- run_peak_aen(novaseq.sub, expr_mat, peak_mat, gene_list, lambda2 = 0.5, max_distance = 5e+05, num_bootstraps = 100)\n",
    "\n",
    "aen_lists <- make_aen_lists(peak_results)\n",
    "\n",
    "Sys.time()"
   ]
  },
  {
   "cell_type": "markdown",
   "id": "8a20a0bb",
   "metadata": {},
   "source": [
    "## prepare_pseudocell_matrix for mpt"
   ]
  },
  {
   "cell_type": "code",
   "execution_count": 23,
   "id": "3ad166f3",
   "metadata": {},
   "outputs": [
    {
     "name": "stderr",
     "output_type": "stream",
     "text": [
      "Loading required package: Matrix\n",
      "\n",
      "\n",
      "Attaching package: ‘Matrix’\n",
      "\n",
      "\n",
      "The following object is masked from ‘package:S4Vectors’:\n",
      "\n",
      "    expand\n",
      "\n",
      "\n",
      "The following objects are masked from ‘package:tidyr’:\n",
      "\n",
      "    expand, pack, unpack\n",
      "\n",
      "\n",
      "Loading required package: VISION\n",
      "\n",
      "Loading required package: SingleCellExperiment\n",
      "\n",
      "Loading required package: SummarizedExperiment\n",
      "\n",
      "Loading required package: MatrixGenerics\n",
      "\n",
      "Loading required package: matrixStats\n",
      "\n",
      "\n",
      "Attaching package: ‘matrixStats’\n",
      "\n",
      "\n",
      "The following object is masked from ‘package:dplyr’:\n",
      "\n",
      "    count\n",
      "\n",
      "\n",
      "\n",
      "Attaching package: ‘MatrixGenerics’\n",
      "\n",
      "\n",
      "The following objects are masked from ‘package:matrixStats’:\n",
      "\n",
      "    colAlls, colAnyNAs, colAnys, colAvgsPerRowSet, colCollapse,\n",
      "    colCounts, colCummaxs, colCummins, colCumprods, colCumsums,\n",
      "    colDiffs, colIQRDiffs, colIQRs, colLogSumExps, colMadDiffs,\n",
      "    colMads, colMaxs, colMeans2, colMedians, colMins, colOrderStats,\n",
      "    colProds, colQuantiles, colRanges, colRanks, colSdDiffs, colSds,\n",
      "    colSums2, colTabulates, colVarDiffs, colVars, colWeightedMads,\n",
      "    colWeightedMeans, colWeightedMedians, colWeightedSds,\n",
      "    colWeightedVars, rowAlls, rowAnyNAs, rowAnys, rowAvgsPerColSet,\n",
      "    rowCollapse, rowCounts, rowCummaxs, rowCummins, rowCumprods,\n",
      "    rowCumsums, rowDiffs, rowIQRDiffs, rowIQRs, rowLogSumExps,\n",
      "    rowMadDiffs, rowMads, rowMaxs, rowMeans2, rowMedians, rowMins,\n",
      "    rowOrderStats, rowProds, rowQuantiles, rowRanges, rowRanks,\n",
      "    rowSdDiffs, rowSds, rowSums2, rowTabulates, rowVarDiffs, rowVars,\n",
      "    rowWeightedMads, rowWeightedMeans, rowWeightedMedians,\n",
      "    rowWeightedSds, rowWeightedVars\n",
      "\n",
      "\n",
      "Loading required package: Biobase\n",
      "\n",
      "Welcome to Bioconductor\n",
      "\n",
      "    Vignettes contain introductory material; view with\n",
      "    'browseVignettes()'. To cite Bioconductor, see\n",
      "    'citation(\"Biobase\")', and for packages 'citation(\"pkgname\")'.\n",
      "\n",
      "\n",
      "\n",
      "Attaching package: ‘Biobase’\n",
      "\n",
      "\n",
      "The following object is masked from ‘package:MatrixGenerics’:\n",
      "\n",
      "    rowMedians\n",
      "\n",
      "\n",
      "The following objects are masked from ‘package:matrixStats’:\n",
      "\n",
      "    anyMissing, rowMedians\n",
      "\n",
      "\n",
      "\n",
      "Attaching package: ‘SummarizedExperiment’\n",
      "\n",
      "\n",
      "The following object is masked from ‘package:SeuratObject’:\n",
      "\n",
      "    Assays\n",
      "\n",
      "\n",
      "The following object is masked from ‘package:Seurat’:\n",
      "\n",
      "    Assays\n",
      "\n",
      "\n",
      "Calculating cell-specific modality weights\n",
      "\n",
      "Finding 5 nearest neighbors for each modality.\n",
      "\n",
      "Calculating kernel bandwidths\n",
      "\n",
      "Finding multimodal neighbors\n",
      "\n",
      "Constructing multimodal KNN graph\n",
      "\n",
      "Constructing multimodal SNN graph\n",
      "\n",
      "Warning message:\n",
      "“The default method for RunUMAP has changed from calling Python UMAP via reticulate to the R-native UWOT using the cosine metric\n",
      "To use Python UMAP via reticulate, set umap.method to 'umap-learn' and metric to 'correlation'\n",
      "This message will be shown once per session”\n",
      "15:12:38 UMAP embedding parameters a = 0.9922 b = 1.112\n",
      "\n",
      "15:13:15 Commencing smooth kNN distance calibration using 1 thread\n",
      "\n",
      "15:13:19 Initializing from normalized Laplacian + noise\n",
      "\n",
      "15:13:19 Commencing optimization for 200 epochs, with 133126 positive edges\n",
      "\n",
      "15:13:25 Optimization finished\n",
      "\n",
      "Performing initial coarse-clustering...\n",
      "\n",
      "Further partitioning coarse clusters...\n",
      "\n",
      "Micro-pooling completed reducing 14841 cells into 1486 pools\n",
      "\n"
     ]
    }
   ],
   "source": [
    "expr_mat_2 <- prepare_pseudocell_matrix(mpt, \n",
    "                                      assay = \"SCT\", \n",
    "                                      slot = \"data\", \n",
    "                                      cells_per_partition = 10, \n",
    "                                      find_neighbors = FALSE,\n",
    "                                      reduction1 = \"harmony_peaks\",\n",
    "                                      reduction2 = \"harmony_RNA\",\n",
    "                                      dim_list = list(1:50, 1:50),\n",
    "                                      k.nn = 5,\n",
    "                                      seed = 489284)"
   ]
  },
  {
   "cell_type": "code",
   "execution_count": 24,
   "id": "cff8fd5f",
   "metadata": {},
   "outputs": [
    {
     "data": {
      "text/html": [
       "573"
      ],
      "text/latex": [
       "573"
      ],
      "text/markdown": [
       "573"
      ],
      "text/plain": [
       "[1] 573"
      ]
     },
     "metadata": {},
     "output_type": "display_data"
    },
    {
     "data": {
      "text/html": [
       "573"
      ],
      "text/latex": [
       "573"
      ],
      "text/markdown": [
       "573"
      ],
      "text/plain": [
       "[1] 573"
      ]
     },
     "metadata": {},
     "output_type": "display_data"
    }
   ],
   "source": [
    "length(gene_list)\n",
    "sum(gene_list %in% colnames(expr_mat_2))"
   ]
  },
  {
   "cell_type": "markdown",
   "id": "552134da",
   "metadata": {},
   "source": [
    "### run_tf_aen"
   ]
  },
  {
   "cell_type": "code",
   "execution_count": 25,
   "id": "b014765b",
   "metadata": {},
   "outputs": [
    {
     "data": {
      "text/plain": [
       "[1] \"2023-07-03 15:14:24 CDT\""
      ]
     },
     "metadata": {},
     "output_type": "display_data"
    },
    {
     "name": "stdout",
     "output_type": "stream",
     "text": [
      "[1] \"Genes without any candidate TFs--most likely no linked peaks or promoter region peaks: CDH18\"\n",
      "[1] \"AEN completed in 5.80421022971471\"\n"
     ]
    },
    {
     "name": "stderr",
     "output_type": "stream",
     "text": [
      "Loading required package: igraph\n",
      "\n",
      "\n",
      "Attaching package: ‘igraph’\n",
      "\n",
      "\n",
      "The following objects are masked from ‘package:future’:\n",
      "\n",
      "    %->%, %<-%\n",
      "\n",
      "\n",
      "The following objects are masked from ‘package:rtracklayer’:\n",
      "\n",
      "    blocks, path\n",
      "\n",
      "\n",
      "The following object is masked from ‘package:Biostrings’:\n",
      "\n",
      "    union\n",
      "\n",
      "\n",
      "The following object is masked from ‘package:XVector’:\n",
      "\n",
      "    path\n",
      "\n",
      "\n",
      "The following object is masked from ‘package:GenomicRanges’:\n",
      "\n",
      "    union\n",
      "\n",
      "\n",
      "The following object is masked from ‘package:IRanges’:\n",
      "\n",
      "    union\n",
      "\n",
      "\n",
      "The following object is masked from ‘package:S4Vectors’:\n",
      "\n",
      "    union\n",
      "\n",
      "\n",
      "The following objects are masked from ‘package:BiocGenerics’:\n",
      "\n",
      "    normalize, path, union\n",
      "\n",
      "\n",
      "The following objects are masked from ‘package:dplyr’:\n",
      "\n",
      "    as_data_frame, groups, union\n",
      "\n",
      "\n",
      "The following objects are masked from ‘package:purrr’:\n",
      "\n",
      "    compose, simplify\n",
      "\n",
      "\n",
      "The following object is masked from ‘package:tidyr’:\n",
      "\n",
      "    crossing\n",
      "\n",
      "\n",
      "The following object is masked from ‘package:tibble’:\n",
      "\n",
      "    as_data_frame\n",
      "\n",
      "\n",
      "The following objects are masked from ‘package:stats’:\n",
      "\n",
      "    decompose, spectrum\n",
      "\n",
      "\n",
      "The following object is masked from ‘package:base’:\n",
      "\n",
      "    union\n",
      "\n",
      "\n"
     ]
    },
    {
     "data": {
      "text/plain": [
       "[1] \"2023-07-03 15:20:47 CDT\""
      ]
     },
     "metadata": {},
     "output_type": "display_data"
    }
   ],
   "source": [
    "Sys.time()\n",
    "\n",
    "tf_results <- run_tf_aen(mpt, expr_mat_2, peak_results, gene_list, lambda2 = 0.5)\n",
    "\n",
    "regulator_tf_names <- unlist(novaseq.sub@assays$peaks@motifs@motif.names)\n",
    "\n",
    "regulator_tf_names <- regulator_tf_names[which(regulator_tf_names %in% rownames(GetAssayData(novaseq.sub, assay = \"SCT\")))]\n",
    "\n",
    "centrality_rankings <- rank_tfs_by_centrality(tf_results, novaseq.sub)\n",
    "\n",
    "Sys.time()"
   ]
  },
  {
   "cell_type": "code",
   "execution_count": 26,
   "id": "8d70cd93",
   "metadata": {},
   "outputs": [
    {
     "name": "stdout",
     "output_type": "stream",
     "text": [
      "[1] \"2023-07-03 15:20:47 CDT\"\n",
      "[1] \"centrality_rankings - Betweenness:\"\n",
      " ESRRB   EMX1   SIM1   THRB   ATF3  GATA2   RORA   KLF7   NFIB    FOS ZNF423 \n",
      "1312.5  274.5  248.5  116.0  106.0   87.0   67.5   67.0   55.5   21.0   20.0 \n",
      "  RFX7   MBD2  GATA3   TCF4    EHF   ELF5   ETV6  ZFHX3   PAX2 \n",
      "   3.0    2.0    1.5    0.0    0.0    0.0    0.0    0.0    0.0 \n",
      "[1] \"centrality_rankings - PageRank:\"\n",
      "      ESRRG        TCF4       MECOM        ETV6        ELF5        SOX5 \n",
      "0.013222881 0.011148688 0.010483807 0.010420659 0.009861351 0.009631400 \n",
      "       NFIA       FOXP2       RUNX1       ESRRB        LEF1        BCL6 \n",
      "0.009626254 0.009270963 0.007843776 0.007680337 0.007038481 0.007032630 \n",
      "      NR3C1       NR3C2       NFAT5       DNMT1       BACH2       RUNX2 \n",
      "0.007024629 0.007021068 0.006757302 0.006724710 0.006527935 0.005734290 \n",
      "      TEAD1      ARNTL2 \n",
      "0.005325054 0.005286814 \n",
      "[1] \"2023-07-03 15:20:47 CDT\"\n",
      "[1] \"calculating rank_tfs...\"\n",
      "[1] \"2023-07-03 15:21:57 CDT\"\n"
     ]
    }
   ],
   "source": [
    "print(Sys.time())\n",
    "    \n",
    "print(\"centrality_rankings - Betweenness:\")\n",
    "print(head(centrality_rankings$Betweenness,20))\n",
    "print(\"centrality_rankings - PageRank:\")\n",
    "print(head(centrality_rankings$PageRank,20))\n",
    "\n",
    "print(Sys.time())\n",
    "print(\"calculating rank_tfs...\")\n",
    "tf_ranks = rank_tfs(tf_results, \n",
    "                    negative_genes = rownames(de_genes_BK)[which(de_genes_BK$logfoldchanges < 0)], \n",
    "                    seurat = mpt, \n",
    "                    num_cores =  1\n",
    "    )\n",
    "print(Sys.time())"
   ]
  },
  {
   "cell_type": "code",
   "execution_count": 27,
   "id": "80c3896f",
   "metadata": {
    "scrolled": true
   },
   "outputs": [
    {
     "data": {
      "text/html": [
       "<table class=\"dataframe\">\n",
       "<caption>A data.frame: 20 × 3</caption>\n",
       "<thead>\n",
       "\t<tr><th></th><th scope=col>TF_name</th><th scope=col>Score</th><th scope=col>SE</th></tr>\n",
       "\t<tr><th></th><th scope=col>&lt;chr&gt;</th><th scope=col>&lt;dbl&gt;</th><th scope=col>&lt;dbl&gt;</th></tr>\n",
       "</thead>\n",
       "<tbody>\n",
       "\t<tr><th scope=row>NFAT5</th><td>NFAT5</td><td>3.0041068</td><td>0.19495883</td></tr>\n",
       "\t<tr><th scope=row>SOX5</th><td>SOX5 </td><td>2.1615007</td><td>0.16968285</td></tr>\n",
       "\t<tr><th scope=row>NFIA</th><td>NFIA </td><td>1.8481234</td><td>0.08766299</td></tr>\n",
       "\t<tr><th scope=row>ETV6</th><td>ETV6 </td><td>1.3505316</td><td>0.07739595</td></tr>\n",
       "\t<tr><th scope=row>ELF5</th><td>ELF5 </td><td>1.2992198</td><td>0.06255594</td></tr>\n",
       "\t<tr><th scope=row>TCF4</th><td>TCF4 </td><td>1.2959302</td><td>0.06054958</td></tr>\n",
       "\t<tr><th scope=row>FOXP2</th><td>FOXP2</td><td>1.1881570</td><td>0.06500880</td></tr>\n",
       "\t<tr><th scope=row>TEAD1</th><td>TEAD1</td><td>1.1138776</td><td>0.09578981</td></tr>\n",
       "\t<tr><th scope=row>LCOR</th><td>LCOR </td><td>0.9313769</td><td>0.06950751</td></tr>\n",
       "\t<tr><th scope=row>RUNX1</th><td>RUNX1</td><td>0.9090922</td><td>0.05496463</td></tr>\n",
       "\t<tr><th scope=row>ZFHX3</th><td>ZFHX3</td><td>0.8433896</td><td>0.08842348</td></tr>\n",
       "\t<tr><th scope=row>PAX2</th><td>PAX2 </td><td>0.8162280</td><td>0.10858132</td></tr>\n",
       "\t<tr><th scope=row>ESRRB</th><td>ESRRB</td><td>0.8051465</td><td>0.04326278</td></tr>\n",
       "\t<tr><th scope=row>ELF1</th><td>ELF1 </td><td>0.6218114</td><td>0.06265830</td></tr>\n",
       "\t<tr><th scope=row>EHF</th><td>EHF  </td><td>0.6123844</td><td>0.05277085</td></tr>\n",
       "\t<tr><th scope=row>SMAD3</th><td>SMAD3</td><td>0.5742062</td><td>0.04420722</td></tr>\n",
       "\t<tr><th scope=row>TCF12</th><td>TCF12</td><td>0.5444256</td><td>0.07277027</td></tr>\n",
       "\t<tr><th scope=row>BCL6</th><td>BCL6 </td><td>0.4769897</td><td>0.03173011</td></tr>\n",
       "\t<tr><th scope=row>NR3C1</th><td>NR3C1</td><td>0.4717171</td><td>0.03544243</td></tr>\n",
       "\t<tr><th scope=row>RREB1</th><td>RREB1</td><td>0.4149791</td><td>0.05344925</td></tr>\n",
       "</tbody>\n",
       "</table>\n"
      ],
      "text/latex": [
       "A data.frame: 20 × 3\n",
       "\\begin{tabular}{r|lll}\n",
       "  & TF\\_name & Score & SE\\\\\n",
       "  & <chr> & <dbl> & <dbl>\\\\\n",
       "\\hline\n",
       "\tNFAT5 & NFAT5 & 3.0041068 & 0.19495883\\\\\n",
       "\tSOX5 & SOX5  & 2.1615007 & 0.16968285\\\\\n",
       "\tNFIA & NFIA  & 1.8481234 & 0.08766299\\\\\n",
       "\tETV6 & ETV6  & 1.3505316 & 0.07739595\\\\\n",
       "\tELF5 & ELF5  & 1.2992198 & 0.06255594\\\\\n",
       "\tTCF4 & TCF4  & 1.2959302 & 0.06054958\\\\\n",
       "\tFOXP2 & FOXP2 & 1.1881570 & 0.06500880\\\\\n",
       "\tTEAD1 & TEAD1 & 1.1138776 & 0.09578981\\\\\n",
       "\tLCOR & LCOR  & 0.9313769 & 0.06950751\\\\\n",
       "\tRUNX1 & RUNX1 & 0.9090922 & 0.05496463\\\\\n",
       "\tZFHX3 & ZFHX3 & 0.8433896 & 0.08842348\\\\\n",
       "\tPAX2 & PAX2  & 0.8162280 & 0.10858132\\\\\n",
       "\tESRRB & ESRRB & 0.8051465 & 0.04326278\\\\\n",
       "\tELF1 & ELF1  & 0.6218114 & 0.06265830\\\\\n",
       "\tEHF & EHF   & 0.6123844 & 0.05277085\\\\\n",
       "\tSMAD3 & SMAD3 & 0.5742062 & 0.04420722\\\\\n",
       "\tTCF12 & TCF12 & 0.5444256 & 0.07277027\\\\\n",
       "\tBCL6 & BCL6  & 0.4769897 & 0.03173011\\\\\n",
       "\tNR3C1 & NR3C1 & 0.4717171 & 0.03544243\\\\\n",
       "\tRREB1 & RREB1 & 0.4149791 & 0.05344925\\\\\n",
       "\\end{tabular}\n"
      ],
      "text/markdown": [
       "\n",
       "A data.frame: 20 × 3\n",
       "\n",
       "| <!--/--> | TF_name &lt;chr&gt; | Score &lt;dbl&gt; | SE &lt;dbl&gt; |\n",
       "|---|---|---|---|\n",
       "| NFAT5 | NFAT5 | 3.0041068 | 0.19495883 |\n",
       "| SOX5 | SOX5  | 2.1615007 | 0.16968285 |\n",
       "| NFIA | NFIA  | 1.8481234 | 0.08766299 |\n",
       "| ETV6 | ETV6  | 1.3505316 | 0.07739595 |\n",
       "| ELF5 | ELF5  | 1.2992198 | 0.06255594 |\n",
       "| TCF4 | TCF4  | 1.2959302 | 0.06054958 |\n",
       "| FOXP2 | FOXP2 | 1.1881570 | 0.06500880 |\n",
       "| TEAD1 | TEAD1 | 1.1138776 | 0.09578981 |\n",
       "| LCOR | LCOR  | 0.9313769 | 0.06950751 |\n",
       "| RUNX1 | RUNX1 | 0.9090922 | 0.05496463 |\n",
       "| ZFHX3 | ZFHX3 | 0.8433896 | 0.08842348 |\n",
       "| PAX2 | PAX2  | 0.8162280 | 0.10858132 |\n",
       "| ESRRB | ESRRB | 0.8051465 | 0.04326278 |\n",
       "| ELF1 | ELF1  | 0.6218114 | 0.06265830 |\n",
       "| EHF | EHF   | 0.6123844 | 0.05277085 |\n",
       "| SMAD3 | SMAD3 | 0.5742062 | 0.04420722 |\n",
       "| TCF12 | TCF12 | 0.5444256 | 0.07277027 |\n",
       "| BCL6 | BCL6  | 0.4769897 | 0.03173011 |\n",
       "| NR3C1 | NR3C1 | 0.4717171 | 0.03544243 |\n",
       "| RREB1 | RREB1 | 0.4149791 | 0.05344925 |\n",
       "\n"
      ],
      "text/plain": [
       "      TF_name Score     SE        \n",
       "NFAT5 NFAT5   3.0041068 0.19495883\n",
       "SOX5  SOX5    2.1615007 0.16968285\n",
       "NFIA  NFIA    1.8481234 0.08766299\n",
       "ETV6  ETV6    1.3505316 0.07739595\n",
       "ELF5  ELF5    1.2992198 0.06255594\n",
       "TCF4  TCF4    1.2959302 0.06054958\n",
       "FOXP2 FOXP2   1.1881570 0.06500880\n",
       "TEAD1 TEAD1   1.1138776 0.09578981\n",
       "LCOR  LCOR    0.9313769 0.06950751\n",
       "RUNX1 RUNX1   0.9090922 0.05496463\n",
       "ZFHX3 ZFHX3   0.8433896 0.08842348\n",
       "PAX2  PAX2    0.8162280 0.10858132\n",
       "ESRRB ESRRB   0.8051465 0.04326278\n",
       "ELF1  ELF1    0.6218114 0.06265830\n",
       "EHF   EHF     0.6123844 0.05277085\n",
       "SMAD3 SMAD3   0.5742062 0.04420722\n",
       "TCF12 TCF12   0.5444256 0.07277027\n",
       "BCL6  BCL6    0.4769897 0.03173011\n",
       "NR3C1 NR3C1   0.4717171 0.03544243\n",
       "RREB1 RREB1   0.4149791 0.05344925"
      ]
     },
     "metadata": {},
     "output_type": "display_data"
    },
    {
     "data": {
      "text/html": [
       "<table class=\"dataframe\">\n",
       "<caption>A data.frame: 20 × 3</caption>\n",
       "<thead>\n",
       "\t<tr><th></th><th scope=col>TF_name</th><th scope=col>Score</th><th scope=col>SE</th></tr>\n",
       "\t<tr><th></th><th scope=col>&lt;chr&gt;</th><th scope=col>&lt;dbl&gt;</th><th scope=col>&lt;dbl&gt;</th></tr>\n",
       "</thead>\n",
       "<tbody>\n",
       "\t<tr><th scope=row>FOXO1</th><td>FOXO1  </td><td>-0.1104399</td><td>0.02745432</td></tr>\n",
       "\t<tr><th scope=row>HOXD10</th><td>HOXD10 </td><td>-0.1468185</td><td>0.02892684</td></tr>\n",
       "\t<tr><th scope=row>SIM1</th><td>SIM1   </td><td>-0.1512984</td><td>0.03700012</td></tr>\n",
       "\t<tr><th scope=row>MEF2A</th><td>MEF2A  </td><td>-0.1543823</td><td>0.06492537</td></tr>\n",
       "\t<tr><th scope=row>CREM</th><td>CREM   </td><td>-0.1583656</td><td>0.02962007</td></tr>\n",
       "\t<tr><th scope=row>NPAS3</th><td>NPAS3  </td><td>-0.1631915</td><td>0.05219810</td></tr>\n",
       "\t<tr><th scope=row>MITF</th><td>MITF   </td><td>-0.1790865</td><td>0.04136360</td></tr>\n",
       "\t<tr><th scope=row>GATA3</th><td>GATA3  </td><td>-0.2026458</td><td>0.03237915</td></tr>\n",
       "\t<tr><th scope=row>EMX1</th><td>EMX1   </td><td>-0.2282337</td><td>0.02788013</td></tr>\n",
       "\t<tr><th scope=row>THRB</th><td>THRB   </td><td>-0.2817825</td><td>0.07022294</td></tr>\n",
       "\t<tr><th scope=row>ARNTL2</th><td>ARNTL2 </td><td>-0.4063570</td><td>0.14734439</td></tr>\n",
       "\t<tr><th scope=row>BACH2</th><td>BACH2  </td><td>-0.4726306</td><td>0.04413157</td></tr>\n",
       "\t<tr><th scope=row>HOXD3</th><td>HOXD3  </td><td>-0.4945680</td><td>0.04427165</td></tr>\n",
       "\t<tr><th scope=row>PRDM16</th><td>PRDM16 </td><td>-0.7319375</td><td>0.08972805</td></tr>\n",
       "\t<tr><th scope=row>TFCP2L1</th><td>TFCP2L1</td><td>-0.9376716</td><td>0.09002610</td></tr>\n",
       "\t<tr><th scope=row>GLIS3</th><td>GLIS3  </td><td>-1.0236151</td><td>0.10681074</td></tr>\n",
       "\t<tr><th scope=row>SOX6</th><td>SOX6   </td><td>-1.1259276</td><td>0.11000013</td></tr>\n",
       "\t<tr><th scope=row>ESRRG</th><td>ESRRG  </td><td>-1.7665836</td><td>0.22722583</td></tr>\n",
       "\t<tr><th scope=row>NR3C2</th><td>NR3C2  </td><td>-2.3065138</td><td>0.18185481</td></tr>\n",
       "\t<tr><th scope=row>MECOM</th><td>MECOM  </td><td>-8.6874309</td><td>0.36716794</td></tr>\n",
       "</tbody>\n",
       "</table>\n"
      ],
      "text/latex": [
       "A data.frame: 20 × 3\n",
       "\\begin{tabular}{r|lll}\n",
       "  & TF\\_name & Score & SE\\\\\n",
       "  & <chr> & <dbl> & <dbl>\\\\\n",
       "\\hline\n",
       "\tFOXO1 & FOXO1   & -0.1104399 & 0.02745432\\\\\n",
       "\tHOXD10 & HOXD10  & -0.1468185 & 0.02892684\\\\\n",
       "\tSIM1 & SIM1    & -0.1512984 & 0.03700012\\\\\n",
       "\tMEF2A & MEF2A   & -0.1543823 & 0.06492537\\\\\n",
       "\tCREM & CREM    & -0.1583656 & 0.02962007\\\\\n",
       "\tNPAS3 & NPAS3   & -0.1631915 & 0.05219810\\\\\n",
       "\tMITF & MITF    & -0.1790865 & 0.04136360\\\\\n",
       "\tGATA3 & GATA3   & -0.2026458 & 0.03237915\\\\\n",
       "\tEMX1 & EMX1    & -0.2282337 & 0.02788013\\\\\n",
       "\tTHRB & THRB    & -0.2817825 & 0.07022294\\\\\n",
       "\tARNTL2 & ARNTL2  & -0.4063570 & 0.14734439\\\\\n",
       "\tBACH2 & BACH2   & -0.4726306 & 0.04413157\\\\\n",
       "\tHOXD3 & HOXD3   & -0.4945680 & 0.04427165\\\\\n",
       "\tPRDM16 & PRDM16  & -0.7319375 & 0.08972805\\\\\n",
       "\tTFCP2L1 & TFCP2L1 & -0.9376716 & 0.09002610\\\\\n",
       "\tGLIS3 & GLIS3   & -1.0236151 & 0.10681074\\\\\n",
       "\tSOX6 & SOX6    & -1.1259276 & 0.11000013\\\\\n",
       "\tESRRG & ESRRG   & -1.7665836 & 0.22722583\\\\\n",
       "\tNR3C2 & NR3C2   & -2.3065138 & 0.18185481\\\\\n",
       "\tMECOM & MECOM   & -8.6874309 & 0.36716794\\\\\n",
       "\\end{tabular}\n"
      ],
      "text/markdown": [
       "\n",
       "A data.frame: 20 × 3\n",
       "\n",
       "| <!--/--> | TF_name &lt;chr&gt; | Score &lt;dbl&gt; | SE &lt;dbl&gt; |\n",
       "|---|---|---|---|\n",
       "| FOXO1 | FOXO1   | -0.1104399 | 0.02745432 |\n",
       "| HOXD10 | HOXD10  | -0.1468185 | 0.02892684 |\n",
       "| SIM1 | SIM1    | -0.1512984 | 0.03700012 |\n",
       "| MEF2A | MEF2A   | -0.1543823 | 0.06492537 |\n",
       "| CREM | CREM    | -0.1583656 | 0.02962007 |\n",
       "| NPAS3 | NPAS3   | -0.1631915 | 0.05219810 |\n",
       "| MITF | MITF    | -0.1790865 | 0.04136360 |\n",
       "| GATA3 | GATA3   | -0.2026458 | 0.03237915 |\n",
       "| EMX1 | EMX1    | -0.2282337 | 0.02788013 |\n",
       "| THRB | THRB    | -0.2817825 | 0.07022294 |\n",
       "| ARNTL2 | ARNTL2  | -0.4063570 | 0.14734439 |\n",
       "| BACH2 | BACH2   | -0.4726306 | 0.04413157 |\n",
       "| HOXD3 | HOXD3   | -0.4945680 | 0.04427165 |\n",
       "| PRDM16 | PRDM16  | -0.7319375 | 0.08972805 |\n",
       "| TFCP2L1 | TFCP2L1 | -0.9376716 | 0.09002610 |\n",
       "| GLIS3 | GLIS3   | -1.0236151 | 0.10681074 |\n",
       "| SOX6 | SOX6    | -1.1259276 | 0.11000013 |\n",
       "| ESRRG | ESRRG   | -1.7665836 | 0.22722583 |\n",
       "| NR3C2 | NR3C2   | -2.3065138 | 0.18185481 |\n",
       "| MECOM | MECOM   | -8.6874309 | 0.36716794 |\n",
       "\n"
      ],
      "text/plain": [
       "        TF_name Score      SE        \n",
       "FOXO1   FOXO1   -0.1104399 0.02745432\n",
       "HOXD10  HOXD10  -0.1468185 0.02892684\n",
       "SIM1    SIM1    -0.1512984 0.03700012\n",
       "MEF2A   MEF2A   -0.1543823 0.06492537\n",
       "CREM    CREM    -0.1583656 0.02962007\n",
       "NPAS3   NPAS3   -0.1631915 0.05219810\n",
       "MITF    MITF    -0.1790865 0.04136360\n",
       "GATA3   GATA3   -0.2026458 0.03237915\n",
       "EMX1    EMX1    -0.2282337 0.02788013\n",
       "THRB    THRB    -0.2817825 0.07022294\n",
       "ARNTL2  ARNTL2  -0.4063570 0.14734439\n",
       "BACH2   BACH2   -0.4726306 0.04413157\n",
       "HOXD3   HOXD3   -0.4945680 0.04427165\n",
       "PRDM16  PRDM16  -0.7319375 0.08972805\n",
       "TFCP2L1 TFCP2L1 -0.9376716 0.09002610\n",
       "GLIS3   GLIS3   -1.0236151 0.10681074\n",
       "SOX6    SOX6    -1.1259276 0.11000013\n",
       "ESRRG   ESRRG   -1.7665836 0.22722583\n",
       "NR3C2   NR3C2   -2.3065138 0.18185481\n",
       "MECOM   MECOM   -8.6874309 0.36716794"
      ]
     },
     "metadata": {},
     "output_type": "display_data"
    }
   ],
   "source": [
    "head(tf_ranks,20)\n",
    "tail(tf_ranks,20)"
   ]
  },
  {
   "cell_type": "code",
   "execution_count": 28,
   "id": "eacba4e3",
   "metadata": {},
   "outputs": [],
   "source": [
    "save(list=c(\"gene_list\", \"aen_lists\", \"de_genes_BK\", \"tf_results\", \"tf_ranks\", \"regulator_tf_names\", \"centrality_rankings\", \"peak_results\"), \n",
    "     file = file.path(processed_dir, paste0(\"RENIN_324701_cells_\", FindMarkers_ident_1, \"_vs_\", FindMarkers_ident_2, \".RData\")), compress = T)"
   ]
  },
  {
   "cell_type": "code",
   "execution_count": null,
   "id": "9c4466a7",
   "metadata": {},
   "outputs": [],
   "source": []
  },
  {
   "cell_type": "code",
   "execution_count": 29,
   "id": "dca8cb14",
   "metadata": {},
   "outputs": [
    {
     "data": {
      "text/plain": [
       "[1] \"2023-07-03 15:22:10 CDT\""
      ]
     },
     "metadata": {},
     "output_type": "display_data"
    }
   ],
   "source": [
    "Sys.time()"
   ]
  },
  {
   "cell_type": "code",
   "execution_count": null,
   "id": "a20d79ea",
   "metadata": {},
   "outputs": [],
   "source": []
  },
  {
   "cell_type": "code",
   "execution_count": null,
   "id": "0de64550",
   "metadata": {},
   "outputs": [],
   "source": []
  },
  {
   "cell_type": "code",
   "execution_count": null,
   "id": "1b62ad80",
   "metadata": {},
   "outputs": [],
   "source": []
  },
  {
   "cell_type": "code",
   "execution_count": null,
   "id": "b890b327",
   "metadata": {},
   "outputs": [],
   "source": []
  }
 ],
 "metadata": {
  "kernelspec": {
   "display_name": "R",
   "language": "R",
   "name": "ir"
  },
  "language_info": {
   "codemirror_mode": "r",
   "file_extension": ".r",
   "mimetype": "text/x-r-source",
   "name": "R",
   "pygments_lexer": "r",
   "version": "4.2.2"
  }
 },
 "nbformat": 4,
 "nbformat_minor": 5
}
