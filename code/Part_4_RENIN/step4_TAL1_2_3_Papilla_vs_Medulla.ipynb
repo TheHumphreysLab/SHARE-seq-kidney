{
 "cells": [
  {
   "cell_type": "code",
   "execution_count": 1,
   "id": "5a5f9755",
   "metadata": {
    "scrolled": false
   },
   "outputs": [
    {
     "name": "stderr",
     "output_type": "stream",
     "text": [
      "Attaching SeuratObject\n",
      "\n",
      "Attaching sp\n",
      "\n",
      "\n",
      "Attaching package: ‘Signac’\n",
      "\n",
      "\n",
      "The following object is masked from ‘package:Seurat’:\n",
      "\n",
      "    FoldChange\n",
      "\n",
      "\n",
      "── \u001b[1mAttaching packages\u001b[22m ─────────────────────────────────────────────────────────────────────────────── tidyverse 1.3.2 ──\n",
      "\u001b[32m✔\u001b[39m \u001b[34mggplot2\u001b[39m 3.4.1     \u001b[32m✔\u001b[39m \u001b[34mpurrr  \u001b[39m 0.3.4\n",
      "\u001b[32m✔\u001b[39m \u001b[34mtibble \u001b[39m 3.1.8     \u001b[32m✔\u001b[39m \u001b[34mdplyr  \u001b[39m 1.0.9\n",
      "\u001b[32m✔\u001b[39m \u001b[34mtidyr  \u001b[39m 1.2.0     \u001b[32m✔\u001b[39m \u001b[34mstringr\u001b[39m 1.4.0\n",
      "\u001b[32m✔\u001b[39m \u001b[34mreadr  \u001b[39m 2.1.2     \u001b[32m✔\u001b[39m \u001b[34mforcats\u001b[39m 0.5.1\n",
      "── \u001b[1mConflicts\u001b[22m ────────────────────────────────────────────────────────────────────────────────── tidyverse_conflicts() ──\n",
      "\u001b[31m✖\u001b[39m \u001b[34mdplyr\u001b[39m::\u001b[32mfilter()\u001b[39m masks \u001b[34mstats\u001b[39m::filter()\n",
      "\u001b[31m✖\u001b[39m \u001b[34mdplyr\u001b[39m::\u001b[32mlag()\u001b[39m    masks \u001b[34mstats\u001b[39m::lag()\n",
      "\u001b[31m✖\u001b[39m \u001b[34mpurrr\u001b[39m::\u001b[32mreduce()\u001b[39m masks \u001b[34mSignac\u001b[39m::reduce()\n",
      "\n",
      "\n",
      "Warning message:\n",
      "“no function found corresponding to methods exports from ‘BSgenome’ for: ‘releaseName’”\n",
      "Loading required package: BSgenome\n",
      "\n",
      "Loading required package: BiocGenerics\n",
      "\n",
      "Loading required package: parallel\n",
      "\n",
      "\n",
      "Attaching package: ‘BiocGenerics’\n",
      "\n",
      "\n",
      "The following objects are masked from ‘package:parallel’:\n",
      "\n",
      "    clusterApply, clusterApplyLB, clusterCall, clusterEvalQ,\n",
      "    clusterExport, clusterMap, parApply, parCapply, parLapply,\n",
      "    parLapplyLB, parRapply, parSapply, parSapplyLB\n",
      "\n",
      "\n",
      "The following objects are masked from ‘package:dplyr’:\n",
      "\n",
      "    combine, intersect, setdiff, union\n",
      "\n",
      "\n",
      "The following objects are masked from ‘package:stats’:\n",
      "\n",
      "    IQR, mad, sd, var, xtabs\n",
      "\n",
      "\n",
      "The following objects are masked from ‘package:base’:\n",
      "\n",
      "    anyDuplicated, append, as.data.frame, basename, cbind, colnames,\n",
      "    dirname, do.call, duplicated, eval, evalq, Filter, Find, get, grep,\n",
      "    grepl, intersect, is.unsorted, lapply, Map, mapply, match, mget,\n",
      "    order, paste, pmax, pmax.int, pmin, pmin.int, Position, rank,\n",
      "    rbind, Reduce, rownames, sapply, setdiff, sort, table, tapply,\n",
      "    union, unique, unsplit, which.max, which.min\n",
      "\n",
      "\n",
      "Loading required package: S4Vectors\n",
      "\n",
      "Loading required package: stats4\n",
      "\n",
      "\n",
      "Attaching package: ‘S4Vectors’\n",
      "\n",
      "\n",
      "The following objects are masked from ‘package:dplyr’:\n",
      "\n",
      "    first, rename\n",
      "\n",
      "\n",
      "The following object is masked from ‘package:tidyr’:\n",
      "\n",
      "    expand\n",
      "\n",
      "\n",
      "The following objects are masked from ‘package:base’:\n",
      "\n",
      "    expand.grid, I, unname\n",
      "\n",
      "\n",
      "Loading required package: IRanges\n",
      "\n",
      "\n",
      "Attaching package: ‘IRanges’\n",
      "\n",
      "\n",
      "The following objects are masked from ‘package:dplyr’:\n",
      "\n",
      "    collapse, desc, slice\n",
      "\n",
      "\n",
      "The following object is masked from ‘package:purrr’:\n",
      "\n",
      "    reduce\n",
      "\n",
      "\n",
      "The following object is masked from ‘package:sp’:\n",
      "\n",
      "    %over%\n",
      "\n",
      "\n",
      "Loading required package: GenomeInfoDb\n",
      "\n",
      "Loading required package: GenomicRanges\n",
      "\n",
      "Loading required package: Biostrings\n",
      "\n",
      "Loading required package: XVector\n",
      "\n",
      "\n",
      "Attaching package: ‘XVector’\n",
      "\n",
      "\n",
      "The following object is masked from ‘package:purrr’:\n",
      "\n",
      "    compact\n",
      "\n",
      "\n",
      "\n",
      "Attaching package: ‘Biostrings’\n",
      "\n",
      "\n",
      "The following object is masked from ‘package:base’:\n",
      "\n",
      "    strsplit\n",
      "\n",
      "\n",
      "Loading required package: rtracklayer\n",
      "\n"
     ]
    }
   ],
   "source": [
    "library(Seurat)\n",
    "library(Signac)\n",
    "library(SeuratWrappers)\n",
    "library(RENIN)\n",
    "library(tidyverse)\n",
    "library(chromVARmotifs)\n",
    "library(BSgenome.Hsapiens.UCSC.hg19)"
   ]
  },
  {
   "cell_type": "markdown",
   "id": "2dc24966",
   "metadata": {},
   "source": [
    "## define the two ident to compare in FindMarkers function"
   ]
  },
  {
   "cell_type": "code",
   "execution_count": 2,
   "id": "7b858190",
   "metadata": {},
   "outputs": [],
   "source": [
    "FindMarkers_ident_1 = \"Papilla\"\n",
    "FindMarkers_ident_2 = \"Medulla\"\n",
    "\n",
    "celltype_subset = c(\"TAL1\", \"TAL2\", \"TAL3\")"
   ]
  },
  {
   "cell_type": "code",
   "execution_count": 3,
   "id": "77782b23",
   "metadata": {},
   "outputs": [],
   "source": [
    "de_gene_file = \"../../processed_data/RENIN/de_genes/446267_cells_RNA/TAL_rank_genes_groups_p_vs_m_20230425.RData\""
   ]
  },
  {
   "cell_type": "code",
   "execution_count": 4,
   "id": "7484a1a0",
   "metadata": {},
   "outputs": [
    {
     "data": {
      "text/html": [
       "'../../processed_data/RENIN/by_regions/TAL1_TAL2_TAL3'"
      ],
      "text/latex": [
       "'../../processed\\_data/RENIN/by\\_regions/TAL1\\_TAL2\\_TAL3'"
      ],
      "text/markdown": [
       "'../../processed_data/RENIN/by_regions/TAL1_TAL2_TAL3'"
      ],
      "text/plain": [
       "[1] \"../../processed_data/RENIN/by_regions/TAL1_TAL2_TAL3\""
      ]
     },
     "metadata": {},
     "output_type": "display_data"
    }
   ],
   "source": [
    "processed_dir = file.path(\"..\", \"..\", \"processed_data\", \"RENIN\", \"by_regions\", paste0(gsub(pattern = \"\\\\/\", \"_\", paste(celltype_subset, collapse = \"_\"))))\n",
    "processed_dir\n",
    "dir.create(processed_dir, recursive = T, showWarnings = F)"
   ]
  },
  {
   "cell_type": "markdown",
   "id": "7923c586",
   "metadata": {},
   "source": [
    "### load previously calculated image which includes expr_mat, peak_mat, novaseq.sub. This could save time for dealing with new de_gene for different clusters while sharing the same novaseq.sub object"
   ]
  },
  {
   "cell_type": "code",
   "execution_count": 5,
   "id": "a014ce77",
   "metadata": {},
   "outputs": [
    {
     "data": {
      "text/plain": [
       "[1] \"2023-07-01 13:19:14 CDT\""
      ]
     },
     "metadata": {},
     "output_type": "display_data"
    },
    {
     "data": {
      "text/plain": [
       "[1] \"2023-07-01 13:24:13 CDT\""
      ]
     },
     "metadata": {},
     "output_type": "display_data"
    }
   ],
   "source": [
    "Sys.time()\n",
    "load(\"../../processed_data/RENIN/RENIN_324701_cells_preprocess.RData\")\n",
    "Sys.time()"
   ]
  },
  {
   "cell_type": "code",
   "execution_count": 6,
   "id": "7378c09c",
   "metadata": {},
   "outputs": [
    {
     "data": {
      "text/plain": [
       "An object of class Seurat \n",
       "237522 features across 324701 samples within 2 assays \n",
       "Active assay: peaks (189184 features, 189184 variable features)\n",
       " 1 other assay present: SCT\n",
       " 6 dimensional reductions calculated: pca, harmony_RNA, lsi, harmony_peaks, umap.peaks, WNN.UMAP"
      ]
     },
     "metadata": {},
     "output_type": "display_data"
    },
    {
     "data": {
      "text/plain": [
       "\n",
       "      JGA       POD       PEC        PT PT_dediff  PT_VCAM1       tL1       tL2 \n",
       "     2465      3179      1239     64880     29494      8445     25438      9029 \n",
       "   tL-TAL      TAL1      TAL2      TAL3       DCT       CNT       PC1       PC2 \n",
       "    15485     29910     19724      8900     14150     13197     16140      4049 \n",
       "      ICA       ICB      Uro1      Uro2      ENDO      SMC1      SMC2      SMC3 \n",
       "    10579      4120      3210       682     12847      4272       156        86 \n",
       "     Fib1      Fib2      Fib3        Ma        BT \n",
       "     3786      7191      3095      3673      5280 "
      ]
     },
     "metadata": {},
     "output_type": "display_data"
    }
   ],
   "source": [
    "novaseq.sub\n",
    "table(novaseq.sub$celltype5_rna)"
   ]
  },
  {
   "cell_type": "code",
   "execution_count": 7,
   "id": "f5ee7fc7",
   "metadata": {},
   "outputs": [
    {
     "data": {
      "text/html": [
       "<style>\n",
       ".list-inline {list-style: none; margin:0; padding: 0}\n",
       ".list-inline>li {display: inline-block}\n",
       ".list-inline>li:not(:last-child)::after {content: \"\\00b7\"; padding: 0 .5ex}\n",
       "</style>\n",
       "<ol class=list-inline><li>'celltype_subset'</li><li>'de_gene_file'</li><li>'expr_mat'</li><li>'FindMarkers_ident_1'</li><li>'FindMarkers_ident_2'</li><li>'level.novaseq'</li><li>'level.novaseq.renal_region_new'</li><li>'level.novaseq.rna'</li><li>'novaseq.sub'</li><li>'palette.novaseq'</li><li>'palette.novaseq.renal_region_new'</li><li>'palette.novaseq.rna'</li><li>'peak_mat'</li><li>'processed_dir'</li></ol>\n"
      ],
      "text/latex": [
       "\\begin{enumerate*}\n",
       "\\item 'celltype\\_subset'\n",
       "\\item 'de\\_gene\\_file'\n",
       "\\item 'expr\\_mat'\n",
       "\\item 'FindMarkers\\_ident\\_1'\n",
       "\\item 'FindMarkers\\_ident\\_2'\n",
       "\\item 'level.novaseq'\n",
       "\\item 'level.novaseq.renal\\_region\\_new'\n",
       "\\item 'level.novaseq.rna'\n",
       "\\item 'novaseq.sub'\n",
       "\\item 'palette.novaseq'\n",
       "\\item 'palette.novaseq.renal\\_region\\_new'\n",
       "\\item 'palette.novaseq.rna'\n",
       "\\item 'peak\\_mat'\n",
       "\\item 'processed\\_dir'\n",
       "\\end{enumerate*}\n"
      ],
      "text/markdown": [
       "1. 'celltype_subset'\n",
       "2. 'de_gene_file'\n",
       "3. 'expr_mat'\n",
       "4. 'FindMarkers_ident_1'\n",
       "5. 'FindMarkers_ident_2'\n",
       "6. 'level.novaseq'\n",
       "7. 'level.novaseq.renal_region_new'\n",
       "8. 'level.novaseq.rna'\n",
       "9. 'novaseq.sub'\n",
       "10. 'palette.novaseq'\n",
       "11. 'palette.novaseq.renal_region_new'\n",
       "12. 'palette.novaseq.rna'\n",
       "13. 'peak_mat'\n",
       "14. 'processed_dir'\n",
       "\n",
       "\n"
      ],
      "text/plain": [
       " [1] \"celltype_subset\"                  \"de_gene_file\"                    \n",
       " [3] \"expr_mat\"                         \"FindMarkers_ident_1\"             \n",
       " [5] \"FindMarkers_ident_2\"              \"level.novaseq\"                   \n",
       " [7] \"level.novaseq.renal_region_new\"   \"level.novaseq.rna\"               \n",
       " [9] \"novaseq.sub\"                      \"palette.novaseq\"                 \n",
       "[11] \"palette.novaseq.renal_region_new\" \"palette.novaseq.rna\"             \n",
       "[13] \"peak_mat\"                         \"processed_dir\"                   "
      ]
     },
     "metadata": {},
     "output_type": "display_data"
    }
   ],
   "source": [
    "ls()"
   ]
  },
  {
   "cell_type": "code",
   "execution_count": 8,
   "id": "ea7f2396",
   "metadata": {},
   "outputs": [],
   "source": [
    "## subset novaseq.sub again to only include the celltypes of interest"
   ]
  },
  {
   "cell_type": "code",
   "execution_count": 9,
   "id": "6846e163",
   "metadata": {},
   "outputs": [
    {
     "data": {
      "text/plain": [
       "An object of class Seurat \n",
       "237522 features across 58534 samples within 2 assays \n",
       "Active assay: peaks (189184 features, 189184 variable features)\n",
       " 1 other assay present: SCT\n",
       " 6 dimensional reductions calculated: pca, harmony_RNA, lsi, harmony_peaks, umap.peaks, WNN.UMAP"
      ]
     },
     "metadata": {},
     "output_type": "display_data"
    },
    {
     "data": {
      "text/plain": [
       "\n",
       "      JGA       POD       PEC        PT PT_dediff  PT_VCAM1       tL1       tL2 \n",
       "        0         0         0         0         0         0         0         0 \n",
       "   tL-TAL      TAL1      TAL2      TAL3       DCT       CNT       PC1       PC2 \n",
       "        0     29910     19724      8900         0         0         0         0 \n",
       "      ICA       ICB      Uro1      Uro2      ENDO      SMC1      SMC2      SMC3 \n",
       "        0         0         0         0         0         0         0         0 \n",
       "     Fib1      Fib2      Fib3        Ma        BT \n",
       "        0         0         0         0         0 "
      ]
     },
     "metadata": {},
     "output_type": "display_data"
    }
   ],
   "source": [
    "novaseq.sub = subset(novaseq.sub, celltype5_rna %in% celltype_subset)\n",
    "novaseq.sub\n",
    "table(novaseq.sub$celltype5_rna)"
   ]
  },
  {
   "cell_type": "code",
   "execution_count": 10,
   "id": "16c607fc",
   "metadata": {},
   "outputs": [
    {
     "data": {
      "text/html": [
       "<style>\n",
       ".list-inline {list-style: none; margin:0; padding: 0}\n",
       ".list-inline>li {display: inline-block}\n",
       ".list-inline>li:not(:last-child)::after {content: \"\\00b7\"; padding: 0 .5ex}\n",
       "</style>\n",
       "<ol class=list-inline><li>'celltype_subset'</li><li>'de_gene_file'</li><li>'expr_mat'</li><li>'FindMarkers_ident_1'</li><li>'FindMarkers_ident_2'</li><li>'level.novaseq'</li><li>'level.novaseq.renal_region_new'</li><li>'level.novaseq.rna'</li><li>'novaseq.sub'</li><li>'palette.novaseq'</li><li>'palette.novaseq.renal_region_new'</li><li>'palette.novaseq.rna'</li><li>'peak_mat'</li><li>'processed_dir'</li></ol>\n"
      ],
      "text/latex": [
       "\\begin{enumerate*}\n",
       "\\item 'celltype\\_subset'\n",
       "\\item 'de\\_gene\\_file'\n",
       "\\item 'expr\\_mat'\n",
       "\\item 'FindMarkers\\_ident\\_1'\n",
       "\\item 'FindMarkers\\_ident\\_2'\n",
       "\\item 'level.novaseq'\n",
       "\\item 'level.novaseq.renal\\_region\\_new'\n",
       "\\item 'level.novaseq.rna'\n",
       "\\item 'novaseq.sub'\n",
       "\\item 'palette.novaseq'\n",
       "\\item 'palette.novaseq.renal\\_region\\_new'\n",
       "\\item 'palette.novaseq.rna'\n",
       "\\item 'peak\\_mat'\n",
       "\\item 'processed\\_dir'\n",
       "\\end{enumerate*}\n"
      ],
      "text/markdown": [
       "1. 'celltype_subset'\n",
       "2. 'de_gene_file'\n",
       "3. 'expr_mat'\n",
       "4. 'FindMarkers_ident_1'\n",
       "5. 'FindMarkers_ident_2'\n",
       "6. 'level.novaseq'\n",
       "7. 'level.novaseq.renal_region_new'\n",
       "8. 'level.novaseq.rna'\n",
       "9. 'novaseq.sub'\n",
       "10. 'palette.novaseq'\n",
       "11. 'palette.novaseq.renal_region_new'\n",
       "12. 'palette.novaseq.rna'\n",
       "13. 'peak_mat'\n",
       "14. 'processed_dir'\n",
       "\n",
       "\n"
      ],
      "text/plain": [
       " [1] \"celltype_subset\"                  \"de_gene_file\"                    \n",
       " [3] \"expr_mat\"                         \"FindMarkers_ident_1\"             \n",
       " [5] \"FindMarkers_ident_2\"              \"level.novaseq\"                   \n",
       " [7] \"level.novaseq.renal_region_new\"   \"level.novaseq.rna\"               \n",
       " [9] \"novaseq.sub\"                      \"palette.novaseq\"                 \n",
       "[11] \"palette.novaseq.renal_region_new\" \"palette.novaseq.rna\"             \n",
       "[13] \"peak_mat\"                         \"processed_dir\"                   "
      ]
     },
     "metadata": {},
     "output_type": "display_data"
    }
   ],
   "source": [
    "ls()"
   ]
  },
  {
   "cell_type": "markdown",
   "id": "d6839c0d",
   "metadata": {},
   "source": [
    "### remove the following variables because they will be regenerated for new comparison"
   ]
  },
  {
   "cell_type": "code",
   "execution_count": 11,
   "id": "a62ab8fa",
   "metadata": {},
   "outputs": [
    {
     "name": "stderr",
     "output_type": "stream",
     "text": [
      "Warning message in rm(list = c(\"de_genes\", \"de_genes_BK\", \"gene_list\", \"peak_results\", :\n",
      "“object 'de_genes' not found”\n",
      "Warning message in rm(list = c(\"de_genes\", \"de_genes_BK\", \"gene_list\", \"peak_results\", :\n",
      "“object 'de_genes_BK' not found”\n",
      "Warning message in rm(list = c(\"de_genes\", \"de_genes_BK\", \"gene_list\", \"peak_results\", :\n",
      "“object 'gene_list' not found”\n",
      "Warning message in rm(list = c(\"de_genes\", \"de_genes_BK\", \"gene_list\", \"peak_results\", :\n",
      "“object 'peak_results' not found”\n",
      "Warning message in rm(list = c(\"de_genes\", \"de_genes_BK\", \"gene_list\", \"peak_results\", :\n",
      "“object 'aen_lists' not found”\n",
      "Warning message in rm(list = c(\"de_genes\", \"de_genes_BK\", \"gene_list\", \"peak_results\", :\n",
      "“object 'tf_results' not found”\n",
      "Warning message in rm(list = c(\"de_genes\", \"de_genes_BK\", \"gene_list\", \"peak_results\", :\n",
      "“object 'regulator_tf_names' not found”\n",
      "Warning message in rm(list = c(\"de_genes\", \"de_genes_BK\", \"gene_list\", \"peak_results\", :\n",
      "“object 'centrality_rankings' not found”\n"
     ]
    }
   ],
   "source": [
    "rm(list = c(\"de_genes\", \"de_genes_BK\", \"gene_list\", \"peak_results\", \"aen_lists\", \"tf_results\", \"regulator_tf_names\", \"centrality_rankings\"))"
   ]
  },
  {
   "cell_type": "code",
   "execution_count": 12,
   "id": "fd843e48",
   "metadata": {},
   "outputs": [
    {
     "data": {
      "text/html": [
       "<style>\n",
       ".list-inline {list-style: none; margin:0; padding: 0}\n",
       ".list-inline>li {display: inline-block}\n",
       ".list-inline>li:not(:last-child)::after {content: \"\\00b7\"; padding: 0 .5ex}\n",
       "</style>\n",
       "<ol class=list-inline><li>'celltype_subset'</li><li>'de_gene_file'</li><li>'expr_mat'</li><li>'FindMarkers_ident_1'</li><li>'FindMarkers_ident_2'</li><li>'level.novaseq'</li><li>'level.novaseq.renal_region_new'</li><li>'level.novaseq.rna'</li><li>'novaseq.sub'</li><li>'palette.novaseq'</li><li>'palette.novaseq.renal_region_new'</li><li>'palette.novaseq.rna'</li><li>'peak_mat'</li><li>'processed_dir'</li></ol>\n"
      ],
      "text/latex": [
       "\\begin{enumerate*}\n",
       "\\item 'celltype\\_subset'\n",
       "\\item 'de\\_gene\\_file'\n",
       "\\item 'expr\\_mat'\n",
       "\\item 'FindMarkers\\_ident\\_1'\n",
       "\\item 'FindMarkers\\_ident\\_2'\n",
       "\\item 'level.novaseq'\n",
       "\\item 'level.novaseq.renal\\_region\\_new'\n",
       "\\item 'level.novaseq.rna'\n",
       "\\item 'novaseq.sub'\n",
       "\\item 'palette.novaseq'\n",
       "\\item 'palette.novaseq.renal\\_region\\_new'\n",
       "\\item 'palette.novaseq.rna'\n",
       "\\item 'peak\\_mat'\n",
       "\\item 'processed\\_dir'\n",
       "\\end{enumerate*}\n"
      ],
      "text/markdown": [
       "1. 'celltype_subset'\n",
       "2. 'de_gene_file'\n",
       "3. 'expr_mat'\n",
       "4. 'FindMarkers_ident_1'\n",
       "5. 'FindMarkers_ident_2'\n",
       "6. 'level.novaseq'\n",
       "7. 'level.novaseq.renal_region_new'\n",
       "8. 'level.novaseq.rna'\n",
       "9. 'novaseq.sub'\n",
       "10. 'palette.novaseq'\n",
       "11. 'palette.novaseq.renal_region_new'\n",
       "12. 'palette.novaseq.rna'\n",
       "13. 'peak_mat'\n",
       "14. 'processed_dir'\n",
       "\n",
       "\n"
      ],
      "text/plain": [
       " [1] \"celltype_subset\"                  \"de_gene_file\"                    \n",
       " [3] \"expr_mat\"                         \"FindMarkers_ident_1\"             \n",
       " [5] \"FindMarkers_ident_2\"              \"level.novaseq\"                   \n",
       " [7] \"level.novaseq.renal_region_new\"   \"level.novaseq.rna\"               \n",
       " [9] \"novaseq.sub\"                      \"palette.novaseq\"                 \n",
       "[11] \"palette.novaseq.renal_region_new\" \"palette.novaseq.rna\"             \n",
       "[13] \"peak_mat\"                         \"processed_dir\"                   "
      ]
     },
     "metadata": {},
     "output_type": "display_data"
    }
   ],
   "source": [
    "ls()"
   ]
  },
  {
   "cell_type": "code",
   "execution_count": 13,
   "id": "354579b1",
   "metadata": {},
   "outputs": [
    {
     "data": {
      "text/html": [
       "<style>\n",
       ".dl-inline {width: auto; margin:0; padding: 0}\n",
       ".dl-inline>dt, .dl-inline>dd {float: none; width: auto; display: inline-block}\n",
       ".dl-inline>dt::after {content: \":\\0020\"; padding-right: .5ex}\n",
       ".dl-inline>dt:not(:first-of-type) {padding-left: .5ex}\n",
       "</style><dl class=dl-inline><dt>R1.056,R2.038,R3.008,P1.48,B2</dt><dd>Medulla</dd><dt>R1.031,R2.072,R3.075,P1.78,B3</dt><dd>Medulla</dd><dt>R1.006,R2.001,R3.001,P1.11,B3</dt><dd>Cortex</dd><dt>R1.048,R2.071,R3.010,P1.66,B2</dt><dd>Cortex</dd><dt>R1.030,R2.014,R3.064,P1.50,B3</dt><dd>Papilla</dd><dt>R1.078,R2.071,R3.079,P1.50,B3</dt><dd>Papilla</dd></dl>\n",
       "\n",
       "<details>\n",
       "\t<summary style=display:list-item;cursor:pointer>\n",
       "\t\t<strong>Levels</strong>:\n",
       "\t</summary>\n",
       "\t<style>\n",
       "\t.list-inline {list-style: none; margin:0; padding: 0}\n",
       "\t.list-inline>li {display: inline-block}\n",
       "\t.list-inline>li:not(:last-child)::after {content: \"\\00b7\"; padding: 0 .5ex}\n",
       "\t</style>\n",
       "\t<ol class=list-inline><li>'Cortex'</li><li>'Medulla'</li><li>'Papilla'</li><li>'Renal Artery'</li><li>'Ureter'</li></ol>\n",
       "</details>"
      ],
      "text/latex": [
       "\\begin{description*}\n",
       "\\item[R1.056,R2.038,R3.008,P1.48,B2] Medulla\n",
       "\\item[R1.031,R2.072,R3.075,P1.78,B3] Medulla\n",
       "\\item[R1.006,R2.001,R3.001,P1.11,B3] Cortex\n",
       "\\item[R1.048,R2.071,R3.010,P1.66,B2] Cortex\n",
       "\\item[R1.030,R2.014,R3.064,P1.50,B3] Papilla\n",
       "\\item[R1.078,R2.071,R3.079,P1.50,B3] Papilla\n",
       "\\end{description*}\n",
       "\n",
       "\\emph{Levels}: \\begin{enumerate*}\n",
       "\\item 'Cortex'\n",
       "\\item 'Medulla'\n",
       "\\item 'Papilla'\n",
       "\\item 'Renal Artery'\n",
       "\\item 'Ureter'\n",
       "\\end{enumerate*}\n"
      ],
      "text/markdown": [
       "R1.056,R2.038,R3.008,P1.48,B2\n",
       ":   MedullaR1.031,R2.072,R3.075,P1.78,B3\n",
       ":   MedullaR1.006,R2.001,R3.001,P1.11,B3\n",
       ":   CortexR1.048,R2.071,R3.010,P1.66,B2\n",
       ":   CortexR1.030,R2.014,R3.064,P1.50,B3\n",
       ":   PapillaR1.078,R2.071,R3.079,P1.50,B3\n",
       ":   Papilla\n",
       "\n",
       "\n",
       "**Levels**: 1. 'Cortex'\n",
       "2. 'Medulla'\n",
       "3. 'Papilla'\n",
       "4. 'Renal Artery'\n",
       "5. 'Ureter'\n",
       "\n",
       "\n"
      ],
      "text/plain": [
       "R1.056,R2.038,R3.008,P1.48,B2 R1.031,R2.072,R3.075,P1.78,B3 \n",
       "                      Medulla                       Medulla \n",
       "R1.006,R2.001,R3.001,P1.11,B3 R1.048,R2.071,R3.010,P1.66,B2 \n",
       "                       Cortex                        Cortex \n",
       "R1.030,R2.014,R3.064,P1.50,B3 R1.078,R2.071,R3.079,P1.50,B3 \n",
       "                      Papilla                       Papilla \n",
       "Levels: Cortex Medulla Papilla Renal Artery Ureter"
      ]
     },
     "metadata": {},
     "output_type": "display_data"
    }
   ],
   "source": [
    "Idents(novaseq.sub) = novaseq.sub$renal_region_new\n",
    "head(Idents(novaseq.sub))"
   ]
  },
  {
   "cell_type": "markdown",
   "id": "6653f7e6",
   "metadata": {},
   "source": [
    "### subset mpt from novaseq.sub because comparison is to be made bewtween two celltypes"
   ]
  },
  {
   "cell_type": "code",
   "execution_count": 14,
   "id": "8042ee6a",
   "metadata": {},
   "outputs": [
    {
     "data": {
      "text/plain": [
       "An object of class Seurat \n",
       "237522 features across 42982 samples within 2 assays \n",
       "Active assay: peaks (189184 features, 189184 variable features)\n",
       " 1 other assay present: SCT\n",
       " 6 dimensional reductions calculated: pca, harmony_RNA, lsi, harmony_peaks, umap.peaks, WNN.UMAP"
      ]
     },
     "metadata": {},
     "output_type": "display_data"
    },
    {
     "data": {
      "text/plain": [
       "\n",
       "      JGA       POD       PEC        PT PT_dediff  PT_VCAM1       tL1       tL2 \n",
       "        0         0         0         0         0         0         0         0 \n",
       "   tL-TAL      TAL1      TAL2      TAL3       DCT       CNT       PC1       PC2 \n",
       "        0     28219     13135      1628         0         0         0         0 \n",
       "      ICA       ICB      Uro1      Uro2      ENDO      SMC1      SMC2      SMC3 \n",
       "        0         0         0         0         0         0         0         0 \n",
       "     Fib1      Fib2      Fib3        Ma        BT \n",
       "        0         0         0         0         0 "
      ]
     },
     "metadata": {},
     "output_type": "display_data"
    }
   ],
   "source": [
    "mpt <- subset(novaseq.sub, renal_region_new %in% c(FindMarkers_ident_1, FindMarkers_ident_2))\n",
    "mpt\n",
    "table(mpt$celltype5_rna)"
   ]
  },
  {
   "cell_type": "markdown",
   "id": "7315242c",
   "metadata": {},
   "source": [
    "## load hli_446267_cells de_gene data frame"
   ]
  },
  {
   "cell_type": "code",
   "execution_count": 15,
   "id": "be82613a",
   "metadata": {},
   "outputs": [
    {
     "data": {
      "text/plain": [
       "[1] \"2023-07-01 13:25:32 CDT\""
      ]
     },
     "metadata": {},
     "output_type": "display_data"
    },
    {
     "data": {
      "text/plain": [
       "[1] \"2023-07-01 13:25:32 CDT\""
      ]
     },
     "metadata": {},
     "output_type": "display_data"
    }
   ],
   "source": [
    "Sys.time()\n",
    "options(future.globals.maxSize = 8000 * 1024^2)\n",
    "load(de_gene_file)\n",
    "Sys.time()"
   ]
  },
  {
   "cell_type": "code",
   "execution_count": 16,
   "id": "ed12a263",
   "metadata": {},
   "outputs": [
    {
     "name": "stdout",
     "output_type": "stream",
     "text": [
      "                          names           scores                 pvals\n",
      "MT-RNR2                 MT-RNR2 57.4203147888184                     0\n",
      "RUNX1                     RUNX1 45.6538124084473                     0\n",
      "ANK2                       ANK2 42.5474662780762                     0\n",
      "ESRRG                     ESRRG 41.2324142456055                     0\n",
      "ENSG00000287176 ENSG00000287176 36.9767036437988 2.71235518939549e-299\n",
      "MT-RNR1                 MT-RNR1 35.9948806762695 1.00589312376237e-283\n",
      "                            pvals_adj    logfoldchanges\n",
      "MT-RNR2                             0 0.857780754566193\n",
      "RUNX1                               0 0.961069822311401\n",
      "ANK2                                0 0.724869072437286\n",
      "ESRRG                               0 0.460754990577698\n",
      "ENSG00000287176 1.00194400696269e-295 0.549769937992096\n",
      "MT-RNR1         3.40612176591336e-280 0.561120629310608\n"
     ]
    },
    {
     "data": {
      "text/html": [
       "<style>\n",
       ".list-inline {list-style: none; margin:0; padding: 0}\n",
       ".list-inline>li {display: inline-block}\n",
       ".list-inline>li:not(:last-child)::after {content: \"\\00b7\"; padding: 0 .5ex}\n",
       "</style>\n",
       "<ol class=list-inline><li>40634</li><li>5</li></ol>\n"
      ],
      "text/latex": [
       "\\begin{enumerate*}\n",
       "\\item 40634\n",
       "\\item 5\n",
       "\\end{enumerate*}\n"
      ],
      "text/markdown": [
       "1. 40634\n",
       "2. 5\n",
       "\n",
       "\n"
      ],
      "text/plain": [
       "[1] 40634     5"
      ]
     },
     "metadata": {},
     "output_type": "display_data"
    }
   ],
   "source": [
    "rownames(de_genes) = de_genes$names\n",
    "de_genes_BK = de_genes\n",
    "print(head(de_genes))\n",
    "dim(de_genes)"
   ]
  },
  {
   "cell_type": "code",
   "execution_count": 17,
   "id": "37b5af7d",
   "metadata": {},
   "outputs": [
    {
     "data": {
      "text/html": [
       "<style>\n",
       ".list-inline {list-style: none; margin:0; padding: 0}\n",
       ".list-inline>li {display: inline-block}\n",
       ".list-inline>li:not(:last-child)::after {content: \"\\00b7\"; padding: 0 .5ex}\n",
       "</style>\n",
       "<ol class=list-inline><li>1252</li><li>5</li></ol>\n"
      ],
      "text/latex": [
       "\\begin{enumerate*}\n",
       "\\item 1252\n",
       "\\item 5\n",
       "\\end{enumerate*}\n"
      ],
      "text/markdown": [
       "1. 1252\n",
       "2. 5\n",
       "\n",
       "\n"
      ],
      "text/plain": [
       "[1] 1252    5"
      ]
     },
     "metadata": {},
     "output_type": "display_data"
    }
   ],
   "source": [
    "### keep DEGs with pvals_adj<0.05\n",
    "p_val_cutoff = 0.05\n",
    "peak_assay = \"peaks\"\n",
    "de_genes <- de_genes[which(de_genes$pvals_adj < p_val_cutoff), ]\n",
    "DefaultAssay(novaseq.sub) <- peak_assay\n",
    "DefaultAssay(mpt) <- peak_assay\n",
    "\n",
    "dim(de_genes)"
   ]
  },
  {
   "cell_type": "code",
   "execution_count": 18,
   "id": "f5273bec",
   "metadata": {},
   "outputs": [
    {
     "data": {
      "text/plain": [
       "[1] \"2023-07-01 13:25:32 CDT\""
      ]
     },
     "metadata": {},
     "output_type": "display_data"
    },
    {
     "data": {
      "text/plain": [
       "[1] \"2023-07-01 13:25:36 CDT\""
      ]
     },
     "metadata": {},
     "output_type": "display_data"
    }
   ],
   "source": [
    "Sys.time()\n",
    "# gene_coords <- Signac:::CollapseToLongestTranscript(Annotation(novaseq.sub))\n",
    "gene_coords <- Signac:::CollapseToLongestTranscript(Annotation(mpt))\n",
    "Sys.time()"
   ]
  },
  {
   "cell_type": "code",
   "execution_count": 19,
   "id": "c4dcadfe",
   "metadata": {},
   "outputs": [
    {
     "data": {
      "text/html": [
       "<style>\n",
       ".list-inline {list-style: none; margin:0; padding: 0}\n",
       ".list-inline>li {display: inline-block}\n",
       ".list-inline>li:not(:last-child)::after {content: \"\\00b7\"; padding: 0 .5ex}\n",
       "</style>\n",
       "<ol class=list-inline><li>974</li><li>5</li></ol>\n"
      ],
      "text/latex": [
       "\\begin{enumerate*}\n",
       "\\item 974\n",
       "\\item 5\n",
       "\\end{enumerate*}\n"
      ],
      "text/markdown": [
       "1. 974\n",
       "2. 5\n",
       "\n",
       "\n"
      ],
      "text/plain": [
       "[1] 974   5"
      ]
     },
     "metadata": {},
     "output_type": "display_data"
    }
   ],
   "source": [
    "de_genes <- de_genes[which(rownames(de_genes) %in% gene_coords$gene_name), ]\n",
    "dim(de_genes)\n",
    "gene_list = rownames(de_genes)"
   ]
  },
  {
   "cell_type": "markdown",
   "id": "9c638101",
   "metadata": {},
   "source": [
    "## Next, make two de_gene sublists: gene_list_neg, gene_list_pos."
   ]
  },
  {
   "cell_type": "code",
   "execution_count": 20,
   "id": "c52a8482",
   "metadata": {},
   "outputs": [
    {
     "name": "stdout",
     "output_type": "stream",
     "text": [
      "[1] 111\n",
      "[1] 863\n"
     ]
    }
   ],
   "source": [
    "gene_list_neg = rownames(de_genes)[de_genes$logfoldchanges < 0]\n",
    "print(length(gene_list_neg))\n",
    "gene_list_pos = rownames(de_genes)[de_genes$logfoldchanges > 0]\n",
    "print(length(gene_list_pos))"
   ]
  },
  {
   "cell_type": "code",
   "execution_count": 21,
   "id": "f53d3d5e",
   "metadata": {},
   "outputs": [],
   "source": [
    "# de_genes[order(de_genes$logfoldchanges, decreasing = T),]"
   ]
  },
  {
   "cell_type": "markdown",
   "id": "33acfd26",
   "metadata": {},
   "source": [
    "## run_peak_aen"
   ]
  },
  {
   "cell_type": "code",
   "execution_count": 22,
   "id": "99c7b95a",
   "metadata": {},
   "outputs": [
    {
     "data": {
      "text/plain": [
       "[1] \"2023-07-01 13:25:36 CDT\""
      ]
     },
     "metadata": {},
     "output_type": "display_data"
    },
    {
     "name": "stderr",
     "output_type": "stream",
     "text": [
      "Loading required package: gcdnet\n",
      "\n",
      "\n",
      "Attaching package: ‘gcdnet’\n",
      "\n",
      "\n",
      "The following object is masked from ‘package:stats4’:\n",
      "\n",
      "    coef\n",
      "\n",
      "\n",
      "The following objects are masked from ‘package:stats’:\n",
      "\n",
      "    coef, predict\n",
      "\n",
      "\n",
      "Loading required package: future\n",
      "\n",
      "\n",
      "Attaching package: ‘future’\n",
      "\n",
      "\n",
      "The following object is masked from ‘package:rtracklayer’:\n",
      "\n",
      "    values\n",
      "\n",
      "\n",
      "The following object is masked from ‘package:GenomicRanges’:\n",
      "\n",
      "    values\n",
      "\n",
      "\n",
      "The following object is masked from ‘package:IRanges’:\n",
      "\n",
      "    values\n",
      "\n",
      "\n",
      "The following object is masked from ‘package:S4Vectors’:\n",
      "\n",
      "    values\n",
      "\n",
      "\n",
      "Loading required package: future.apply\n",
      "\n"
     ]
    },
    {
     "name": "stdout",
     "output_type": "stream",
     "text": [
      "[1] \"Omitted (mitochondrial) genes with no genomic peaks: MT-ND1\"   \n",
      "[2] \"Omitted (mitochondrial) genes with no genomic peaks: MT-CYB\"   \n",
      "[3] \"Omitted (mitochondrial) genes with no genomic peaks: MT-CO3\"   \n",
      "[4] \"Omitted (mitochondrial) genes with no genomic peaks: MT-ND6\"   \n",
      "[5] \"Omitted (mitochondrial) genes with no genomic peaks: LINC00278\"\n",
      "[1] \"AEN completed in 11.3628739476204\"\n"
     ]
    },
    {
     "data": {
      "text/plain": [
       "[1] \"2023-07-01 13:37:26 CDT\""
      ]
     },
     "metadata": {},
     "output_type": "display_data"
    }
   ],
   "source": [
    "Sys.time()\n",
    "\n",
    "options(future.globals.maxSize = 8000 * 1024^2)\n",
    "\n",
    "peak_results <- run_peak_aen(novaseq.sub, expr_mat, peak_mat, gene_list, lambda2 = 0.5, max_distance = 5e+05, num_bootstraps = 100)\n",
    "\n",
    "aen_lists <- make_aen_lists(peak_results)\n",
    "\n",
    "Sys.time()"
   ]
  },
  {
   "cell_type": "markdown",
   "id": "8a20a0bb",
   "metadata": {},
   "source": [
    "## prepare_pseudocell_matrix for mpt"
   ]
  },
  {
   "cell_type": "code",
   "execution_count": 23,
   "id": "3ad166f3",
   "metadata": {},
   "outputs": [
    {
     "name": "stderr",
     "output_type": "stream",
     "text": [
      "Loading required package: Matrix\n",
      "\n",
      "\n",
      "Attaching package: ‘Matrix’\n",
      "\n",
      "\n",
      "The following object is masked from ‘package:S4Vectors’:\n",
      "\n",
      "    expand\n",
      "\n",
      "\n",
      "The following objects are masked from ‘package:tidyr’:\n",
      "\n",
      "    expand, pack, unpack\n",
      "\n",
      "\n",
      "Loading required package: VISION\n",
      "\n",
      "Loading required package: SingleCellExperiment\n",
      "\n",
      "Loading required package: SummarizedExperiment\n",
      "\n",
      "Loading required package: MatrixGenerics\n",
      "\n",
      "Loading required package: matrixStats\n",
      "\n",
      "\n",
      "Attaching package: ‘matrixStats’\n",
      "\n",
      "\n",
      "The following object is masked from ‘package:dplyr’:\n",
      "\n",
      "    count\n",
      "\n",
      "\n",
      "\n",
      "Attaching package: ‘MatrixGenerics’\n",
      "\n",
      "\n",
      "The following objects are masked from ‘package:matrixStats’:\n",
      "\n",
      "    colAlls, colAnyNAs, colAnys, colAvgsPerRowSet, colCollapse,\n",
      "    colCounts, colCummaxs, colCummins, colCumprods, colCumsums,\n",
      "    colDiffs, colIQRDiffs, colIQRs, colLogSumExps, colMadDiffs,\n",
      "    colMads, colMaxs, colMeans2, colMedians, colMins, colOrderStats,\n",
      "    colProds, colQuantiles, colRanges, colRanks, colSdDiffs, colSds,\n",
      "    colSums2, colTabulates, colVarDiffs, colVars, colWeightedMads,\n",
      "    colWeightedMeans, colWeightedMedians, colWeightedSds,\n",
      "    colWeightedVars, rowAlls, rowAnyNAs, rowAnys, rowAvgsPerColSet,\n",
      "    rowCollapse, rowCounts, rowCummaxs, rowCummins, rowCumprods,\n",
      "    rowCumsums, rowDiffs, rowIQRDiffs, rowIQRs, rowLogSumExps,\n",
      "    rowMadDiffs, rowMads, rowMaxs, rowMeans2, rowMedians, rowMins,\n",
      "    rowOrderStats, rowProds, rowQuantiles, rowRanges, rowRanks,\n",
      "    rowSdDiffs, rowSds, rowSums2, rowTabulates, rowVarDiffs, rowVars,\n",
      "    rowWeightedMads, rowWeightedMeans, rowWeightedMedians,\n",
      "    rowWeightedSds, rowWeightedVars\n",
      "\n",
      "\n",
      "Loading required package: Biobase\n",
      "\n",
      "Welcome to Bioconductor\n",
      "\n",
      "    Vignettes contain introductory material; view with\n",
      "    'browseVignettes()'. To cite Bioconductor, see\n",
      "    'citation(\"Biobase\")', and for packages 'citation(\"pkgname\")'.\n",
      "\n",
      "\n",
      "\n",
      "Attaching package: ‘Biobase’\n",
      "\n",
      "\n",
      "The following object is masked from ‘package:MatrixGenerics’:\n",
      "\n",
      "    rowMedians\n",
      "\n",
      "\n",
      "The following objects are masked from ‘package:matrixStats’:\n",
      "\n",
      "    anyMissing, rowMedians\n",
      "\n",
      "\n",
      "\n",
      "Attaching package: ‘SummarizedExperiment’\n",
      "\n",
      "\n",
      "The following object is masked from ‘package:SeuratObject’:\n",
      "\n",
      "    Assays\n",
      "\n",
      "\n",
      "The following object is masked from ‘package:Seurat’:\n",
      "\n",
      "    Assays\n",
      "\n",
      "\n",
      "Calculating cell-specific modality weights\n",
      "\n",
      "Finding 5 nearest neighbors for each modality.\n",
      "\n",
      "Calculating kernel bandwidths\n",
      "\n",
      "Finding multimodal neighbors\n",
      "\n",
      "Constructing multimodal KNN graph\n",
      "\n",
      "Constructing multimodal SNN graph\n",
      "\n",
      "Warning message:\n",
      "“The default method for RunUMAP has changed from calling Python UMAP via reticulate to the R-native UWOT using the cosine metric\n",
      "To use Python UMAP via reticulate, set umap.method to 'umap-learn' and metric to 'correlation'\n",
      "This message will be shown once per session”\n",
      "13:40:52 UMAP embedding parameters a = 0.9922 b = 1.112\n",
      "\n",
      "13:41:20 Commencing smooth kNN distance calibration using 1 thread\n",
      "\n",
      "13:41:20 5 smooth knn distance failures\n",
      "\n",
      "13:41:24 Initializing from normalized Laplacian + noise\n",
      "\n",
      "13:41:24 Commencing optimization for 200 epochs, with 364036 positive edges\n",
      "\n",
      "13:41:40 Optimization finished\n",
      "\n",
      "Performing initial coarse-clustering...\n",
      "\n",
      "Further partitioning coarse clusters...\n",
      "\n",
      "Micro-pooling completed reducing 42982 cells into 4297 pools\n",
      "\n"
     ]
    }
   ],
   "source": [
    "expr_mat_2 <- prepare_pseudocell_matrix(mpt, \n",
    "                                      assay = \"SCT\", \n",
    "                                      slot = \"data\", \n",
    "                                      cells_per_partition = 10, \n",
    "                                      find_neighbors = FALSE,\n",
    "                                      reduction1 = \"harmony_peaks\",\n",
    "                                      reduction2 = \"harmony_RNA\",\n",
    "                                      dim_list = list(1:50, 1:50),\n",
    "                                      k.nn = 5,\n",
    "                                      seed = 489284)"
   ]
  },
  {
   "cell_type": "code",
   "execution_count": 24,
   "id": "b5dc4e36",
   "metadata": {},
   "outputs": [
    {
     "data": {
      "text/html": [
       "974"
      ],
      "text/latex": [
       "974"
      ],
      "text/markdown": [
       "974"
      ],
      "text/plain": [
       "[1] 974"
      ]
     },
     "metadata": {},
     "output_type": "display_data"
    },
    {
     "data": {
      "text/html": [
       "974"
      ],
      "text/latex": [
       "974"
      ],
      "text/markdown": [
       "974"
      ],
      "text/plain": [
       "[1] 974"
      ]
     },
     "metadata": {},
     "output_type": "display_data"
    }
   ],
   "source": [
    "length(gene_list)\n",
    "sum(gene_list %in% colnames(expr_mat_2))"
   ]
  },
  {
   "cell_type": "markdown",
   "id": "51f3a1df",
   "metadata": {},
   "source": [
    "### run_tf_aen"
   ]
  },
  {
   "cell_type": "code",
   "execution_count": 25,
   "id": "b014765b",
   "metadata": {},
   "outputs": [
    {
     "data": {
      "text/plain": [
       "[1] \"2023-07-01 13:47:12 CDT\""
      ]
     },
     "metadata": {},
     "output_type": "display_data"
    },
    {
     "name": "stdout",
     "output_type": "stream",
     "text": [
      "[1] \"Genes without any candidate TFs--most likely no linked peaks or promoter region peaks: NAIP\"\n",
      "[1] \"AEN completed in 28.5997781515121\"\n"
     ]
    },
    {
     "name": "stderr",
     "output_type": "stream",
     "text": [
      "Loading required package: igraph\n",
      "\n",
      "\n",
      "Attaching package: ‘igraph’\n",
      "\n",
      "\n",
      "The following objects are masked from ‘package:future’:\n",
      "\n",
      "    %->%, %<-%\n",
      "\n",
      "\n",
      "The following objects are masked from ‘package:rtracklayer’:\n",
      "\n",
      "    blocks, path\n",
      "\n",
      "\n",
      "The following object is masked from ‘package:Biostrings’:\n",
      "\n",
      "    union\n",
      "\n",
      "\n",
      "The following object is masked from ‘package:XVector’:\n",
      "\n",
      "    path\n",
      "\n",
      "\n",
      "The following object is masked from ‘package:GenomicRanges’:\n",
      "\n",
      "    union\n",
      "\n",
      "\n",
      "The following object is masked from ‘package:IRanges’:\n",
      "\n",
      "    union\n",
      "\n",
      "\n",
      "The following object is masked from ‘package:S4Vectors’:\n",
      "\n",
      "    union\n",
      "\n",
      "\n",
      "The following objects are masked from ‘package:BiocGenerics’:\n",
      "\n",
      "    normalize, path, union\n",
      "\n",
      "\n",
      "The following objects are masked from ‘package:dplyr’:\n",
      "\n",
      "    as_data_frame, groups, union\n",
      "\n",
      "\n",
      "The following objects are masked from ‘package:purrr’:\n",
      "\n",
      "    compose, simplify\n",
      "\n",
      "\n",
      "The following object is masked from ‘package:tidyr’:\n",
      "\n",
      "    crossing\n",
      "\n",
      "\n",
      "The following object is masked from ‘package:tibble’:\n",
      "\n",
      "    as_data_frame\n",
      "\n",
      "\n",
      "The following objects are masked from ‘package:stats’:\n",
      "\n",
      "    decompose, spectrum\n",
      "\n",
      "\n",
      "The following object is masked from ‘package:base’:\n",
      "\n",
      "    union\n",
      "\n",
      "\n"
     ]
    },
    {
     "data": {
      "text/plain": [
       "[1] \"2023-07-01 14:16:31 CDT\""
      ]
     },
     "metadata": {},
     "output_type": "display_data"
    }
   ],
   "source": [
    "Sys.time()\n",
    "\n",
    "tf_results <- run_tf_aen(mpt, expr_mat_2, peak_results, gene_list, lambda2 = 0.5)\n",
    "\n",
    "regulator_tf_names <- unlist(novaseq.sub@assays$peaks@motifs@motif.names)\n",
    "\n",
    "regulator_tf_names <- regulator_tf_names[which(regulator_tf_names %in% rownames(GetAssayData(novaseq.sub, assay = \"SCT\")))]\n",
    "\n",
    "centrality_rankings <- rank_tfs_by_centrality(tf_results, novaseq.sub)\n",
    "\n",
    "Sys.time()"
   ]
  },
  {
   "cell_type": "code",
   "execution_count": 26,
   "id": "8d70cd93",
   "metadata": {},
   "outputs": [
    {
     "name": "stdout",
     "output_type": "stream",
     "text": [
      "[1] \"2023-07-01 14:16:31 CDT\"\n",
      "[1] \"centrality_rankings - Betweenness:\"\n",
      "      RUNX1       ESRRG        RORA       BACH2       NR3C2       TCF12 \n",
      "23573.11818 16668.31126  7360.92641  5692.97771  5567.87489  5152.23939 \n",
      "       ELF1        MITF      HIVEP2         EHF       ARNT2        CBFB \n",
      " 3392.91234  3150.98312  1834.32273  1377.04286  1066.13030   761.55455 \n",
      "       PBX3      NFE2L1        BCL6        HLTF        RBPJ      NFE2L2 \n",
      "  520.38939   281.36667   272.78831   254.50000   218.89524   164.35000 \n",
      "       CTCF       SMAD2 \n",
      "   79.08333    63.41667 \n",
      "[1] \"centrality_rankings - PageRank:\"\n",
      "     ARNTL2       RUNX1       FOXP2      PRDM16       PPARA        PAX8 \n",
      "0.028460088 0.026970866 0.013895078 0.013573576 0.011212116 0.009046006 \n",
      "      ESRRB       ESRRG       NFAT5       TEAD1        NFIA        PAX2 \n",
      "0.008821998 0.008696940 0.007712785 0.007630041 0.007118031 0.006841714 \n",
      "    TFCP2L1       RREB1        SIM2       BACH2      SREBF2       HIF1A \n",
      "0.006606413 0.006431036 0.006297322 0.006128156 0.005364270 0.005361981 \n",
      "      ZFHX3       DNMT1 \n",
      "0.005308665 0.005280624 \n",
      "[1] \"2023-07-01 14:16:31 CDT\"\n",
      "[1] \"calculating rank_tfs...\"\n",
      "[1] \"2023-07-01 14:17:50 CDT\"\n"
     ]
    }
   ],
   "source": [
    "print(Sys.time())\n",
    "    \n",
    "print(\"centrality_rankings - Betweenness:\")\n",
    "print(head(centrality_rankings$Betweenness,20))\n",
    "print(\"centrality_rankings - PageRank:\")\n",
    "print(head(centrality_rankings$PageRank,20))\n",
    "\n",
    "print(Sys.time())\n",
    "print(\"calculating rank_tfs...\")\n",
    "tf_ranks = rank_tfs(tf_results, \n",
    "                    negative_genes = rownames(de_genes_BK)[which(de_genes_BK$logfoldchanges < 0)], \n",
    "                    seurat = mpt, \n",
    "                    num_cores =  1\n",
    "    )\n",
    "print(Sys.time())"
   ]
  },
  {
   "cell_type": "code",
   "execution_count": 27,
   "id": "80c3896f",
   "metadata": {},
   "outputs": [
    {
     "data": {
      "text/html": [
       "<table class=\"dataframe\">\n",
       "<caption>A data.frame: 20 × 3</caption>\n",
       "<thead>\n",
       "\t<tr><th></th><th scope=col>TF_name</th><th scope=col>Score</th><th scope=col>SE</th></tr>\n",
       "\t<tr><th></th><th scope=col>&lt;chr&gt;</th><th scope=col>&lt;dbl&gt;</th><th scope=col>&lt;dbl&gt;</th></tr>\n",
       "</thead>\n",
       "<tbody>\n",
       "\t<tr><th scope=row>ESRRG</th><td>ESRRG </td><td>5.9962512</td><td>0.24196152</td></tr>\n",
       "\t<tr><th scope=row>RUNX1</th><td>RUNX1 </td><td>3.4609585</td><td>0.07424302</td></tr>\n",
       "\t<tr><th scope=row>FOXP2</th><td>FOXP2 </td><td>2.8509847</td><td>0.10363236</td></tr>\n",
       "\t<tr><th scope=row>PRDM16</th><td>PRDM16</td><td>2.6075067</td><td>0.07837923</td></tr>\n",
       "\t<tr><th scope=row>ESRRB</th><td>ESRRB </td><td>2.4783194</td><td>0.08960972</td></tr>\n",
       "\t<tr><th scope=row>PPARA</th><td>PPARA </td><td>1.7210423</td><td>0.05726383</td></tr>\n",
       "\t<tr><th scope=row>KLF12</th><td>KLF12 </td><td>1.2722377</td><td>0.07488487</td></tr>\n",
       "\t<tr><th scope=row>TEAD1</th><td>TEAD1 </td><td>1.2257371</td><td>0.06274342</td></tr>\n",
       "\t<tr><th scope=row>PAX2</th><td>PAX2  </td><td>1.2028204</td><td>0.05853798</td></tr>\n",
       "\t<tr><th scope=row>PAX8</th><td>PAX8  </td><td>1.0655422</td><td>0.05260465</td></tr>\n",
       "\t<tr><th scope=row>RREB1</th><td>RREB1 </td><td>0.9725723</td><td>0.04629477</td></tr>\n",
       "\t<tr><th scope=row>NFIA</th><td>NFIA  </td><td>0.9176141</td><td>0.05304287</td></tr>\n",
       "\t<tr><th scope=row>SIM2</th><td>SIM2  </td><td>0.8113575</td><td>0.04422984</td></tr>\n",
       "\t<tr><th scope=row>RARB</th><td>RARB  </td><td>0.7732390</td><td>0.04028339</td></tr>\n",
       "\t<tr><th scope=row>TCF12</th><td>TCF12 </td><td>0.7562713</td><td>0.07050877</td></tr>\n",
       "\t<tr><th scope=row>ZFHX3</th><td>ZFHX3 </td><td>0.7412854</td><td>0.05198227</td></tr>\n",
       "\t<tr><th scope=row>SREBF2</th><td>SREBF2</td><td>0.7197875</td><td>0.04095910</td></tr>\n",
       "\t<tr><th scope=row>NR3C2</th><td>NR3C2 </td><td>0.6924941</td><td>0.06962155</td></tr>\n",
       "\t<tr><th scope=row>MITF</th><td>MITF  </td><td>0.6764963</td><td>0.04844516</td></tr>\n",
       "\t<tr><th scope=row>MEF2A</th><td>MEF2A </td><td>0.6066139</td><td>0.04751151</td></tr>\n",
       "</tbody>\n",
       "</table>\n"
      ],
      "text/latex": [
       "A data.frame: 20 × 3\n",
       "\\begin{tabular}{r|lll}\n",
       "  & TF\\_name & Score & SE\\\\\n",
       "  & <chr> & <dbl> & <dbl>\\\\\n",
       "\\hline\n",
       "\tESRRG & ESRRG  & 5.9962512 & 0.24196152\\\\\n",
       "\tRUNX1 & RUNX1  & 3.4609585 & 0.07424302\\\\\n",
       "\tFOXP2 & FOXP2  & 2.8509847 & 0.10363236\\\\\n",
       "\tPRDM16 & PRDM16 & 2.6075067 & 0.07837923\\\\\n",
       "\tESRRB & ESRRB  & 2.4783194 & 0.08960972\\\\\n",
       "\tPPARA & PPARA  & 1.7210423 & 0.05726383\\\\\n",
       "\tKLF12 & KLF12  & 1.2722377 & 0.07488487\\\\\n",
       "\tTEAD1 & TEAD1  & 1.2257371 & 0.06274342\\\\\n",
       "\tPAX2 & PAX2   & 1.2028204 & 0.05853798\\\\\n",
       "\tPAX8 & PAX8   & 1.0655422 & 0.05260465\\\\\n",
       "\tRREB1 & RREB1  & 0.9725723 & 0.04629477\\\\\n",
       "\tNFIA & NFIA   & 0.9176141 & 0.05304287\\\\\n",
       "\tSIM2 & SIM2   & 0.8113575 & 0.04422984\\\\\n",
       "\tRARB & RARB   & 0.7732390 & 0.04028339\\\\\n",
       "\tTCF12 & TCF12  & 0.7562713 & 0.07050877\\\\\n",
       "\tZFHX3 & ZFHX3  & 0.7412854 & 0.05198227\\\\\n",
       "\tSREBF2 & SREBF2 & 0.7197875 & 0.04095910\\\\\n",
       "\tNR3C2 & NR3C2  & 0.6924941 & 0.06962155\\\\\n",
       "\tMITF & MITF   & 0.6764963 & 0.04844516\\\\\n",
       "\tMEF2A & MEF2A  & 0.6066139 & 0.04751151\\\\\n",
       "\\end{tabular}\n"
      ],
      "text/markdown": [
       "\n",
       "A data.frame: 20 × 3\n",
       "\n",
       "| <!--/--> | TF_name &lt;chr&gt; | Score &lt;dbl&gt; | SE &lt;dbl&gt; |\n",
       "|---|---|---|---|\n",
       "| ESRRG | ESRRG  | 5.9962512 | 0.24196152 |\n",
       "| RUNX1 | RUNX1  | 3.4609585 | 0.07424302 |\n",
       "| FOXP2 | FOXP2  | 2.8509847 | 0.10363236 |\n",
       "| PRDM16 | PRDM16 | 2.6075067 | 0.07837923 |\n",
       "| ESRRB | ESRRB  | 2.4783194 | 0.08960972 |\n",
       "| PPARA | PPARA  | 1.7210423 | 0.05726383 |\n",
       "| KLF12 | KLF12  | 1.2722377 | 0.07488487 |\n",
       "| TEAD1 | TEAD1  | 1.2257371 | 0.06274342 |\n",
       "| PAX2 | PAX2   | 1.2028204 | 0.05853798 |\n",
       "| PAX8 | PAX8   | 1.0655422 | 0.05260465 |\n",
       "| RREB1 | RREB1  | 0.9725723 | 0.04629477 |\n",
       "| NFIA | NFIA   | 0.9176141 | 0.05304287 |\n",
       "| SIM2 | SIM2   | 0.8113575 | 0.04422984 |\n",
       "| RARB | RARB   | 0.7732390 | 0.04028339 |\n",
       "| TCF12 | TCF12  | 0.7562713 | 0.07050877 |\n",
       "| ZFHX3 | ZFHX3  | 0.7412854 | 0.05198227 |\n",
       "| SREBF2 | SREBF2 | 0.7197875 | 0.04095910 |\n",
       "| NR3C2 | NR3C2  | 0.6924941 | 0.06962155 |\n",
       "| MITF | MITF   | 0.6764963 | 0.04844516 |\n",
       "| MEF2A | MEF2A  | 0.6066139 | 0.04751151 |\n",
       "\n"
      ],
      "text/plain": [
       "       TF_name Score     SE        \n",
       "ESRRG  ESRRG   5.9962512 0.24196152\n",
       "RUNX1  RUNX1   3.4609585 0.07424302\n",
       "FOXP2  FOXP2   2.8509847 0.10363236\n",
       "PRDM16 PRDM16  2.6075067 0.07837923\n",
       "ESRRB  ESRRB   2.4783194 0.08960972\n",
       "PPARA  PPARA   1.7210423 0.05726383\n",
       "KLF12  KLF12   1.2722377 0.07488487\n",
       "TEAD1  TEAD1   1.2257371 0.06274342\n",
       "PAX2   PAX2    1.2028204 0.05853798\n",
       "PAX8   PAX8    1.0655422 0.05260465\n",
       "RREB1  RREB1   0.9725723 0.04629477\n",
       "NFIA   NFIA    0.9176141 0.05304287\n",
       "SIM2   SIM2    0.8113575 0.04422984\n",
       "RARB   RARB    0.7732390 0.04028339\n",
       "TCF12  TCF12   0.7562713 0.07050877\n",
       "ZFHX3  ZFHX3   0.7412854 0.05198227\n",
       "SREBF2 SREBF2  0.7197875 0.04095910\n",
       "NR3C2  NR3C2   0.6924941 0.06962155\n",
       "MITF   MITF    0.6764963 0.04844516\n",
       "MEF2A  MEF2A   0.6066139 0.04751151"
      ]
     },
     "metadata": {},
     "output_type": "display_data"
    },
    {
     "data": {
      "text/html": [
       "<table class=\"dataframe\">\n",
       "<caption>A data.frame: 20 × 3</caption>\n",
       "<thead>\n",
       "\t<tr><th></th><th scope=col>TF_name</th><th scope=col>Score</th><th scope=col>SE</th></tr>\n",
       "\t<tr><th></th><th scope=col>&lt;chr&gt;</th><th scope=col>&lt;dbl&gt;</th><th scope=col>&lt;dbl&gt;</th></tr>\n",
       "</thead>\n",
       "<tbody>\n",
       "\t<tr><th scope=row>ARID5B</th><td>ARID5B</td><td>-0.07052518</td><td>0.021705640</td></tr>\n",
       "\t<tr><th scope=row>NR1H4</th><td>NR1H4 </td><td>-0.07533001</td><td>0.017798969</td></tr>\n",
       "\t<tr><th scope=row>BACH1</th><td>BACH1 </td><td>-0.08419297</td><td>0.018889417</td></tr>\n",
       "\t<tr><th scope=row>SMAD4</th><td>SMAD4 </td><td>-0.09573162</td><td>0.012336805</td></tr>\n",
       "\t<tr><th scope=row>PKNOX2</th><td>PKNOX2</td><td>-0.09931334</td><td>0.009963007</td></tr>\n",
       "\t<tr><th scope=row>TFAP2B</th><td>TFAP2B</td><td>-0.10134528</td><td>0.014510564</td></tr>\n",
       "\t<tr><th scope=row>STAT3</th><td>STAT3 </td><td>-0.10720098</td><td>0.037635490</td></tr>\n",
       "\t<tr><th scope=row>HNF1B</th><td>HNF1B </td><td>-0.11316163</td><td>0.032839089</td></tr>\n",
       "\t<tr><th scope=row>PBX1</th><td>PBX1  </td><td>-0.12615911</td><td>0.030437457</td></tr>\n",
       "\t<tr><th scope=row>ARNT2</th><td>ARNT2 </td><td>-0.14123010</td><td>0.022212550</td></tr>\n",
       "\t<tr><th scope=row>PBX3</th><td>PBX3  </td><td>-0.18277950</td><td>0.018016785</td></tr>\n",
       "\t<tr><th scope=row>ELF2</th><td>ELF2  </td><td>-0.22464492</td><td>0.033083074</td></tr>\n",
       "\t<tr><th scope=row>RFX3</th><td>RFX3  </td><td>-0.23001921</td><td>0.024861862</td></tr>\n",
       "\t<tr><th scope=row>HIVEP2</th><td>HIVEP2</td><td>-0.25105260</td><td>0.022453008</td></tr>\n",
       "\t<tr><th scope=row>HIF1A</th><td>HIF1A </td><td>-0.25998743</td><td>0.027690809</td></tr>\n",
       "\t<tr><th scope=row>MEF2C</th><td>MEF2C </td><td>-0.27085445</td><td>0.015329161</td></tr>\n",
       "\t<tr><th scope=row>BACH2</th><td>BACH2 </td><td>-0.40667604</td><td>0.024060027</td></tr>\n",
       "\t<tr><th scope=row>RORA</th><td>RORA  </td><td>-0.57325482</td><td>0.050356053</td></tr>\n",
       "\t<tr><th scope=row>MECOM</th><td>MECOM </td><td>-0.80857510</td><td>0.192130099</td></tr>\n",
       "\t<tr><th scope=row>ARNTL2</th><td>ARNTL2</td><td>-4.22739920</td><td>0.162753632</td></tr>\n",
       "</tbody>\n",
       "</table>\n"
      ],
      "text/latex": [
       "A data.frame: 20 × 3\n",
       "\\begin{tabular}{r|lll}\n",
       "  & TF\\_name & Score & SE\\\\\n",
       "  & <chr> & <dbl> & <dbl>\\\\\n",
       "\\hline\n",
       "\tARID5B & ARID5B & -0.07052518 & 0.021705640\\\\\n",
       "\tNR1H4 & NR1H4  & -0.07533001 & 0.017798969\\\\\n",
       "\tBACH1 & BACH1  & -0.08419297 & 0.018889417\\\\\n",
       "\tSMAD4 & SMAD4  & -0.09573162 & 0.012336805\\\\\n",
       "\tPKNOX2 & PKNOX2 & -0.09931334 & 0.009963007\\\\\n",
       "\tTFAP2B & TFAP2B & -0.10134528 & 0.014510564\\\\\n",
       "\tSTAT3 & STAT3  & -0.10720098 & 0.037635490\\\\\n",
       "\tHNF1B & HNF1B  & -0.11316163 & 0.032839089\\\\\n",
       "\tPBX1 & PBX1   & -0.12615911 & 0.030437457\\\\\n",
       "\tARNT2 & ARNT2  & -0.14123010 & 0.022212550\\\\\n",
       "\tPBX3 & PBX3   & -0.18277950 & 0.018016785\\\\\n",
       "\tELF2 & ELF2   & -0.22464492 & 0.033083074\\\\\n",
       "\tRFX3 & RFX3   & -0.23001921 & 0.024861862\\\\\n",
       "\tHIVEP2 & HIVEP2 & -0.25105260 & 0.022453008\\\\\n",
       "\tHIF1A & HIF1A  & -0.25998743 & 0.027690809\\\\\n",
       "\tMEF2C & MEF2C  & -0.27085445 & 0.015329161\\\\\n",
       "\tBACH2 & BACH2  & -0.40667604 & 0.024060027\\\\\n",
       "\tRORA & RORA   & -0.57325482 & 0.050356053\\\\\n",
       "\tMECOM & MECOM  & -0.80857510 & 0.192130099\\\\\n",
       "\tARNTL2 & ARNTL2 & -4.22739920 & 0.162753632\\\\\n",
       "\\end{tabular}\n"
      ],
      "text/markdown": [
       "\n",
       "A data.frame: 20 × 3\n",
       "\n",
       "| <!--/--> | TF_name &lt;chr&gt; | Score &lt;dbl&gt; | SE &lt;dbl&gt; |\n",
       "|---|---|---|---|\n",
       "| ARID5B | ARID5B | -0.07052518 | 0.021705640 |\n",
       "| NR1H4 | NR1H4  | -0.07533001 | 0.017798969 |\n",
       "| BACH1 | BACH1  | -0.08419297 | 0.018889417 |\n",
       "| SMAD4 | SMAD4  | -0.09573162 | 0.012336805 |\n",
       "| PKNOX2 | PKNOX2 | -0.09931334 | 0.009963007 |\n",
       "| TFAP2B | TFAP2B | -0.10134528 | 0.014510564 |\n",
       "| STAT3 | STAT3  | -0.10720098 | 0.037635490 |\n",
       "| HNF1B | HNF1B  | -0.11316163 | 0.032839089 |\n",
       "| PBX1 | PBX1   | -0.12615911 | 0.030437457 |\n",
       "| ARNT2 | ARNT2  | -0.14123010 | 0.022212550 |\n",
       "| PBX3 | PBX3   | -0.18277950 | 0.018016785 |\n",
       "| ELF2 | ELF2   | -0.22464492 | 0.033083074 |\n",
       "| RFX3 | RFX3   | -0.23001921 | 0.024861862 |\n",
       "| HIVEP2 | HIVEP2 | -0.25105260 | 0.022453008 |\n",
       "| HIF1A | HIF1A  | -0.25998743 | 0.027690809 |\n",
       "| MEF2C | MEF2C  | -0.27085445 | 0.015329161 |\n",
       "| BACH2 | BACH2  | -0.40667604 | 0.024060027 |\n",
       "| RORA | RORA   | -0.57325482 | 0.050356053 |\n",
       "| MECOM | MECOM  | -0.80857510 | 0.192130099 |\n",
       "| ARNTL2 | ARNTL2 | -4.22739920 | 0.162753632 |\n",
       "\n"
      ],
      "text/plain": [
       "       TF_name Score       SE         \n",
       "ARID5B ARID5B  -0.07052518 0.021705640\n",
       "NR1H4  NR1H4   -0.07533001 0.017798969\n",
       "BACH1  BACH1   -0.08419297 0.018889417\n",
       "SMAD4  SMAD4   -0.09573162 0.012336805\n",
       "PKNOX2 PKNOX2  -0.09931334 0.009963007\n",
       "TFAP2B TFAP2B  -0.10134528 0.014510564\n",
       "STAT3  STAT3   -0.10720098 0.037635490\n",
       "HNF1B  HNF1B   -0.11316163 0.032839089\n",
       "PBX1   PBX1    -0.12615911 0.030437457\n",
       "ARNT2  ARNT2   -0.14123010 0.022212550\n",
       "PBX3   PBX3    -0.18277950 0.018016785\n",
       "ELF2   ELF2    -0.22464492 0.033083074\n",
       "RFX3   RFX3    -0.23001921 0.024861862\n",
       "HIVEP2 HIVEP2  -0.25105260 0.022453008\n",
       "HIF1A  HIF1A   -0.25998743 0.027690809\n",
       "MEF2C  MEF2C   -0.27085445 0.015329161\n",
       "BACH2  BACH2   -0.40667604 0.024060027\n",
       "RORA   RORA    -0.57325482 0.050356053\n",
       "MECOM  MECOM   -0.80857510 0.192130099\n",
       "ARNTL2 ARNTL2  -4.22739920 0.162753632"
      ]
     },
     "metadata": {},
     "output_type": "display_data"
    }
   ],
   "source": [
    "head(tf_ranks,20)\n",
    "tail(tf_ranks,20)"
   ]
  },
  {
   "cell_type": "code",
   "execution_count": 28,
   "id": "eacba4e3",
   "metadata": {},
   "outputs": [],
   "source": [
    "save(list=c(\"gene_list\", \"aen_lists\", \"de_genes_BK\", \"tf_results\", \"tf_ranks\", \"regulator_tf_names\", \"centrality_rankings\", \"peak_results\"), \n",
    "     file = file.path(processed_dir, paste0(\"RENIN_324701_cells_\", FindMarkers_ident_1, \"_vs_\", FindMarkers_ident_2, \".RData\")), compress = T)"
   ]
  },
  {
   "cell_type": "code",
   "execution_count": null,
   "id": "9c4466a7",
   "metadata": {},
   "outputs": [],
   "source": []
  },
  {
   "cell_type": "code",
   "execution_count": 29,
   "id": "dca8cb14",
   "metadata": {},
   "outputs": [
    {
     "data": {
      "text/plain": [
       "[1] \"2023-07-01 14:18:08 CDT\""
      ]
     },
     "metadata": {},
     "output_type": "display_data"
    }
   ],
   "source": [
    "Sys.time()"
   ]
  },
  {
   "cell_type": "code",
   "execution_count": null,
   "id": "a20d79ea",
   "metadata": {},
   "outputs": [],
   "source": []
  },
  {
   "cell_type": "code",
   "execution_count": null,
   "id": "0de64550",
   "metadata": {},
   "outputs": [],
   "source": []
  },
  {
   "cell_type": "code",
   "execution_count": null,
   "id": "1b62ad80",
   "metadata": {},
   "outputs": [],
   "source": []
  },
  {
   "cell_type": "code",
   "execution_count": null,
   "id": "fccf0991",
   "metadata": {},
   "outputs": [],
   "source": []
  }
 ],
 "metadata": {
  "kernelspec": {
   "display_name": "R",
   "language": "R",
   "name": "ir"
  },
  "language_info": {
   "codemirror_mode": "r",
   "file_extension": ".r",
   "mimetype": "text/x-r-source",
   "name": "R",
   "pygments_lexer": "r",
   "version": "4.2.2"
  }
 },
 "nbformat": 4,
 "nbformat_minor": 5
}
