{
 "cells": [
  {
   "attachments": {},
   "cell_type": "markdown",
   "id": "cd86f057",
   "metadata": {},
   "source": [
    "this script will compare the ccans distributions across different chromosome for each renal_region_new using Nicolas' method. It also generate a baseline plot from ncbi website. If possible, a distribution for patient-wise comparison will be generated (to do)"
   ]
  },
  {
   "cell_type": "code",
   "execution_count": 2,
   "id": "ae3b80f0",
   "metadata": {
    "scrolled": false,
    "vscode": {
     "languageId": "r"
    }
   },
   "outputs": [],
   "source": [
    "library(ChIPseeker)\n",
    "library(dplyr)\n",
    "library(repr)\n",
    "library(ggplot2)"
   ]
  },
  {
   "cell_type": "code",
   "execution_count": null,
   "id": "5c4d980e",
   "metadata": {
    "vscode": {
     "languageId": "r"
    }
   },
   "outputs": [],
   "source": []
  },
  {
   "attachments": {},
   "cell_type": "markdown",
   "id": "77f066dd",
   "metadata": {},
   "source": [
    "## create plots_dir based on data and method type "
   ]
  },
  {
   "cell_type": "code",
   "execution_count": 3,
   "id": "bcfcfe74",
   "metadata": {
    "vscode": {
     "languageId": "r"
    }
   },
   "outputs": [
    {
     "data": {
      "text/html": [
       "<style>\n",
       ".list-inline {list-style: none; margin:0; padding: 0}\n",
       ".list-inline>li {display: inline-block}\n",
       ".list-inline>li:not(:last-child)::after {content: \"\\00b7\"; padding: 0 .5ex}\n",
       "</style>\n",
       "<ol class=list-inline><li>'1'</li><li>'2'</li><li>'3'</li><li>'4'</li><li>'5'</li><li>'6'</li><li>'7'</li><li>'8'</li><li>'9'</li><li>'10'</li><li>'11'</li><li>'12'</li><li>'13'</li><li>'14'</li><li>'15'</li><li>'16'</li><li>'17'</li><li>'18'</li><li>'19'</li><li>'20'</li><li>'21'</li><li>'22'</li><li>'X'</li></ol>\n"
      ],
      "text/latex": [
       "\\begin{enumerate*}\n",
       "\\item '1'\n",
       "\\item '2'\n",
       "\\item '3'\n",
       "\\item '4'\n",
       "\\item '5'\n",
       "\\item '6'\n",
       "\\item '7'\n",
       "\\item '8'\n",
       "\\item '9'\n",
       "\\item '10'\n",
       "\\item '11'\n",
       "\\item '12'\n",
       "\\item '13'\n",
       "\\item '14'\n",
       "\\item '15'\n",
       "\\item '16'\n",
       "\\item '17'\n",
       "\\item '18'\n",
       "\\item '19'\n",
       "\\item '20'\n",
       "\\item '21'\n",
       "\\item '22'\n",
       "\\item 'X'\n",
       "\\end{enumerate*}\n"
      ],
      "text/markdown": [
       "1. '1'\n",
       "2. '2'\n",
       "3. '3'\n",
       "4. '4'\n",
       "5. '5'\n",
       "6. '6'\n",
       "7. '7'\n",
       "8. '8'\n",
       "9. '9'\n",
       "10. '10'\n",
       "11. '11'\n",
       "12. '12'\n",
       "13. '13'\n",
       "14. '14'\n",
       "15. '15'\n",
       "16. '16'\n",
       "17. '17'\n",
       "18. '18'\n",
       "19. '19'\n",
       "20. '20'\n",
       "21. '21'\n",
       "22. '22'\n",
       "23. 'X'\n",
       "\n",
       "\n"
      ],
      "text/plain": [
       " [1] \"1\"  \"2\"  \"3\"  \"4\"  \"5\"  \"6\"  \"7\"  \"8\"  \"9\"  \"10\" \"11\" \"12\" \"13\" \"14\" \"15\"\n",
       "[16] \"16\" \"17\" \"18\" \"19\" \"20\" \"21\" \"22\" \"X\" "
      ]
     },
     "metadata": {},
     "output_type": "display_data"
    }
   ],
   "source": [
    "data_folder = \"../../processed_data/Cicero/324701_cells_by_renal_region_new/\"\n",
    "coaccess_cutoff_override = 0.2\n",
    "chrom_order = c(as.character(1:22), \"X\")\n",
    "chrom_order"
   ]
  },
  {
   "cell_type": "code",
   "execution_count": 4,
   "id": "2bcbc6e5",
   "metadata": {
    "vscode": {
     "languageId": "r"
    }
   },
   "outputs": [
    {
     "data": {
      "text/html": [
       "'../../plots/Cicero/324701_cells_by_renal_region_new/histograms'"
      ],
      "text/latex": [
       "'../../plots/Cicero/324701\\_cells\\_by\\_renal\\_region\\_new/histograms'"
      ],
      "text/markdown": [
       "'../../plots/Cicero/324701_cells_by_renal_region_new/histograms'"
      ],
      "text/plain": [
       "[1] \"../../plots/Cicero/324701_cells_by_renal_region_new/histograms\""
      ]
     },
     "metadata": {},
     "output_type": "display_data"
    }
   ],
   "source": [
    "plots_dir = file.path(\"../../plots/Cicero/324701_cells_by_renal_region_new/histograms\")\n",
    "plots_dir\n",
    "dir.create(plots_dir, recursive = T, showWarnings = F)"
   ]
  },
  {
   "attachments": {},
   "cell_type": "markdown",
   "id": "569e4a15",
   "metadata": {},
   "source": [
    "## create gene number and base number for each human chromosome"
   ]
  },
  {
   "attachments": {},
   "cell_type": "markdown",
   "id": "d7b4d42e",
   "metadata": {},
   "source": [
    "https://www.ncbi.nlm.nih.gov/books/NBK22266/#:~:text=The%20Human%20Genome%20Project%20aims,30%2C000%20genes%20in%20human%20DNA."
   ]
  },
  {
   "attachments": {},
   "cell_type": "markdown",
   "id": "9e535ca1",
   "metadata": {},
   "source": [
    "The num_base column has the unit of 'million base pairs'"
   ]
  },
  {
   "cell_type": "code",
   "execution_count": 6,
   "id": "a477f13f",
   "metadata": {
    "vscode": {
     "languageId": "r"
    }
   },
   "outputs": [],
   "source": [
    "ncbi_gene_num = data.frame(\n",
    "chrom = c(as.character(1:22), \"X\", \"Y\"),\n",
    "num_gene = c(3000, 2500, 1900, 1600, 1700, 1900, 1800, 1400, 1400, 1400, 2000, 1600, 800, 1200, 1200, 1300, 1600, 600, 1700, 900, 400, 800, 1400, 200),\n",
    "num_base = c(240,  240,  200,  190,  180,  170,  150,  140,  130,  130,  130,  130,  110, 100,  100,  90,   80,   70,  60,   60,  40,  40,  150,  50))\n",
    "ncbi_gene_num$chrom = factor(ncbi_gene_num$chrom, levels = ncbi_gene_num$chrom)\n",
    "# save(ncbi_gene_num, file = file.path(\"..\", \"meta\",\"ncbi_gene_num.RData\"))"
   ]
  },
  {
   "attachments": {},
   "cell_type": "markdown",
   "id": "ab0ac0fd",
   "metadata": {},
   "source": [
    "## generate barplot for number of genes and base pairs across human chromosome"
   ]
  },
  {
   "cell_type": "code",
   "execution_count": 76,
   "id": "f51b32cf",
   "metadata": {
    "vscode": {
     "languageId": "r"
    }
   },
   "outputs": [
    {
     "data": {
      "image/png": "[encoded data removed]",
      "text/plain": [
       "Plot with title \"Number of Genes per Chromosome\""
      ]
     },
     "metadata": {
      "image/png": {
       "height": 420,
       "width": 420
      }
     },
     "output_type": "display_data"
    },
    {
     "data": {
      "image/png": "[encoded data removed]",
      "text/plain": [
       "Plot with title \"Number of Base Pairs per Chromosome\""
      ]
     },
     "metadata": {
      "image/png": {
       "height": 420,
       "width": 420
      }
     },
     "output_type": "display_data"
    }
   ],
   "source": [
    "par(family = \"Helvetica\", lty = 0)\n",
    "barplot(height=ncbi_gene_num$num_gene, names=ncbi_gene_num$chrom, las=2, col=\"lightblue\", ylab=\"Genes\", ylim=c(0,3000), xaxt='n', main = \"Number of Genes per Chromosome\")\n",
    "barplot(height=ncbi_gene_num$num_base, names=ncbi_gene_num$chrom, las=1, col=\"lightgrey\", ylab=\"Base Pairs (Million)\", xlab = \"Chromosome Name\", ylim=c(0,250), main = \"Number of Base Pairs per Chromosome\")"
   ]
  },
  {
   "attachments": {},
   "cell_type": "markdown",
   "id": "419b1e85",
   "metadata": {
    "vscode": {
     "languageId": "r"
    }
   },
   "source": [
    "##### "
   ]
  },
  {
   "attachments": {},
   "cell_type": "markdown",
   "id": "c668f1dc",
   "metadata": {},
   "source": [
    "## load ccan from data folder"
   ]
  },
  {
   "cell_type": "code",
   "execution_count": 17,
   "id": "15c4d800",
   "metadata": {
    "vscode": {
     "languageId": "r"
    }
   },
   "outputs": [
    {
     "data": {
      "text/html": [
       "<style>\n",
       ".list-inline {list-style: none; margin:0; padding: 0}\n",
       ".list-inline>li {display: inline-block}\n",
       ".list-inline>li:not(:last-child)::after {content: \"\\00b7\"; padding: 0 .5ex}\n",
       "</style>\n",
       "<ol class=list-inline><li>'conns_ccan_all_regions.RData'</li><li>'conns_ccan_Cortex.RData'</li><li>'conns_ccan_Medulla.RData'</li><li>'conns_ccan_Papilla.RData'</li><li>'conns_ccan_Renal Artery.RData'</li><li>'conns_ccan_Ureter.RData'</li></ol>\n"
      ],
      "text/latex": [
       "\\begin{enumerate*}\n",
       "\\item 'conns\\_ccan\\_all\\_regions.RData'\n",
       "\\item 'conns\\_ccan\\_Cortex.RData'\n",
       "\\item 'conns\\_ccan\\_Medulla.RData'\n",
       "\\item 'conns\\_ccan\\_Papilla.RData'\n",
       "\\item 'conns\\_ccan\\_Renal Artery.RData'\n",
       "\\item 'conns\\_ccan\\_Ureter.RData'\n",
       "\\end{enumerate*}\n"
      ],
      "text/markdown": [
       "1. 'conns_ccan_all_regions.RData'\n",
       "2. 'conns_ccan_Cortex.RData'\n",
       "3. 'conns_ccan_Medulla.RData'\n",
       "4. 'conns_ccan_Papilla.RData'\n",
       "5. 'conns_ccan_Renal Artery.RData'\n",
       "6. 'conns_ccan_Ureter.RData'\n",
       "\n",
       "\n"
      ],
      "text/plain": [
       "[1] \"conns_ccan_all_regions.RData\"  \"conns_ccan_Cortex.RData\"      \n",
       "[3] \"conns_ccan_Medulla.RData\"      \"conns_ccan_Papilla.RData\"     \n",
       "[5] \"conns_ccan_Renal Artery.RData\" \"conns_ccan_Ureter.RData\"      "
      ]
     },
     "metadata": {},
     "output_type": "display_data"
    }
   ],
   "source": [
    "ccan_folder = data_folder\n",
    "coaccess_cutoff_override = coaccess_cutoff_override\n",
    "ccan_list = dir(ccan_folder)\n",
    "ccan_list"
   ]
  },
  {
   "cell_type": "code",
   "execution_count": 18,
   "id": "53c15f05",
   "metadata": {
    "vscode": {
     "languageId": "r"
    }
   },
   "outputs": [
    {
     "name": "stderr",
     "output_type": "stream",
     "text": [
      "recalculating ccans using updated coaccess_cutoff_override value\n",
      "\n",
      "Loading required package: cicero\n",
      "\n",
      "Loading required package: monocle3\n",
      "\n",
      "Loading required package: Biobase\n",
      "\n",
      "Loading required package: BiocGenerics\n",
      "\n",
      "Loading required package: parallel\n",
      "\n",
      "\n",
      "Attaching package: ‘BiocGenerics’\n",
      "\n",
      "\n",
      "The following objects are masked from ‘package:parallel’:\n",
      "\n",
      "    clusterApply, clusterApplyLB, clusterCall, clusterEvalQ,\n",
      "    clusterExport, clusterMap, parApply, parCapply, parLapply,\n",
      "    parLapplyLB, parRapply, parSapply, parSapplyLB\n",
      "\n",
      "\n",
      "The following objects are masked from ‘package:dplyr’:\n",
      "\n",
      "    combine, intersect, setdiff, union\n",
      "\n",
      "\n",
      "The following objects are masked from ‘package:stats’:\n",
      "\n",
      "    IQR, mad, sd, var, xtabs\n",
      "\n",
      "\n",
      "The following objects are masked from ‘package:base’:\n",
      "\n",
      "    anyDuplicated, append, as.data.frame, basename, cbind, colnames,\n",
      "    dirname, do.call, duplicated, eval, evalq, Filter, Find, get, grep,\n",
      "    grepl, intersect, is.unsorted, lapply, Map, mapply, match, mget,\n",
      "    order, paste, pmax, pmax.int, pmin, pmin.int, Position, rank,\n",
      "    rbind, Reduce, rownames, sapply, setdiff, sort, table, tapply,\n",
      "    union, unique, unsplit, which.max, which.min\n",
      "\n",
      "\n",
      "Welcome to Bioconductor\n",
      "\n",
      "    Vignettes contain introductory material; view with\n",
      "    'browseVignettes()'. To cite Bioconductor, see\n",
      "    'citation(\"Biobase\")', and for packages 'citation(\"pkgname\")'.\n",
      "\n",
      "\n",
      "Loading required package: SingleCellExperiment\n",
      "\n",
      "Loading required package: SummarizedExperiment\n",
      "\n",
      "Loading required package: MatrixGenerics\n",
      "\n",
      "Loading required package: matrixStats\n",
      "\n",
      "\n",
      "Attaching package: ‘matrixStats’\n",
      "\n",
      "\n",
      "The following objects are masked from ‘package:Biobase’:\n",
      "\n",
      "    anyMissing, rowMedians\n",
      "\n",
      "\n",
      "The following object is masked from ‘package:dplyr’:\n",
      "\n",
      "    count\n",
      "\n",
      "\n",
      "\n",
      "Attaching package: ‘MatrixGenerics’\n",
      "\n",
      "\n",
      "The following objects are masked from ‘package:matrixStats’:\n",
      "\n",
      "    colAlls, colAnyNAs, colAnys, colAvgsPerRowSet, colCollapse,\n",
      "    colCounts, colCummaxs, colCummins, colCumprods, colCumsums,\n",
      "    colDiffs, colIQRDiffs, colIQRs, colLogSumExps, colMadDiffs,\n",
      "    colMads, colMaxs, colMeans2, colMedians, colMins, colOrderStats,\n",
      "    colProds, colQuantiles, colRanges, colRanks, colSdDiffs, colSds,\n",
      "    colSums2, colTabulates, colVarDiffs, colVars, colWeightedMads,\n",
      "    colWeightedMeans, colWeightedMedians, colWeightedSds,\n",
      "    colWeightedVars, rowAlls, rowAnyNAs, rowAnys, rowAvgsPerColSet,\n",
      "    rowCollapse, rowCounts, rowCummaxs, rowCummins, rowCumprods,\n",
      "    rowCumsums, rowDiffs, rowIQRDiffs, rowIQRs, rowLogSumExps,\n",
      "    rowMadDiffs, rowMads, rowMaxs, rowMeans2, rowMedians, rowMins,\n",
      "    rowOrderStats, rowProds, rowQuantiles, rowRanges, rowRanks,\n",
      "    rowSdDiffs, rowSds, rowSums2, rowTabulates, rowVarDiffs, rowVars,\n",
      "    rowWeightedMads, rowWeightedMeans, rowWeightedMedians,\n",
      "    rowWeightedSds, rowWeightedVars\n",
      "\n",
      "\n",
      "The following object is masked from ‘package:Biobase’:\n",
      "\n",
      "    rowMedians\n",
      "\n",
      "\n",
      "Loading required package: GenomicRanges\n",
      "\n",
      "Loading required package: stats4\n",
      "\n",
      "Loading required package: S4Vectors\n",
      "\n",
      "\n",
      "Attaching package: ‘S4Vectors’\n",
      "\n",
      "\n",
      "The following objects are masked from ‘package:dplyr’:\n",
      "\n",
      "    first, rename\n",
      "\n",
      "\n",
      "The following objects are masked from ‘package:base’:\n",
      "\n",
      "    expand.grid, I, unname\n",
      "\n",
      "\n",
      "Loading required package: IRanges\n",
      "\n",
      "\n",
      "Attaching package: ‘IRanges’\n",
      "\n",
      "\n",
      "The following objects are masked from ‘package:dplyr’:\n",
      "\n",
      "    collapse, desc, slice\n",
      "\n",
      "\n",
      "Loading required package: GenomeInfoDb\n",
      "\n",
      "\n",
      "Attaching package: ‘monocle3’\n",
      "\n",
      "\n",
      "The following objects are masked from ‘package:Biobase’:\n",
      "\n",
      "    exprs, fData, fData<-, pData, pData<-\n",
      "\n",
      "\n",
      "Loading required package: Gviz\n",
      "\n",
      "Loading required package: grid\n",
      "\n",
      "Warning message:\n",
      "“no function found corresponding to methods exports from ‘BSgenome’ for: ‘releaseName’”\n"
     ]
    },
    {
     "name": "stdout",
     "output_type": "stream",
     "text": [
      "[1] \"Coaccessibility cutoff used: 0.2\"\n"
     ]
    },
    {
     "name": "stderr",
     "output_type": "stream",
     "text": [
      "recalculating ccans using updated coaccess_cutoff_override value\n",
      "\n"
     ]
    },
    {
     "name": "stdout",
     "output_type": "stream",
     "text": [
      "[1] \"Coaccessibility cutoff used: 0.2\"\n"
     ]
    },
    {
     "name": "stderr",
     "output_type": "stream",
     "text": [
      "recalculating ccans using updated coaccess_cutoff_override value\n",
      "\n"
     ]
    },
    {
     "name": "stdout",
     "output_type": "stream",
     "text": [
      "[1] \"Coaccessibility cutoff used: 0.2\"\n"
     ]
    },
    {
     "name": "stderr",
     "output_type": "stream",
     "text": [
      "recalculating ccans using updated coaccess_cutoff_override value\n",
      "\n"
     ]
    },
    {
     "name": "stdout",
     "output_type": "stream",
     "text": [
      "[1] \"Coaccessibility cutoff used: 0.2\"\n"
     ]
    },
    {
     "name": "stderr",
     "output_type": "stream",
     "text": [
      "recalculating ccans using updated coaccess_cutoff_override value\n",
      "\n"
     ]
    },
    {
     "name": "stdout",
     "output_type": "stream",
     "text": [
      "[1] \"Coaccessibility cutoff used: 0.2\"\n"
     ]
    },
    {
     "name": "stderr",
     "output_type": "stream",
     "text": [
      "recalculating ccans using updated coaccess_cutoff_override value\n",
      "\n"
     ]
    },
    {
     "name": "stdout",
     "output_type": "stream",
     "text": [
      "[1] \"Coaccessibility cutoff used: 0.2\"\n"
     ]
    }
   ],
   "source": [
    "ccan_distribution_list = lapply(ccan_list, FUN = function(ccan_file){\n",
    "    load(file.path(ccan_folder, ccan_file))\n",
    "\n",
    "    if(!is.null(coaccess_cutoff_override)){\n",
    "    message(\"recalculating ccans using updated coaccess_cutoff_override value\")\n",
    "    require(cicero)\n",
    "    CCAN_assigns <- generate_ccans(conns, coaccess_cutoff_override = coaccess_cutoff_override)\n",
    "\n",
    "    CCAN_assigns$chrom = sapply(CCAN_assigns$Peak, FUN = function(xx){\n",
    "        gsub(\"chr\", \"\", strsplit(xx, split = \"-\")[[1]][1])\n",
    "    })  \n",
    "\n",
    "    ccan_distribution = (table(CCAN_assigns$chrom)[chrom_order])\n",
    "    ccan_distribution = data.frame(chrom = names(ccan_distribution), num_ccan = as.numeric(ccan_distribution))\n",
    "    for (rrn_level in level.renal_region_new){\n",
    "        if (grepl(rrn_level, ccan_file)) ccan_distribution$Region = rrn_level\n",
    "    }\n",
    "\n",
    "    return(ccan_distribution)\n",
    "}\n",
    "})\n",
    "\n"
   ]
  },
  {
   "attachments": {},
   "cell_type": "markdown",
   "id": "48c11d48",
   "metadata": {},
   "source": [
    "### make bar plot for combined 5 regions"
   ]
  },
  {
   "cell_type": "code",
   "execution_count": 78,
   "id": "ef189fec",
   "metadata": {
    "vscode": {
     "languageId": "r"
    }
   },
   "outputs": [
    {
     "data": {
      "text/html": [
       "<style>\n",
       ".list-inline {list-style: none; margin:0; padding: 0}\n",
       ".list-inline>li {display: inline-block}\n",
       ".list-inline>li:not(:last-child)::after {content: \"\\00b7\"; padding: 0 .5ex}\n",
       "</style>\n",
       "<ol class=list-inline><li>23</li><li>3</li></ol>\n"
      ],
      "text/latex": [
       "\\begin{enumerate*}\n",
       "\\item 23\n",
       "\\item 3\n",
       "\\end{enumerate*}\n"
      ],
      "text/markdown": [
       "1. 23\n",
       "2. 3\n",
       "\n",
       "\n"
      ],
      "text/plain": [
       "[1] 23  3"
      ]
     },
     "metadata": {},
     "output_type": "display_data"
    }
   ],
   "source": [
    "ccan_distribution_df = do.call(rbind, ccan_distribution_list[1])\n",
    "ccan_distribution_df$Region = \"All\"\n",
    "dim(ccan_distribution_df)\n",
    "ccan_distribution_df$chrom = factor(ccan_distribution_df$chrom, levels = chrom_order)"
   ]
  },
  {
   "cell_type": "code",
   "execution_count": 80,
   "id": "8bf29dfe",
   "metadata": {
    "vscode": {
     "languageId": "r"
    }
   },
   "outputs": [
    {
     "data": {
      "text/html": [
       "<table class=\"dataframe\">\n",
       "<caption>A data.frame: 24 × 3</caption>\n",
       "<thead>\n",
       "\t<tr><th scope=col>chrom</th><th scope=col>num_ccan</th><th scope=col>Region</th></tr>\n",
       "\t<tr><th scope=col>&lt;fct&gt;</th><th scope=col>&lt;dbl&gt;</th><th scope=col>&lt;chr&gt;</th></tr>\n",
       "</thead>\n",
       "<tbody>\n",
       "\t<tr><td>1 </td><td>816</td><td>All</td></tr>\n",
       "\t<tr><td>2 </td><td>676</td><td>All</td></tr>\n",
       "\t<tr><td>3 </td><td>361</td><td>All</td></tr>\n",
       "\t<tr><td>4 </td><td>293</td><td>All</td></tr>\n",
       "\t<tr><td>5 </td><td>425</td><td>All</td></tr>\n",
       "\t<tr><td>6 </td><td>464</td><td>All</td></tr>\n",
       "\t<tr><td>7 </td><td>413</td><td>All</td></tr>\n",
       "\t<tr><td>8 </td><td>413</td><td>All</td></tr>\n",
       "\t<tr><td>9 </td><td>386</td><td>All</td></tr>\n",
       "\t<tr><td>10</td><td>387</td><td>All</td></tr>\n",
       "\t<tr><td>11</td><td>565</td><td>All</td></tr>\n",
       "\t<tr><td>12</td><td>357</td><td>All</td></tr>\n",
       "\t<tr><td>13</td><td>188</td><td>All</td></tr>\n",
       "\t<tr><td>14</td><td>278</td><td>All</td></tr>\n",
       "\t<tr><td>15</td><td>284</td><td>All</td></tr>\n",
       "\t<tr><td>16</td><td>367</td><td>All</td></tr>\n",
       "\t<tr><td>17</td><td>450</td><td>All</td></tr>\n",
       "\t<tr><td>18</td><td>192</td><td>All</td></tr>\n",
       "\t<tr><td>19</td><td>346</td><td>All</td></tr>\n",
       "\t<tr><td>20</td><td>241</td><td>All</td></tr>\n",
       "\t<tr><td>21</td><td>109</td><td>All</td></tr>\n",
       "\t<tr><td>22</td><td>223</td><td>All</td></tr>\n",
       "\t<tr><td>X </td><td> 14</td><td>All</td></tr>\n",
       "\t<tr><td>Y </td><td>  0</td><td>All</td></tr>\n",
       "</tbody>\n",
       "</table>\n"
      ],
      "text/latex": [
       "A data.frame: 24 × 3\n",
       "\\begin{tabular}{lll}\n",
       " chrom & num\\_ccan & Region\\\\\n",
       " <fct> & <dbl> & <chr>\\\\\n",
       "\\hline\n",
       "\t 1  & 816 & All\\\\\n",
       "\t 2  & 676 & All\\\\\n",
       "\t 3  & 361 & All\\\\\n",
       "\t 4  & 293 & All\\\\\n",
       "\t 5  & 425 & All\\\\\n",
       "\t 6  & 464 & All\\\\\n",
       "\t 7  & 413 & All\\\\\n",
       "\t 8  & 413 & All\\\\\n",
       "\t 9  & 386 & All\\\\\n",
       "\t 10 & 387 & All\\\\\n",
       "\t 11 & 565 & All\\\\\n",
       "\t 12 & 357 & All\\\\\n",
       "\t 13 & 188 & All\\\\\n",
       "\t 14 & 278 & All\\\\\n",
       "\t 15 & 284 & All\\\\\n",
       "\t 16 & 367 & All\\\\\n",
       "\t 17 & 450 & All\\\\\n",
       "\t 18 & 192 & All\\\\\n",
       "\t 19 & 346 & All\\\\\n",
       "\t 20 & 241 & All\\\\\n",
       "\t 21 & 109 & All\\\\\n",
       "\t 22 & 223 & All\\\\\n",
       "\t X  &  14 & All\\\\\n",
       "\t Y  &   0 & All\\\\\n",
       "\\end{tabular}\n"
      ],
      "text/markdown": [
       "\n",
       "A data.frame: 24 × 3\n",
       "\n",
       "| chrom &lt;fct&gt; | num_ccan &lt;dbl&gt; | Region &lt;chr&gt; |\n",
       "|---|---|---|\n",
       "| 1  | 816 | All |\n",
       "| 2  | 676 | All |\n",
       "| 3  | 361 | All |\n",
       "| 4  | 293 | All |\n",
       "| 5  | 425 | All |\n",
       "| 6  | 464 | All |\n",
       "| 7  | 413 | All |\n",
       "| 8  | 413 | All |\n",
       "| 9  | 386 | All |\n",
       "| 10 | 387 | All |\n",
       "| 11 | 565 | All |\n",
       "| 12 | 357 | All |\n",
       "| 13 | 188 | All |\n",
       "| 14 | 278 | All |\n",
       "| 15 | 284 | All |\n",
       "| 16 | 367 | All |\n",
       "| 17 | 450 | All |\n",
       "| 18 | 192 | All |\n",
       "| 19 | 346 | All |\n",
       "| 20 | 241 | All |\n",
       "| 21 | 109 | All |\n",
       "| 22 | 223 | All |\n",
       "| X  |  14 | All |\n",
       "| Y  |   0 | All |\n",
       "\n"
      ],
      "text/plain": [
       "   chrom num_ccan Region\n",
       "1  1     816      All   \n",
       "2  2     676      All   \n",
       "3  3     361      All   \n",
       "4  4     293      All   \n",
       "5  5     425      All   \n",
       "6  6     464      All   \n",
       "7  7     413      All   \n",
       "8  8     413      All   \n",
       "9  9     386      All   \n",
       "10 10    387      All   \n",
       "11 11    565      All   \n",
       "12 12    357      All   \n",
       "13 13    188      All   \n",
       "14 14    278      All   \n",
       "15 15    284      All   \n",
       "16 16    367      All   \n",
       "17 17    450      All   \n",
       "18 18    192      All   \n",
       "19 19    346      All   \n",
       "20 20    241      All   \n",
       "21 21    109      All   \n",
       "22 22    223      All   \n",
       "23 X      14      All   \n",
       "24 Y       0      All   "
      ]
     },
     "metadata": {},
     "output_type": "display_data"
    }
   ],
   "source": [
    "ccan_distribution_df = rbind(ccan_distribution_df, data.frame(\"chrom\" = \"Y\", \"num_ccan\" = 0, \"Region\" = \"All\"))\n",
    "ccan_distribution_df"
   ]
  },
  {
   "cell_type": "code",
   "execution_count": 81,
   "id": "e2623d57",
   "metadata": {
    "vscode": {
     "languageId": "r"
    }
   },
   "outputs": [
    {
     "data": {
      "image/png": "[encoded data removed]",
      "text/plain": [
       "plot without title"
      ]
     },
     "metadata": {
      "image/png": {
       "height": 420,
       "width": 420
      }
     },
     "output_type": "display_data"
    }
   ],
   "source": [
    "p = ggplot(ccan_distribution_df, aes(x=chrom, y=num_ccan, fill=Region)) + \n",
    "#   geom_bar(stat=\"identity\", position=position_dodge()) +\n",
    "  geom_bar(stat=\"identity\", position=\"stack\") +\n",
    "  scale_fill_manual(values = \"orange\") +\n",
    "  labs(y= \"Counts\", x = \"Chromosome Name\") + \n",
    "  theme_classic() + \n",
    "  theme(text=element_text(family=\"Helvetica\", size=14))\n",
    "p"
   ]
  },
  {
   "cell_type": "code",
   "execution_count": null,
   "id": "a81e2505",
   "metadata": {
    "vscode": {
     "languageId": "r"
    }
   },
   "outputs": [],
   "source": []
  },
  {
   "attachments": {},
   "cell_type": "markdown",
   "id": "5d121adb",
   "metadata": {},
   "source": [
    "### combine number of genes per chromsome and ccan_distribution"
   ]
  },
  {
   "cell_type": "code",
   "execution_count": 86,
   "id": "5b077bee",
   "metadata": {
    "vscode": {
     "languageId": "r"
    }
   },
   "outputs": [
    {
     "data": {
      "text/html": [
       "<strong>png:</strong> 2"
      ],
      "text/latex": [
       "\\textbf{png:} 2"
      ],
      "text/markdown": [
       "**png:** 2"
      ],
      "text/plain": [
       "png \n",
       "  2 "
      ]
     },
     "metadata": {},
     "output_type": "display_data"
    },
    {
     "data": {
      "text/html": [
       "<strong>png:</strong> 2"
      ],
      "text/latex": [
       "\\textbf{png:} 2"
      ],
      "text/markdown": [
       "**png:** 2"
      ],
      "text/plain": [
       "png \n",
       "  2 "
      ]
     },
     "metadata": {},
     "output_type": "display_data"
    }
   ],
   "source": [
    "output_plot_png = file.path(plots_dir, \"gene_CCANs.png\")\n",
    "output_plot_pdf = file.path(plots_dir, \"gene_CCANs.pdf\")\n",
    "\n",
    "png(output_plot_png, width = 12, height = 6, units = 'in', res = 300)\n",
    "par(mfrow=c(2,1), oma = c(0.5,0.5,0.5,0.5) + 0.1, mar = c(1.5,4,1,0)+0.1, family = \"Helvetica\", lty = 0) \n",
    "barplot(height=ncbi_gene_num$num_gene, names=ncbi_gene_num$chrom, las=2, col=\"lightblue\", ylab=\"Genes\", ylim=c(0,3000), xaxt='n', main = \"Number of Genes per Chromosome\")\n",
    "barplot(height=ccan_distribution_df$num_ccan, names=ccan_distribution_df$chrom, las=1, col=\"Orange\", ylab=\"CCANs\", xlab = \"Chromosome Name\", ylim=c(0,820), main = \"Number of CCANs per Chromosome\")\n",
    "dev.off()\n",
    "\n",
    "pdf(output_plot_pdf, width = 12, height = 6)\n",
    "par(mfrow=c(2,1), oma = c(0.5,0.5,0.5,0.5) + 0.1, mar = c(1.5,4,1,0)+0.1, family = \"Helvetica\", lty = 0) \n",
    "barplot(height=ncbi_gene_num$num_gene, names=ncbi_gene_num$chrom, las=2, col=\"lightblue\", ylab=\"Genes\", ylim=c(0,3000), xaxt='n', main = \"Number of Genes per Chromosome\")\n",
    "barplot(height=ccan_distribution_df$num_ccan, names=ccan_distribution_df$chrom, las=1, col=\"Orange\", ylab=\"CCANs\", xlab = \"Chromosome Name\", ylim=c(0,820), main = \"Number of CCANs per Chromosome\")\n",
    "dev.off()"
   ]
  },
  {
   "cell_type": "code",
   "execution_count": 87,
   "id": "b364da7f",
   "metadata": {
    "vscode": {
     "languageId": "r"
    }
   },
   "outputs": [],
   "source": [
    "write.csv(ncbi_gene_num, \"../../plots/Cicero/324701_cells_by_renal_region_new/histograms/gene_per_chromosome.csv\")"
   ]
  },
  {
   "cell_type": "code",
   "execution_count": 88,
   "id": "1da0084d",
   "metadata": {
    "vscode": {
     "languageId": "r"
    }
   },
   "outputs": [],
   "source": [
    "write.csv(ccan_distribution_df, \"../../plots/Cicero/324701_cells_by_renal_region_new/histograms/CCAN_per_chromosome.csv\")"
   ]
  },
  {
   "cell_type": "code",
   "execution_count": null,
   "id": "3c95d4f9",
   "metadata": {
    "vscode": {
     "languageId": "r"
    }
   },
   "outputs": [],
   "source": []
  },
  {
   "cell_type": "code",
   "execution_count": null,
   "id": "331beaf6",
   "metadata": {
    "vscode": {
     "languageId": "r"
    }
   },
   "outputs": [],
   "source": []
  },
  {
   "cell_type": "code",
   "execution_count": null,
   "id": "b6ab753d",
   "metadata": {
    "vscode": {
     "languageId": "r"
    }
   },
   "outputs": [],
   "source": []
  },
  {
   "cell_type": "code",
   "execution_count": null,
   "id": "e5fa6aa5",
   "metadata": {
    "vscode": {
     "languageId": "r"
    }
   },
   "outputs": [],
   "source": []
  },
  {
   "cell_type": "code",
   "execution_count": null,
   "id": "989c7a7c",
   "metadata": {
    "vscode": {
     "languageId": "r"
    }
   },
   "outputs": [],
   "source": []
  },
  {
   "cell_type": "code",
   "execution_count": null,
   "id": "324d7d82",
   "metadata": {
    "vscode": {
     "languageId": "r"
    }
   },
   "outputs": [],
   "source": []
  },
  {
   "cell_type": "code",
   "execution_count": null,
   "id": "4068d2ed",
   "metadata": {
    "vscode": {
     "languageId": "r"
    }
   },
   "outputs": [],
   "source": []
  },
  {
   "cell_type": "code",
   "execution_count": null,
   "id": "9e58cbb4",
   "metadata": {
    "vscode": {
     "languageId": "r"
    }
   },
   "outputs": [],
   "source": []
  },
  {
   "cell_type": "code",
   "execution_count": null,
   "id": "fcca2c42",
   "metadata": {
    "vscode": {
     "languageId": "r"
    }
   },
   "outputs": [],
   "source": []
  },
  {
   "cell_type": "code",
   "execution_count": null,
   "id": "6ac641a4",
   "metadata": {
    "vscode": {
     "languageId": "r"
    }
   },
   "outputs": [],
   "source": []
  },
  {
   "cell_type": "code",
   "execution_count": null,
   "id": "2b7c2b4f",
   "metadata": {
    "vscode": {
     "languageId": "r"
    }
   },
   "outputs": [],
   "source": []
  },
  {
   "cell_type": "code",
   "execution_count": null,
   "id": "c2c5ea31",
   "metadata": {
    "vscode": {
     "languageId": "r"
    }
   },
   "outputs": [],
   "source": []
  }
 ],
 "metadata": {
  "kernelspec": {
   "display_name": "R",
   "language": "R",
   "name": "ir"
  },
  "language_info": {
   "codemirror_mode": "r",
   "file_extension": ".r",
   "mimetype": "text/x-r-source",
   "name": "R",
   "pygments_lexer": "r",
   "version": "4.2.2"
  }
 },
 "nbformat": 4,
 "nbformat_minor": 5
}
